{
 "cells": [
  {
   "cell_type": "markdown",
   "metadata": {},
   "source": [
    "# Employee Satisfaction Themes\n",
    "\n",
    "\n",
    "## Project Goals\n",
    "- Attempt to discover common themes of employee satisfaction and dissatisfaction among Fortune 100 companies using reviews from glassdoor.com\n",
    "- Determine which companies particularly excel or fail in these categories\n",
    "- Attempt to discover common principles that companies advocate for in their mission and vision statements, using manually scraped mission and vision statements from company pages\n",
    "- Determine the amount of \"mismatch\" between employee and company sentiment, evaluating difference between employee-provided reviews and company mission and vision statements\n",
    "\n",
    "## Summary of Data\n",
    "The employee review data consists of 250,000+ employee-provided reviews of companies. This data was web-scraped from glassdoor.com, and contains information only from Fortune 100 companies. Each review consists of a \"Pros\" and \"Cons\" section."
   ]
  },
  {
   "cell_type": "markdown",
   "metadata": {},
   "source": [
    "### Library and Function Import"
   ]
  },
  {
   "cell_type": "code",
   "execution_count": 133,
   "metadata": {},
   "outputs": [
    {
     "data": {
      "text/html": [
       "        <script type=\"text/javascript\">\n",
       "        window.PlotlyConfig = {MathJaxConfig: 'local'};\n",
       "        if (window.MathJax) {MathJax.Hub.Config({SVG: {font: \"STIX-Web\"}});}\n",
       "        if (typeof require !== 'undefined') {\n",
       "        require.undef(\"plotly\");\n",
       "        requirejs.config({\n",
       "            paths: {\n",
       "                'plotly': ['https://cdn.plot.ly/plotly-latest.min']\n",
       "            }\n",
       "        });\n",
       "        require(['plotly'], function(Plotly) {\n",
       "            window._Plotly = Plotly;\n",
       "        });\n",
       "        }\n",
       "        </script>\n",
       "        "
      ]
     },
     "metadata": {},
     "output_type": "display_data"
    }
   ],
   "source": [
    "#Import libraries\n",
    "%run ../python_files/libraries\n",
    "# need to import libraries that functions are dependent on separately within functions.py file\n",
    "%run ../python_files/functions\n",
    "%matplotlib inline\n",
    "# from libraries import *   #for use within .py file"
   ]
  },
  {
   "cell_type": "markdown",
   "metadata": {},
   "source": [
    "### Object Import"
   ]
  },
  {
   "cell_type": "code",
   "execution_count": 126,
   "metadata": {},
   "outputs": [],
   "source": [
    "# 'unpickle' saved objects\n",
    "with open('../../saved_objects/tokenized_pros.pkl', 'rb') as f:\n",
    "    tokenized_pros = pickle.load(f)\n",
    "with open('../../saved_objects/tokenized_cons.pkl', 'rb') as f:\n",
    "    tokenized_cons = pickle.load(f)\n",
    "with open('../../saved_objects/stemmed_pros.pkl', 'rb') as f:\n",
    "    stemmed_pros = pickle.load(f)\n",
    "with open('../../saved_objects/stemmed_cons.pkl', 'rb') as f:\n",
    "    stemmed_cons = pickle.load(f)\n",
    "with open('../../saved_objects/top_adjectives_pros.pkl', 'rb') as f:\n",
    "    top_adjectives_pros = pickle.load(f)\n",
    "with open('../../saved_objects/top_adjectives_cons.pkl', 'rb') as f:\n",
    "    top_adjectives_cons = pickle.load(f)\n",
    "with open('../../saved_objects/ldamodel_pros.pkl', 'rb') as f:\n",
    "    ldamodel_pros = pickle.load(f)\n",
    "with open('../../saved_objects/ldamodel_cons.pkl', 'rb') as f:\n",
    "    ldamodel_cons = pickle.load(f)\n",
    "with open('../../saved_objects/reviews_df.pkl', 'rb') as f:\n",
    "    all_reviews = pickle.load(f)"
   ]
  },
  {
   "cell_type": "markdown",
   "metadata": {},
   "source": [
    "## Initial Exploratory Analysis\n",
    "\n",
    "### How do employees differ in describing jobs they enjoy vs. jobs they hate?\n",
    "We can use the previously POS-tagged reviews that we generated using SpaCy and discover what the most commonly used adjectives are. This is extremely useful in text generated from any sort of reviews. We can roughly gauge the way people view a certain item, product, or company in our case.\n",
    "### Most common adjectives used in Pros:"
   ]
  },
  {
   "cell_type": "code",
   "execution_count": 55,
   "metadata": {
    "scrolled": false
   },
   "outputs": [
    {
     "data": {
      "application/vnd.plotly.v1+json": {
       "config": {
        "linkText": "Export to plot.ly",
        "plotlyServerURL": "https://plot.ly",
        "showLink": true
       },
       "data": [
        {
         "marker": {
          "color": "rgba(0, 128, 0, 0.6)",
          "line": {
           "color": "rgba(0, 128, 0, 1.0)",
           "width": 1
          }
         },
         "name": "count",
         "orientation": "h",
         "text": "",
         "type": "bar",
         "x": [
          135,
          142,
          155,
          185,
          221,
          232,
          232,
          251,
          271,
          277,
          283,
          322,
          361,
          367,
          379,
          423,
          482,
          593,
          3454,
          3591
         ],
         "y": [
          "high",
          "interesting",
          "strong",
          "large",
          "competitive",
          "free",
          "amazing",
          "different",
          "smart",
          "easy",
          "new",
          "best",
          "friendly",
          "excellent",
          "many",
          "decent",
          "nice",
          "flexible",
          "good",
          "great"
         ]
        }
       ],
       "layout": {
        "legend": {
         "bgcolor": "#F5F6F9",
         "font": {
          "color": "#4D5663"
         }
        },
        "paper_bgcolor": "#F5F6F9",
        "plot_bgcolor": "#F5F6F9",
        "template": {
         "data": {
          "bar": [
           {
            "error_x": {
             "color": "#2a3f5f"
            },
            "error_y": {
             "color": "#2a3f5f"
            },
            "marker": {
             "line": {
              "color": "#E5ECF6",
              "width": 0.5
             }
            },
            "type": "bar"
           }
          ],
          "barpolar": [
           {
            "marker": {
             "line": {
              "color": "#E5ECF6",
              "width": 0.5
             }
            },
            "type": "barpolar"
           }
          ],
          "carpet": [
           {
            "aaxis": {
             "endlinecolor": "#2a3f5f",
             "gridcolor": "white",
             "linecolor": "white",
             "minorgridcolor": "white",
             "startlinecolor": "#2a3f5f"
            },
            "baxis": {
             "endlinecolor": "#2a3f5f",
             "gridcolor": "white",
             "linecolor": "white",
             "minorgridcolor": "white",
             "startlinecolor": "#2a3f5f"
            },
            "type": "carpet"
           }
          ],
          "choropleth": [
           {
            "colorbar": {
             "outlinewidth": 0,
             "ticks": ""
            },
            "type": "choropleth"
           }
          ],
          "contour": [
           {
            "colorbar": {
             "outlinewidth": 0,
             "ticks": ""
            },
            "colorscale": [
             [
              0,
              "#0d0887"
             ],
             [
              0.1111111111111111,
              "#46039f"
             ],
             [
              0.2222222222222222,
              "#7201a8"
             ],
             [
              0.3333333333333333,
              "#9c179e"
             ],
             [
              0.4444444444444444,
              "#bd3786"
             ],
             [
              0.5555555555555556,
              "#d8576b"
             ],
             [
              0.6666666666666666,
              "#ed7953"
             ],
             [
              0.7777777777777778,
              "#fb9f3a"
             ],
             [
              0.8888888888888888,
              "#fdca26"
             ],
             [
              1,
              "#f0f921"
             ]
            ],
            "type": "contour"
           }
          ],
          "contourcarpet": [
           {
            "colorbar": {
             "outlinewidth": 0,
             "ticks": ""
            },
            "type": "contourcarpet"
           }
          ],
          "heatmap": [
           {
            "colorbar": {
             "outlinewidth": 0,
             "ticks": ""
            },
            "colorscale": [
             [
              0,
              "#0d0887"
             ],
             [
              0.1111111111111111,
              "#46039f"
             ],
             [
              0.2222222222222222,
              "#7201a8"
             ],
             [
              0.3333333333333333,
              "#9c179e"
             ],
             [
              0.4444444444444444,
              "#bd3786"
             ],
             [
              0.5555555555555556,
              "#d8576b"
             ],
             [
              0.6666666666666666,
              "#ed7953"
             ],
             [
              0.7777777777777778,
              "#fb9f3a"
             ],
             [
              0.8888888888888888,
              "#fdca26"
             ],
             [
              1,
              "#f0f921"
             ]
            ],
            "type": "heatmap"
           }
          ],
          "heatmapgl": [
           {
            "colorbar": {
             "outlinewidth": 0,
             "ticks": ""
            },
            "colorscale": [
             [
              0,
              "#0d0887"
             ],
             [
              0.1111111111111111,
              "#46039f"
             ],
             [
              0.2222222222222222,
              "#7201a8"
             ],
             [
              0.3333333333333333,
              "#9c179e"
             ],
             [
              0.4444444444444444,
              "#bd3786"
             ],
             [
              0.5555555555555556,
              "#d8576b"
             ],
             [
              0.6666666666666666,
              "#ed7953"
             ],
             [
              0.7777777777777778,
              "#fb9f3a"
             ],
             [
              0.8888888888888888,
              "#fdca26"
             ],
             [
              1,
              "#f0f921"
             ]
            ],
            "type": "heatmapgl"
           }
          ],
          "histogram": [
           {
            "marker": {
             "colorbar": {
              "outlinewidth": 0,
              "ticks": ""
             }
            },
            "type": "histogram"
           }
          ],
          "histogram2d": [
           {
            "colorbar": {
             "outlinewidth": 0,
             "ticks": ""
            },
            "colorscale": [
             [
              0,
              "#0d0887"
             ],
             [
              0.1111111111111111,
              "#46039f"
             ],
             [
              0.2222222222222222,
              "#7201a8"
             ],
             [
              0.3333333333333333,
              "#9c179e"
             ],
             [
              0.4444444444444444,
              "#bd3786"
             ],
             [
              0.5555555555555556,
              "#d8576b"
             ],
             [
              0.6666666666666666,
              "#ed7953"
             ],
             [
              0.7777777777777778,
              "#fb9f3a"
             ],
             [
              0.8888888888888888,
              "#fdca26"
             ],
             [
              1,
              "#f0f921"
             ]
            ],
            "type": "histogram2d"
           }
          ],
          "histogram2dcontour": [
           {
            "colorbar": {
             "outlinewidth": 0,
             "ticks": ""
            },
            "colorscale": [
             [
              0,
              "#0d0887"
             ],
             [
              0.1111111111111111,
              "#46039f"
             ],
             [
              0.2222222222222222,
              "#7201a8"
             ],
             [
              0.3333333333333333,
              "#9c179e"
             ],
             [
              0.4444444444444444,
              "#bd3786"
             ],
             [
              0.5555555555555556,
              "#d8576b"
             ],
             [
              0.6666666666666666,
              "#ed7953"
             ],
             [
              0.7777777777777778,
              "#fb9f3a"
             ],
             [
              0.8888888888888888,
              "#fdca26"
             ],
             [
              1,
              "#f0f921"
             ]
            ],
            "type": "histogram2dcontour"
           }
          ],
          "mesh3d": [
           {
            "colorbar": {
             "outlinewidth": 0,
             "ticks": ""
            },
            "type": "mesh3d"
           }
          ],
          "parcoords": [
           {
            "line": {
             "colorbar": {
              "outlinewidth": 0,
              "ticks": ""
             }
            },
            "type": "parcoords"
           }
          ],
          "scatter": [
           {
            "marker": {
             "colorbar": {
              "outlinewidth": 0,
              "ticks": ""
             }
            },
            "type": "scatter"
           }
          ],
          "scatter3d": [
           {
            "line": {
             "colorbar": {
              "outlinewidth": 0,
              "ticks": ""
             }
            },
            "marker": {
             "colorbar": {
              "outlinewidth": 0,
              "ticks": ""
             }
            },
            "type": "scatter3d"
           }
          ],
          "scattercarpet": [
           {
            "marker": {
             "colorbar": {
              "outlinewidth": 0,
              "ticks": ""
             }
            },
            "type": "scattercarpet"
           }
          ],
          "scattergeo": [
           {
            "marker": {
             "colorbar": {
              "outlinewidth": 0,
              "ticks": ""
             }
            },
            "type": "scattergeo"
           }
          ],
          "scattergl": [
           {
            "marker": {
             "colorbar": {
              "outlinewidth": 0,
              "ticks": ""
             }
            },
            "type": "scattergl"
           }
          ],
          "scattermapbox": [
           {
            "marker": {
             "colorbar": {
              "outlinewidth": 0,
              "ticks": ""
             }
            },
            "type": "scattermapbox"
           }
          ],
          "scatterpolar": [
           {
            "marker": {
             "colorbar": {
              "outlinewidth": 0,
              "ticks": ""
             }
            },
            "type": "scatterpolar"
           }
          ],
          "scatterpolargl": [
           {
            "marker": {
             "colorbar": {
              "outlinewidth": 0,
              "ticks": ""
             }
            },
            "type": "scatterpolargl"
           }
          ],
          "scatterternary": [
           {
            "marker": {
             "colorbar": {
              "outlinewidth": 0,
              "ticks": ""
             }
            },
            "type": "scatterternary"
           }
          ],
          "surface": [
           {
            "colorbar": {
             "outlinewidth": 0,
             "ticks": ""
            },
            "colorscale": [
             [
              0,
              "#0d0887"
             ],
             [
              0.1111111111111111,
              "#46039f"
             ],
             [
              0.2222222222222222,
              "#7201a8"
             ],
             [
              0.3333333333333333,
              "#9c179e"
             ],
             [
              0.4444444444444444,
              "#bd3786"
             ],
             [
              0.5555555555555556,
              "#d8576b"
             ],
             [
              0.6666666666666666,
              "#ed7953"
             ],
             [
              0.7777777777777778,
              "#fb9f3a"
             ],
             [
              0.8888888888888888,
              "#fdca26"
             ],
             [
              1,
              "#f0f921"
             ]
            ],
            "type": "surface"
           }
          ],
          "table": [
           {
            "cells": {
             "fill": {
              "color": "#EBF0F8"
             },
             "line": {
              "color": "white"
             }
            },
            "header": {
             "fill": {
              "color": "#C8D4E3"
             },
             "line": {
              "color": "white"
             }
            },
            "type": "table"
           }
          ]
         },
         "layout": {
          "annotationdefaults": {
           "arrowcolor": "#2a3f5f",
           "arrowhead": 0,
           "arrowwidth": 1
          },
          "colorscale": {
           "diverging": [
            [
             0,
             "#8e0152"
            ],
            [
             0.1,
             "#c51b7d"
            ],
            [
             0.2,
             "#de77ae"
            ],
            [
             0.3,
             "#f1b6da"
            ],
            [
             0.4,
             "#fde0ef"
            ],
            [
             0.5,
             "#f7f7f7"
            ],
            [
             0.6,
             "#e6f5d0"
            ],
            [
             0.7,
             "#b8e186"
            ],
            [
             0.8,
             "#7fbc41"
            ],
            [
             0.9,
             "#4d9221"
            ],
            [
             1,
             "#276419"
            ]
           ],
           "sequential": [
            [
             0,
             "#0d0887"
            ],
            [
             0.1111111111111111,
             "#46039f"
            ],
            [
             0.2222222222222222,
             "#7201a8"
            ],
            [
             0.3333333333333333,
             "#9c179e"
            ],
            [
             0.4444444444444444,
             "#bd3786"
            ],
            [
             0.5555555555555556,
             "#d8576b"
            ],
            [
             0.6666666666666666,
             "#ed7953"
            ],
            [
             0.7777777777777778,
             "#fb9f3a"
            ],
            [
             0.8888888888888888,
             "#fdca26"
            ],
            [
             1,
             "#f0f921"
            ]
           ],
           "sequentialminus": [
            [
             0,
             "#0d0887"
            ],
            [
             0.1111111111111111,
             "#46039f"
            ],
            [
             0.2222222222222222,
             "#7201a8"
            ],
            [
             0.3333333333333333,
             "#9c179e"
            ],
            [
             0.4444444444444444,
             "#bd3786"
            ],
            [
             0.5555555555555556,
             "#d8576b"
            ],
            [
             0.6666666666666666,
             "#ed7953"
            ],
            [
             0.7777777777777778,
             "#fb9f3a"
            ],
            [
             0.8888888888888888,
             "#fdca26"
            ],
            [
             1,
             "#f0f921"
            ]
           ]
          },
          "colorway": [
           "#636efa",
           "#EF553B",
           "#00cc96",
           "#ab63fa",
           "#FFA15A",
           "#19d3f3",
           "#FF6692",
           "#B6E880",
           "#FF97FF",
           "#FECB52"
          ],
          "font": {
           "color": "#2a3f5f"
          },
          "geo": {
           "bgcolor": "white",
           "lakecolor": "white",
           "landcolor": "#E5ECF6",
           "showlakes": true,
           "showland": true,
           "subunitcolor": "white"
          },
          "hoverlabel": {
           "align": "left"
          },
          "hovermode": "closest",
          "mapbox": {
           "style": "light"
          },
          "paper_bgcolor": "white",
          "plot_bgcolor": "#E5ECF6",
          "polar": {
           "angularaxis": {
            "gridcolor": "white",
            "linecolor": "white",
            "ticks": ""
           },
           "bgcolor": "#E5ECF6",
           "radialaxis": {
            "gridcolor": "white",
            "linecolor": "white",
            "ticks": ""
           }
          },
          "scene": {
           "xaxis": {
            "backgroundcolor": "#E5ECF6",
            "gridcolor": "white",
            "gridwidth": 2,
            "linecolor": "white",
            "showbackground": true,
            "ticks": "",
            "zerolinecolor": "white"
           },
           "yaxis": {
            "backgroundcolor": "#E5ECF6",
            "gridcolor": "white",
            "gridwidth": 2,
            "linecolor": "white",
            "showbackground": true,
            "ticks": "",
            "zerolinecolor": "white"
           },
           "zaxis": {
            "backgroundcolor": "#E5ECF6",
            "gridcolor": "white",
            "gridwidth": 2,
            "linecolor": "white",
            "showbackground": true,
            "ticks": "",
            "zerolinecolor": "white"
           }
          },
          "shapedefaults": {
           "line": {
            "color": "#2a3f5f"
           }
          },
          "ternary": {
           "aaxis": {
            "gridcolor": "white",
            "linecolor": "white",
            "ticks": ""
           },
           "baxis": {
            "gridcolor": "white",
            "linecolor": "white",
            "ticks": ""
           },
           "bgcolor": "#E5ECF6",
           "caxis": {
            "gridcolor": "white",
            "linecolor": "white",
            "ticks": ""
           }
          },
          "title": {
           "x": 0.05
          },
          "xaxis": {
           "automargin": true,
           "gridcolor": "white",
           "linecolor": "white",
           "ticks": "",
           "zerolinecolor": "white",
           "zerolinewidth": 2
          },
          "yaxis": {
           "automargin": true,
           "gridcolor": "white",
           "linecolor": "white",
           "ticks": "",
           "zerolinecolor": "white",
           "zerolinewidth": 2
          }
         }
        },
        "title": {
         "font": {
          "color": "#4D5663"
         },
         "text": "Top 20 Adjectives in 'Pros' after Removing Stop Words (sample of 10k):"
        },
        "xaxis": {
         "gridcolor": "#E1E5ED",
         "linecolor": "black",
         "showgrid": true,
         "tickfont": {
          "color": "#4D5663"
         },
         "title": {
          "font": {
           "color": "#4D5663"
          },
          "text": "Count"
         },
         "zerolinecolor": "#E1E5ED"
        },
        "yaxis": {
         "gridcolor": "#E1E5ED",
         "linecolor": "black",
         "showgrid": true,
         "tickfont": {
          "color": "#4D5663"
         },
         "title": {
          "font": {
           "color": "#4D5663"
          },
          "text": ""
         },
         "zerolinecolor": "#E1E5ED"
        }
       }
      },
      "text/html": [
       "<div>\n",
       "        \n",
       "        \n",
       "            <div id=\"1b8add47-f9df-4477-961e-17b019a5f231\" class=\"plotly-graph-div\" style=\"height:525px; width:100%;\"></div>\n",
       "            <script type=\"text/javascript\">\n",
       "                require([\"plotly\"], function(Plotly) {\n",
       "                    window.PLOTLYENV=window.PLOTLYENV || {};\n",
       "                    window.PLOTLYENV.BASE_URL='https://plot.ly';\n",
       "                    \n",
       "                if (document.getElementById(\"1b8add47-f9df-4477-961e-17b019a5f231\")) {\n",
       "                    Plotly.newPlot(\n",
       "                        '1b8add47-f9df-4477-961e-17b019a5f231',\n",
       "                        [{\"marker\": {\"color\": \"rgba(0, 128, 0, 0.6)\", \"line\": {\"color\": \"rgba(0, 128, 0, 1.0)\", \"width\": 1}}, \"name\": \"count\", \"orientation\": \"h\", \"text\": \"\", \"type\": \"bar\", \"x\": [135, 142, 155, 185, 221, 232, 232, 251, 271, 277, 283, 322, 361, 367, 379, 423, 482, 593, 3454, 3591], \"y\": [\"high\", \"interesting\", \"strong\", \"large\", \"competitive\", \"free\", \"amazing\", \"different\", \"smart\", \"easy\", \"new\", \"best\", \"friendly\", \"excellent\", \"many\", \"decent\", \"nice\", \"flexible\", \"good\", \"great\"]}],\n",
       "                        {\"legend\": {\"bgcolor\": \"#F5F6F9\", \"font\": {\"color\": \"#4D5663\"}}, \"paper_bgcolor\": \"#F5F6F9\", \"plot_bgcolor\": \"#F5F6F9\", \"template\": {\"data\": {\"bar\": [{\"error_x\": {\"color\": \"#2a3f5f\"}, \"error_y\": {\"color\": \"#2a3f5f\"}, \"marker\": {\"line\": {\"color\": \"#E5ECF6\", \"width\": 0.5}}, \"type\": \"bar\"}], \"barpolar\": [{\"marker\": {\"line\": {\"color\": \"#E5ECF6\", \"width\": 0.5}}, \"type\": \"barpolar\"}], \"carpet\": [{\"aaxis\": {\"endlinecolor\": \"#2a3f5f\", \"gridcolor\": \"white\", \"linecolor\": \"white\", \"minorgridcolor\": \"white\", \"startlinecolor\": \"#2a3f5f\"}, \"baxis\": {\"endlinecolor\": \"#2a3f5f\", \"gridcolor\": \"white\", \"linecolor\": \"white\", \"minorgridcolor\": \"white\", \"startlinecolor\": \"#2a3f5f\"}, \"type\": \"carpet\"}], \"choropleth\": [{\"colorbar\": {\"outlinewidth\": 0, \"ticks\": \"\"}, \"type\": \"choropleth\"}], \"contour\": [{\"colorbar\": {\"outlinewidth\": 0, \"ticks\": \"\"}, \"colorscale\": [[0.0, \"#0d0887\"], [0.1111111111111111, \"#46039f\"], [0.2222222222222222, \"#7201a8\"], [0.3333333333333333, \"#9c179e\"], [0.4444444444444444, \"#bd3786\"], [0.5555555555555556, \"#d8576b\"], [0.6666666666666666, \"#ed7953\"], [0.7777777777777778, \"#fb9f3a\"], [0.8888888888888888, \"#fdca26\"], [1.0, \"#f0f921\"]], \"type\": \"contour\"}], \"contourcarpet\": [{\"colorbar\": {\"outlinewidth\": 0, \"ticks\": \"\"}, \"type\": \"contourcarpet\"}], \"heatmap\": [{\"colorbar\": {\"outlinewidth\": 0, \"ticks\": \"\"}, \"colorscale\": [[0.0, \"#0d0887\"], [0.1111111111111111, \"#46039f\"], [0.2222222222222222, \"#7201a8\"], [0.3333333333333333, \"#9c179e\"], [0.4444444444444444, \"#bd3786\"], [0.5555555555555556, \"#d8576b\"], [0.6666666666666666, \"#ed7953\"], [0.7777777777777778, \"#fb9f3a\"], [0.8888888888888888, \"#fdca26\"], [1.0, \"#f0f921\"]], \"type\": \"heatmap\"}], \"heatmapgl\": [{\"colorbar\": {\"outlinewidth\": 0, \"ticks\": \"\"}, \"colorscale\": [[0.0, \"#0d0887\"], [0.1111111111111111, \"#46039f\"], [0.2222222222222222, \"#7201a8\"], [0.3333333333333333, \"#9c179e\"], [0.4444444444444444, \"#bd3786\"], [0.5555555555555556, \"#d8576b\"], [0.6666666666666666, \"#ed7953\"], [0.7777777777777778, \"#fb9f3a\"], [0.8888888888888888, \"#fdca26\"], [1.0, \"#f0f921\"]], \"type\": \"heatmapgl\"}], \"histogram\": [{\"marker\": {\"colorbar\": {\"outlinewidth\": 0, \"ticks\": \"\"}}, \"type\": \"histogram\"}], \"histogram2d\": [{\"colorbar\": {\"outlinewidth\": 0, \"ticks\": \"\"}, \"colorscale\": [[0.0, \"#0d0887\"], [0.1111111111111111, \"#46039f\"], [0.2222222222222222, \"#7201a8\"], [0.3333333333333333, \"#9c179e\"], [0.4444444444444444, \"#bd3786\"], [0.5555555555555556, \"#d8576b\"], [0.6666666666666666, \"#ed7953\"], [0.7777777777777778, \"#fb9f3a\"], [0.8888888888888888, \"#fdca26\"], [1.0, \"#f0f921\"]], \"type\": \"histogram2d\"}], \"histogram2dcontour\": [{\"colorbar\": {\"outlinewidth\": 0, \"ticks\": \"\"}, \"colorscale\": [[0.0, \"#0d0887\"], [0.1111111111111111, \"#46039f\"], [0.2222222222222222, \"#7201a8\"], [0.3333333333333333, \"#9c179e\"], [0.4444444444444444, \"#bd3786\"], [0.5555555555555556, \"#d8576b\"], [0.6666666666666666, \"#ed7953\"], [0.7777777777777778, \"#fb9f3a\"], [0.8888888888888888, \"#fdca26\"], [1.0, \"#f0f921\"]], \"type\": \"histogram2dcontour\"}], \"mesh3d\": [{\"colorbar\": {\"outlinewidth\": 0, \"ticks\": \"\"}, \"type\": \"mesh3d\"}], \"parcoords\": [{\"line\": {\"colorbar\": {\"outlinewidth\": 0, \"ticks\": \"\"}}, \"type\": \"parcoords\"}], \"scatter\": [{\"marker\": {\"colorbar\": {\"outlinewidth\": 0, \"ticks\": \"\"}}, \"type\": \"scatter\"}], \"scatter3d\": [{\"line\": {\"colorbar\": {\"outlinewidth\": 0, \"ticks\": \"\"}}, \"marker\": {\"colorbar\": {\"outlinewidth\": 0, \"ticks\": \"\"}}, \"type\": \"scatter3d\"}], \"scattercarpet\": [{\"marker\": {\"colorbar\": {\"outlinewidth\": 0, \"ticks\": \"\"}}, \"type\": \"scattercarpet\"}], \"scattergeo\": [{\"marker\": {\"colorbar\": {\"outlinewidth\": 0, \"ticks\": \"\"}}, \"type\": \"scattergeo\"}], \"scattergl\": [{\"marker\": {\"colorbar\": {\"outlinewidth\": 0, \"ticks\": \"\"}}, \"type\": \"scattergl\"}], \"scattermapbox\": [{\"marker\": {\"colorbar\": {\"outlinewidth\": 0, \"ticks\": \"\"}}, \"type\": \"scattermapbox\"}], \"scatterpolar\": [{\"marker\": {\"colorbar\": {\"outlinewidth\": 0, \"ticks\": \"\"}}, \"type\": \"scatterpolar\"}], \"scatterpolargl\": [{\"marker\": {\"colorbar\": {\"outlinewidth\": 0, \"ticks\": \"\"}}, \"type\": \"scatterpolargl\"}], \"scatterternary\": [{\"marker\": {\"colorbar\": {\"outlinewidth\": 0, \"ticks\": \"\"}}, \"type\": \"scatterternary\"}], \"surface\": [{\"colorbar\": {\"outlinewidth\": 0, \"ticks\": \"\"}, \"colorscale\": [[0.0, \"#0d0887\"], [0.1111111111111111, \"#46039f\"], [0.2222222222222222, \"#7201a8\"], [0.3333333333333333, \"#9c179e\"], [0.4444444444444444, \"#bd3786\"], [0.5555555555555556, \"#d8576b\"], [0.6666666666666666, \"#ed7953\"], [0.7777777777777778, \"#fb9f3a\"], [0.8888888888888888, \"#fdca26\"], [1.0, \"#f0f921\"]], \"type\": \"surface\"}], \"table\": [{\"cells\": {\"fill\": {\"color\": \"#EBF0F8\"}, \"line\": {\"color\": \"white\"}}, \"header\": {\"fill\": {\"color\": \"#C8D4E3\"}, \"line\": {\"color\": \"white\"}}, \"type\": \"table\"}]}, \"layout\": {\"annotationdefaults\": {\"arrowcolor\": \"#2a3f5f\", \"arrowhead\": 0, \"arrowwidth\": 1}, \"colorscale\": {\"diverging\": [[0, \"#8e0152\"], [0.1, \"#c51b7d\"], [0.2, \"#de77ae\"], [0.3, \"#f1b6da\"], [0.4, \"#fde0ef\"], [0.5, \"#f7f7f7\"], [0.6, \"#e6f5d0\"], [0.7, \"#b8e186\"], [0.8, \"#7fbc41\"], [0.9, \"#4d9221\"], [1, \"#276419\"]], \"sequential\": [[0.0, \"#0d0887\"], [0.1111111111111111, \"#46039f\"], [0.2222222222222222, \"#7201a8\"], [0.3333333333333333, \"#9c179e\"], [0.4444444444444444, \"#bd3786\"], [0.5555555555555556, \"#d8576b\"], [0.6666666666666666, \"#ed7953\"], [0.7777777777777778, \"#fb9f3a\"], [0.8888888888888888, \"#fdca26\"], [1.0, \"#f0f921\"]], \"sequentialminus\": [[0.0, \"#0d0887\"], [0.1111111111111111, \"#46039f\"], [0.2222222222222222, \"#7201a8\"], [0.3333333333333333, \"#9c179e\"], [0.4444444444444444, \"#bd3786\"], [0.5555555555555556, \"#d8576b\"], [0.6666666666666666, \"#ed7953\"], [0.7777777777777778, \"#fb9f3a\"], [0.8888888888888888, \"#fdca26\"], [1.0, \"#f0f921\"]]}, \"colorway\": [\"#636efa\", \"#EF553B\", \"#00cc96\", \"#ab63fa\", \"#FFA15A\", \"#19d3f3\", \"#FF6692\", \"#B6E880\", \"#FF97FF\", \"#FECB52\"], \"font\": {\"color\": \"#2a3f5f\"}, \"geo\": {\"bgcolor\": \"white\", \"lakecolor\": \"white\", \"landcolor\": \"#E5ECF6\", \"showlakes\": true, \"showland\": true, \"subunitcolor\": \"white\"}, \"hoverlabel\": {\"align\": \"left\"}, \"hovermode\": \"closest\", \"mapbox\": {\"style\": \"light\"}, \"paper_bgcolor\": \"white\", \"plot_bgcolor\": \"#E5ECF6\", \"polar\": {\"angularaxis\": {\"gridcolor\": \"white\", \"linecolor\": \"white\", \"ticks\": \"\"}, \"bgcolor\": \"#E5ECF6\", \"radialaxis\": {\"gridcolor\": \"white\", \"linecolor\": \"white\", \"ticks\": \"\"}}, \"scene\": {\"xaxis\": {\"backgroundcolor\": \"#E5ECF6\", \"gridcolor\": \"white\", \"gridwidth\": 2, \"linecolor\": \"white\", \"showbackground\": true, \"ticks\": \"\", \"zerolinecolor\": \"white\"}, \"yaxis\": {\"backgroundcolor\": \"#E5ECF6\", \"gridcolor\": \"white\", \"gridwidth\": 2, \"linecolor\": \"white\", \"showbackground\": true, \"ticks\": \"\", \"zerolinecolor\": \"white\"}, \"zaxis\": {\"backgroundcolor\": \"#E5ECF6\", \"gridcolor\": \"white\", \"gridwidth\": 2, \"linecolor\": \"white\", \"showbackground\": true, \"ticks\": \"\", \"zerolinecolor\": \"white\"}}, \"shapedefaults\": {\"line\": {\"color\": \"#2a3f5f\"}}, \"ternary\": {\"aaxis\": {\"gridcolor\": \"white\", \"linecolor\": \"white\", \"ticks\": \"\"}, \"baxis\": {\"gridcolor\": \"white\", \"linecolor\": \"white\", \"ticks\": \"\"}, \"bgcolor\": \"#E5ECF6\", \"caxis\": {\"gridcolor\": \"white\", \"linecolor\": \"white\", \"ticks\": \"\"}}, \"title\": {\"x\": 0.05}, \"xaxis\": {\"automargin\": true, \"gridcolor\": \"white\", \"linecolor\": \"white\", \"ticks\": \"\", \"zerolinecolor\": \"white\", \"zerolinewidth\": 2}, \"yaxis\": {\"automargin\": true, \"gridcolor\": \"white\", \"linecolor\": \"white\", \"ticks\": \"\", \"zerolinecolor\": \"white\", \"zerolinewidth\": 2}}}, \"title\": {\"font\": {\"color\": \"#4D5663\"}, \"text\": \"Top 20 Adjectives in 'Pros' after Removing Stop Words (sample of 10k):\"}, \"xaxis\": {\"gridcolor\": \"#E1E5ED\", \"linecolor\": \"black\", \"showgrid\": true, \"tickfont\": {\"color\": \"#4D5663\"}, \"title\": {\"font\": {\"color\": \"#4D5663\"}, \"text\": \"Count\"}, \"zerolinecolor\": \"#E1E5ED\"}, \"yaxis\": {\"gridcolor\": \"#E1E5ED\", \"linecolor\": \"black\", \"showgrid\": true, \"tickfont\": {\"color\": \"#4D5663\"}, \"title\": {\"font\": {\"color\": \"#4D5663\"}, \"text\": \"\"}, \"zerolinecolor\": \"#E1E5ED\"}},\n",
       "                        {\"showLink\": true, \"linkText\": \"Export to plot.ly\", \"plotlyServerURL\": \"https://plot.ly\", \"responsive\": true}\n",
       "                    ).then(function(){\n",
       "                            \n",
       "var gd = document.getElementById('1b8add47-f9df-4477-961e-17b019a5f231');\n",
       "var x = new MutationObserver(function (mutations, observer) {{\n",
       "        var display = window.getComputedStyle(gd).display;\n",
       "        if (!display || display === 'none') {{\n",
       "            console.log([gd, 'removed!']);\n",
       "            Plotly.purge(gd);\n",
       "            observer.disconnect();\n",
       "        }}\n",
       "}});\n",
       "\n",
       "// Listen for the removal of the full notebook cells\n",
       "var notebookContainer = gd.closest('#notebook-container');\n",
       "if (notebookContainer) {{\n",
       "    x.observe(notebookContainer, {childList: true});\n",
       "}}\n",
       "\n",
       "// Listen for the clearing of the current output cell\n",
       "var outputEl = gd.closest('.output');\n",
       "if (outputEl) {{\n",
       "    x.observe(outputEl, {childList: true});\n",
       "}}\n",
       "\n",
       "                        })\n",
       "                };\n",
       "                });\n",
       "            </script>\n",
       "        </div>"
      ]
     },
     "metadata": {},
     "output_type": "display_data"
    }
   ],
   "source": [
    "top_adjectives_pros.iplot(\n",
    "    kind='bar', xTitle='Count', linecolor='black',orientation = 'h', color='green', title=\"Top 20 Adjectives in 'Pros' after Removing Stop Words (sample of 10k):\")"
   ]
  },
  {
   "cell_type": "markdown",
   "metadata": {},
   "source": [
    "Unsurprisingly, \"great\" and \"good\" top the list of most frequently used words - highly skewing the distribution to the right. Adjectives that stand out and give us an idea of what characteristics employees desire in a workplace are \"flexible,\" \"friendly,\" \"smart,\" and \"interesting.\""
   ]
  },
  {
   "cell_type": "markdown",
   "metadata": {},
   "source": [
    "### Most common adjectives used in Cons:"
   ]
  },
  {
   "cell_type": "code",
   "execution_count": 56,
   "metadata": {},
   "outputs": [
    {
     "data": {
      "application/vnd.plotly.v1+json": {
       "config": {
        "linkText": "Export to plot.ly",
        "plotlyServerURL": "https://plot.ly",
        "showLink": true
       },
       "data": [
        {
         "marker": {
          "color": "rgba(219, 64, 82, 0.6)",
          "line": {
           "color": "rgba(219, 64, 82, 1.0)",
           "width": 1
          }
         },
         "name": "count",
         "orientation": "h",
         "text": "",
         "type": "bar",
         "x": [
          218,
          223,
          234,
          269,
          272,
          277,
          290,
          306,
          328,
          362,
          380,
          387,
          390,
          404,
          427,
          474,
          536,
          543,
          563,
          739
         ],
         "y": [
          "upper",
          "due",
          "slow",
          "corporate",
          "enough",
          "large",
          "big",
          "hard",
          "great",
          "poor",
          "bad",
          "little",
          "difficult",
          "new",
          "high",
          "low",
          "long",
          "much",
          "good",
          "many"
         ]
        }
       ],
       "layout": {
        "legend": {
         "bgcolor": "#F5F6F9",
         "font": {
          "color": "#4D5663"
         }
        },
        "paper_bgcolor": "#F5F6F9",
        "plot_bgcolor": "#F5F6F9",
        "template": {
         "data": {
          "bar": [
           {
            "error_x": {
             "color": "#2a3f5f"
            },
            "error_y": {
             "color": "#2a3f5f"
            },
            "marker": {
             "line": {
              "color": "#E5ECF6",
              "width": 0.5
             }
            },
            "type": "bar"
           }
          ],
          "barpolar": [
           {
            "marker": {
             "line": {
              "color": "#E5ECF6",
              "width": 0.5
             }
            },
            "type": "barpolar"
           }
          ],
          "carpet": [
           {
            "aaxis": {
             "endlinecolor": "#2a3f5f",
             "gridcolor": "white",
             "linecolor": "white",
             "minorgridcolor": "white",
             "startlinecolor": "#2a3f5f"
            },
            "baxis": {
             "endlinecolor": "#2a3f5f",
             "gridcolor": "white",
             "linecolor": "white",
             "minorgridcolor": "white",
             "startlinecolor": "#2a3f5f"
            },
            "type": "carpet"
           }
          ],
          "choropleth": [
           {
            "colorbar": {
             "outlinewidth": 0,
             "ticks": ""
            },
            "type": "choropleth"
           }
          ],
          "contour": [
           {
            "colorbar": {
             "outlinewidth": 0,
             "ticks": ""
            },
            "colorscale": [
             [
              0,
              "#0d0887"
             ],
             [
              0.1111111111111111,
              "#46039f"
             ],
             [
              0.2222222222222222,
              "#7201a8"
             ],
             [
              0.3333333333333333,
              "#9c179e"
             ],
             [
              0.4444444444444444,
              "#bd3786"
             ],
             [
              0.5555555555555556,
              "#d8576b"
             ],
             [
              0.6666666666666666,
              "#ed7953"
             ],
             [
              0.7777777777777778,
              "#fb9f3a"
             ],
             [
              0.8888888888888888,
              "#fdca26"
             ],
             [
              1,
              "#f0f921"
             ]
            ],
            "type": "contour"
           }
          ],
          "contourcarpet": [
           {
            "colorbar": {
             "outlinewidth": 0,
             "ticks": ""
            },
            "type": "contourcarpet"
           }
          ],
          "heatmap": [
           {
            "colorbar": {
             "outlinewidth": 0,
             "ticks": ""
            },
            "colorscale": [
             [
              0,
              "#0d0887"
             ],
             [
              0.1111111111111111,
              "#46039f"
             ],
             [
              0.2222222222222222,
              "#7201a8"
             ],
             [
              0.3333333333333333,
              "#9c179e"
             ],
             [
              0.4444444444444444,
              "#bd3786"
             ],
             [
              0.5555555555555556,
              "#d8576b"
             ],
             [
              0.6666666666666666,
              "#ed7953"
             ],
             [
              0.7777777777777778,
              "#fb9f3a"
             ],
             [
              0.8888888888888888,
              "#fdca26"
             ],
             [
              1,
              "#f0f921"
             ]
            ],
            "type": "heatmap"
           }
          ],
          "heatmapgl": [
           {
            "colorbar": {
             "outlinewidth": 0,
             "ticks": ""
            },
            "colorscale": [
             [
              0,
              "#0d0887"
             ],
             [
              0.1111111111111111,
              "#46039f"
             ],
             [
              0.2222222222222222,
              "#7201a8"
             ],
             [
              0.3333333333333333,
              "#9c179e"
             ],
             [
              0.4444444444444444,
              "#bd3786"
             ],
             [
              0.5555555555555556,
              "#d8576b"
             ],
             [
              0.6666666666666666,
              "#ed7953"
             ],
             [
              0.7777777777777778,
              "#fb9f3a"
             ],
             [
              0.8888888888888888,
              "#fdca26"
             ],
             [
              1,
              "#f0f921"
             ]
            ],
            "type": "heatmapgl"
           }
          ],
          "histogram": [
           {
            "marker": {
             "colorbar": {
              "outlinewidth": 0,
              "ticks": ""
             }
            },
            "type": "histogram"
           }
          ],
          "histogram2d": [
           {
            "colorbar": {
             "outlinewidth": 0,
             "ticks": ""
            },
            "colorscale": [
             [
              0,
              "#0d0887"
             ],
             [
              0.1111111111111111,
              "#46039f"
             ],
             [
              0.2222222222222222,
              "#7201a8"
             ],
             [
              0.3333333333333333,
              "#9c179e"
             ],
             [
              0.4444444444444444,
              "#bd3786"
             ],
             [
              0.5555555555555556,
              "#d8576b"
             ],
             [
              0.6666666666666666,
              "#ed7953"
             ],
             [
              0.7777777777777778,
              "#fb9f3a"
             ],
             [
              0.8888888888888888,
              "#fdca26"
             ],
             [
              1,
              "#f0f921"
             ]
            ],
            "type": "histogram2d"
           }
          ],
          "histogram2dcontour": [
           {
            "colorbar": {
             "outlinewidth": 0,
             "ticks": ""
            },
            "colorscale": [
             [
              0,
              "#0d0887"
             ],
             [
              0.1111111111111111,
              "#46039f"
             ],
             [
              0.2222222222222222,
              "#7201a8"
             ],
             [
              0.3333333333333333,
              "#9c179e"
             ],
             [
              0.4444444444444444,
              "#bd3786"
             ],
             [
              0.5555555555555556,
              "#d8576b"
             ],
             [
              0.6666666666666666,
              "#ed7953"
             ],
             [
              0.7777777777777778,
              "#fb9f3a"
             ],
             [
              0.8888888888888888,
              "#fdca26"
             ],
             [
              1,
              "#f0f921"
             ]
            ],
            "type": "histogram2dcontour"
           }
          ],
          "mesh3d": [
           {
            "colorbar": {
             "outlinewidth": 0,
             "ticks": ""
            },
            "type": "mesh3d"
           }
          ],
          "parcoords": [
           {
            "line": {
             "colorbar": {
              "outlinewidth": 0,
              "ticks": ""
             }
            },
            "type": "parcoords"
           }
          ],
          "scatter": [
           {
            "marker": {
             "colorbar": {
              "outlinewidth": 0,
              "ticks": ""
             }
            },
            "type": "scatter"
           }
          ],
          "scatter3d": [
           {
            "line": {
             "colorbar": {
              "outlinewidth": 0,
              "ticks": ""
             }
            },
            "marker": {
             "colorbar": {
              "outlinewidth": 0,
              "ticks": ""
             }
            },
            "type": "scatter3d"
           }
          ],
          "scattercarpet": [
           {
            "marker": {
             "colorbar": {
              "outlinewidth": 0,
              "ticks": ""
             }
            },
            "type": "scattercarpet"
           }
          ],
          "scattergeo": [
           {
            "marker": {
             "colorbar": {
              "outlinewidth": 0,
              "ticks": ""
             }
            },
            "type": "scattergeo"
           }
          ],
          "scattergl": [
           {
            "marker": {
             "colorbar": {
              "outlinewidth": 0,
              "ticks": ""
             }
            },
            "type": "scattergl"
           }
          ],
          "scattermapbox": [
           {
            "marker": {
             "colorbar": {
              "outlinewidth": 0,
              "ticks": ""
             }
            },
            "type": "scattermapbox"
           }
          ],
          "scatterpolar": [
           {
            "marker": {
             "colorbar": {
              "outlinewidth": 0,
              "ticks": ""
             }
            },
            "type": "scatterpolar"
           }
          ],
          "scatterpolargl": [
           {
            "marker": {
             "colorbar": {
              "outlinewidth": 0,
              "ticks": ""
             }
            },
            "type": "scatterpolargl"
           }
          ],
          "scatterternary": [
           {
            "marker": {
             "colorbar": {
              "outlinewidth": 0,
              "ticks": ""
             }
            },
            "type": "scatterternary"
           }
          ],
          "surface": [
           {
            "colorbar": {
             "outlinewidth": 0,
             "ticks": ""
            },
            "colorscale": [
             [
              0,
              "#0d0887"
             ],
             [
              0.1111111111111111,
              "#46039f"
             ],
             [
              0.2222222222222222,
              "#7201a8"
             ],
             [
              0.3333333333333333,
              "#9c179e"
             ],
             [
              0.4444444444444444,
              "#bd3786"
             ],
             [
              0.5555555555555556,
              "#d8576b"
             ],
             [
              0.6666666666666666,
              "#ed7953"
             ],
             [
              0.7777777777777778,
              "#fb9f3a"
             ],
             [
              0.8888888888888888,
              "#fdca26"
             ],
             [
              1,
              "#f0f921"
             ]
            ],
            "type": "surface"
           }
          ],
          "table": [
           {
            "cells": {
             "fill": {
              "color": "#EBF0F8"
             },
             "line": {
              "color": "white"
             }
            },
            "header": {
             "fill": {
              "color": "#C8D4E3"
             },
             "line": {
              "color": "white"
             }
            },
            "type": "table"
           }
          ]
         },
         "layout": {
          "annotationdefaults": {
           "arrowcolor": "#2a3f5f",
           "arrowhead": 0,
           "arrowwidth": 1
          },
          "colorscale": {
           "diverging": [
            [
             0,
             "#8e0152"
            ],
            [
             0.1,
             "#c51b7d"
            ],
            [
             0.2,
             "#de77ae"
            ],
            [
             0.3,
             "#f1b6da"
            ],
            [
             0.4,
             "#fde0ef"
            ],
            [
             0.5,
             "#f7f7f7"
            ],
            [
             0.6,
             "#e6f5d0"
            ],
            [
             0.7,
             "#b8e186"
            ],
            [
             0.8,
             "#7fbc41"
            ],
            [
             0.9,
             "#4d9221"
            ],
            [
             1,
             "#276419"
            ]
           ],
           "sequential": [
            [
             0,
             "#0d0887"
            ],
            [
             0.1111111111111111,
             "#46039f"
            ],
            [
             0.2222222222222222,
             "#7201a8"
            ],
            [
             0.3333333333333333,
             "#9c179e"
            ],
            [
             0.4444444444444444,
             "#bd3786"
            ],
            [
             0.5555555555555556,
             "#d8576b"
            ],
            [
             0.6666666666666666,
             "#ed7953"
            ],
            [
             0.7777777777777778,
             "#fb9f3a"
            ],
            [
             0.8888888888888888,
             "#fdca26"
            ],
            [
             1,
             "#f0f921"
            ]
           ],
           "sequentialminus": [
            [
             0,
             "#0d0887"
            ],
            [
             0.1111111111111111,
             "#46039f"
            ],
            [
             0.2222222222222222,
             "#7201a8"
            ],
            [
             0.3333333333333333,
             "#9c179e"
            ],
            [
             0.4444444444444444,
             "#bd3786"
            ],
            [
             0.5555555555555556,
             "#d8576b"
            ],
            [
             0.6666666666666666,
             "#ed7953"
            ],
            [
             0.7777777777777778,
             "#fb9f3a"
            ],
            [
             0.8888888888888888,
             "#fdca26"
            ],
            [
             1,
             "#f0f921"
            ]
           ]
          },
          "colorway": [
           "#636efa",
           "#EF553B",
           "#00cc96",
           "#ab63fa",
           "#FFA15A",
           "#19d3f3",
           "#FF6692",
           "#B6E880",
           "#FF97FF",
           "#FECB52"
          ],
          "font": {
           "color": "#2a3f5f"
          },
          "geo": {
           "bgcolor": "white",
           "lakecolor": "white",
           "landcolor": "#E5ECF6",
           "showlakes": true,
           "showland": true,
           "subunitcolor": "white"
          },
          "hoverlabel": {
           "align": "left"
          },
          "hovermode": "closest",
          "mapbox": {
           "style": "light"
          },
          "paper_bgcolor": "white",
          "plot_bgcolor": "#E5ECF6",
          "polar": {
           "angularaxis": {
            "gridcolor": "white",
            "linecolor": "white",
            "ticks": ""
           },
           "bgcolor": "#E5ECF6",
           "radialaxis": {
            "gridcolor": "white",
            "linecolor": "white",
            "ticks": ""
           }
          },
          "scene": {
           "xaxis": {
            "backgroundcolor": "#E5ECF6",
            "gridcolor": "white",
            "gridwidth": 2,
            "linecolor": "white",
            "showbackground": true,
            "ticks": "",
            "zerolinecolor": "white"
           },
           "yaxis": {
            "backgroundcolor": "#E5ECF6",
            "gridcolor": "white",
            "gridwidth": 2,
            "linecolor": "white",
            "showbackground": true,
            "ticks": "",
            "zerolinecolor": "white"
           },
           "zaxis": {
            "backgroundcolor": "#E5ECF6",
            "gridcolor": "white",
            "gridwidth": 2,
            "linecolor": "white",
            "showbackground": true,
            "ticks": "",
            "zerolinecolor": "white"
           }
          },
          "shapedefaults": {
           "line": {
            "color": "#2a3f5f"
           }
          },
          "ternary": {
           "aaxis": {
            "gridcolor": "white",
            "linecolor": "white",
            "ticks": ""
           },
           "baxis": {
            "gridcolor": "white",
            "linecolor": "white",
            "ticks": ""
           },
           "bgcolor": "#E5ECF6",
           "caxis": {
            "gridcolor": "white",
            "linecolor": "white",
            "ticks": ""
           }
          },
          "title": {
           "x": 0.05
          },
          "xaxis": {
           "automargin": true,
           "gridcolor": "white",
           "linecolor": "white",
           "ticks": "",
           "zerolinecolor": "white",
           "zerolinewidth": 2
          },
          "yaxis": {
           "automargin": true,
           "gridcolor": "white",
           "linecolor": "white",
           "ticks": "",
           "zerolinecolor": "white",
           "zerolinewidth": 2
          }
         }
        },
        "title": {
         "font": {
          "color": "#4D5663"
         },
         "text": "Top 20 Adjectives in 'Cons' after Removing Stop Words (sample of 10k):"
        },
        "xaxis": {
         "gridcolor": "#E1E5ED",
         "linecolor": "black",
         "showgrid": true,
         "tickfont": {
          "color": "#4D5663"
         },
         "title": {
          "font": {
           "color": "#4D5663"
          },
          "text": "Count"
         },
         "zerolinecolor": "#E1E5ED"
        },
        "yaxis": {
         "gridcolor": "#E1E5ED",
         "linecolor": "black",
         "showgrid": true,
         "tickfont": {
          "color": "#4D5663"
         },
         "title": {
          "font": {
           "color": "#4D5663"
          },
          "text": ""
         },
         "zerolinecolor": "#E1E5ED"
        }
       }
      },
      "text/html": [
       "<div>\n",
       "        \n",
       "        \n",
       "            <div id=\"efa0dfad-844d-4bb5-ad23-c4e292dff7b1\" class=\"plotly-graph-div\" style=\"height:525px; width:100%;\"></div>\n",
       "            <script type=\"text/javascript\">\n",
       "                require([\"plotly\"], function(Plotly) {\n",
       "                    window.PLOTLYENV=window.PLOTLYENV || {};\n",
       "                    window.PLOTLYENV.BASE_URL='https://plot.ly';\n",
       "                    \n",
       "                if (document.getElementById(\"efa0dfad-844d-4bb5-ad23-c4e292dff7b1\")) {\n",
       "                    Plotly.newPlot(\n",
       "                        'efa0dfad-844d-4bb5-ad23-c4e292dff7b1',\n",
       "                        [{\"marker\": {\"color\": \"rgba(219, 64, 82, 0.6)\", \"line\": {\"color\": \"rgba(219, 64, 82, 1.0)\", \"width\": 1}}, \"name\": \"count\", \"orientation\": \"h\", \"text\": \"\", \"type\": \"bar\", \"x\": [218, 223, 234, 269, 272, 277, 290, 306, 328, 362, 380, 387, 390, 404, 427, 474, 536, 543, 563, 739], \"y\": [\"upper\", \"due\", \"slow\", \"corporate\", \"enough\", \"large\", \"big\", \"hard\", \"great\", \"poor\", \"bad\", \"little\", \"difficult\", \"new\", \"high\", \"low\", \"long\", \"much\", \"good\", \"many\"]}],\n",
       "                        {\"legend\": {\"bgcolor\": \"#F5F6F9\", \"font\": {\"color\": \"#4D5663\"}}, \"paper_bgcolor\": \"#F5F6F9\", \"plot_bgcolor\": \"#F5F6F9\", \"template\": {\"data\": {\"bar\": [{\"error_x\": {\"color\": \"#2a3f5f\"}, \"error_y\": {\"color\": \"#2a3f5f\"}, \"marker\": {\"line\": {\"color\": \"#E5ECF6\", \"width\": 0.5}}, \"type\": \"bar\"}], \"barpolar\": [{\"marker\": {\"line\": {\"color\": \"#E5ECF6\", \"width\": 0.5}}, \"type\": \"barpolar\"}], \"carpet\": [{\"aaxis\": {\"endlinecolor\": \"#2a3f5f\", \"gridcolor\": \"white\", \"linecolor\": \"white\", \"minorgridcolor\": \"white\", \"startlinecolor\": \"#2a3f5f\"}, \"baxis\": {\"endlinecolor\": \"#2a3f5f\", \"gridcolor\": \"white\", \"linecolor\": \"white\", \"minorgridcolor\": \"white\", \"startlinecolor\": \"#2a3f5f\"}, \"type\": \"carpet\"}], \"choropleth\": [{\"colorbar\": {\"outlinewidth\": 0, \"ticks\": \"\"}, \"type\": \"choropleth\"}], \"contour\": [{\"colorbar\": {\"outlinewidth\": 0, \"ticks\": \"\"}, \"colorscale\": [[0.0, \"#0d0887\"], [0.1111111111111111, \"#46039f\"], [0.2222222222222222, \"#7201a8\"], [0.3333333333333333, \"#9c179e\"], [0.4444444444444444, \"#bd3786\"], [0.5555555555555556, \"#d8576b\"], [0.6666666666666666, \"#ed7953\"], [0.7777777777777778, \"#fb9f3a\"], [0.8888888888888888, \"#fdca26\"], [1.0, \"#f0f921\"]], \"type\": \"contour\"}], \"contourcarpet\": [{\"colorbar\": {\"outlinewidth\": 0, \"ticks\": \"\"}, \"type\": \"contourcarpet\"}], \"heatmap\": [{\"colorbar\": {\"outlinewidth\": 0, \"ticks\": \"\"}, \"colorscale\": [[0.0, \"#0d0887\"], [0.1111111111111111, \"#46039f\"], [0.2222222222222222, \"#7201a8\"], [0.3333333333333333, \"#9c179e\"], [0.4444444444444444, \"#bd3786\"], [0.5555555555555556, \"#d8576b\"], [0.6666666666666666, \"#ed7953\"], [0.7777777777777778, \"#fb9f3a\"], [0.8888888888888888, \"#fdca26\"], [1.0, \"#f0f921\"]], \"type\": \"heatmap\"}], \"heatmapgl\": [{\"colorbar\": {\"outlinewidth\": 0, \"ticks\": \"\"}, \"colorscale\": [[0.0, \"#0d0887\"], [0.1111111111111111, \"#46039f\"], [0.2222222222222222, \"#7201a8\"], [0.3333333333333333, \"#9c179e\"], [0.4444444444444444, \"#bd3786\"], [0.5555555555555556, \"#d8576b\"], [0.6666666666666666, \"#ed7953\"], [0.7777777777777778, \"#fb9f3a\"], [0.8888888888888888, \"#fdca26\"], [1.0, \"#f0f921\"]], \"type\": \"heatmapgl\"}], \"histogram\": [{\"marker\": {\"colorbar\": {\"outlinewidth\": 0, \"ticks\": \"\"}}, \"type\": \"histogram\"}], \"histogram2d\": [{\"colorbar\": {\"outlinewidth\": 0, \"ticks\": \"\"}, \"colorscale\": [[0.0, \"#0d0887\"], [0.1111111111111111, \"#46039f\"], [0.2222222222222222, \"#7201a8\"], [0.3333333333333333, \"#9c179e\"], [0.4444444444444444, \"#bd3786\"], [0.5555555555555556, \"#d8576b\"], [0.6666666666666666, \"#ed7953\"], [0.7777777777777778, \"#fb9f3a\"], [0.8888888888888888, \"#fdca26\"], [1.0, \"#f0f921\"]], \"type\": \"histogram2d\"}], \"histogram2dcontour\": [{\"colorbar\": {\"outlinewidth\": 0, \"ticks\": \"\"}, \"colorscale\": [[0.0, \"#0d0887\"], [0.1111111111111111, \"#46039f\"], [0.2222222222222222, \"#7201a8\"], [0.3333333333333333, \"#9c179e\"], [0.4444444444444444, \"#bd3786\"], [0.5555555555555556, \"#d8576b\"], [0.6666666666666666, \"#ed7953\"], [0.7777777777777778, \"#fb9f3a\"], [0.8888888888888888, \"#fdca26\"], [1.0, \"#f0f921\"]], \"type\": \"histogram2dcontour\"}], \"mesh3d\": [{\"colorbar\": {\"outlinewidth\": 0, \"ticks\": \"\"}, \"type\": \"mesh3d\"}], \"parcoords\": [{\"line\": {\"colorbar\": {\"outlinewidth\": 0, \"ticks\": \"\"}}, \"type\": \"parcoords\"}], \"scatter\": [{\"marker\": {\"colorbar\": {\"outlinewidth\": 0, \"ticks\": \"\"}}, \"type\": \"scatter\"}], \"scatter3d\": [{\"line\": {\"colorbar\": {\"outlinewidth\": 0, \"ticks\": \"\"}}, \"marker\": {\"colorbar\": {\"outlinewidth\": 0, \"ticks\": \"\"}}, \"type\": \"scatter3d\"}], \"scattercarpet\": [{\"marker\": {\"colorbar\": {\"outlinewidth\": 0, \"ticks\": \"\"}}, \"type\": \"scattercarpet\"}], \"scattergeo\": [{\"marker\": {\"colorbar\": {\"outlinewidth\": 0, \"ticks\": \"\"}}, \"type\": \"scattergeo\"}], \"scattergl\": [{\"marker\": {\"colorbar\": {\"outlinewidth\": 0, \"ticks\": \"\"}}, \"type\": \"scattergl\"}], \"scattermapbox\": [{\"marker\": {\"colorbar\": {\"outlinewidth\": 0, \"ticks\": \"\"}}, \"type\": \"scattermapbox\"}], \"scatterpolar\": [{\"marker\": {\"colorbar\": {\"outlinewidth\": 0, \"ticks\": \"\"}}, \"type\": \"scatterpolar\"}], \"scatterpolargl\": [{\"marker\": {\"colorbar\": {\"outlinewidth\": 0, \"ticks\": \"\"}}, \"type\": \"scatterpolargl\"}], \"scatterternary\": [{\"marker\": {\"colorbar\": {\"outlinewidth\": 0, \"ticks\": \"\"}}, \"type\": \"scatterternary\"}], \"surface\": [{\"colorbar\": {\"outlinewidth\": 0, \"ticks\": \"\"}, \"colorscale\": [[0.0, \"#0d0887\"], [0.1111111111111111, \"#46039f\"], [0.2222222222222222, \"#7201a8\"], [0.3333333333333333, \"#9c179e\"], [0.4444444444444444, \"#bd3786\"], [0.5555555555555556, \"#d8576b\"], [0.6666666666666666, \"#ed7953\"], [0.7777777777777778, \"#fb9f3a\"], [0.8888888888888888, \"#fdca26\"], [1.0, \"#f0f921\"]], \"type\": \"surface\"}], \"table\": [{\"cells\": {\"fill\": {\"color\": \"#EBF0F8\"}, \"line\": {\"color\": \"white\"}}, \"header\": {\"fill\": {\"color\": \"#C8D4E3\"}, \"line\": {\"color\": \"white\"}}, \"type\": \"table\"}]}, \"layout\": {\"annotationdefaults\": {\"arrowcolor\": \"#2a3f5f\", \"arrowhead\": 0, \"arrowwidth\": 1}, \"colorscale\": {\"diverging\": [[0, \"#8e0152\"], [0.1, \"#c51b7d\"], [0.2, \"#de77ae\"], [0.3, \"#f1b6da\"], [0.4, \"#fde0ef\"], [0.5, \"#f7f7f7\"], [0.6, \"#e6f5d0\"], [0.7, \"#b8e186\"], [0.8, \"#7fbc41\"], [0.9, \"#4d9221\"], [1, \"#276419\"]], \"sequential\": [[0.0, \"#0d0887\"], [0.1111111111111111, \"#46039f\"], [0.2222222222222222, \"#7201a8\"], [0.3333333333333333, \"#9c179e\"], [0.4444444444444444, \"#bd3786\"], [0.5555555555555556, \"#d8576b\"], [0.6666666666666666, \"#ed7953\"], [0.7777777777777778, \"#fb9f3a\"], [0.8888888888888888, \"#fdca26\"], [1.0, \"#f0f921\"]], \"sequentialminus\": [[0.0, \"#0d0887\"], [0.1111111111111111, \"#46039f\"], [0.2222222222222222, \"#7201a8\"], [0.3333333333333333, \"#9c179e\"], [0.4444444444444444, \"#bd3786\"], [0.5555555555555556, \"#d8576b\"], [0.6666666666666666, \"#ed7953\"], [0.7777777777777778, \"#fb9f3a\"], [0.8888888888888888, \"#fdca26\"], [1.0, \"#f0f921\"]]}, \"colorway\": [\"#636efa\", \"#EF553B\", \"#00cc96\", \"#ab63fa\", \"#FFA15A\", \"#19d3f3\", \"#FF6692\", \"#B6E880\", \"#FF97FF\", \"#FECB52\"], \"font\": {\"color\": \"#2a3f5f\"}, \"geo\": {\"bgcolor\": \"white\", \"lakecolor\": \"white\", \"landcolor\": \"#E5ECF6\", \"showlakes\": true, \"showland\": true, \"subunitcolor\": \"white\"}, \"hoverlabel\": {\"align\": \"left\"}, \"hovermode\": \"closest\", \"mapbox\": {\"style\": \"light\"}, \"paper_bgcolor\": \"white\", \"plot_bgcolor\": \"#E5ECF6\", \"polar\": {\"angularaxis\": {\"gridcolor\": \"white\", \"linecolor\": \"white\", \"ticks\": \"\"}, \"bgcolor\": \"#E5ECF6\", \"radialaxis\": {\"gridcolor\": \"white\", \"linecolor\": \"white\", \"ticks\": \"\"}}, \"scene\": {\"xaxis\": {\"backgroundcolor\": \"#E5ECF6\", \"gridcolor\": \"white\", \"gridwidth\": 2, \"linecolor\": \"white\", \"showbackground\": true, \"ticks\": \"\", \"zerolinecolor\": \"white\"}, \"yaxis\": {\"backgroundcolor\": \"#E5ECF6\", \"gridcolor\": \"white\", \"gridwidth\": 2, \"linecolor\": \"white\", \"showbackground\": true, \"ticks\": \"\", \"zerolinecolor\": \"white\"}, \"zaxis\": {\"backgroundcolor\": \"#E5ECF6\", \"gridcolor\": \"white\", \"gridwidth\": 2, \"linecolor\": \"white\", \"showbackground\": true, \"ticks\": \"\", \"zerolinecolor\": \"white\"}}, \"shapedefaults\": {\"line\": {\"color\": \"#2a3f5f\"}}, \"ternary\": {\"aaxis\": {\"gridcolor\": \"white\", \"linecolor\": \"white\", \"ticks\": \"\"}, \"baxis\": {\"gridcolor\": \"white\", \"linecolor\": \"white\", \"ticks\": \"\"}, \"bgcolor\": \"#E5ECF6\", \"caxis\": {\"gridcolor\": \"white\", \"linecolor\": \"white\", \"ticks\": \"\"}}, \"title\": {\"x\": 0.05}, \"xaxis\": {\"automargin\": true, \"gridcolor\": \"white\", \"linecolor\": \"white\", \"ticks\": \"\", \"zerolinecolor\": \"white\", \"zerolinewidth\": 2}, \"yaxis\": {\"automargin\": true, \"gridcolor\": \"white\", \"linecolor\": \"white\", \"ticks\": \"\", \"zerolinecolor\": \"white\", \"zerolinewidth\": 2}}}, \"title\": {\"font\": {\"color\": \"#4D5663\"}, \"text\": \"Top 20 Adjectives in 'Cons' after Removing Stop Words (sample of 10k):\"}, \"xaxis\": {\"gridcolor\": \"#E1E5ED\", \"linecolor\": \"black\", \"showgrid\": true, \"tickfont\": {\"color\": \"#4D5663\"}, \"title\": {\"font\": {\"color\": \"#4D5663\"}, \"text\": \"Count\"}, \"zerolinecolor\": \"#E1E5ED\"}, \"yaxis\": {\"gridcolor\": \"#E1E5ED\", \"linecolor\": \"black\", \"showgrid\": true, \"tickfont\": {\"color\": \"#4D5663\"}, \"title\": {\"font\": {\"color\": \"#4D5663\"}, \"text\": \"\"}, \"zerolinecolor\": \"#E1E5ED\"}},\n",
       "                        {\"showLink\": true, \"linkText\": \"Export to plot.ly\", \"plotlyServerURL\": \"https://plot.ly\", \"responsive\": true}\n",
       "                    ).then(function(){\n",
       "                            \n",
       "var gd = document.getElementById('efa0dfad-844d-4bb5-ad23-c4e292dff7b1');\n",
       "var x = new MutationObserver(function (mutations, observer) {{\n",
       "        var display = window.getComputedStyle(gd).display;\n",
       "        if (!display || display === 'none') {{\n",
       "            console.log([gd, 'removed!']);\n",
       "            Plotly.purge(gd);\n",
       "            observer.disconnect();\n",
       "        }}\n",
       "}});\n",
       "\n",
       "// Listen for the removal of the full notebook cells\n",
       "var notebookContainer = gd.closest('#notebook-container');\n",
       "if (notebookContainer) {{\n",
       "    x.observe(notebookContainer, {childList: true});\n",
       "}}\n",
       "\n",
       "// Listen for the clearing of the current output cell\n",
       "var outputEl = gd.closest('.output');\n",
       "if (outputEl) {{\n",
       "    x.observe(outputEl, {childList: true});\n",
       "}}\n",
       "\n",
       "                        })\n",
       "                };\n",
       "                });\n",
       "            </script>\n",
       "        </div>"
      ]
     },
     "metadata": {},
     "output_type": "display_data"
    }
   ],
   "source": [
    "top_adjectives_cons.iplot(\n",
    "    kind='bar', xTitle='Count', linecolor='black',orientation = 'h', color='red', title=\"Top 20 Adjectives in 'Cons' after Removing Stop Words (sample of 10k):\")"
   ]
  },
  {
   "cell_type": "markdown",
   "metadata": {},
   "source": [
    "The adjective distribution among the Cons is not as skewed as the Pros distribution. The top three adjectives are \"many,\" \"good,\" and \"much.\" At first glance, these seem like curious results, but upon further investigation, these words are usually used in the phrases \"not many,\" \"not good,\" and \"not much.\"\n",
    "\n",
    "Some adjectives that stand out are \"difficult,\" \"slow,\" and \"corporate.\""
   ]
  },
  {
   "cell_type": "markdown",
   "metadata": {},
   "source": [
    "## Topic Modeling using Latent Dirichlet Allocation (LDA)\n",
    "We may have a rough idea of what employees value/dislike in a job based on popular adjectives used, but let's attempt to get a clearer idea using topic modeling. We will use unsupervised natural language processing, applying Latent Dirichlet Allocation (LDA) to attempt to extract common themes of employee satisfaction among company reviews.\n",
    "\n",
    "LDA Topic Modeling is an unsupervised learning method. It is similar to clustering but differs in a fundamental way. While clustering assigns each observation (or document, in this case) to a unique cluster, LDA Topic Modeling assumes that each document consists of different topics and assigns a topic probability distribution to each document. In practice, this makes more sense. It's likely that each review contains several topics (i.e. people will talk about several aspects of a job such as great benefits, culture, management in a single review), rather than just a single topic."
   ]
  },
  {
   "cell_type": "markdown",
   "metadata": {},
   "source": [
    "### Pros"
   ]
  },
  {
   "cell_type": "code",
   "execution_count": 115,
   "metadata": {},
   "outputs": [],
   "source": [
    "# Create a corpus from a list of texts\n",
    "dictionary_pros = corpora.Dictionary(tokenized_pros)\n",
    "# document to bag of words \n",
    "pros_corpus = [dictionary_pros.doc2bow(text) for text in tokenized_pros]"
   ]
  },
  {
   "cell_type": "code",
   "execution_count": 116,
   "metadata": {},
   "outputs": [],
   "source": [
    "# model on the corpus\n",
    "ldamodel_pros_20 = LdaModel(corpus = pros_corpus, num_topics=20, id2word = dictionary_pros, \n",
    "                                           passes=10, random_state = 25, minimum_probability = 0.0)"
   ]
  },
  {
   "cell_type": "code",
   "execution_count": 117,
   "metadata": {},
   "outputs": [],
   "source": [
    "# save model\n",
    "# from gensim.test.utils import datapath\n",
    "temp_file = datapath(\"lda_pros_20\")\n",
    "ldamodel_pros_20.save(temp_file)\n",
    "\n",
    "# Load a pretrained model from disk\n",
    "# pretrained_lda_pros = LdaModel.load(temp_file)"
   ]
  },
  {
   "cell_type": "code",
   "execution_count": 128,
   "metadata": {},
   "outputs": [
    {
     "data": {
      "text/plain": [
       "[(0,\n",
       "  '0.053*\"training\" + 0.037*\"leadership\" + 0.037*\"development\" + 0.034*\"management\" + 0.029*\"strong\" + 0.025*\"culture\" + 0.025*\"interesting\" + 0.025*\"level\" + 0.024*\"values\" + 0.023*\"support\" + 0.020*\"program\" + 0.020*\"programs\" + 0.019*\"plenty\"'),\n",
       " (1,\n",
       "  '0.196*\"place\" + 0.078*\"work\" + 0.039*\"people\" + 0.036*\"start\" + 0.027*\"cool\" + 0.025*\"think\" + 0.022*\"talented\" + 0.021*\"career\" + 0.020*\"generally\" + 0.019*\"meet\" + 0.018*\"need\" + 0.017*\"role\" + 0.017*\"plus\"'),\n",
       " (2,\n",
       "  '0.142*\"opportunities\" + 0.082*\"lots\" + 0.061*\"opportunity\" + 0.055*\"many\" + 0.054*\"growth\" + 0.043*\"career\" + 0.040*\"move\" + 0.039*\"within\" + 0.036*\"different\" + 0.033*\"advancement\" + 0.027*\"grow\" + 0.027*\"large\" + 0.025*\"company\"'),\n",
       " (3,\n",
       "  '0.113*\"time\" + 0.081*\"benefits\" + 0.071*\"k\" + 0.057*\"health\" + 0.041*\"paid\" + 0.040*\"vacation\" + 0.038*\"insurance\" + 0.032*\"part\" + 0.027*\"bonus\" + 0.026*\"days\" + 0.024*\"year\" + 0.021*\"medical\" + 0.021*\"pto\"'),\n",
       " (4,\n",
       "  '0.119*\"lot\" + 0.102*\"job\" + 0.098*\"learn\" + 0.076*\"experience\" + 0.060*\"good\" + 0.044*\"learning\" + 0.028*\"skills\" + 0.023*\"knowledge\" + 0.020*\"opportunity\" + 0.019*\"people\" + 0.017*\"security\" + 0.016*\"get\" + 0.015*\"network\"'),\n",
       " (5,\n",
       "  '0.222*\"employees\" + 0.084*\"care\" + 0.037*\"top\" + 0.037*\"workers\" + 0.036*\"for\" + 0.026*\"bonuses\" + 0.026*\"wonderful\" + 0.026*\"take\" + 0.024*\"co\" + 0.022*\"open\" + 0.020*\"highly\" + 0.018*\"pension\" + 0.016*\"talent\"'),\n",
       " (6,\n",
       "  '0.278*\"good\" + 0.149*\"pay\" + 0.138*\"benefits\" + 0.066*\"flexible\" + 0.058*\"hours\" + 0.050*\"decent\" + 0.039*\"salary\" + 0.037*\"schedule\" + 0.025*\"competitive\" + 0.014*\"tuition\" + 0.013*\"reimbursement\" + 0.011*\"pretty\" + 0.009*\"coworkers\"'),\n",
       " (7,\n",
       "  '0.051*\"hard\" + 0.045*\"make\" + 0.045*\"help\" + 0.042*\"money\" + 0.041*\"challenging\" + 0.036*\"fast\" + 0.034*\"want\" + 0.033*\"get\" + 0.033*\"willing\" + 0.032*\"job\" + 0.031*\"youre\" + 0.028*\"much\" + 0.019*\"paced\"'),\n",
       " (8,\n",
       "  '0.096*\"team\" + 0.081*\"easy\" + 0.074*\"customers\" + 0.073*\"fun\" + 0.045*\"customer\" + 0.043*\"job\" + 0.035*\"service\" + 0.024*\"diverse\" + 0.023*\"union\" + 0.023*\"focus\" + 0.019*\"helping\" + 0.018*\"management\" + 0.018*\"getting\"'),\n",
       " (9,\n",
       "  '0.068*\"really\" + 0.040*\"years\" + 0.024*\"working\" + 0.024*\"it\" + 0.023*\"time\" + 0.023*\"would\" + 0.022*\"name\" + 0.021*\"resume\" + 0.019*\"get\" + 0.018*\"still\" + 0.018*\"many\" + 0.017*\"dont\" + 0.017*\"pros\"'),\n",
       " (10,\n",
       "  '0.072*\"best\" + 0.059*\"products\" + 0.053*\"industry\" + 0.052*\"technology\" + 0.033*\"stable\" + 0.028*\"product\" + 0.027*\"business\" + 0.023*\"market\" + 0.022*\"ability\" + 0.022*\"internal\" + 0.020*\"intelligent\" + 0.020*\"exposure\" + 0.018*\"one\"'),\n",
       " (11,\n",
       "  '0.140*\"balance\" + 0.128*\"good\" + 0.107*\"life\" + 0.064*\"compensation\" + 0.055*\"benefits\" + 0.055*\"worklife\" + 0.054*\"flexibility\" + 0.040*\"culture\" + 0.028*\"package\" + 0.023*\"ok\" + 0.019*\"mobility\" + 0.017*\"benefit\" + 0.014*\"excellent\"'),\n",
       " (12,\n",
       "  '0.038*\"manager\" + 0.032*\"long\" + 0.024*\"community\" + 0.024*\"position\" + 0.023*\"sales\" + 0.023*\"group\" + 0.022*\"leave\" + 0.019*\"months\" + 0.019*\"put\" + 0.018*\"depending\" + 0.016*\"fairly\" + 0.015*\"in\" + 0.015*\"making\"'),\n",
       " (13,\n",
       "  '0.152*\"environment\" + 0.092*\"nice\" + 0.071*\"good\" + 0.065*\"friendly\" + 0.054*\"people\" + 0.047*\"working\" + 0.033*\"coworkers\" + 0.031*\"associates\" + 0.031*\"office\" + 0.026*\"staff\" + 0.024*\"team\" + 0.021*\"management\" + 0.020*\"helpful\"'),\n",
       " (14,\n",
       "  '0.166*\"people\" + 0.096*\"smart\" + 0.056*\"atmosphere\" + 0.046*\"projects\" + 0.034*\"high\" + 0.025*\"college\" + 0.024*\"colleagues\" + 0.020*\"quality\" + 0.020*\"working\" + 0.019*\"success\" + 0.017*\"technologies\" + 0.017*\"exciting\" + 0.017*\"variety\"'),\n",
       " (15,\n",
       "  '0.541*\"great\" + 0.131*\"benefits\" + 0.075*\"people\" + 0.047*\"pay\" + 0.030*\"culture\" + 0.024*\"awesome\" + 0.017*\"with\" + 0.017*\"coworkers\" + 0.013*\"excellent\" + 0.012*\"training\" + 0.009*\"management\" + 0.006*\"overall\" + 0.004*\"managers\"'),\n",
       " (16,\n",
       "  '0.089*\"amazing\" + 0.078*\"day\" + 0.072*\"every\" + 0.055*\"love\" + 0.048*\"perks\" + 0.047*\"one\" + 0.035*\"travel\" + 0.033*\"even\" + 0.027*\"big\" + 0.024*\"working\" + 0.021*\"sick\" + 0.021*\"here\" + 0.020*\"amp\"'),\n",
       " (17,\n",
       "  '0.084*\"employee\" + 0.059*\"free\" + 0.053*\"store\" + 0.035*\"discounts\" + 0.032*\"education\" + 0.031*\"jobs\" + 0.027*\"food\" + 0.022*\"etc\" + 0.020*\"including\" + 0.020*\"department\" + 0.020*\"events\" + 0.019*\"offer\" + 0.019*\"gym\"'),\n",
       " (18,\n",
       "  '0.066*\"well\" + 0.050*\"like\" + 0.048*\"always\" + 0.048*\"new\" + 0.042*\"people\" + 0.034*\"family\" + 0.026*\"worked\" + 0.024*\"world\" + 0.023*\"best\" + 0.022*\"things\" + 0.019*\"brand\" + 0.019*\"everyone\" + 0.017*\"get\"'),\n",
       " (19,\n",
       "  '0.056*\"better\" + 0.047*\"around\" + 0.042*\"able\" + 0.038*\"companies\" + 0.036*\"average\" + 0.027*\"diversity\" + 0.026*\"area\" + 0.023*\"especially\" + 0.021*\"come\" + 0.018*\"far\" + 0.018*\"find\" + 0.017*\"access\" + 0.017*\"higher\"')]"
      ]
     },
     "execution_count": 128,
     "metadata": {},
     "output_type": "execute_result"
    }
   ],
   "source": [
    "ldamodel_pros_20.show_topics(num_topics = 20, num_words = 13)"
   ]
  },
  {
   "cell_type": "markdown",
   "metadata": {},
   "source": [
    "### Labeling Topics in Pros\n",
    "As you can see, the LDA model output 20 topics from our corpus. The next step and more difficult step is to assign meaning to each of the topics above and see if they make sense. I have assigned a rough label to each of the topics. I did this by 1) looking at the weighted words assigned to each topic in the model output, and 2) examining the documents that the highest probability assigned to each topic."
   ]
  },
  {
   "cell_type": "markdown",
   "metadata": {},
   "source": [
    "- 0: Training and development programs\n",
    "- 1: \"Cool\" people & place to work at the start of your career\n",
    "- 2: High potential for growth and advancement\n",
    "- 3: Good benefits: 401k, health/medical insurance, pto, vacation, bonus\n",
    "- 4: Great learning opportunity and skills development\n",
    "- 5: Rewarded for good work (caring managers, bonuses)\n",
    "- 6: Good pay, reimbursement for expenses, flexible hours\n",
    "- 7: Challenging, fast-paced, strive for excellence\n",
    "- 8: Help and customer-oriented\n",
    "- 9: No pros\n",
    "- 10: Superior products/industry\n",
    "- 11: Work-life balance, flexible schedule\n",
    "- 12: ? throwaway topic **-> throwaway**\n",
    "- 13: Friendly,helpful people and work environment\n",
    "- 14: High quality, exciting projects and smart people\n",
    "- 15: ? Great pay, culture, benefits **-> throwaway**\n",
    "- 16: ? \"Love\" working there **-> throwaway**\n",
    "- 17: Free amenities: free food, discounts, events, gym, education\n",
    "- 18: People like \"family.\" Best company, best brand. Always new things.\n",
    "- 19: Better than other similar companies, competitors"
   ]
  },
  {
   "cell_type": "markdown",
   "metadata": {},
   "source": [
    "There were some topics that were difficult to label either due to not being segmented or specific enough (topic 15 mentioned good benefits, pay, people, management, and training), or just containing noise. I had to throw away those topics. While the topic segmentation is not perfect and contains some overlap, the LDA topic modeling overall worked quite well."
   ]
  },
  {
   "cell_type": "markdown",
   "metadata": {},
   "source": [
    "### Cons"
   ]
  },
  {
   "cell_type": "code",
   "execution_count": 120,
   "metadata": {},
   "outputs": [],
   "source": [
    "# Create a corpus from a list of texts\n",
    "dictionary_cons = corpora.Dictionary(tokenized_cons)\n",
    "# document to bag of words \n",
    "cons_corpus = [dictionary_cons.doc2bow(text) for text in tokenized_cons]"
   ]
  },
  {
   "cell_type": "code",
   "execution_count": 121,
   "metadata": {},
   "outputs": [],
   "source": [
    "# model on the corpus\n",
    "ldamodel_cons_20 = LdaModel(corpus = cons_corpus, num_topics=20, id2word = dictionary_cons, \n",
    "                                           passes=10, random_state = 25, minimum_probability = 0.0)"
   ]
  },
  {
   "cell_type": "code",
   "execution_count": 122,
   "metadata": {},
   "outputs": [],
   "source": [
    "# save model\n",
    "# from gensim.test.utils import datapath\n",
    "temp_file = datapath(\"lda_cons_20\")\n",
    "ldamodel_cons_20.save(temp_file)\n",
    "\n",
    "# Load a pretrained model from disk\n",
    "# pretrained_lda_cons = LdaModel.load(temp_file)"
   ]
  },
  {
   "cell_type": "code",
   "execution_count": 123,
   "metadata": {},
   "outputs": [
    {
     "data": {
      "text/plain": [
       "[(0,\n",
       "  '0.023*\"get\" + 0.021*\"one\" + 0.019*\"people\" + 0.016*\"job\" + 0.015*\"even\" + 0.012*\"dont\" + 0.012*\"manager\" + 0.012*\"go\" + 0.011*\"youre\" + 0.010*\"want\" + 0.010*\"make\" + 0.010*\"time\" + 0.010*\"never\"'),\n",
       " (1,\n",
       "  '0.171*\"hours\" + 0.101*\"long\" + 0.039*\"time\" + 0.033*\"schedule\" + 0.033*\"working\" + 0.031*\"enough\" + 0.030*\"day\" + 0.030*\"days\" + 0.029*\"week\" + 0.019*\"shift\" + 0.014*\"weekends\" + 0.014*\"hour\" + 0.013*\"busy\"'),\n",
       " (2,\n",
       "  '0.131*\"store\" + 0.081*\"environment\" + 0.071*\"think\" + 0.064*\"none\" + 0.052*\"retail\" + 0.039*\"changing\" + 0.030*\"cant\" + 0.025*\"competitive\" + 0.023*\"driven\" + 0.019*\"toxic\" + 0.018*\"corporation\" + 0.018*\"constantly\" + 0.016*\"overall\"'),\n",
       " (3,\n",
       "  '0.085*\"great\" + 0.082*\"good\" + 0.066*\"really\" + 0.058*\"cons\" + 0.048*\"nothing\" + 0.039*\"place\" + 0.026*\"bad\" + 0.024*\"isnt\" + 0.022*\"say\" + 0.021*\"best\" + 0.021*\"much\" + 0.020*\"everything\" + 0.020*\"learn\"'),\n",
       " (4,\n",
       "  '0.075*\"sales\" + 0.070*\"customer\" + 0.042*\"service\" + 0.033*\"expectations\" + 0.031*\"customers\" + 0.031*\"goals\" + 0.021*\"numbers\" + 0.021*\"unrealistic\" + 0.020*\"pressure\" + 0.019*\"meet\" + 0.019*\"products\" + 0.018*\"sell\" + 0.018*\"high\"'),\n",
       " (5,\n",
       "  '0.019*\"metrics\" + 0.017*\"us\" + 0.015*\"everyone\" + 0.013*\"gets\" + 0.013*\"play\" + 0.012*\"managers\" + 0.012*\"technical\" + 0.011*\"true\" + 0.010*\"incompetent\" + 0.010*\"favorites\" + 0.010*\"quality\" + 0.010*\"attitude\" + 0.010*\"role\"'),\n",
       " (6,\n",
       "  '0.099*\"lots\" + 0.096*\"politics\" + 0.077*\"office\" + 0.037*\"call\" + 0.027*\"center\" + 0.025*\"back\" + 0.022*\"corporate\" + 0.019*\"environment\" + 0.016*\"improve\" + 0.015*\"depends\" + 0.015*\"field\" + 0.014*\"much\" + 0.014*\"workforce\"'),\n",
       " (7,\n",
       "  '0.061*\"like\" + 0.027*\"dont\" + 0.023*\"would\" + 0.020*\"employees\" + 0.019*\"feel\" + 0.019*\"know\" + 0.015*\"people\" + 0.013*\"managers\" + 0.013*\"supervisors\" + 0.011*\"training\" + 0.009*\"treated\" + 0.009*\"floor\" + 0.008*\"expect\"'),\n",
       " (8,\n",
       "  '0.225*\"management\" + 0.048*\"poor\" + 0.029*\"leadership\" + 0.026*\"upper\" + 0.025*\"senior\" + 0.023*\"level\" + 0.023*\"employees\" + 0.021*\"lack\" + 0.015*\"favoritism\" + 0.014*\"decisions\" + 0.013*\"managers\" + 0.012*\"terrible\" + 0.012*\"middle\"'),\n",
       " (9,\n",
       "  '0.051*\"slow\" + 0.050*\"large\" + 0.047*\"big\" + 0.036*\"culture\" + 0.027*\"opportunity\" + 0.026*\"old\" + 0.025*\"technology\" + 0.023*\"organization\" + 0.023*\"bureaucracy\" + 0.020*\"political\" + 0.019*\"processes\" + 0.018*\"change\" + 0.018*\"bit\"'),\n",
       " (10,\n",
       "  '0.127*\"balance\" + 0.111*\"life\" + 0.058*\"opportunities\" + 0.057*\"growth\" + 0.054*\"advancement\" + 0.054*\"career\" + 0.049*\"worklife\" + 0.042*\"limited\" + 0.037*\"room\" + 0.023*\"fast\" + 0.019*\"challenging\" + 0.018*\"little\" + 0.016*\"shifts\"'),\n",
       " (11,\n",
       "  '0.101*\"many\" + 0.032*\"often\" + 0.028*\"associates\" + 0.026*\"managers\" + 0.022*\"certain\" + 0.019*\"people\" + 0.018*\"issues\" + 0.018*\"huge\" + 0.016*\"system\" + 0.012*\"policies\" + 0.012*\"times\" + 0.011*\"lost\" + 0.011*\"areas\"'),\n",
       " (12,\n",
       "  '0.058*\"team\" + 0.051*\"training\" + 0.049*\"lack\" + 0.032*\"departments\" + 0.028*\"teams\" + 0.027*\"department\" + 0.021*\"needs\" + 0.021*\"program\" + 0.021*\"support\" + 0.020*\"communication\" + 0.019*\"different\" + 0.016*\"development\" + 0.014*\"career\"'),\n",
       " (13,\n",
       "  '0.058*\"job\" + 0.051*\"changes\" + 0.047*\"change\" + 0.039*\"constant\" + 0.038*\"layoffs\" + 0.035*\"every\" + 0.030*\"overtime\" + 0.023*\"due\" + 0.021*\"year\" + 0.018*\"short\" + 0.018*\"security\" + 0.015*\"term\" + 0.014*\"lot\"'),\n",
       " (14,\n",
       "  '0.092*\"employees\" + 0.040*\"care\" + 0.035*\"management\" + 0.032*\"employee\" + 0.030*\"benefits\" + 0.022*\"insurance\" + 0.022*\"health\" + 0.019*\"doesnt\" + 0.017*\"money\" + 0.012*\"dont\" + 0.012*\"workers\" + 0.012*\"union\" + 0.011*\"take\"'),\n",
       " (15,\n",
       "  '0.054*\"process\" + 0.037*\"may\" + 0.023*\"projects\" + 0.023*\"scheduling\" + 0.019*\"project\" + 0.017*\"tasks\" + 0.016*\"flexible\" + 0.014*\"review\" + 0.013*\"tend\" + 0.012*\"working\" + 0.012*\"outside\" + 0.012*\"meetings\" + 0.011*\"nice\"'),\n",
       " (16,\n",
       "  '0.037*\"people\" + 0.031*\"years\" + 0.030*\"business\" + 0.019*\"new\" + 0.018*\"many\" + 0.014*\"good\" + 0.014*\"experience\" + 0.012*\"culture\" + 0.012*\"location\" + 0.011*\"employees\" + 0.010*\"positions\" + 0.010*\"focused\" + 0.009*\"talent\"'),\n",
       " (17,\n",
       "  '0.146*\"pay\" + 0.064*\"low\" + 0.038*\"salary\" + 0.029*\"could\" + 0.025*\"based\" + 0.025*\"compensation\" + 0.025*\"better\" + 0.023*\"less\" + 0.023*\"raises\" + 0.015*\"promotions\" + 0.015*\"average\" + 0.014*\"benefits\" + 0.014*\"lower\"'),\n",
       " (18,\n",
       "  '0.093*\"high\" + 0.055*\"bad\" + 0.052*\"customers\" + 0.051*\"sometimes\" + 0.043*\"times\" + 0.040*\"stressful\" + 0.034*\"turnover\" + 0.030*\"stress\" + 0.024*\"environment\" + 0.022*\"workload\" + 0.018*\"rate\" + 0.017*\"depending\" + 0.017*\"load\"'),\n",
       " (19,\n",
       "  '0.096*\"get\" + 0.079*\"hard\" + 0.076*\"time\" + 0.041*\"move\" + 0.030*\"difficult\" + 0.021*\"full\" + 0.019*\"things\" + 0.019*\"done\" + 0.017*\"part\" + 0.016*\"lot\" + 0.014*\"sometimes\" + 0.014*\"position\" + 0.013*\"takes\"')]"
      ]
     },
     "execution_count": 123,
     "metadata": {},
     "output_type": "execute_result"
    }
   ],
   "source": [
    "ldamodel_cons_20.show_topics(num_topics = 20, num_words = 13)"
   ]
  },
  {
   "cell_type": "markdown",
   "metadata": {},
   "source": [
    "### Labeling Topics in Cons\n",
    "As we did for the Pros section, we can see the topics generated for the Cons section of all reviews."
   ]
  },
  {
   "cell_type": "markdown",
   "metadata": {},
   "source": [
    "- 0: ? throwaway topic **-> throwaway**\n",
    "- 1: Long work hours, weekend shifts\n",
    "- 2: ? No cons **-> throwaway**\n",
    "- 3: No cons\n",
    "- 4: Unrealistic sales goals. Lofty expectations.\n",
    "- 5: Incompetent managers, focused on metrics.\n",
    "- 6: Office politics, red tape, a lot of \"manager influence\"\n",
    "- 7: Not treated well or respected\n",
    "- 8: Lack of leadership, poor management, limited communication\n",
    "- 9: Bureaucratic, big company, hierarchy, protocols. \"small fish in a big pond.\"\n",
    "- 10: Limited career opportunities/advancement, growth, work life balance.\n",
    "- 11: Too many processes, procedures, meetings. Too formalized.\n",
    "- 12: Lack of development path, training, support.\n",
    "- 13: Frequent change and layoffs\n",
    "- 14: Lack of care for employees from upper management\n",
    "- 15: Difficult scheduling, working outside\n",
    "- 16: ? throwaway topic **-> throwaway**\n",
    "- 17: Low salary, limited benefits, lack of promotion\n",
    "- 18: High stress, micromanagement, turnover\n",
    "- 19: Had to advance from a lower level position, especially from part time to full time"
   ]
  },
  {
   "cell_type": "markdown",
   "metadata": {},
   "source": [
    "There are some interesting results here that immediately catch our attention. For example, the clear mention of \"office politics\" and \"corporate environment\" in topic 6. Additionally, \"poor leadership,\" \"management,\" and \"favoritism\" in topic 8. Lastly, \"job changes,\" \"constant,\" \"layoffs,\" and \"security\" in topic 13.\n",
    "\n",
    "When you think about it, these are all common employee concerns that make sense. Again, while not perfect, the LDA topic modeling did a fairly good job segementing the corpus into idenitifiable topics."
   ]
  },
  {
   "cell_type": "markdown",
   "metadata": {},
   "source": [
    "## Identifying Overall Topic Distributions within Each Company\n",
    "So the question is, \"Great, so we've identified common reasons of why people love or hate their jobs. Now, which companies excel or fail spectacularly in these categories?\"\n",
    "\n",
    "We can accomplish this task by aggregating topic distributions by company and performing an outlier analysis to determine outlier companies in each category.\n",
    "\n",
    "### Topic Distributions by Company (Pros)"
   ]
  },
  {
   "cell_type": "code",
   "execution_count": 129,
   "metadata": {},
   "outputs": [
    {
     "data": {
      "text/html": [
       "<div>\n",
       "<style scoped>\n",
       "    .dataframe tbody tr th:only-of-type {\n",
       "        vertical-align: middle;\n",
       "    }\n",
       "\n",
       "    .dataframe tbody tr th {\n",
       "        vertical-align: top;\n",
       "    }\n",
       "\n",
       "    .dataframe thead th {\n",
       "        text-align: right;\n",
       "    }\n",
       "</style>\n",
       "<table border=\"1\" class=\"dataframe\">\n",
       "  <thead>\n",
       "    <tr style=\"text-align: right;\">\n",
       "      <th></th>\n",
       "      <th>topic_pros_0</th>\n",
       "      <th>topic_pros_1</th>\n",
       "      <th>topic_pros_2</th>\n",
       "      <th>topic_pros_3</th>\n",
       "      <th>topic_pros_4</th>\n",
       "      <th>topic_pros_5</th>\n",
       "      <th>topic_pros_6</th>\n",
       "      <th>topic_pros_7</th>\n",
       "      <th>topic_pros_8</th>\n",
       "      <th>topic_pros_9</th>\n",
       "      <th>topic_pros_10</th>\n",
       "      <th>topic_pros_11</th>\n",
       "      <th>topic_pros_12</th>\n",
       "      <th>topic_pros_13</th>\n",
       "      <th>topic_pros_14</th>\n",
       "      <th>topic_pros_15</th>\n",
       "      <th>topic_pros_16</th>\n",
       "      <th>topic_pros_17</th>\n",
       "      <th>topic_pros_18</th>\n",
       "      <th>topic_pros_19</th>\n",
       "    </tr>\n",
       "    <tr>\n",
       "      <th>company</th>\n",
       "      <th></th>\n",
       "      <th></th>\n",
       "      <th></th>\n",
       "      <th></th>\n",
       "      <th></th>\n",
       "      <th></th>\n",
       "      <th></th>\n",
       "      <th></th>\n",
       "      <th></th>\n",
       "      <th></th>\n",
       "      <th></th>\n",
       "      <th></th>\n",
       "      <th></th>\n",
       "      <th></th>\n",
       "      <th></th>\n",
       "      <th></th>\n",
       "      <th></th>\n",
       "      <th></th>\n",
       "      <th></th>\n",
       "      <th></th>\n",
       "    </tr>\n",
       "  </thead>\n",
       "  <tbody>\n",
       "    <tr>\n",
       "      <td>3M</td>\n",
       "      <td>6.5</td>\n",
       "      <td>3.5</td>\n",
       "      <td>7.9</td>\n",
       "      <td>3.8</td>\n",
       "      <td>5.2</td>\n",
       "      <td>3.5</td>\n",
       "      <td>9.7</td>\n",
       "      <td>3.9</td>\n",
       "      <td>3.2</td>\n",
       "      <td>3.8</td>\n",
       "      <td>5.4</td>\n",
       "      <td>5.7</td>\n",
       "      <td>3.2</td>\n",
       "      <td>7.2</td>\n",
       "      <td>4.6</td>\n",
       "      <td>8.4</td>\n",
       "      <td>2.7</td>\n",
       "      <td>3.2</td>\n",
       "      <td>5.2</td>\n",
       "      <td>3.5</td>\n",
       "    </tr>\n",
       "    <tr>\n",
       "      <td>AIG</td>\n",
       "      <td>5.0</td>\n",
       "      <td>3.9</td>\n",
       "      <td>6.6</td>\n",
       "      <td>8.3</td>\n",
       "      <td>4.6</td>\n",
       "      <td>3.4</td>\n",
       "      <td>10.9</td>\n",
       "      <td>3.4</td>\n",
       "      <td>3.2</td>\n",
       "      <td>4.6</td>\n",
       "      <td>3.6</td>\n",
       "      <td>7.6</td>\n",
       "      <td>3.2</td>\n",
       "      <td>6.6</td>\n",
       "      <td>3.9</td>\n",
       "      <td>9.1</td>\n",
       "      <td>2.5</td>\n",
       "      <td>2.6</td>\n",
       "      <td>4.5</td>\n",
       "      <td>2.4</td>\n",
       "    </tr>\n",
       "    <tr>\n",
       "      <td>AT&amp;T</td>\n",
       "      <td>4.6</td>\n",
       "      <td>3.4</td>\n",
       "      <td>6.3</td>\n",
       "      <td>6.0</td>\n",
       "      <td>4.0</td>\n",
       "      <td>3.0</td>\n",
       "      <td>17.5</td>\n",
       "      <td>3.8</td>\n",
       "      <td>4.6</td>\n",
       "      <td>3.4</td>\n",
       "      <td>3.2</td>\n",
       "      <td>4.2</td>\n",
       "      <td>3.0</td>\n",
       "      <td>3.7</td>\n",
       "      <td>2.6</td>\n",
       "      <td>11.7</td>\n",
       "      <td>3.0</td>\n",
       "      <td>5.5</td>\n",
       "      <td>3.7</td>\n",
       "      <td>2.8</td>\n",
       "    </tr>\n",
       "    <tr>\n",
       "      <td>AbbVie</td>\n",
       "      <td>6.5</td>\n",
       "      <td>3.3</td>\n",
       "      <td>6.3</td>\n",
       "      <td>4.8</td>\n",
       "      <td>4.2</td>\n",
       "      <td>4.0</td>\n",
       "      <td>8.9</td>\n",
       "      <td>3.4</td>\n",
       "      <td>3.1</td>\n",
       "      <td>3.7</td>\n",
       "      <td>5.1</td>\n",
       "      <td>8.0</td>\n",
       "      <td>3.5</td>\n",
       "      <td>8.6</td>\n",
       "      <td>4.2</td>\n",
       "      <td>10.1</td>\n",
       "      <td>2.2</td>\n",
       "      <td>2.5</td>\n",
       "      <td>4.2</td>\n",
       "      <td>3.3</td>\n",
       "    </tr>\n",
       "    <tr>\n",
       "      <td>Albertsons</td>\n",
       "      <td>3.9</td>\n",
       "      <td>3.7</td>\n",
       "      <td>4.4</td>\n",
       "      <td>5.0</td>\n",
       "      <td>5.0</td>\n",
       "      <td>3.9</td>\n",
       "      <td>14.4</td>\n",
       "      <td>4.9</td>\n",
       "      <td>7.4</td>\n",
       "      <td>5.5</td>\n",
       "      <td>2.4</td>\n",
       "      <td>2.6</td>\n",
       "      <td>3.3</td>\n",
       "      <td>8.2</td>\n",
       "      <td>3.0</td>\n",
       "      <td>6.9</td>\n",
       "      <td>2.9</td>\n",
       "      <td>4.0</td>\n",
       "      <td>5.5</td>\n",
       "      <td>3.3</td>\n",
       "    </tr>\n",
       "    <tr>\n",
       "      <td>Amazon</td>\n",
       "      <td>5.2</td>\n",
       "      <td>3.8</td>\n",
       "      <td>6.2</td>\n",
       "      <td>5.8</td>\n",
       "      <td>4.9</td>\n",
       "      <td>3.0</td>\n",
       "      <td>12.9</td>\n",
       "      <td>5.9</td>\n",
       "      <td>5.0</td>\n",
       "      <td>4.1</td>\n",
       "      <td>3.0</td>\n",
       "      <td>3.3</td>\n",
       "      <td>3.3</td>\n",
       "      <td>6.2</td>\n",
       "      <td>4.5</td>\n",
       "      <td>7.7</td>\n",
       "      <td>3.8</td>\n",
       "      <td>2.9</td>\n",
       "      <td>5.2</td>\n",
       "      <td>3.4</td>\n",
       "    </tr>\n",
       "    <tr>\n",
       "      <td>American Airlines</td>\n",
       "      <td>3.4</td>\n",
       "      <td>3.0</td>\n",
       "      <td>5.0</td>\n",
       "      <td>6.5</td>\n",
       "      <td>4.5</td>\n",
       "      <td>3.2</td>\n",
       "      <td>11.1</td>\n",
       "      <td>3.6</td>\n",
       "      <td>4.1</td>\n",
       "      <td>4.5</td>\n",
       "      <td>3.2</td>\n",
       "      <td>4.2</td>\n",
       "      <td>3.1</td>\n",
       "      <td>5.2</td>\n",
       "      <td>3.0</td>\n",
       "      <td>12.9</td>\n",
       "      <td>6.9</td>\n",
       "      <td>3.7</td>\n",
       "      <td>5.7</td>\n",
       "      <td>3.0</td>\n",
       "    </tr>\n",
       "    <tr>\n",
       "      <td>American Express</td>\n",
       "      <td>5.9</td>\n",
       "      <td>3.1</td>\n",
       "      <td>6.9</td>\n",
       "      <td>5.1</td>\n",
       "      <td>4.2</td>\n",
       "      <td>3.6</td>\n",
       "      <td>9.6</td>\n",
       "      <td>2.9</td>\n",
       "      <td>2.9</td>\n",
       "      <td>3.5</td>\n",
       "      <td>3.2</td>\n",
       "      <td>11.1</td>\n",
       "      <td>3.3</td>\n",
       "      <td>6.5</td>\n",
       "      <td>3.8</td>\n",
       "      <td>11.5</td>\n",
       "      <td>2.9</td>\n",
       "      <td>3.1</td>\n",
       "      <td>4.8</td>\n",
       "      <td>2.2</td>\n",
       "    </tr>\n",
       "    <tr>\n",
       "      <td>AmerisourceBergen</td>\n",
       "      <td>4.4</td>\n",
       "      <td>3.4</td>\n",
       "      <td>6.4</td>\n",
       "      <td>6.6</td>\n",
       "      <td>4.0</td>\n",
       "      <td>4.0</td>\n",
       "      <td>12.8</td>\n",
       "      <td>4.0</td>\n",
       "      <td>3.4</td>\n",
       "      <td>4.7</td>\n",
       "      <td>3.4</td>\n",
       "      <td>4.0</td>\n",
       "      <td>3.3</td>\n",
       "      <td>7.9</td>\n",
       "      <td>3.4</td>\n",
       "      <td>10.1</td>\n",
       "      <td>2.8</td>\n",
       "      <td>3.7</td>\n",
       "      <td>5.1</td>\n",
       "      <td>2.6</td>\n",
       "    </tr>\n",
       "    <tr>\n",
       "      <td>Apple</td>\n",
       "      <td>4.5</td>\n",
       "      <td>3.2</td>\n",
       "      <td>3.7</td>\n",
       "      <td>5.6</td>\n",
       "      <td>4.2</td>\n",
       "      <td>3.3</td>\n",
       "      <td>11.7</td>\n",
       "      <td>3.7</td>\n",
       "      <td>4.5</td>\n",
       "      <td>4.0</td>\n",
       "      <td>4.0</td>\n",
       "      <td>3.3</td>\n",
       "      <td>3.1</td>\n",
       "      <td>7.6</td>\n",
       "      <td>3.6</td>\n",
       "      <td>14.6</td>\n",
       "      <td>4.3</td>\n",
       "      <td>4.1</td>\n",
       "      <td>4.3</td>\n",
       "      <td>2.8</td>\n",
       "    </tr>\n",
       "    <tr>\n",
       "      <td>Archer Daniels</td>\n",
       "      <td>4.8</td>\n",
       "      <td>3.7</td>\n",
       "      <td>8.2</td>\n",
       "      <td>4.1</td>\n",
       "      <td>6.6</td>\n",
       "      <td>3.5</td>\n",
       "      <td>13.0</td>\n",
       "      <td>4.4</td>\n",
       "      <td>2.9</td>\n",
       "      <td>4.4</td>\n",
       "      <td>3.3</td>\n",
       "      <td>4.4</td>\n",
       "      <td>3.5</td>\n",
       "      <td>7.2</td>\n",
       "      <td>4.0</td>\n",
       "      <td>7.8</td>\n",
       "      <td>2.5</td>\n",
       "      <td>2.8</td>\n",
       "      <td>5.5</td>\n",
       "      <td>3.2</td>\n",
       "    </tr>\n",
       "    <tr>\n",
       "      <td>Bank of America</td>\n",
       "      <td>4.9</td>\n",
       "      <td>3.5</td>\n",
       "      <td>8.0</td>\n",
       "      <td>6.7</td>\n",
       "      <td>4.7</td>\n",
       "      <td>3.2</td>\n",
       "      <td>12.1</td>\n",
       "      <td>3.5</td>\n",
       "      <td>3.4</td>\n",
       "      <td>4.2</td>\n",
       "      <td>3.4</td>\n",
       "      <td>6.3</td>\n",
       "      <td>3.6</td>\n",
       "      <td>6.4</td>\n",
       "      <td>3.0</td>\n",
       "      <td>10.1</td>\n",
       "      <td>2.7</td>\n",
       "      <td>3.1</td>\n",
       "      <td>4.3</td>\n",
       "      <td>2.9</td>\n",
       "    </tr>\n",
       "    <tr>\n",
       "      <td>Best Buy</td>\n",
       "      <td>4.9</td>\n",
       "      <td>3.4</td>\n",
       "      <td>3.9</td>\n",
       "      <td>3.9</td>\n",
       "      <td>5.7</td>\n",
       "      <td>2.9</td>\n",
       "      <td>13.5</td>\n",
       "      <td>4.0</td>\n",
       "      <td>6.4</td>\n",
       "      <td>3.7</td>\n",
       "      <td>3.3</td>\n",
       "      <td>2.5</td>\n",
       "      <td>3.0</td>\n",
       "      <td>8.7</td>\n",
       "      <td>3.1</td>\n",
       "      <td>9.5</td>\n",
       "      <td>2.6</td>\n",
       "      <td>7.8</td>\n",
       "      <td>4.9</td>\n",
       "      <td>2.5</td>\n",
       "    </tr>\n",
       "    <tr>\n",
       "      <td>Boeing</td>\n",
       "      <td>5.1</td>\n",
       "      <td>3.5</td>\n",
       "      <td>8.8</td>\n",
       "      <td>6.0</td>\n",
       "      <td>4.3</td>\n",
       "      <td>3.2</td>\n",
       "      <td>12.4</td>\n",
       "      <td>3.8</td>\n",
       "      <td>2.8</td>\n",
       "      <td>4.2</td>\n",
       "      <td>4.5</td>\n",
       "      <td>6.4</td>\n",
       "      <td>3.2</td>\n",
       "      <td>4.4</td>\n",
       "      <td>3.9</td>\n",
       "      <td>9.4</td>\n",
       "      <td>2.8</td>\n",
       "      <td>3.3</td>\n",
       "      <td>4.9</td>\n",
       "      <td>3.1</td>\n",
       "    </tr>\n",
       "    <tr>\n",
       "      <td>Booking.com</td>\n",
       "      <td>5.0</td>\n",
       "      <td>3.8</td>\n",
       "      <td>5.2</td>\n",
       "      <td>4.7</td>\n",
       "      <td>4.1</td>\n",
       "      <td>3.6</td>\n",
       "      <td>7.0</td>\n",
       "      <td>3.8</td>\n",
       "      <td>4.0</td>\n",
       "      <td>4.7</td>\n",
       "      <td>3.6</td>\n",
       "      <td>3.7</td>\n",
       "      <td>3.6</td>\n",
       "      <td>11.9</td>\n",
       "      <td>4.0</td>\n",
       "      <td>8.3</td>\n",
       "      <td>4.4</td>\n",
       "      <td>6.4</td>\n",
       "      <td>4.8</td>\n",
       "      <td>3.3</td>\n",
       "    </tr>\n",
       "    <tr>\n",
       "      <td>CVS Health</td>\n",
       "      <td>4.0</td>\n",
       "      <td>3.5</td>\n",
       "      <td>4.4</td>\n",
       "      <td>4.5</td>\n",
       "      <td>5.1</td>\n",
       "      <td>3.0</td>\n",
       "      <td>15.2</td>\n",
       "      <td>5.3</td>\n",
       "      <td>5.9</td>\n",
       "      <td>6.0</td>\n",
       "      <td>2.5</td>\n",
       "      <td>3.6</td>\n",
       "      <td>3.6</td>\n",
       "      <td>7.3</td>\n",
       "      <td>3.6</td>\n",
       "      <td>6.6</td>\n",
       "      <td>3.1</td>\n",
       "      <td>4.5</td>\n",
       "      <td>5.2</td>\n",
       "      <td>3.0</td>\n",
       "    </tr>\n",
       "    <tr>\n",
       "      <td>Cardinal Health</td>\n",
       "      <td>5.7</td>\n",
       "      <td>3.4</td>\n",
       "      <td>7.6</td>\n",
       "      <td>8.4</td>\n",
       "      <td>4.2</td>\n",
       "      <td>3.5</td>\n",
       "      <td>11.2</td>\n",
       "      <td>3.6</td>\n",
       "      <td>3.8</td>\n",
       "      <td>3.9</td>\n",
       "      <td>3.8</td>\n",
       "      <td>5.2</td>\n",
       "      <td>3.2</td>\n",
       "      <td>6.5</td>\n",
       "      <td>3.3</td>\n",
       "      <td>9.3</td>\n",
       "      <td>2.9</td>\n",
       "      <td>3.0</td>\n",
       "      <td>4.6</td>\n",
       "      <td>2.9</td>\n",
       "    </tr>\n",
       "    <tr>\n",
       "      <td>Caterpillar</td>\n",
       "      <td>4.9</td>\n",
       "      <td>4.0</td>\n",
       "      <td>8.7</td>\n",
       "      <td>4.5</td>\n",
       "      <td>4.8</td>\n",
       "      <td>3.3</td>\n",
       "      <td>13.1</td>\n",
       "      <td>3.4</td>\n",
       "      <td>2.7</td>\n",
       "      <td>4.3</td>\n",
       "      <td>4.0</td>\n",
       "      <td>7.0</td>\n",
       "      <td>3.5</td>\n",
       "      <td>5.8</td>\n",
       "      <td>4.1</td>\n",
       "      <td>8.6</td>\n",
       "      <td>2.5</td>\n",
       "      <td>2.4</td>\n",
       "      <td>4.9</td>\n",
       "      <td>3.3</td>\n",
       "    </tr>\n",
       "    <tr>\n",
       "      <td>Centene</td>\n",
       "      <td>3.8</td>\n",
       "      <td>3.1</td>\n",
       "      <td>8.9</td>\n",
       "      <td>7.9</td>\n",
       "      <td>3.7</td>\n",
       "      <td>3.5</td>\n",
       "      <td>13.7</td>\n",
       "      <td>3.8</td>\n",
       "      <td>3.0</td>\n",
       "      <td>4.5</td>\n",
       "      <td>3.3</td>\n",
       "      <td>4.2</td>\n",
       "      <td>2.9</td>\n",
       "      <td>7.6</td>\n",
       "      <td>3.3</td>\n",
       "      <td>8.9</td>\n",
       "      <td>2.5</td>\n",
       "      <td>3.1</td>\n",
       "      <td>4.9</td>\n",
       "      <td>3.4</td>\n",
       "    </tr>\n",
       "    <tr>\n",
       "      <td>Chevron</td>\n",
       "      <td>5.9</td>\n",
       "      <td>3.5</td>\n",
       "      <td>6.3</td>\n",
       "      <td>4.6</td>\n",
       "      <td>3.9</td>\n",
       "      <td>3.9</td>\n",
       "      <td>12.3</td>\n",
       "      <td>3.2</td>\n",
       "      <td>3.8</td>\n",
       "      <td>3.6</td>\n",
       "      <td>2.7</td>\n",
       "      <td>9.1</td>\n",
       "      <td>3.0</td>\n",
       "      <td>6.3</td>\n",
       "      <td>4.7</td>\n",
       "      <td>10.9</td>\n",
       "      <td>2.9</td>\n",
       "      <td>2.7</td>\n",
       "      <td>4.2</td>\n",
       "      <td>2.6</td>\n",
       "    </tr>\n",
       "    <tr>\n",
       "      <td>Cigna</td>\n",
       "      <td>5.8</td>\n",
       "      <td>3.1</td>\n",
       "      <td>7.5</td>\n",
       "      <td>6.6</td>\n",
       "      <td>3.9</td>\n",
       "      <td>3.7</td>\n",
       "      <td>12.2</td>\n",
       "      <td>3.6</td>\n",
       "      <td>3.4</td>\n",
       "      <td>4.2</td>\n",
       "      <td>3.1</td>\n",
       "      <td>7.2</td>\n",
       "      <td>3.3</td>\n",
       "      <td>7.5</td>\n",
       "      <td>3.3</td>\n",
       "      <td>8.5</td>\n",
       "      <td>2.8</td>\n",
       "      <td>3.2</td>\n",
       "      <td>4.0</td>\n",
       "      <td>3.1</td>\n",
       "    </tr>\n",
       "    <tr>\n",
       "      <td>Cisco</td>\n",
       "      <td>6.2</td>\n",
       "      <td>3.7</td>\n",
       "      <td>5.8</td>\n",
       "      <td>3.7</td>\n",
       "      <td>4.1</td>\n",
       "      <td>3.0</td>\n",
       "      <td>9.0</td>\n",
       "      <td>3.3</td>\n",
       "      <td>3.5</td>\n",
       "      <td>3.6</td>\n",
       "      <td>5.2</td>\n",
       "      <td>12.7</td>\n",
       "      <td>2.9</td>\n",
       "      <td>5.5</td>\n",
       "      <td>4.6</td>\n",
       "      <td>10.1</td>\n",
       "      <td>2.9</td>\n",
       "      <td>2.7</td>\n",
       "      <td>4.5</td>\n",
       "      <td>3.0</td>\n",
       "    </tr>\n",
       "    <tr>\n",
       "      <td>Coca Cola</td>\n",
       "      <td>4.2</td>\n",
       "      <td>3.8</td>\n",
       "      <td>6.4</td>\n",
       "      <td>5.1</td>\n",
       "      <td>5.0</td>\n",
       "      <td>3.4</td>\n",
       "      <td>11.6</td>\n",
       "      <td>4.0</td>\n",
       "      <td>3.8</td>\n",
       "      <td>4.6</td>\n",
       "      <td>3.5</td>\n",
       "      <td>4.5</td>\n",
       "      <td>3.3</td>\n",
       "      <td>6.3</td>\n",
       "      <td>3.2</td>\n",
       "      <td>11.6</td>\n",
       "      <td>3.2</td>\n",
       "      <td>3.3</td>\n",
       "      <td>6.4</td>\n",
       "      <td>2.9</td>\n",
       "    </tr>\n",
       "    <tr>\n",
       "      <td>Comcast</td>\n",
       "      <td>4.3</td>\n",
       "      <td>3.3</td>\n",
       "      <td>5.6</td>\n",
       "      <td>7.4</td>\n",
       "      <td>3.6</td>\n",
       "      <td>3.8</td>\n",
       "      <td>11.7</td>\n",
       "      <td>4.0</td>\n",
       "      <td>3.7</td>\n",
       "      <td>4.0</td>\n",
       "      <td>3.8</td>\n",
       "      <td>4.0</td>\n",
       "      <td>3.2</td>\n",
       "      <td>5.1</td>\n",
       "      <td>2.9</td>\n",
       "      <td>12.1</td>\n",
       "      <td>3.1</td>\n",
       "      <td>7.3</td>\n",
       "      <td>4.5</td>\n",
       "      <td>2.5</td>\n",
       "    </tr>\n",
       "    <tr>\n",
       "      <td>Costco</td>\n",
       "      <td>2.7</td>\n",
       "      <td>2.7</td>\n",
       "      <td>5.2</td>\n",
       "      <td>7.8</td>\n",
       "      <td>3.6</td>\n",
       "      <td>5.1</td>\n",
       "      <td>17.7</td>\n",
       "      <td>3.7</td>\n",
       "      <td>3.8</td>\n",
       "      <td>3.6</td>\n",
       "      <td>2.5</td>\n",
       "      <td>2.7</td>\n",
       "      <td>2.7</td>\n",
       "      <td>6.5</td>\n",
       "      <td>2.5</td>\n",
       "      <td>13.8</td>\n",
       "      <td>3.3</td>\n",
       "      <td>3.4</td>\n",
       "      <td>4.3</td>\n",
       "      <td>2.5</td>\n",
       "    </tr>\n",
       "    <tr>\n",
       "      <td>Delta Airlines</td>\n",
       "      <td>4.0</td>\n",
       "      <td>3.4</td>\n",
       "      <td>4.6</td>\n",
       "      <td>5.3</td>\n",
       "      <td>3.5</td>\n",
       "      <td>5.0</td>\n",
       "      <td>10.4</td>\n",
       "      <td>3.6</td>\n",
       "      <td>3.7</td>\n",
       "      <td>3.8</td>\n",
       "      <td>3.6</td>\n",
       "      <td>3.6</td>\n",
       "      <td>2.9</td>\n",
       "      <td>5.5</td>\n",
       "      <td>2.9</td>\n",
       "      <td>15.2</td>\n",
       "      <td>6.3</td>\n",
       "      <td>3.8</td>\n",
       "      <td>6.3</td>\n",
       "      <td>2.8</td>\n",
       "    </tr>\n",
       "    <tr>\n",
       "      <td>Enterprise Products</td>\n",
       "      <td>4.6</td>\n",
       "      <td>2.5</td>\n",
       "      <td>5.1</td>\n",
       "      <td>6.4</td>\n",
       "      <td>3.5</td>\n",
       "      <td>3.5</td>\n",
       "      <td>17.0</td>\n",
       "      <td>4.6</td>\n",
       "      <td>2.7</td>\n",
       "      <td>4.2</td>\n",
       "      <td>3.1</td>\n",
       "      <td>4.8</td>\n",
       "      <td>3.1</td>\n",
       "      <td>6.0</td>\n",
       "      <td>2.9</td>\n",
       "      <td>11.4</td>\n",
       "      <td>3.8</td>\n",
       "      <td>1.8</td>\n",
       "      <td>5.9</td>\n",
       "      <td>3.3</td>\n",
       "    </tr>\n",
       "    <tr>\n",
       "      <td>Exelon</td>\n",
       "      <td>6.4</td>\n",
       "      <td>2.7</td>\n",
       "      <td>6.8</td>\n",
       "      <td>5.2</td>\n",
       "      <td>5.1</td>\n",
       "      <td>3.4</td>\n",
       "      <td>12.8</td>\n",
       "      <td>4.2</td>\n",
       "      <td>3.3</td>\n",
       "      <td>4.6</td>\n",
       "      <td>4.6</td>\n",
       "      <td>6.5</td>\n",
       "      <td>4.1</td>\n",
       "      <td>7.0</td>\n",
       "      <td>2.9</td>\n",
       "      <td>5.9</td>\n",
       "      <td>2.4</td>\n",
       "      <td>2.9</td>\n",
       "      <td>5.0</td>\n",
       "      <td>4.2</td>\n",
       "    </tr>\n",
       "    <tr>\n",
       "      <td>Exxon Mobil</td>\n",
       "      <td>6.0</td>\n",
       "      <td>3.4</td>\n",
       "      <td>7.5</td>\n",
       "      <td>3.8</td>\n",
       "      <td>5.9</td>\n",
       "      <td>3.8</td>\n",
       "      <td>10.0</td>\n",
       "      <td>4.3</td>\n",
       "      <td>3.2</td>\n",
       "      <td>4.8</td>\n",
       "      <td>4.6</td>\n",
       "      <td>5.6</td>\n",
       "      <td>3.8</td>\n",
       "      <td>6.2</td>\n",
       "      <td>5.2</td>\n",
       "      <td>7.9</td>\n",
       "      <td>2.8</td>\n",
       "      <td>2.8</td>\n",
       "      <td>4.9</td>\n",
       "      <td>3.6</td>\n",
       "    </tr>\n",
       "    <tr>\n",
       "      <td>Facebook</td>\n",
       "      <td>6.8</td>\n",
       "      <td>4.1</td>\n",
       "      <td>4.8</td>\n",
       "      <td>2.3</td>\n",
       "      <td>4.5</td>\n",
       "      <td>3.4</td>\n",
       "      <td>4.4</td>\n",
       "      <td>5.9</td>\n",
       "      <td>3.2</td>\n",
       "      <td>4.9</td>\n",
       "      <td>4.1</td>\n",
       "      <td>3.8</td>\n",
       "      <td>3.5</td>\n",
       "      <td>5.8</td>\n",
       "      <td>6.5</td>\n",
       "      <td>9.0</td>\n",
       "      <td>6.1</td>\n",
       "      <td>5.1</td>\n",
       "      <td>8.3</td>\n",
       "      <td>3.5</td>\n",
       "    </tr>\n",
       "    <tr>\n",
       "      <td>Fannie Mae</td>\n",
       "      <td>4.8</td>\n",
       "      <td>3.5</td>\n",
       "      <td>5.4</td>\n",
       "      <td>4.8</td>\n",
       "      <td>4.3</td>\n",
       "      <td>2.8</td>\n",
       "      <td>13.1</td>\n",
       "      <td>3.2</td>\n",
       "      <td>2.9</td>\n",
       "      <td>3.7</td>\n",
       "      <td>4.0</td>\n",
       "      <td>12.4</td>\n",
       "      <td>3.1</td>\n",
       "      <td>5.9</td>\n",
       "      <td>4.0</td>\n",
       "      <td>9.6</td>\n",
       "      <td>2.5</td>\n",
       "      <td>2.5</td>\n",
       "      <td>4.2</td>\n",
       "      <td>3.4</td>\n",
       "    </tr>\n",
       "    <tr>\n",
       "      <td>Fedex</td>\n",
       "      <td>3.8</td>\n",
       "      <td>3.4</td>\n",
       "      <td>4.9</td>\n",
       "      <td>6.3</td>\n",
       "      <td>4.1</td>\n",
       "      <td>3.7</td>\n",
       "      <td>15.0</td>\n",
       "      <td>4.9</td>\n",
       "      <td>4.7</td>\n",
       "      <td>4.2</td>\n",
       "      <td>2.7</td>\n",
       "      <td>4.9</td>\n",
       "      <td>3.5</td>\n",
       "      <td>6.4</td>\n",
       "      <td>3.0</td>\n",
       "      <td>10.5</td>\n",
       "      <td>3.3</td>\n",
       "      <td>2.9</td>\n",
       "      <td>4.7</td>\n",
       "      <td>2.8</td>\n",
       "    </tr>\n",
       "    <tr>\n",
       "      <td>Ford</td>\n",
       "      <td>4.8</td>\n",
       "      <td>3.6</td>\n",
       "      <td>6.1</td>\n",
       "      <td>4.2</td>\n",
       "      <td>5.0</td>\n",
       "      <td>3.7</td>\n",
       "      <td>12.2</td>\n",
       "      <td>4.4</td>\n",
       "      <td>3.4</td>\n",
       "      <td>3.7</td>\n",
       "      <td>3.7</td>\n",
       "      <td>6.9</td>\n",
       "      <td>3.4</td>\n",
       "      <td>8.0</td>\n",
       "      <td>4.1</td>\n",
       "      <td>9.5</td>\n",
       "      <td>2.9</td>\n",
       "      <td>2.3</td>\n",
       "      <td>5.4</td>\n",
       "      <td>2.7</td>\n",
       "    </tr>\n",
       "    <tr>\n",
       "      <td>General Dynamics</td>\n",
       "      <td>5.3</td>\n",
       "      <td>3.4</td>\n",
       "      <td>6.7</td>\n",
       "      <td>5.0</td>\n",
       "      <td>4.9</td>\n",
       "      <td>4.3</td>\n",
       "      <td>13.5</td>\n",
       "      <td>4.1</td>\n",
       "      <td>4.2</td>\n",
       "      <td>5.1</td>\n",
       "      <td>3.1</td>\n",
       "      <td>3.8</td>\n",
       "      <td>3.6</td>\n",
       "      <td>6.5</td>\n",
       "      <td>3.8</td>\n",
       "      <td>7.8</td>\n",
       "      <td>3.0</td>\n",
       "      <td>3.1</td>\n",
       "      <td>5.1</td>\n",
       "      <td>3.7</td>\n",
       "    </tr>\n",
       "    <tr>\n",
       "      <td>General Electric</td>\n",
       "      <td>8.6</td>\n",
       "      <td>3.7</td>\n",
       "      <td>10.2</td>\n",
       "      <td>2.7</td>\n",
       "      <td>6.2</td>\n",
       "      <td>3.1</td>\n",
       "      <td>7.8</td>\n",
       "      <td>4.3</td>\n",
       "      <td>3.2</td>\n",
       "      <td>4.1</td>\n",
       "      <td>4.7</td>\n",
       "      <td>5.9</td>\n",
       "      <td>3.2</td>\n",
       "      <td>6.4</td>\n",
       "      <td>4.9</td>\n",
       "      <td>7.7</td>\n",
       "      <td>2.4</td>\n",
       "      <td>2.7</td>\n",
       "      <td>5.4</td>\n",
       "      <td>2.8</td>\n",
       "    </tr>\n",
       "    <tr>\n",
       "      <td>General Motors</td>\n",
       "      <td>4.7</td>\n",
       "      <td>3.2</td>\n",
       "      <td>6.3</td>\n",
       "      <td>8.4</td>\n",
       "      <td>3.9</td>\n",
       "      <td>3.1</td>\n",
       "      <td>13.4</td>\n",
       "      <td>3.5</td>\n",
       "      <td>3.1</td>\n",
       "      <td>3.8</td>\n",
       "      <td>3.5</td>\n",
       "      <td>7.2</td>\n",
       "      <td>2.8</td>\n",
       "      <td>6.7</td>\n",
       "      <td>4.0</td>\n",
       "      <td>9.5</td>\n",
       "      <td>2.9</td>\n",
       "      <td>2.9</td>\n",
       "      <td>4.1</td>\n",
       "      <td>3.0</td>\n",
       "    </tr>\n",
       "    <tr>\n",
       "      <td>Goldman Sachs</td>\n",
       "      <td>6.3</td>\n",
       "      <td>4.5</td>\n",
       "      <td>6.4</td>\n",
       "      <td>2.5</td>\n",
       "      <td>6.3</td>\n",
       "      <td>3.0</td>\n",
       "      <td>6.9</td>\n",
       "      <td>5.3</td>\n",
       "      <td>3.0</td>\n",
       "      <td>4.8</td>\n",
       "      <td>4.5</td>\n",
       "      <td>4.2</td>\n",
       "      <td>3.7</td>\n",
       "      <td>6.6</td>\n",
       "      <td>8.8</td>\n",
       "      <td>9.8</td>\n",
       "      <td>2.8</td>\n",
       "      <td>2.3</td>\n",
       "      <td>5.5</td>\n",
       "      <td>2.9</td>\n",
       "    </tr>\n",
       "    <tr>\n",
       "      <td>Google</td>\n",
       "      <td>4.5</td>\n",
       "      <td>4.6</td>\n",
       "      <td>5.0</td>\n",
       "      <td>2.2</td>\n",
       "      <td>4.6</td>\n",
       "      <td>3.2</td>\n",
       "      <td>6.4</td>\n",
       "      <td>3.9</td>\n",
       "      <td>3.3</td>\n",
       "      <td>4.4</td>\n",
       "      <td>4.2</td>\n",
       "      <td>5.1</td>\n",
       "      <td>2.8</td>\n",
       "      <td>7.7</td>\n",
       "      <td>7.0</td>\n",
       "      <td>11.2</td>\n",
       "      <td>5.6</td>\n",
       "      <td>5.5</td>\n",
       "      <td>6.0</td>\n",
       "      <td>3.0</td>\n",
       "    </tr>\n",
       "    <tr>\n",
       "      <td>HCA Healthcare</td>\n",
       "      <td>5.8</td>\n",
       "      <td>3.3</td>\n",
       "      <td>8.3</td>\n",
       "      <td>5.2</td>\n",
       "      <td>3.9</td>\n",
       "      <td>4.6</td>\n",
       "      <td>11.7</td>\n",
       "      <td>3.7</td>\n",
       "      <td>3.5</td>\n",
       "      <td>4.3</td>\n",
       "      <td>3.5</td>\n",
       "      <td>4.8</td>\n",
       "      <td>3.6</td>\n",
       "      <td>8.2</td>\n",
       "      <td>3.8</td>\n",
       "      <td>9.1</td>\n",
       "      <td>2.6</td>\n",
       "      <td>3.1</td>\n",
       "      <td>4.2</td>\n",
       "      <td>3.0</td>\n",
       "    </tr>\n",
       "    <tr>\n",
       "      <td>HP</td>\n",
       "      <td>6.1</td>\n",
       "      <td>4.2</td>\n",
       "      <td>5.8</td>\n",
       "      <td>2.6</td>\n",
       "      <td>5.0</td>\n",
       "      <td>3.5</td>\n",
       "      <td>8.9</td>\n",
       "      <td>3.3</td>\n",
       "      <td>3.4</td>\n",
       "      <td>4.2</td>\n",
       "      <td>4.2</td>\n",
       "      <td>10.9</td>\n",
       "      <td>3.0</td>\n",
       "      <td>10.1</td>\n",
       "      <td>4.1</td>\n",
       "      <td>7.3</td>\n",
       "      <td>2.6</td>\n",
       "      <td>3.2</td>\n",
       "      <td>4.9</td>\n",
       "      <td>2.8</td>\n",
       "    </tr>\n",
       "    <tr>\n",
       "      <td>Home Depot</td>\n",
       "      <td>4.3</td>\n",
       "      <td>3.7</td>\n",
       "      <td>5.3</td>\n",
       "      <td>5.6</td>\n",
       "      <td>5.4</td>\n",
       "      <td>4.2</td>\n",
       "      <td>11.5</td>\n",
       "      <td>4.7</td>\n",
       "      <td>6.1</td>\n",
       "      <td>4.6</td>\n",
       "      <td>2.5</td>\n",
       "      <td>2.7</td>\n",
       "      <td>3.4</td>\n",
       "      <td>8.6</td>\n",
       "      <td>3.5</td>\n",
       "      <td>8.1</td>\n",
       "      <td>3.1</td>\n",
       "      <td>3.7</td>\n",
       "      <td>6.0</td>\n",
       "      <td>3.1</td>\n",
       "    </tr>\n",
       "    <tr>\n",
       "      <td>Humana</td>\n",
       "      <td>5.4</td>\n",
       "      <td>3.1</td>\n",
       "      <td>6.5</td>\n",
       "      <td>8.8</td>\n",
       "      <td>3.4</td>\n",
       "      <td>3.5</td>\n",
       "      <td>12.8</td>\n",
       "      <td>3.4</td>\n",
       "      <td>3.7</td>\n",
       "      <td>4.3</td>\n",
       "      <td>3.0</td>\n",
       "      <td>6.4</td>\n",
       "      <td>3.3</td>\n",
       "      <td>5.9</td>\n",
       "      <td>2.8</td>\n",
       "      <td>10.7</td>\n",
       "      <td>2.9</td>\n",
       "      <td>3.2</td>\n",
       "      <td>3.7</td>\n",
       "      <td>3.3</td>\n",
       "    </tr>\n",
       "    <tr>\n",
       "      <td>Intel</td>\n",
       "      <td>4.0</td>\n",
       "      <td>4.5</td>\n",
       "      <td>6.2</td>\n",
       "      <td>4.6</td>\n",
       "      <td>5.0</td>\n",
       "      <td>3.1</td>\n",
       "      <td>10.2</td>\n",
       "      <td>3.6</td>\n",
       "      <td>2.9</td>\n",
       "      <td>3.6</td>\n",
       "      <td>4.9</td>\n",
       "      <td>10.5</td>\n",
       "      <td>3.1</td>\n",
       "      <td>6.7</td>\n",
       "      <td>4.4</td>\n",
       "      <td>9.8</td>\n",
       "      <td>2.8</td>\n",
       "      <td>3.2</td>\n",
       "      <td>4.2</td>\n",
       "      <td>2.7</td>\n",
       "    </tr>\n",
       "    <tr>\n",
       "      <td>JP Morgan</td>\n",
       "      <td>5.8</td>\n",
       "      <td>3.6</td>\n",
       "      <td>8.3</td>\n",
       "      <td>5.0</td>\n",
       "      <td>5.6</td>\n",
       "      <td>3.3</td>\n",
       "      <td>9.7</td>\n",
       "      <td>3.5</td>\n",
       "      <td>3.2</td>\n",
       "      <td>4.3</td>\n",
       "      <td>4.6</td>\n",
       "      <td>6.9</td>\n",
       "      <td>3.1</td>\n",
       "      <td>7.1</td>\n",
       "      <td>4.1</td>\n",
       "      <td>8.9</td>\n",
       "      <td>2.6</td>\n",
       "      <td>3.0</td>\n",
       "      <td>4.7</td>\n",
       "      <td>2.7</td>\n",
       "    </tr>\n",
       "    <tr>\n",
       "      <td>John Deere</td>\n",
       "      <td>6.3</td>\n",
       "      <td>3.4</td>\n",
       "      <td>7.5</td>\n",
       "      <td>4.3</td>\n",
       "      <td>5.1</td>\n",
       "      <td>4.0</td>\n",
       "      <td>10.5</td>\n",
       "      <td>3.6</td>\n",
       "      <td>3.0</td>\n",
       "      <td>3.5</td>\n",
       "      <td>4.3</td>\n",
       "      <td>8.8</td>\n",
       "      <td>3.0</td>\n",
       "      <td>7.2</td>\n",
       "      <td>4.0</td>\n",
       "      <td>8.7</td>\n",
       "      <td>2.1</td>\n",
       "      <td>3.0</td>\n",
       "      <td>5.0</td>\n",
       "      <td>2.6</td>\n",
       "    </tr>\n",
       "    <tr>\n",
       "      <td>Kroger</td>\n",
       "      <td>3.6</td>\n",
       "      <td>3.6</td>\n",
       "      <td>4.1</td>\n",
       "      <td>5.9</td>\n",
       "      <td>5.1</td>\n",
       "      <td>4.0</td>\n",
       "      <td>12.6</td>\n",
       "      <td>4.9</td>\n",
       "      <td>7.6</td>\n",
       "      <td>5.7</td>\n",
       "      <td>2.2</td>\n",
       "      <td>2.7</td>\n",
       "      <td>3.4</td>\n",
       "      <td>8.4</td>\n",
       "      <td>3.0</td>\n",
       "      <td>6.8</td>\n",
       "      <td>3.0</td>\n",
       "      <td>4.9</td>\n",
       "      <td>5.5</td>\n",
       "      <td>3.0</td>\n",
       "    </tr>\n",
       "    <tr>\n",
       "      <td>Liberty Mutual</td>\n",
       "      <td>5.5</td>\n",
       "      <td>3.0</td>\n",
       "      <td>5.6</td>\n",
       "      <td>6.5</td>\n",
       "      <td>3.8</td>\n",
       "      <td>4.6</td>\n",
       "      <td>13.4</td>\n",
       "      <td>3.6</td>\n",
       "      <td>2.9</td>\n",
       "      <td>3.8</td>\n",
       "      <td>2.3</td>\n",
       "      <td>8.9</td>\n",
       "      <td>2.8</td>\n",
       "      <td>6.2</td>\n",
       "      <td>3.0</td>\n",
       "      <td>10.9</td>\n",
       "      <td>2.1</td>\n",
       "      <td>3.0</td>\n",
       "      <td>4.4</td>\n",
       "      <td>3.7</td>\n",
       "    </tr>\n",
       "    <tr>\n",
       "      <td>Lockheed Martin</td>\n",
       "      <td>5.5</td>\n",
       "      <td>3.7</td>\n",
       "      <td>8.1</td>\n",
       "      <td>5.6</td>\n",
       "      <td>4.8</td>\n",
       "      <td>3.0</td>\n",
       "      <td>13.6</td>\n",
       "      <td>3.8</td>\n",
       "      <td>3.5</td>\n",
       "      <td>4.4</td>\n",
       "      <td>3.9</td>\n",
       "      <td>5.6</td>\n",
       "      <td>3.3</td>\n",
       "      <td>5.5</td>\n",
       "      <td>4.4</td>\n",
       "      <td>8.4</td>\n",
       "      <td>3.1</td>\n",
       "      <td>2.5</td>\n",
       "      <td>4.8</td>\n",
       "      <td>2.8</td>\n",
       "    </tr>\n",
       "    <tr>\n",
       "      <td>Lowe's</td>\n",
       "      <td>3.2</td>\n",
       "      <td>3.2</td>\n",
       "      <td>4.3</td>\n",
       "      <td>5.9</td>\n",
       "      <td>4.7</td>\n",
       "      <td>3.7</td>\n",
       "      <td>16.0</td>\n",
       "      <td>4.8</td>\n",
       "      <td>6.1</td>\n",
       "      <td>4.6</td>\n",
       "      <td>2.2</td>\n",
       "      <td>2.5</td>\n",
       "      <td>3.7</td>\n",
       "      <td>8.1</td>\n",
       "      <td>3.8</td>\n",
       "      <td>8.2</td>\n",
       "      <td>3.2</td>\n",
       "      <td>3.5</td>\n",
       "      <td>5.1</td>\n",
       "      <td>3.2</td>\n",
       "    </tr>\n",
       "    <tr>\n",
       "      <td>McKesson</td>\n",
       "      <td>5.3</td>\n",
       "      <td>3.0</td>\n",
       "      <td>7.6</td>\n",
       "      <td>6.3</td>\n",
       "      <td>3.5</td>\n",
       "      <td>3.4</td>\n",
       "      <td>12.6</td>\n",
       "      <td>3.4</td>\n",
       "      <td>3.7</td>\n",
       "      <td>4.4</td>\n",
       "      <td>3.6</td>\n",
       "      <td>6.0</td>\n",
       "      <td>2.7</td>\n",
       "      <td>7.4</td>\n",
       "      <td>3.6</td>\n",
       "      <td>9.6</td>\n",
       "      <td>2.9</td>\n",
       "      <td>3.4</td>\n",
       "      <td>4.3</td>\n",
       "      <td>3.2</td>\n",
       "    </tr>\n",
       "    <tr>\n",
       "      <td>Merck</td>\n",
       "      <td>5.9</td>\n",
       "      <td>3.2</td>\n",
       "      <td>6.7</td>\n",
       "      <td>4.0</td>\n",
       "      <td>4.5</td>\n",
       "      <td>3.9</td>\n",
       "      <td>12.2</td>\n",
       "      <td>3.4</td>\n",
       "      <td>3.2</td>\n",
       "      <td>3.9</td>\n",
       "      <td>4.7</td>\n",
       "      <td>7.1</td>\n",
       "      <td>3.2</td>\n",
       "      <td>6.4</td>\n",
       "      <td>5.2</td>\n",
       "      <td>9.6</td>\n",
       "      <td>2.8</td>\n",
       "      <td>2.5</td>\n",
       "      <td>4.5</td>\n",
       "      <td>3.1</td>\n",
       "    </tr>\n",
       "    <tr>\n",
       "      <td>Microsoft</td>\n",
       "      <td>5.6</td>\n",
       "      <td>4.1</td>\n",
       "      <td>7.2</td>\n",
       "      <td>3.0</td>\n",
       "      <td>5.0</td>\n",
       "      <td>2.7</td>\n",
       "      <td>7.9</td>\n",
       "      <td>3.8</td>\n",
       "      <td>3.2</td>\n",
       "      <td>4.3</td>\n",
       "      <td>5.6</td>\n",
       "      <td>7.7</td>\n",
       "      <td>2.9</td>\n",
       "      <td>6.2</td>\n",
       "      <td>6.6</td>\n",
       "      <td>9.4</td>\n",
       "      <td>3.0</td>\n",
       "      <td>2.8</td>\n",
       "      <td>5.7</td>\n",
       "      <td>3.4</td>\n",
       "    </tr>\n",
       "    <tr>\n",
       "      <td>Morgan Stanley</td>\n",
       "      <td>6.7</td>\n",
       "      <td>3.9</td>\n",
       "      <td>6.7</td>\n",
       "      <td>2.9</td>\n",
       "      <td>6.5</td>\n",
       "      <td>2.8</td>\n",
       "      <td>7.2</td>\n",
       "      <td>3.8</td>\n",
       "      <td>3.0</td>\n",
       "      <td>4.5</td>\n",
       "      <td>4.3</td>\n",
       "      <td>6.6</td>\n",
       "      <td>3.5</td>\n",
       "      <td>8.7</td>\n",
       "      <td>5.6</td>\n",
       "      <td>10.8</td>\n",
       "      <td>2.5</td>\n",
       "      <td>2.6</td>\n",
       "      <td>4.4</td>\n",
       "      <td>3.1</td>\n",
       "    </tr>\n",
       "    <tr>\n",
       "      <td>Nationwide</td>\n",
       "      <td>6.2</td>\n",
       "      <td>3.4</td>\n",
       "      <td>7.7</td>\n",
       "      <td>4.9</td>\n",
       "      <td>3.7</td>\n",
       "      <td>4.2</td>\n",
       "      <td>10.4</td>\n",
       "      <td>3.0</td>\n",
       "      <td>3.2</td>\n",
       "      <td>4.0</td>\n",
       "      <td>3.0</td>\n",
       "      <td>7.6</td>\n",
       "      <td>3.3</td>\n",
       "      <td>8.9</td>\n",
       "      <td>3.1</td>\n",
       "      <td>11.0</td>\n",
       "      <td>2.3</td>\n",
       "      <td>3.1</td>\n",
       "      <td>4.3</td>\n",
       "      <td>2.8</td>\n",
       "    </tr>\n",
       "    <tr>\n",
       "      <td>New York Life Insurance</td>\n",
       "      <td>8.7</td>\n",
       "      <td>3.1</td>\n",
       "      <td>5.8</td>\n",
       "      <td>3.8</td>\n",
       "      <td>4.6</td>\n",
       "      <td>3.0</td>\n",
       "      <td>9.3</td>\n",
       "      <td>5.4</td>\n",
       "      <td>3.6</td>\n",
       "      <td>4.1</td>\n",
       "      <td>4.5</td>\n",
       "      <td>5.6</td>\n",
       "      <td>5.2</td>\n",
       "      <td>7.5</td>\n",
       "      <td>3.0</td>\n",
       "      <td>9.4</td>\n",
       "      <td>2.2</td>\n",
       "      <td>3.4</td>\n",
       "      <td>5.2</td>\n",
       "      <td>2.6</td>\n",
       "    </tr>\n",
       "    <tr>\n",
       "      <td>Nike</td>\n",
       "      <td>3.7</td>\n",
       "      <td>3.9</td>\n",
       "      <td>4.2</td>\n",
       "      <td>3.3</td>\n",
       "      <td>3.8</td>\n",
       "      <td>3.2</td>\n",
       "      <td>7.1</td>\n",
       "      <td>3.6</td>\n",
       "      <td>5.9</td>\n",
       "      <td>3.7</td>\n",
       "      <td>3.6</td>\n",
       "      <td>3.4</td>\n",
       "      <td>3.3</td>\n",
       "      <td>9.2</td>\n",
       "      <td>3.7</td>\n",
       "      <td>12.4</td>\n",
       "      <td>3.7</td>\n",
       "      <td>9.0</td>\n",
       "      <td>6.2</td>\n",
       "      <td>3.1</td>\n",
       "    </tr>\n",
       "    <tr>\n",
       "      <td>PepsiCo</td>\n",
       "      <td>4.1</td>\n",
       "      <td>3.4</td>\n",
       "      <td>6.8</td>\n",
       "      <td>4.6</td>\n",
       "      <td>4.7</td>\n",
       "      <td>3.3</td>\n",
       "      <td>15.6</td>\n",
       "      <td>5.3</td>\n",
       "      <td>3.4</td>\n",
       "      <td>4.3</td>\n",
       "      <td>3.2</td>\n",
       "      <td>4.9</td>\n",
       "      <td>3.4</td>\n",
       "      <td>5.6</td>\n",
       "      <td>3.6</td>\n",
       "      <td>10.6</td>\n",
       "      <td>2.8</td>\n",
       "      <td>3.1</td>\n",
       "      <td>4.3</td>\n",
       "      <td>3.0</td>\n",
       "    </tr>\n",
       "    <tr>\n",
       "      <td>Pfizer</td>\n",
       "      <td>6.2</td>\n",
       "      <td>3.3</td>\n",
       "      <td>7.2</td>\n",
       "      <td>4.0</td>\n",
       "      <td>5.0</td>\n",
       "      <td>3.2</td>\n",
       "      <td>11.0</td>\n",
       "      <td>3.3</td>\n",
       "      <td>2.7</td>\n",
       "      <td>3.7</td>\n",
       "      <td>4.6</td>\n",
       "      <td>7.0</td>\n",
       "      <td>3.3</td>\n",
       "      <td>7.0</td>\n",
       "      <td>4.7</td>\n",
       "      <td>10.9</td>\n",
       "      <td>2.9</td>\n",
       "      <td>2.5</td>\n",
       "      <td>4.7</td>\n",
       "      <td>3.0</td>\n",
       "    </tr>\n",
       "    <tr>\n",
       "      <td>Phillips 66</td>\n",
       "      <td>5.3</td>\n",
       "      <td>2.8</td>\n",
       "      <td>5.7</td>\n",
       "      <td>6.4</td>\n",
       "      <td>3.9</td>\n",
       "      <td>3.7</td>\n",
       "      <td>13.3</td>\n",
       "      <td>3.8</td>\n",
       "      <td>2.9</td>\n",
       "      <td>4.0</td>\n",
       "      <td>2.8</td>\n",
       "      <td>6.5</td>\n",
       "      <td>2.7</td>\n",
       "      <td>7.0</td>\n",
       "      <td>4.0</td>\n",
       "      <td>11.0</td>\n",
       "      <td>2.5</td>\n",
       "      <td>2.7</td>\n",
       "      <td>5.6</td>\n",
       "      <td>3.2</td>\n",
       "    </tr>\n",
       "    <tr>\n",
       "      <td>Proctor &amp; Gamble</td>\n",
       "      <td>8.4</td>\n",
       "      <td>3.5</td>\n",
       "      <td>8.6</td>\n",
       "      <td>3.1</td>\n",
       "      <td>5.1</td>\n",
       "      <td>3.7</td>\n",
       "      <td>9.6</td>\n",
       "      <td>3.5</td>\n",
       "      <td>3.0</td>\n",
       "      <td>4.2</td>\n",
       "      <td>4.5</td>\n",
       "      <td>5.4</td>\n",
       "      <td>2.9</td>\n",
       "      <td>5.3</td>\n",
       "      <td>4.9</td>\n",
       "      <td>11.1</td>\n",
       "      <td>3.2</td>\n",
       "      <td>2.1</td>\n",
       "      <td>5.0</td>\n",
       "      <td>2.8</td>\n",
       "    </tr>\n",
       "    <tr>\n",
       "      <td>Progressive</td>\n",
       "      <td>5.5</td>\n",
       "      <td>2.9</td>\n",
       "      <td>6.1</td>\n",
       "      <td>6.7</td>\n",
       "      <td>4.3</td>\n",
       "      <td>4.1</td>\n",
       "      <td>12.6</td>\n",
       "      <td>3.6</td>\n",
       "      <td>3.1</td>\n",
       "      <td>3.8</td>\n",
       "      <td>3.0</td>\n",
       "      <td>5.6</td>\n",
       "      <td>3.2</td>\n",
       "      <td>8.5</td>\n",
       "      <td>3.1</td>\n",
       "      <td>10.1</td>\n",
       "      <td>2.9</td>\n",
       "      <td>3.2</td>\n",
       "      <td>4.7</td>\n",
       "      <td>3.1</td>\n",
       "    </tr>\n",
       "    <tr>\n",
       "      <td>Prudential</td>\n",
       "      <td>7.5</td>\n",
       "      <td>3.1</td>\n",
       "      <td>7.4</td>\n",
       "      <td>4.3</td>\n",
       "      <td>4.0</td>\n",
       "      <td>3.1</td>\n",
       "      <td>10.2</td>\n",
       "      <td>3.8</td>\n",
       "      <td>2.7</td>\n",
       "      <td>5.4</td>\n",
       "      <td>4.3</td>\n",
       "      <td>8.7</td>\n",
       "      <td>3.4</td>\n",
       "      <td>6.5</td>\n",
       "      <td>3.1</td>\n",
       "      <td>8.2</td>\n",
       "      <td>2.3</td>\n",
       "      <td>3.8</td>\n",
       "      <td>4.9</td>\n",
       "      <td>3.3</td>\n",
       "    </tr>\n",
       "    <tr>\n",
       "      <td>Publix</td>\n",
       "      <td>3.2</td>\n",
       "      <td>3.1</td>\n",
       "      <td>5.6</td>\n",
       "      <td>7.5</td>\n",
       "      <td>4.1</td>\n",
       "      <td>4.4</td>\n",
       "      <td>15.9</td>\n",
       "      <td>4.1</td>\n",
       "      <td>5.8</td>\n",
       "      <td>3.8</td>\n",
       "      <td>2.1</td>\n",
       "      <td>2.8</td>\n",
       "      <td>3.2</td>\n",
       "      <td>7.8</td>\n",
       "      <td>3.0</td>\n",
       "      <td>9.9</td>\n",
       "      <td>3.1</td>\n",
       "      <td>3.5</td>\n",
       "      <td>4.6</td>\n",
       "      <td>2.5</td>\n",
       "    </tr>\n",
       "    <tr>\n",
       "      <td>Sysco</td>\n",
       "      <td>5.0</td>\n",
       "      <td>3.6</td>\n",
       "      <td>5.9</td>\n",
       "      <td>5.0</td>\n",
       "      <td>4.7</td>\n",
       "      <td>3.3</td>\n",
       "      <td>13.2</td>\n",
       "      <td>5.0</td>\n",
       "      <td>4.3</td>\n",
       "      <td>4.7</td>\n",
       "      <td>4.6</td>\n",
       "      <td>4.0</td>\n",
       "      <td>4.1</td>\n",
       "      <td>5.5</td>\n",
       "      <td>2.7</td>\n",
       "      <td>9.1</td>\n",
       "      <td>2.9</td>\n",
       "      <td>4.3</td>\n",
       "      <td>4.9</td>\n",
       "      <td>3.2</td>\n",
       "    </tr>\n",
       "    <tr>\n",
       "      <td>Tech Data</td>\n",
       "      <td>6.6</td>\n",
       "      <td>5.3</td>\n",
       "      <td>7.6</td>\n",
       "      <td>3.4</td>\n",
       "      <td>6.1</td>\n",
       "      <td>3.7</td>\n",
       "      <td>8.2</td>\n",
       "      <td>3.9</td>\n",
       "      <td>3.4</td>\n",
       "      <td>4.5</td>\n",
       "      <td>4.1</td>\n",
       "      <td>3.6</td>\n",
       "      <td>3.6</td>\n",
       "      <td>8.8</td>\n",
       "      <td>3.5</td>\n",
       "      <td>8.6</td>\n",
       "      <td>3.1</td>\n",
       "      <td>4.4</td>\n",
       "      <td>4.6</td>\n",
       "      <td>2.8</td>\n",
       "    </tr>\n",
       "    <tr>\n",
       "      <td>UPS</td>\n",
       "      <td>3.8</td>\n",
       "      <td>3.5</td>\n",
       "      <td>4.5</td>\n",
       "      <td>7.7</td>\n",
       "      <td>5.2</td>\n",
       "      <td>3.5</td>\n",
       "      <td>17.6</td>\n",
       "      <td>5.6</td>\n",
       "      <td>5.0</td>\n",
       "      <td>4.7</td>\n",
       "      <td>2.2</td>\n",
       "      <td>3.1</td>\n",
       "      <td>3.2</td>\n",
       "      <td>5.0</td>\n",
       "      <td>3.2</td>\n",
       "      <td>9.4</td>\n",
       "      <td>3.1</td>\n",
       "      <td>2.7</td>\n",
       "      <td>4.4</td>\n",
       "      <td>2.7</td>\n",
       "    </tr>\n",
       "    <tr>\n",
       "      <td>United Technologies</td>\n",
       "      <td>7.3</td>\n",
       "      <td>3.7</td>\n",
       "      <td>8.5</td>\n",
       "      <td>4.4</td>\n",
       "      <td>4.7</td>\n",
       "      <td>3.3</td>\n",
       "      <td>9.6</td>\n",
       "      <td>3.5</td>\n",
       "      <td>3.3</td>\n",
       "      <td>4.0</td>\n",
       "      <td>5.3</td>\n",
       "      <td>6.3</td>\n",
       "      <td>3.6</td>\n",
       "      <td>7.4</td>\n",
       "      <td>4.3</td>\n",
       "      <td>7.2</td>\n",
       "      <td>2.0</td>\n",
       "      <td>4.3</td>\n",
       "      <td>4.2</td>\n",
       "      <td>3.2</td>\n",
       "    </tr>\n",
       "    <tr>\n",
       "      <td>Verizon Wireless</td>\n",
       "      <td>4.5</td>\n",
       "      <td>3.0</td>\n",
       "      <td>5.8</td>\n",
       "      <td>6.8</td>\n",
       "      <td>3.8</td>\n",
       "      <td>3.3</td>\n",
       "      <td>15.3</td>\n",
       "      <td>4.0</td>\n",
       "      <td>3.5</td>\n",
       "      <td>3.8</td>\n",
       "      <td>3.8</td>\n",
       "      <td>5.2</td>\n",
       "      <td>3.2</td>\n",
       "      <td>4.6</td>\n",
       "      <td>2.9</td>\n",
       "      <td>12.7</td>\n",
       "      <td>2.6</td>\n",
       "      <td>4.3</td>\n",
       "      <td>4.2</td>\n",
       "      <td>2.7</td>\n",
       "    </tr>\n",
       "    <tr>\n",
       "      <td>Walgreens</td>\n",
       "      <td>4.1</td>\n",
       "      <td>3.5</td>\n",
       "      <td>5.0</td>\n",
       "      <td>5.1</td>\n",
       "      <td>5.6</td>\n",
       "      <td>3.6</td>\n",
       "      <td>12.3</td>\n",
       "      <td>4.9</td>\n",
       "      <td>6.5</td>\n",
       "      <td>5.5</td>\n",
       "      <td>2.7</td>\n",
       "      <td>3.0</td>\n",
       "      <td>3.9</td>\n",
       "      <td>7.7</td>\n",
       "      <td>3.0</td>\n",
       "      <td>6.5</td>\n",
       "      <td>2.9</td>\n",
       "      <td>5.3</td>\n",
       "      <td>5.7</td>\n",
       "      <td>3.3</td>\n",
       "    </tr>\n",
       "    <tr>\n",
       "      <td>Walmart</td>\n",
       "      <td>3.0</td>\n",
       "      <td>3.6</td>\n",
       "      <td>5.2</td>\n",
       "      <td>5.2</td>\n",
       "      <td>4.6</td>\n",
       "      <td>4.0</td>\n",
       "      <td>15.7</td>\n",
       "      <td>5.4</td>\n",
       "      <td>6.5</td>\n",
       "      <td>4.8</td>\n",
       "      <td>2.2</td>\n",
       "      <td>2.8</td>\n",
       "      <td>3.1</td>\n",
       "      <td>8.4</td>\n",
       "      <td>3.4</td>\n",
       "      <td>6.1</td>\n",
       "      <td>3.6</td>\n",
       "      <td>4.0</td>\n",
       "      <td>5.4</td>\n",
       "      <td>3.2</td>\n",
       "    </tr>\n",
       "    <tr>\n",
       "      <td>Walt Disney</td>\n",
       "      <td>4.5</td>\n",
       "      <td>4.2</td>\n",
       "      <td>5.4</td>\n",
       "      <td>3.8</td>\n",
       "      <td>4.4</td>\n",
       "      <td>3.5</td>\n",
       "      <td>6.8</td>\n",
       "      <td>3.4</td>\n",
       "      <td>5.5</td>\n",
       "      <td>4.7</td>\n",
       "      <td>2.9</td>\n",
       "      <td>3.2</td>\n",
       "      <td>3.2</td>\n",
       "      <td>8.1</td>\n",
       "      <td>3.8</td>\n",
       "      <td>11.5</td>\n",
       "      <td>5.1</td>\n",
       "      <td>6.8</td>\n",
       "      <td>6.1</td>\n",
       "      <td>3.0</td>\n",
       "    </tr>\n",
       "    <tr>\n",
       "      <td>Wells Fargo</td>\n",
       "      <td>5.1</td>\n",
       "      <td>3.4</td>\n",
       "      <td>8.1</td>\n",
       "      <td>7.0</td>\n",
       "      <td>4.5</td>\n",
       "      <td>3.2</td>\n",
       "      <td>11.3</td>\n",
       "      <td>3.8</td>\n",
       "      <td>4.9</td>\n",
       "      <td>4.4</td>\n",
       "      <td>3.3</td>\n",
       "      <td>5.5</td>\n",
       "      <td>3.9</td>\n",
       "      <td>6.2</td>\n",
       "      <td>2.9</td>\n",
       "      <td>9.5</td>\n",
       "      <td>2.5</td>\n",
       "      <td>3.0</td>\n",
       "      <td>4.6</td>\n",
       "      <td>2.8</td>\n",
       "    </tr>\n",
       "  </tbody>\n",
       "</table>\n",
       "</div>"
      ],
      "text/plain": [
       "                         topic_pros_0  topic_pros_1  topic_pros_2  \\\n",
       "company                                                             \n",
       "3M                                6.5           3.5           7.9   \n",
       "AIG                               5.0           3.9           6.6   \n",
       "AT&T                              4.6           3.4           6.3   \n",
       "AbbVie                            6.5           3.3           6.3   \n",
       "Albertsons                        3.9           3.7           4.4   \n",
       "Amazon                            5.2           3.8           6.2   \n",
       "American Airlines                 3.4           3.0           5.0   \n",
       "American Express                  5.9           3.1           6.9   \n",
       "AmerisourceBergen                 4.4           3.4           6.4   \n",
       "Apple                             4.5           3.2           3.7   \n",
       "Archer Daniels                    4.8           3.7           8.2   \n",
       "Bank of America                   4.9           3.5           8.0   \n",
       "Best Buy                          4.9           3.4           3.9   \n",
       "Boeing                            5.1           3.5           8.8   \n",
       "Booking.com                       5.0           3.8           5.2   \n",
       "CVS Health                        4.0           3.5           4.4   \n",
       "Cardinal Health                   5.7           3.4           7.6   \n",
       "Caterpillar                       4.9           4.0           8.7   \n",
       "Centene                           3.8           3.1           8.9   \n",
       "Chevron                           5.9           3.5           6.3   \n",
       "Cigna                             5.8           3.1           7.5   \n",
       "Cisco                             6.2           3.7           5.8   \n",
       "Coca Cola                         4.2           3.8           6.4   \n",
       "Comcast                           4.3           3.3           5.6   \n",
       "Costco                            2.7           2.7           5.2   \n",
       "Delta Airlines                    4.0           3.4           4.6   \n",
       "Enterprise Products               4.6           2.5           5.1   \n",
       "Exelon                            6.4           2.7           6.8   \n",
       "Exxon Mobil                       6.0           3.4           7.5   \n",
       "Facebook                          6.8           4.1           4.8   \n",
       "Fannie Mae                        4.8           3.5           5.4   \n",
       "Fedex                             3.8           3.4           4.9   \n",
       "Ford                              4.8           3.6           6.1   \n",
       "General Dynamics                  5.3           3.4           6.7   \n",
       "General Electric                  8.6           3.7          10.2   \n",
       "General Motors                    4.7           3.2           6.3   \n",
       "Goldman Sachs                     6.3           4.5           6.4   \n",
       "Google                            4.5           4.6           5.0   \n",
       "HCA Healthcare                    5.8           3.3           8.3   \n",
       "HP                                6.1           4.2           5.8   \n",
       "Home Depot                        4.3           3.7           5.3   \n",
       "Humana                            5.4           3.1           6.5   \n",
       "Intel                             4.0           4.5           6.2   \n",
       "JP Morgan                         5.8           3.6           8.3   \n",
       "John Deere                        6.3           3.4           7.5   \n",
       "Kroger                            3.6           3.6           4.1   \n",
       "Liberty Mutual                    5.5           3.0           5.6   \n",
       "Lockheed Martin                   5.5           3.7           8.1   \n",
       "Lowe's                            3.2           3.2           4.3   \n",
       "McKesson                          5.3           3.0           7.6   \n",
       "Merck                             5.9           3.2           6.7   \n",
       "Microsoft                         5.6           4.1           7.2   \n",
       "Morgan Stanley                    6.7           3.9           6.7   \n",
       "Nationwide                        6.2           3.4           7.7   \n",
       "New York Life Insurance           8.7           3.1           5.8   \n",
       "Nike                              3.7           3.9           4.2   \n",
       "PepsiCo                           4.1           3.4           6.8   \n",
       "Pfizer                            6.2           3.3           7.2   \n",
       "Phillips 66                       5.3           2.8           5.7   \n",
       "Proctor & Gamble                  8.4           3.5           8.6   \n",
       "Progressive                       5.5           2.9           6.1   \n",
       "Prudential                        7.5           3.1           7.4   \n",
       "Publix                            3.2           3.1           5.6   \n",
       "Sysco                             5.0           3.6           5.9   \n",
       "Tech Data                         6.6           5.3           7.6   \n",
       "UPS                               3.8           3.5           4.5   \n",
       "United Technologies               7.3           3.7           8.5   \n",
       "Verizon Wireless                  4.5           3.0           5.8   \n",
       "Walgreens                         4.1           3.5           5.0   \n",
       "Walmart                           3.0           3.6           5.2   \n",
       "Walt Disney                       4.5           4.2           5.4   \n",
       "Wells Fargo                       5.1           3.4           8.1   \n",
       "\n",
       "                         topic_pros_3  topic_pros_4  topic_pros_5  \\\n",
       "company                                                             \n",
       "3M                                3.8           5.2           3.5   \n",
       "AIG                               8.3           4.6           3.4   \n",
       "AT&T                              6.0           4.0           3.0   \n",
       "AbbVie                            4.8           4.2           4.0   \n",
       "Albertsons                        5.0           5.0           3.9   \n",
       "Amazon                            5.8           4.9           3.0   \n",
       "American Airlines                 6.5           4.5           3.2   \n",
       "American Express                  5.1           4.2           3.6   \n",
       "AmerisourceBergen                 6.6           4.0           4.0   \n",
       "Apple                             5.6           4.2           3.3   \n",
       "Archer Daniels                    4.1           6.6           3.5   \n",
       "Bank of America                   6.7           4.7           3.2   \n",
       "Best Buy                          3.9           5.7           2.9   \n",
       "Boeing                            6.0           4.3           3.2   \n",
       "Booking.com                       4.7           4.1           3.6   \n",
       "CVS Health                        4.5           5.1           3.0   \n",
       "Cardinal Health                   8.4           4.2           3.5   \n",
       "Caterpillar                       4.5           4.8           3.3   \n",
       "Centene                           7.9           3.7           3.5   \n",
       "Chevron                           4.6           3.9           3.9   \n",
       "Cigna                             6.6           3.9           3.7   \n",
       "Cisco                             3.7           4.1           3.0   \n",
       "Coca Cola                         5.1           5.0           3.4   \n",
       "Comcast                           7.4           3.6           3.8   \n",
       "Costco                            7.8           3.6           5.1   \n",
       "Delta Airlines                    5.3           3.5           5.0   \n",
       "Enterprise Products               6.4           3.5           3.5   \n",
       "Exelon                            5.2           5.1           3.4   \n",
       "Exxon Mobil                       3.8           5.9           3.8   \n",
       "Facebook                          2.3           4.5           3.4   \n",
       "Fannie Mae                        4.8           4.3           2.8   \n",
       "Fedex                             6.3           4.1           3.7   \n",
       "Ford                              4.2           5.0           3.7   \n",
       "General Dynamics                  5.0           4.9           4.3   \n",
       "General Electric                  2.7           6.2           3.1   \n",
       "General Motors                    8.4           3.9           3.1   \n",
       "Goldman Sachs                     2.5           6.3           3.0   \n",
       "Google                            2.2           4.6           3.2   \n",
       "HCA Healthcare                    5.2           3.9           4.6   \n",
       "HP                                2.6           5.0           3.5   \n",
       "Home Depot                        5.6           5.4           4.2   \n",
       "Humana                            8.8           3.4           3.5   \n",
       "Intel                             4.6           5.0           3.1   \n",
       "JP Morgan                         5.0           5.6           3.3   \n",
       "John Deere                        4.3           5.1           4.0   \n",
       "Kroger                            5.9           5.1           4.0   \n",
       "Liberty Mutual                    6.5           3.8           4.6   \n",
       "Lockheed Martin                   5.6           4.8           3.0   \n",
       "Lowe's                            5.9           4.7           3.7   \n",
       "McKesson                          6.3           3.5           3.4   \n",
       "Merck                             4.0           4.5           3.9   \n",
       "Microsoft                         3.0           5.0           2.7   \n",
       "Morgan Stanley                    2.9           6.5           2.8   \n",
       "Nationwide                        4.9           3.7           4.2   \n",
       "New York Life Insurance           3.8           4.6           3.0   \n",
       "Nike                              3.3           3.8           3.2   \n",
       "PepsiCo                           4.6           4.7           3.3   \n",
       "Pfizer                            4.0           5.0           3.2   \n",
       "Phillips 66                       6.4           3.9           3.7   \n",
       "Proctor & Gamble                  3.1           5.1           3.7   \n",
       "Progressive                       6.7           4.3           4.1   \n",
       "Prudential                        4.3           4.0           3.1   \n",
       "Publix                            7.5           4.1           4.4   \n",
       "Sysco                             5.0           4.7           3.3   \n",
       "Tech Data                         3.4           6.1           3.7   \n",
       "UPS                               7.7           5.2           3.5   \n",
       "United Technologies               4.4           4.7           3.3   \n",
       "Verizon Wireless                  6.8           3.8           3.3   \n",
       "Walgreens                         5.1           5.6           3.6   \n",
       "Walmart                           5.2           4.6           4.0   \n",
       "Walt Disney                       3.8           4.4           3.5   \n",
       "Wells Fargo                       7.0           4.5           3.2   \n",
       "\n",
       "                         topic_pros_6  topic_pros_7  topic_pros_8  \\\n",
       "company                                                             \n",
       "3M                                9.7           3.9           3.2   \n",
       "AIG                              10.9           3.4           3.2   \n",
       "AT&T                             17.5           3.8           4.6   \n",
       "AbbVie                            8.9           3.4           3.1   \n",
       "Albertsons                       14.4           4.9           7.4   \n",
       "Amazon                           12.9           5.9           5.0   \n",
       "American Airlines                11.1           3.6           4.1   \n",
       "American Express                  9.6           2.9           2.9   \n",
       "AmerisourceBergen                12.8           4.0           3.4   \n",
       "Apple                            11.7           3.7           4.5   \n",
       "Archer Daniels                   13.0           4.4           2.9   \n",
       "Bank of America                  12.1           3.5           3.4   \n",
       "Best Buy                         13.5           4.0           6.4   \n",
       "Boeing                           12.4           3.8           2.8   \n",
       "Booking.com                       7.0           3.8           4.0   \n",
       "CVS Health                       15.2           5.3           5.9   \n",
       "Cardinal Health                  11.2           3.6           3.8   \n",
       "Caterpillar                      13.1           3.4           2.7   \n",
       "Centene                          13.7           3.8           3.0   \n",
       "Chevron                          12.3           3.2           3.8   \n",
       "Cigna                            12.2           3.6           3.4   \n",
       "Cisco                             9.0           3.3           3.5   \n",
       "Coca Cola                        11.6           4.0           3.8   \n",
       "Comcast                          11.7           4.0           3.7   \n",
       "Costco                           17.7           3.7           3.8   \n",
       "Delta Airlines                   10.4           3.6           3.7   \n",
       "Enterprise Products              17.0           4.6           2.7   \n",
       "Exelon                           12.8           4.2           3.3   \n",
       "Exxon Mobil                      10.0           4.3           3.2   \n",
       "Facebook                          4.4           5.9           3.2   \n",
       "Fannie Mae                       13.1           3.2           2.9   \n",
       "Fedex                            15.0           4.9           4.7   \n",
       "Ford                             12.2           4.4           3.4   \n",
       "General Dynamics                 13.5           4.1           4.2   \n",
       "General Electric                  7.8           4.3           3.2   \n",
       "General Motors                   13.4           3.5           3.1   \n",
       "Goldman Sachs                     6.9           5.3           3.0   \n",
       "Google                            6.4           3.9           3.3   \n",
       "HCA Healthcare                   11.7           3.7           3.5   \n",
       "HP                                8.9           3.3           3.4   \n",
       "Home Depot                       11.5           4.7           6.1   \n",
       "Humana                           12.8           3.4           3.7   \n",
       "Intel                            10.2           3.6           2.9   \n",
       "JP Morgan                         9.7           3.5           3.2   \n",
       "John Deere                       10.5           3.6           3.0   \n",
       "Kroger                           12.6           4.9           7.6   \n",
       "Liberty Mutual                   13.4           3.6           2.9   \n",
       "Lockheed Martin                  13.6           3.8           3.5   \n",
       "Lowe's                           16.0           4.8           6.1   \n",
       "McKesson                         12.6           3.4           3.7   \n",
       "Merck                            12.2           3.4           3.2   \n",
       "Microsoft                         7.9           3.8           3.2   \n",
       "Morgan Stanley                    7.2           3.8           3.0   \n",
       "Nationwide                       10.4           3.0           3.2   \n",
       "New York Life Insurance           9.3           5.4           3.6   \n",
       "Nike                              7.1           3.6           5.9   \n",
       "PepsiCo                          15.6           5.3           3.4   \n",
       "Pfizer                           11.0           3.3           2.7   \n",
       "Phillips 66                      13.3           3.8           2.9   \n",
       "Proctor & Gamble                  9.6           3.5           3.0   \n",
       "Progressive                      12.6           3.6           3.1   \n",
       "Prudential                       10.2           3.8           2.7   \n",
       "Publix                           15.9           4.1           5.8   \n",
       "Sysco                            13.2           5.0           4.3   \n",
       "Tech Data                         8.2           3.9           3.4   \n",
       "UPS                              17.6           5.6           5.0   \n",
       "United Technologies               9.6           3.5           3.3   \n",
       "Verizon Wireless                 15.3           4.0           3.5   \n",
       "Walgreens                        12.3           4.9           6.5   \n",
       "Walmart                          15.7           5.4           6.5   \n",
       "Walt Disney                       6.8           3.4           5.5   \n",
       "Wells Fargo                      11.3           3.8           4.9   \n",
       "\n",
       "                         topic_pros_9  topic_pros_10  topic_pros_11  \\\n",
       "company                                                               \n",
       "3M                                3.8            5.4            5.7   \n",
       "AIG                               4.6            3.6            7.6   \n",
       "AT&T                              3.4            3.2            4.2   \n",
       "AbbVie                            3.7            5.1            8.0   \n",
       "Albertsons                        5.5            2.4            2.6   \n",
       "Amazon                            4.1            3.0            3.3   \n",
       "American Airlines                 4.5            3.2            4.2   \n",
       "American Express                  3.5            3.2           11.1   \n",
       "AmerisourceBergen                 4.7            3.4            4.0   \n",
       "Apple                             4.0            4.0            3.3   \n",
       "Archer Daniels                    4.4            3.3            4.4   \n",
       "Bank of America                   4.2            3.4            6.3   \n",
       "Best Buy                          3.7            3.3            2.5   \n",
       "Boeing                            4.2            4.5            6.4   \n",
       "Booking.com                       4.7            3.6            3.7   \n",
       "CVS Health                        6.0            2.5            3.6   \n",
       "Cardinal Health                   3.9            3.8            5.2   \n",
       "Caterpillar                       4.3            4.0            7.0   \n",
       "Centene                           4.5            3.3            4.2   \n",
       "Chevron                           3.6            2.7            9.1   \n",
       "Cigna                             4.2            3.1            7.2   \n",
       "Cisco                             3.6            5.2           12.7   \n",
       "Coca Cola                         4.6            3.5            4.5   \n",
       "Comcast                           4.0            3.8            4.0   \n",
       "Costco                            3.6            2.5            2.7   \n",
       "Delta Airlines                    3.8            3.6            3.6   \n",
       "Enterprise Products               4.2            3.1            4.8   \n",
       "Exelon                            4.6            4.6            6.5   \n",
       "Exxon Mobil                       4.8            4.6            5.6   \n",
       "Facebook                          4.9            4.1            3.8   \n",
       "Fannie Mae                        3.7            4.0           12.4   \n",
       "Fedex                             4.2            2.7            4.9   \n",
       "Ford                              3.7            3.7            6.9   \n",
       "General Dynamics                  5.1            3.1            3.8   \n",
       "General Electric                  4.1            4.7            5.9   \n",
       "General Motors                    3.8            3.5            7.2   \n",
       "Goldman Sachs                     4.8            4.5            4.2   \n",
       "Google                            4.4            4.2            5.1   \n",
       "HCA Healthcare                    4.3            3.5            4.8   \n",
       "HP                                4.2            4.2           10.9   \n",
       "Home Depot                        4.6            2.5            2.7   \n",
       "Humana                            4.3            3.0            6.4   \n",
       "Intel                             3.6            4.9           10.5   \n",
       "JP Morgan                         4.3            4.6            6.9   \n",
       "John Deere                        3.5            4.3            8.8   \n",
       "Kroger                            5.7            2.2            2.7   \n",
       "Liberty Mutual                    3.8            2.3            8.9   \n",
       "Lockheed Martin                   4.4            3.9            5.6   \n",
       "Lowe's                            4.6            2.2            2.5   \n",
       "McKesson                          4.4            3.6            6.0   \n",
       "Merck                             3.9            4.7            7.1   \n",
       "Microsoft                         4.3            5.6            7.7   \n",
       "Morgan Stanley                    4.5            4.3            6.6   \n",
       "Nationwide                        4.0            3.0            7.6   \n",
       "New York Life Insurance           4.1            4.5            5.6   \n",
       "Nike                              3.7            3.6            3.4   \n",
       "PepsiCo                           4.3            3.2            4.9   \n",
       "Pfizer                            3.7            4.6            7.0   \n",
       "Phillips 66                       4.0            2.8            6.5   \n",
       "Proctor & Gamble                  4.2            4.5            5.4   \n",
       "Progressive                       3.8            3.0            5.6   \n",
       "Prudential                        5.4            4.3            8.7   \n",
       "Publix                            3.8            2.1            2.8   \n",
       "Sysco                             4.7            4.6            4.0   \n",
       "Tech Data                         4.5            4.1            3.6   \n",
       "UPS                               4.7            2.2            3.1   \n",
       "United Technologies               4.0            5.3            6.3   \n",
       "Verizon Wireless                  3.8            3.8            5.2   \n",
       "Walgreens                         5.5            2.7            3.0   \n",
       "Walmart                           4.8            2.2            2.8   \n",
       "Walt Disney                       4.7            2.9            3.2   \n",
       "Wells Fargo                       4.4            3.3            5.5   \n",
       "\n",
       "                         topic_pros_12  topic_pros_13  topic_pros_14  \\\n",
       "company                                                                \n",
       "3M                                 3.2            7.2            4.6   \n",
       "AIG                                3.2            6.6            3.9   \n",
       "AT&T                               3.0            3.7            2.6   \n",
       "AbbVie                             3.5            8.6            4.2   \n",
       "Albertsons                         3.3            8.2            3.0   \n",
       "Amazon                             3.3            6.2            4.5   \n",
       "American Airlines                  3.1            5.2            3.0   \n",
       "American Express                   3.3            6.5            3.8   \n",
       "AmerisourceBergen                  3.3            7.9            3.4   \n",
       "Apple                              3.1            7.6            3.6   \n",
       "Archer Daniels                     3.5            7.2            4.0   \n",
       "Bank of America                    3.6            6.4            3.0   \n",
       "Best Buy                           3.0            8.7            3.1   \n",
       "Boeing                             3.2            4.4            3.9   \n",
       "Booking.com                        3.6           11.9            4.0   \n",
       "CVS Health                         3.6            7.3            3.6   \n",
       "Cardinal Health                    3.2            6.5            3.3   \n",
       "Caterpillar                        3.5            5.8            4.1   \n",
       "Centene                            2.9            7.6            3.3   \n",
       "Chevron                            3.0            6.3            4.7   \n",
       "Cigna                              3.3            7.5            3.3   \n",
       "Cisco                              2.9            5.5            4.6   \n",
       "Coca Cola                          3.3            6.3            3.2   \n",
       "Comcast                            3.2            5.1            2.9   \n",
       "Costco                             2.7            6.5            2.5   \n",
       "Delta Airlines                     2.9            5.5            2.9   \n",
       "Enterprise Products                3.1            6.0            2.9   \n",
       "Exelon                             4.1            7.0            2.9   \n",
       "Exxon Mobil                        3.8            6.2            5.2   \n",
       "Facebook                           3.5            5.8            6.5   \n",
       "Fannie Mae                         3.1            5.9            4.0   \n",
       "Fedex                              3.5            6.4            3.0   \n",
       "Ford                               3.4            8.0            4.1   \n",
       "General Dynamics                   3.6            6.5            3.8   \n",
       "General Electric                   3.2            6.4            4.9   \n",
       "General Motors                     2.8            6.7            4.0   \n",
       "Goldman Sachs                      3.7            6.6            8.8   \n",
       "Google                             2.8            7.7            7.0   \n",
       "HCA Healthcare                     3.6            8.2            3.8   \n",
       "HP                                 3.0           10.1            4.1   \n",
       "Home Depot                         3.4            8.6            3.5   \n",
       "Humana                             3.3            5.9            2.8   \n",
       "Intel                              3.1            6.7            4.4   \n",
       "JP Morgan                          3.1            7.1            4.1   \n",
       "John Deere                         3.0            7.2            4.0   \n",
       "Kroger                             3.4            8.4            3.0   \n",
       "Liberty Mutual                     2.8            6.2            3.0   \n",
       "Lockheed Martin                    3.3            5.5            4.4   \n",
       "Lowe's                             3.7            8.1            3.8   \n",
       "McKesson                           2.7            7.4            3.6   \n",
       "Merck                              3.2            6.4            5.2   \n",
       "Microsoft                          2.9            6.2            6.6   \n",
       "Morgan Stanley                     3.5            8.7            5.6   \n",
       "Nationwide                         3.3            8.9            3.1   \n",
       "New York Life Insurance            5.2            7.5            3.0   \n",
       "Nike                               3.3            9.2            3.7   \n",
       "PepsiCo                            3.4            5.6            3.6   \n",
       "Pfizer                             3.3            7.0            4.7   \n",
       "Phillips 66                        2.7            7.0            4.0   \n",
       "Proctor & Gamble                   2.9            5.3            4.9   \n",
       "Progressive                        3.2            8.5            3.1   \n",
       "Prudential                         3.4            6.5            3.1   \n",
       "Publix                             3.2            7.8            3.0   \n",
       "Sysco                              4.1            5.5            2.7   \n",
       "Tech Data                          3.6            8.8            3.5   \n",
       "UPS                                3.2            5.0            3.2   \n",
       "United Technologies                3.6            7.4            4.3   \n",
       "Verizon Wireless                   3.2            4.6            2.9   \n",
       "Walgreens                          3.9            7.7            3.0   \n",
       "Walmart                            3.1            8.4            3.4   \n",
       "Walt Disney                        3.2            8.1            3.8   \n",
       "Wells Fargo                        3.9            6.2            2.9   \n",
       "\n",
       "                         topic_pros_15  topic_pros_16  topic_pros_17  \\\n",
       "company                                                                \n",
       "3M                                 8.4            2.7            3.2   \n",
       "AIG                                9.1            2.5            2.6   \n",
       "AT&T                              11.7            3.0            5.5   \n",
       "AbbVie                            10.1            2.2            2.5   \n",
       "Albertsons                         6.9            2.9            4.0   \n",
       "Amazon                             7.7            3.8            2.9   \n",
       "American Airlines                 12.9            6.9            3.7   \n",
       "American Express                  11.5            2.9            3.1   \n",
       "AmerisourceBergen                 10.1            2.8            3.7   \n",
       "Apple                             14.6            4.3            4.1   \n",
       "Archer Daniels                     7.8            2.5            2.8   \n",
       "Bank of America                   10.1            2.7            3.1   \n",
       "Best Buy                           9.5            2.6            7.8   \n",
       "Boeing                             9.4            2.8            3.3   \n",
       "Booking.com                        8.3            4.4            6.4   \n",
       "CVS Health                         6.6            3.1            4.5   \n",
       "Cardinal Health                    9.3            2.9            3.0   \n",
       "Caterpillar                        8.6            2.5            2.4   \n",
       "Centene                            8.9            2.5            3.1   \n",
       "Chevron                           10.9            2.9            2.7   \n",
       "Cigna                              8.5            2.8            3.2   \n",
       "Cisco                             10.1            2.9            2.7   \n",
       "Coca Cola                         11.6            3.2            3.3   \n",
       "Comcast                           12.1            3.1            7.3   \n",
       "Costco                            13.8            3.3            3.4   \n",
       "Delta Airlines                    15.2            6.3            3.8   \n",
       "Enterprise Products               11.4            3.8            1.8   \n",
       "Exelon                             5.9            2.4            2.9   \n",
       "Exxon Mobil                        7.9            2.8            2.8   \n",
       "Facebook                           9.0            6.1            5.1   \n",
       "Fannie Mae                         9.6            2.5            2.5   \n",
       "Fedex                             10.5            3.3            2.9   \n",
       "Ford                               9.5            2.9            2.3   \n",
       "General Dynamics                   7.8            3.0            3.1   \n",
       "General Electric                   7.7            2.4            2.7   \n",
       "General Motors                     9.5            2.9            2.9   \n",
       "Goldman Sachs                      9.8            2.8            2.3   \n",
       "Google                            11.2            5.6            5.5   \n",
       "HCA Healthcare                     9.1            2.6            3.1   \n",
       "HP                                 7.3            2.6            3.2   \n",
       "Home Depot                         8.1            3.1            3.7   \n",
       "Humana                            10.7            2.9            3.2   \n",
       "Intel                              9.8            2.8            3.2   \n",
       "JP Morgan                          8.9            2.6            3.0   \n",
       "John Deere                         8.7            2.1            3.0   \n",
       "Kroger                             6.8            3.0            4.9   \n",
       "Liberty Mutual                    10.9            2.1            3.0   \n",
       "Lockheed Martin                    8.4            3.1            2.5   \n",
       "Lowe's                             8.2            3.2            3.5   \n",
       "McKesson                           9.6            2.9            3.4   \n",
       "Merck                              9.6            2.8            2.5   \n",
       "Microsoft                          9.4            3.0            2.8   \n",
       "Morgan Stanley                    10.8            2.5            2.6   \n",
       "Nationwide                        11.0            2.3            3.1   \n",
       "New York Life Insurance            9.4            2.2            3.4   \n",
       "Nike                              12.4            3.7            9.0   \n",
       "PepsiCo                           10.6            2.8            3.1   \n",
       "Pfizer                            10.9            2.9            2.5   \n",
       "Phillips 66                       11.0            2.5            2.7   \n",
       "Proctor & Gamble                  11.1            3.2            2.1   \n",
       "Progressive                       10.1            2.9            3.2   \n",
       "Prudential                         8.2            2.3            3.8   \n",
       "Publix                             9.9            3.1            3.5   \n",
       "Sysco                              9.1            2.9            4.3   \n",
       "Tech Data                          8.6            3.1            4.4   \n",
       "UPS                                9.4            3.1            2.7   \n",
       "United Technologies                7.2            2.0            4.3   \n",
       "Verizon Wireless                  12.7            2.6            4.3   \n",
       "Walgreens                          6.5            2.9            5.3   \n",
       "Walmart                            6.1            3.6            4.0   \n",
       "Walt Disney                       11.5            5.1            6.8   \n",
       "Wells Fargo                        9.5            2.5            3.0   \n",
       "\n",
       "                         topic_pros_18  topic_pros_19  \n",
       "company                                                \n",
       "3M                                 5.2            3.5  \n",
       "AIG                                4.5            2.4  \n",
       "AT&T                               3.7            2.8  \n",
       "AbbVie                             4.2            3.3  \n",
       "Albertsons                         5.5            3.3  \n",
       "Amazon                             5.2            3.4  \n",
       "American Airlines                  5.7            3.0  \n",
       "American Express                   4.8            2.2  \n",
       "AmerisourceBergen                  5.1            2.6  \n",
       "Apple                              4.3            2.8  \n",
       "Archer Daniels                     5.5            3.2  \n",
       "Bank of America                    4.3            2.9  \n",
       "Best Buy                           4.9            2.5  \n",
       "Boeing                             4.9            3.1  \n",
       "Booking.com                        4.8            3.3  \n",
       "CVS Health                         5.2            3.0  \n",
       "Cardinal Health                    4.6            2.9  \n",
       "Caterpillar                        4.9            3.3  \n",
       "Centene                            4.9            3.4  \n",
       "Chevron                            4.2            2.6  \n",
       "Cigna                              4.0            3.1  \n",
       "Cisco                              4.5            3.0  \n",
       "Coca Cola                          6.4            2.9  \n",
       "Comcast                            4.5            2.5  \n",
       "Costco                             4.3            2.5  \n",
       "Delta Airlines                     6.3            2.8  \n",
       "Enterprise Products                5.9            3.3  \n",
       "Exelon                             5.0            4.2  \n",
       "Exxon Mobil                        4.9            3.6  \n",
       "Facebook                           8.3            3.5  \n",
       "Fannie Mae                         4.2            3.4  \n",
       "Fedex                              4.7            2.8  \n",
       "Ford                               5.4            2.7  \n",
       "General Dynamics                   5.1            3.7  \n",
       "General Electric                   5.4            2.8  \n",
       "General Motors                     4.1            3.0  \n",
       "Goldman Sachs                      5.5            2.9  \n",
       "Google                             6.0            3.0  \n",
       "HCA Healthcare                     4.2            3.0  \n",
       "HP                                 4.9            2.8  \n",
       "Home Depot                         6.0            3.1  \n",
       "Humana                             3.7            3.3  \n",
       "Intel                              4.2            2.7  \n",
       "JP Morgan                          4.7            2.7  \n",
       "John Deere                         5.0            2.6  \n",
       "Kroger                             5.5            3.0  \n",
       "Liberty Mutual                     4.4            3.7  \n",
       "Lockheed Martin                    4.8            2.8  \n",
       "Lowe's                             5.1            3.2  \n",
       "McKesson                           4.3            3.2  \n",
       "Merck                              4.5            3.1  \n",
       "Microsoft                          5.7            3.4  \n",
       "Morgan Stanley                     4.4            3.1  \n",
       "Nationwide                         4.3            2.8  \n",
       "New York Life Insurance            5.2            2.6  \n",
       "Nike                               6.2            3.1  \n",
       "PepsiCo                            4.3            3.0  \n",
       "Pfizer                             4.7            3.0  \n",
       "Phillips 66                        5.6            3.2  \n",
       "Proctor & Gamble                   5.0            2.8  \n",
       "Progressive                        4.7            3.1  \n",
       "Prudential                         4.9            3.3  \n",
       "Publix                             4.6            2.5  \n",
       "Sysco                              4.9            3.2  \n",
       "Tech Data                          4.6            2.8  \n",
       "UPS                                4.4            2.7  \n",
       "United Technologies                4.2            3.2  \n",
       "Verizon Wireless                   4.2            2.7  \n",
       "Walgreens                          5.7            3.3  \n",
       "Walmart                            5.4            3.2  \n",
       "Walt Disney                        6.1            3.0  \n",
       "Wells Fargo                        4.6            2.8  "
      ]
     },
     "execution_count": 129,
     "metadata": {},
     "output_type": "execute_result"
    }
   ],
   "source": [
    "doc_topics = list(ldamodel_pros_20.get_document_topics(pros_corpus))\n",
    "\n",
    "all_reviews['doc_topic_pros'] = doc_topics\n",
    "\n",
    "all_reviews['doc_topic_pros'] = all_reviews['doc_topic_pros'].map(lambda x: dict(x))\n",
    "\n",
    "for topic_num in range(20):\n",
    "    all_reviews[f'topic_pros_{topic_num}'] = all_reviews['doc_topic_pros'].apply(lambda x: x.get(topic_num, 0))\n",
    "    \n",
    "# Preview table\n",
    "dist_pros = round(all_reviews.groupby('company').mean().iloc[:,1:21],3)*100\n",
    "round(all_reviews.groupby('company').mean().iloc[:,1:21],3)*100"
   ]
  },
  {
   "cell_type": "markdown",
   "metadata": {},
   "source": [
    "The above table represents the concentration of topics within in each company. To put it another way, it very *roughly* shows us the percentage of reviews that fell into that particular topic. For example, topic 0 represents the existence of training and advancement opportunities. So we can very roughly say that 6.5% of reviews at 3M mentioned the presence of training and advancement opportunities. \n",
    "\n",
    "The reason I use the word *roughly* is because, remember, LDA topic modeling assigns percentage weights of topics to each review. So each review is made up of a variety of topics. Therefore, the above table is an *average of averages*."
   ]
  },
  {
   "cell_type": "markdown",
   "metadata": {},
   "source": [
    "### Detecting Outlier Companies within each Topic\n",
    "\n",
    "The next step is to determine which companies excel in each our predefined topics. For example, which companies excel in offering training and advancement opportunities to employees?\n",
    "\n",
    "We can accomplish this by conducting an outlier analysis in which we define outliers as any number that is greater than the Q3(3rd quartile) + 1.5*IQR (interquartile range)."
   ]
  },
  {
   "cell_type": "code",
   "execution_count": 132,
   "metadata": {},
   "outputs": [
    {
     "name": "stdout",
     "output_type": "stream",
     "text": [
      "topic_pros_0:  company\n",
      "New York Life Insurance    8.7\n",
      "General Electric           8.6\n",
      "Proctor & Gamble           8.4\n",
      "Name: topic_pros_0, dtype: float64 \n",
      "\n",
      "topic_pros_1:  company\n",
      "Tech Data        5.3\n",
      "Google           4.6\n",
      "Intel            4.5\n",
      "Goldman Sachs    4.5\n",
      "Walt Disney      4.2\n",
      "HP               4.2\n",
      "Name: topic_pros_1, dtype: float64 \n",
      "\n",
      "topic_pros_2:  company\n",
      "General Electric    10.2\n",
      "Name: topic_pros_2, dtype: float64 \n",
      "\n",
      "topic_pros_3:  company\n",
      "Humana    8.8\n",
      "Name: topic_pros_3, dtype: float64 \n",
      "\n",
      "topic_pros_4:  company\n",
      "Archer Daniels      6.6\n",
      "Morgan Stanley      6.5\n",
      "Goldman Sachs       6.3\n",
      "General Electric    6.2\n",
      "Tech Data           6.1\n",
      "Name: topic_pros_4, dtype: float64 \n",
      "\n",
      "topic_pros_5:  company\n",
      "Costco            5.1\n",
      "Delta Airlines    5.0\n",
      "Liberty Mutual    4.6\n",
      "HCA Healthcare    4.6\n",
      "Name: topic_pros_5, dtype: float64 \n",
      "\n",
      "topic_pros_6:  company\n",
      "Costco                 17.7\n",
      "UPS                    17.6\n",
      "AT&T                   17.5\n",
      "Enterprise Products    17.0\n",
      "Name: topic_pros_6, dtype: float64 \n",
      "\n",
      "topic_pros_7:  company\n",
      "Facebook                   5.9\n",
      "Amazon                     5.9\n",
      "UPS                        5.6\n",
      "Walmart                    5.4\n",
      "New York Life Insurance    5.4\n",
      "PepsiCo                    5.3\n",
      "Goldman Sachs              5.3\n",
      "CVS Health                 5.3\n",
      "Name: topic_pros_7, dtype: float64 \n",
      "\n",
      "topic_pros_8:  company\n",
      "Kroger         7.6\n",
      "Albertsons     7.4\n",
      "Walmart        6.5\n",
      "Walgreens      6.5\n",
      "Best Buy       6.4\n",
      "Lowe's         6.1\n",
      "Home Depot     6.1\n",
      "Nike           5.9\n",
      "CVS Health     5.9\n",
      "Publix         5.8\n",
      "Walt Disney    5.5\n",
      "Name: topic_pros_8, dtype: float64 \n",
      "\n",
      "topic_pros_9:  company\n",
      "CVS Health    6.0\n",
      "Kroger        5.7\n",
      "Walgreens     5.5\n",
      "Albertsons    5.5\n",
      "Prudential    5.4\n",
      "Name: topic_pros_9, dtype: float64 \n",
      "\n",
      "topic_pros_10:  company\n",
      "Microsoft    5.6\n",
      "Name: topic_pros_10, dtype: float64 \n",
      "\n",
      "topic_pros_11:  company\n",
      "Cisco               12.7\n",
      "Fannie Mae          12.4\n",
      "American Express    11.1\n",
      "HP                  10.9\n",
      "Intel               10.5\n",
      "Name: topic_pros_11, dtype: float64 \n",
      "\n",
      "topic_pros_12:  company\n",
      "New York Life Insurance    5.2\n",
      "Sysco                      4.1\n",
      "Exelon                     4.1\n",
      "Name: topic_pros_12, dtype: float64 \n",
      "\n",
      "topic_pros_13:  company\n",
      "Booking.com    11.9\n",
      "HP             10.1\n",
      "Name: topic_pros_13, dtype: float64 \n",
      "\n",
      "topic_pros_14:  company\n",
      "Goldman Sachs     8.8\n",
      "Google            7.0\n",
      "Microsoft         6.6\n",
      "Facebook          6.5\n",
      "Morgan Stanley    5.6\n",
      "Name: topic_pros_14, dtype: float64 \n",
      "\n",
      "topic_pros_15:  company\n",
      "Delta Airlines    15.2\n",
      "Apple             14.6\n",
      "Costco            13.8\n",
      "Name: topic_pros_15, dtype: float64 \n",
      "\n",
      "topic_pros_16:  company\n",
      "American Airlines      6.9\n",
      "Delta Airlines         6.3\n",
      "Facebook               6.1\n",
      "Google                 5.6\n",
      "Walt Disney            5.1\n",
      "Booking.com            4.4\n",
      "Apple                  4.3\n",
      "Enterprise Products    3.8\n",
      "Amazon                 3.8\n",
      "Nike                   3.7\n",
      "Name: topic_pros_16, dtype: float64 \n",
      "\n",
      "topic_pros_17:  company\n",
      "Nike           9.0\n",
      "Best Buy       7.8\n",
      "Comcast        7.3\n",
      "Walt Disney    6.8\n",
      "Booking.com    6.4\n",
      "Google         5.5\n",
      "AT&T           5.5\n",
      "Walgreens      5.3\n",
      "Facebook       5.1\n",
      "Kroger         4.9\n",
      "Name: topic_pros_17, dtype: float64 \n",
      "\n",
      "topic_pros_18:  company\n",
      "Facebook    8.3\n",
      "Name: topic_pros_18, dtype: float64 \n",
      "\n",
      "topic_pros_19:  company\n",
      "Exelon              4.2\n",
      "Liberty Mutual      3.7\n",
      "General Dynamics    3.7\n",
      "Name: topic_pros_19, dtype: float64 \n",
      "\n"
     ]
    }
   ],
   "source": [
    "# find outliers by locating values: Q1 - 1.5*IQR < X > Q3 + 1.5*IQR\n",
    "for i in range(0,20):\n",
    "    s = dist_pros[f'topic_pros_{i}']\n",
    "    IQR = iqr(dist_pros[f'topic_pros_{i}'])\n",
    "    below = s[s<(s.quantile(.25)-IQR)].sort_values(ascending=True)\n",
    "    above = s[s>(s.quantile(.75)+IQR)].sort_values(ascending=False)\n",
    "    print(f'topic_pros_{i}: ', above, '\\n')"
   ]
  },
  {
   "cell_type": "markdown",
   "metadata": {},
   "source": [
    "# -------BREAK----------"
   ]
  },
  {
   "cell_type": "code",
   "execution_count": 94,
   "metadata": {},
   "outputs": [],
   "source": [
    "import re\n",
    "all_reviews = pd.read_csv('../../all_reviews_glob.csv').drop(columns = ['Unnamed: 0'])\n",
    "# remove line endings and spaces contained in the HTML (i.e. \"/n /r\")\n",
    "all_reviews.pros = all_reviews.pros.map(lambda x: re.sub('\\s+', ' ', x))\n",
    "all_reviews.cons = all_reviews.cons.map(lambda x: re.sub('\\s+', ' ', x))\n",
    "# remove special characters and lowercase all text\n",
    "all_reviews.title = all_reviews.title.map(lambda x: re.sub('[^a-zA-Z0-9 \\n\\.]', '', str(x).lower()))\n",
    "all_reviews.pros = all_reviews.pros.map(lambda x: re.sub('[^a-zA-Z0-9 \\n\\.]', '', x.lower()))\n",
    "all_reviews.cons = all_reviews.cons.map(lambda x: re.sub('[^a-zA-Z0-9 \\n\\.]', '', x.lower()))"
   ]
  },
  {
   "cell_type": "code",
   "execution_count": null,
   "metadata": {},
   "outputs": [],
   "source": [
    "pros_remove = all_reviews['pros'].values.tolist()\n",
    "pros_remove = [' '.join(w for w in word.split() if w not in (['home', 'depot', 'verizon', 'boa', 'bank', 'america', 'boeing', 'comcast', 'ge', 'google', 'jp', 'morgan', 'microsoft', 'kroger', 'walgreens', 'wells', 'fargo'] + list(stopwords.words('english')))) for word in pros_remove]"
   ]
  },
  {
   "cell_type": "code",
   "execution_count": 105,
   "metadata": {},
   "outputs": [],
   "source": [
    "pros_remove = [tokenize_sentences(word) for word in pros_remove]"
   ]
  },
  {
   "cell_type": "code",
   "execution_count": 106,
   "metadata": {},
   "outputs": [
    {
     "data": {
      "text/plain": [
       "[(0,\n",
       "  '0.316*\"great\" + 0.162*\"work\" + 0.084*\"people\" + 0.063*\"place\" + 0.058*\"benefits\" + 0.041*\"environment\" + 0.038*\"company\" + 0.028*\"culture\" + 0.023*\"fun\" + 0.017*\"team\" + 0.016*\"with\" + 0.015*\"nice\" + 0.015*\"awesome\"'),\n",
       " (1,\n",
       "  '0.156*\"employees\" + 0.056*\"company\" + 0.044*\"care\" + 0.040*\"strong\" + 0.040*\"high\" + 0.036*\"customer\" + 0.032*\"leadership\" + 0.028*\"service\" + 0.025*\"culture\" + 0.023*\"diverse\" + 0.021*\"well\" + 0.020*\"take\" + 0.017*\"senior\"'),\n",
       " (2,\n",
       "  '0.085*\"job\" + 0.084*\"get\" + 0.072*\"easy\" + 0.045*\"money\" + 0.044*\"make\" + 0.041*\"projects\" + 0.037*\"free\" + 0.024*\"lot\" + 0.023*\"meet\" + 0.023*\"food\" + 0.018*\"need\" + 0.016*\"freedom\" + 0.015*\"usually\"'),\n",
       " (3,\n",
       "  '0.067*\"friendly\" + 0.059*\"environment\" + 0.044*\"coworkers\" + 0.044*\"team\" + 0.035*\"help\" + 0.035*\"nice\" + 0.034*\"management\" + 0.033*\"managers\" + 0.029*\"customers\" + 0.027*\"staff\" + 0.024*\"atmosphere\" + 0.023*\"colleagues\" + 0.023*\"able\"'),\n",
       " (4,\n",
       "  '0.121*\"training\" + 0.045*\"development\" + 0.029*\"support\" + 0.027*\"career\" + 0.025*\"programs\" + 0.024*\"resources\" + 0.022*\"program\" + 0.022*\"professional\" + 0.022*\"management\" + 0.021*\"start\" + 0.020*\"available\" + 0.017*\"sales\" + 0.017*\"provides\"'),\n",
       " (5,\n",
       "  '0.064*\"industry\" + 0.034*\"exposure\" + 0.029*\"pros\" + 0.029*\"mobility\" + 0.027*\"healthcare\" + 0.027*\"college\" + 0.027*\"especially\" + 0.024*\"product\" + 0.022*\"roles\" + 0.020*\"company\" + 0.020*\"talent\" + 0.019*\"safety\" + 0.017*\"within\"'),\n",
       " (6,\n",
       "  '0.266*\"work\" + 0.129*\"balance\" + 0.104*\"good\" + 0.098*\"life\" + 0.059*\"culture\" + 0.050*\"worklife\" + 0.049*\"flexibility\" + 0.011*\"low\" + 0.010*\"excellent\" + 0.009*\"collaborative\" + 0.009*\"compensation\" + 0.008*\"places\" + 0.007*\"certain\"'),\n",
       " (7,\n",
       "  '0.107*\"people\" + 0.058*\"smart\" + 0.054*\"like\" + 0.038*\"amazing\" + 0.037*\"really\" + 0.033*\"day\" + 0.033*\"job\" + 0.031*\"working\" + 0.029*\"challenging\" + 0.026*\"big\" + 0.025*\"every\" + 0.023*\"love\" + 0.023*\"interesting\"'),\n",
       " (8,\n",
       "  '0.064*\"best\" + 0.047*\"one\" + 0.037*\"worked\" + 0.033*\"store\" + 0.032*\"years\" + 0.023*\"manager\" + 0.022*\"company\" + 0.021*\"right\" + 0.019*\"people\" + 0.019*\"get\" + 0.019*\"back\" + 0.017*\"first\" + 0.017*\"know\"'),\n",
       " (9,\n",
       "  '0.432*\"good\" + 0.149*\"pay\" + 0.131*\"benefits\" + 0.032*\"company\" + 0.031*\"people\" + 0.016*\"environment\" + 0.016*\"nice\" + 0.014*\"location\" + 0.013*\"coworkers\" + 0.012*\"ok\" + 0.009*\"management\" + 0.007*\"compensation\" + 0.007*\"facilities\"'),\n",
       " (10,\n",
       "  '0.151*\"decent\" + 0.097*\"pay\" + 0.046*\"benefits\" + 0.046*\"plenty\" + 0.036*\"better\" + 0.031*\"overtime\" + 0.027*\"change\" + 0.027*\"jobs\" + 0.022*\"say\" + 0.021*\"variety\" + 0.018*\"job\" + 0.018*\"structure\" + 0.015*\"could\"'),\n",
       " (11,\n",
       "  '0.109*\"work\" + 0.043*\"hard\" + 0.034*\"company\" + 0.026*\"youre\" + 0.026*\"want\" + 0.025*\"even\" + 0.022*\"for\" + 0.020*\"much\" + 0.020*\"top\" + 0.019*\"go\" + 0.017*\"positions\" + 0.017*\"long\" + 0.017*\"position\"'),\n",
       " (12,\n",
       "  '0.067*\"fast\" + 0.058*\"level\" + 0.051*\"workers\" + 0.046*\"average\" + 0.045*\"community\" + 0.036*\"paced\" + 0.033*\"area\" + 0.033*\"co\" + 0.020*\"used\" + 0.018*\"environment\" + 0.017*\"entry\" + 0.016*\"caring\" + 0.015*\"raises\"'),\n",
       " (13,\n",
       "  '0.112*\"employee\" + 0.069*\"office\" + 0.054*\"perks\" + 0.051*\"values\" + 0.041*\"etc\" + 0.037*\"corporate\" + 0.032*\"vision\" + 0.029*\"market\" + 0.027*\"education\" + 0.026*\"gym\" + 0.020*\"role\" + 0.020*\"free\" + 0.018*\"discount\"'),\n",
       " (14,\n",
       "  '0.199*\"time\" + 0.067*\"part\" + 0.061*\"paid\" + 0.048*\"vacation\" + 0.038*\"days\" + 0.037*\"year\" + 0.029*\"full\" + 0.028*\"world\" + 0.024*\"get\" + 0.024*\"week\" + 0.021*\"everything\" + 0.020*\"holidays\" + 0.018*\"it\"'),\n",
       " (15,\n",
       "  '0.144*\"benefits\" + 0.074*\"great\" + 0.056*\"salary\" + 0.054*\"k\" + 0.044*\"health\" + 0.042*\"pay\" + 0.039*\"competitive\" + 0.029*\"insurance\" + 0.029*\"excellent\" + 0.022*\"compensation\" + 0.021*\"package\" + 0.021*\"bonus\" + 0.021*\"pto\"'),\n",
       " (16,\n",
       "  '0.134*\"opportunities\" + 0.077*\"lots\" + 0.069*\"company\" + 0.057*\"opportunity\" + 0.057*\"great\" + 0.050*\"growth\" + 0.046*\"many\" + 0.043*\"career\" + 0.033*\"move\" + 0.031*\"advancement\" + 0.030*\"grow\" + 0.030*\"within\" + 0.029*\"different\"'),\n",
       " (17,\n",
       "  '0.106*\"experience\" + 0.086*\"well\" + 0.055*\"ability\" + 0.032*\"stable\" + 0.027*\"advance\" + 0.026*\"school\" + 0.025*\"job\" + 0.021*\"network\" + 0.020*\"intelligent\" + 0.019*\"pays\" + 0.019*\"depending\" + 0.017*\"department\" + 0.017*\"amount\"'),\n",
       " (18,\n",
       "  '0.071*\"learn\" + 0.068*\"lot\" + 0.068*\"new\" + 0.039*\"products\" + 0.035*\"technology\" + 0.026*\"skills\" + 0.026*\"things\" + 0.024*\"people\" + 0.024*\"always\" + 0.022*\"brand\" + 0.022*\"business\" + 0.022*\"knowledge\" + 0.019*\"opportunity\"'),\n",
       " (19,\n",
       "  '0.150*\"flexible\" + 0.133*\"hours\" + 0.108*\"work\" + 0.084*\"schedule\" + 0.046*\"associates\" + 0.029*\"pretty\" + 0.023*\"travel\" + 0.022*\"cool\" + 0.020*\"working\" + 0.016*\"schedules\" + 0.015*\"scheduling\" + 0.014*\"hourly\" + 0.013*\"set\"')]"
      ]
     },
     "execution_count": 106,
     "metadata": {},
     "output_type": "execute_result"
    }
   ],
   "source": [
    "dictionary_pros = corpora.Dictionary(pros_remove)\n",
    "pros_corpus = [dictionary_pros.doc2bow(text) for text in pros_remove]\n",
    "ldamodel = LdaModel(corpus = pros_corpus, num_topics=20, id2word = dictionary_pros, \n",
    "                                           passes=10, random_state = 25, minimum_probability = 0.0)\n",
    "ldamodel.show_topics(num_topics = 20, num_words = 13) # remove index to show all topics"
   ]
  },
  {
   "cell_type": "code",
   "execution_count": 15,
   "metadata": {},
   "outputs": [
    {
     "data": {
      "text/plain": [
       "[(0,\n",
       "  '0.313*\"work\" + 0.100*\"environment\" + 0.100*\"great\" + 0.093*\"good\" + 0.062*\"place\" + 0.048*\"people\" + 0.048*\"life\" + 0.039*\"balance\" + 0.019*\"culture\" + 0.018*\"team\" + 0.018*\"company\" + 0.015*\"challenging\" + 0.013*\"working\"'),\n",
       " (1,\n",
       "  '0.107*\"best\" + 0.080*\"customers\" + 0.061*\"worked\" + 0.055*\"store\" + 0.054*\"associates\" + 0.050*\"people\" + 0.047*\"one\" + 0.028*\"meet\" + 0.026*\"product\" + 0.025*\"school\" + 0.021*\"ever\" + 0.020*\"helping\" + 0.017*\"thing\"'),\n",
       " (2,\n",
       "  '0.059*\"really\" + 0.047*\"employees\" + 0.043*\"company\" + 0.040*\"care\" + 0.035*\"amazing\" + 0.032*\"employee\" + 0.030*\"take\" + 0.024*\"working\" + 0.020*\"positive\" + 0.015*\"think\" + 0.015*\"pros\" + 0.014*\"everything\" + 0.013*\"enjoyed\"'),\n",
       " (3,\n",
       "  '0.162*\"flexible\" + 0.143*\"hours\" + 0.140*\"work\" + 0.091*\"schedule\" + 0.055*\"easy\" + 0.039*\"love\" + 0.031*\"working\" + 0.017*\"schedules\" + 0.017*\"busy\" + 0.015*\"hourly\" + 0.014*\"safety\" + 0.012*\"overtime\" + 0.012*\"weekends\"'),\n",
       " (4,\n",
       "  '0.038*\"technology\" + 0.033*\"strong\" + 0.032*\"leadership\" + 0.031*\"management\" + 0.030*\"support\" + 0.022*\"teams\" + 0.021*\"colleagues\" + 0.018*\"senior\" + 0.018*\"position\" + 0.017*\"market\" + 0.017*\"new\" + 0.016*\"internal\" + 0.016*\"success\"'),\n",
       " (5,\n",
       "  '0.095*\"fun\" + 0.076*\"like\" + 0.068*\"family\" + 0.055*\"big\" + 0.039*\"company\" + 0.035*\"name\" + 0.033*\"resume\" + 0.023*\"makes\" + 0.021*\"thats\" + 0.021*\"feel\" + 0.019*\"recognition\" + 0.017*\"area\" + 0.016*\"tons\"'),\n",
       " (6,\n",
       "  '0.189*\"nice\" + 0.072*\"free\" + 0.063*\"office\" + 0.052*\"people\" + 0.041*\"location\" + 0.038*\"average\" + 0.034*\"level\" + 0.033*\"food\" + 0.026*\"back\" + 0.024*\"building\" + 0.023*\"gym\" + 0.022*\"come\" + 0.022*\"coworkers\"'),\n",
       " (7,\n",
       "  '0.123*\"training\" + 0.075*\"lots\" + 0.072*\"opportunities\" + 0.054*\"opportunity\" + 0.049*\"advancement\" + 0.037*\"available\" + 0.031*\"plenty\" + 0.027*\"discounts\" + 0.026*\"program\" + 0.025*\"education\" + 0.025*\"programs\" + 0.023*\"ability\" + 0.021*\"college\"'),\n",
       " (8,\n",
       "  '0.153*\"lot\" + 0.125*\"learn\" + 0.063*\"new\" + 0.052*\"money\" + 0.034*\"awesome\" + 0.033*\"make\" + 0.030*\"skills\" + 0.028*\"things\" + 0.025*\"exposure\" + 0.025*\"opportunity\" + 0.019*\"get\" + 0.017*\"scheduling\" + 0.017*\"learned\"'),\n",
       " (9,\n",
       "  '0.087*\"worklife\" + 0.086*\"flexibility\" + 0.083*\"balance\" + 0.031*\"solid\" + 0.027*\"events\" + 0.023*\"generous\" + 0.022*\"commission\" + 0.020*\"variety\" + 0.020*\"reasonable\" + 0.020*\"edge\" + 0.019*\"leave\" + 0.019*\"base\" + 0.019*\"wide\"'),\n",
       " (10,\n",
       "  '0.124*\"company\" + 0.067*\"well\" + 0.056*\"many\" + 0.050*\"different\" + 0.039*\"move\" + 0.038*\"around\" + 0.031*\"large\" + 0.025*\"years\" + 0.024*\"within\" + 0.019*\"jobs\" + 0.018*\"stable\" + 0.015*\"cool\" + 0.015*\"long\"'),\n",
       " (11,\n",
       "  '0.103*\"people\" + 0.073*\"smart\" + 0.061*\"experience\" + 0.050*\"learning\" + 0.035*\"projects\" + 0.030*\"business\" + 0.029*\"world\" + 0.025*\"top\" + 0.023*\"interesting\" + 0.022*\"knowledge\" + 0.021*\"working\" + 0.021*\"diversity\" + 0.019*\"talented\"'),\n",
       " (12,\n",
       "  '0.202*\"time\" + 0.062*\"paid\" + 0.058*\"day\" + 0.056*\"part\" + 0.052*\"vacation\" + 0.047*\"year\" + 0.041*\"every\" + 0.039*\"days\" + 0.029*\"options\" + 0.026*\"travel\" + 0.024*\"personal\" + 0.023*\"get\" + 0.021*\"holidays\"'),\n",
       " (13,\n",
       "  '0.109*\"employees\" + 0.088*\"excellent\" + 0.070*\"benefits\" + 0.065*\"great\" + 0.058*\"compensation\" + 0.047*\"company\" + 0.033*\"perks\" + 0.030*\"values\" + 0.028*\"package\" + 0.024*\"community\" + 0.023*\"fair\" + 0.023*\"full\" + 0.022*\"benefit\"'),\n",
       " (14,\n",
       "  '0.343*\"good\" + 0.202*\"pay\" + 0.176*\"benefits\" + 0.054*\"decent\" + 0.042*\"salary\" + 0.025*\"competitive\" + 0.014*\"pretty\" + 0.013*\"people\" + 0.012*\"bonuses\" + 0.011*\"ok\" + 0.009*\"union\" + 0.008*\"starting\" + 0.008*\"bonus\"'),\n",
       " (15,\n",
       "  '0.051*\"work\" + 0.050*\"get\" + 0.032*\"job\" + 0.023*\"always\" + 0.022*\"want\" + 0.021*\"people\" + 0.018*\"hard\" + 0.017*\"better\" + 0.016*\"youre\" + 0.015*\"much\" + 0.015*\"dont\" + 0.015*\"go\" + 0.015*\"need\"'),\n",
       " (16,\n",
       "  '0.286*\"great\" + 0.085*\"opportunities\" + 0.085*\"benefits\" + 0.076*\"company\" + 0.058*\"career\" + 0.049*\"growth\" + 0.043*\"people\" + 0.037*\"culture\" + 0.029*\"grow\" + 0.028*\"development\" + 0.023*\"opportunity\" + 0.018*\"lots\" + 0.016*\"workers\"'),\n",
       " (17,\n",
       "  '0.159*\"job\" + 0.062*\"products\" + 0.053*\"customer\" + 0.051*\"fast\" + 0.042*\"service\" + 0.042*\"high\" + 0.035*\"sales\" + 0.028*\"paced\" + 0.026*\"security\" + 0.024*\"quality\" + 0.018*\"first\" + 0.018*\"services\" + 0.017*\"amp\"'),\n",
       " (18,\n",
       "  '0.096*\"benefits\" + 0.086*\"k\" + 0.069*\"health\" + 0.063*\"great\" + 0.046*\"insurance\" + 0.030*\"tuition\" + 0.027*\"reimbursement\" + 0.026*\"pto\" + 0.026*\"medical\" + 0.023*\"plan\" + 0.021*\"etc\" + 0.020*\"match\" + 0.019*\"vision\"'),\n",
       " (19,\n",
       "  '0.095*\"great\" + 0.085*\"coworkers\" + 0.081*\"friendly\" + 0.071*\"management\" + 0.058*\"team\" + 0.044*\"atmosphere\" + 0.036*\"managers\" + 0.033*\"staff\" + 0.032*\"everyone\" + 0.024*\"open\" + 0.023*\"help\" + 0.022*\"supportive\" + 0.021*\"people\"')]"
      ]
     },
     "execution_count": 15,
     "metadata": {},
     "output_type": "execute_result"
    }
   ],
   "source": [
    "# display model topics\n",
    "ldamodel_pros_20.show_topics(num_topics = 20, num_words = 13) # remove index to show all topics"
   ]
  },
  {
   "cell_type": "markdown",
   "metadata": {},
   "source": [
    "### Pros removing common stopwords (great, good, work, company)"
   ]
  },
  {
   "cell_type": "code",
   "execution_count": 43,
   "metadata": {},
   "outputs": [
    {
     "data": {
      "text/plain": [
       "[(0,\n",
       "  '0.169*\"time\" + 0.080*\"part\" + 0.040*\"employees\" + 0.034*\"full\" + 0.031*\"available\" + 0.030*\"ok\" + 0.026*\"even\" + 0.025*\"quality\" + 0.023*\"resources\" + 0.021*\"provide\" + 0.021*\"schedules\" + 0.020*\"group\" + 0.020*\"needed\"'),\n",
       " (1,\n",
       "  '0.094*\"make\" + 0.078*\"amazing\" + 0.064*\"money\" + 0.054*\"big\" + 0.037*\"back\" + 0.033*\"hard\" + 0.031*\"sales\" + 0.028*\"large\" + 0.021*\"exciting\" + 0.021*\"bad\" + 0.020*\"thats\" + 0.018*\"role\" + 0.018*\"none\"'),\n",
       " (2,\n",
       "  '0.268*\"pay\" + 0.243*\"benefits\" + 0.072*\"decent\" + 0.064*\"salary\" + 0.042*\"competitive\" + 0.036*\"people\" + 0.022*\"awesome\" + 0.018*\"coworkers\" + 0.017*\"perks\" + 0.013*\"union\" + 0.013*\"wonderful\" + 0.012*\"bonuses\" + 0.010*\"healthcare\"'),\n",
       " (3,\n",
       "  '0.125*\"culture\" + 0.123*\"management\" + 0.084*\"employees\" + 0.075*\"team\" + 0.031*\"leadership\" + 0.027*\"level\" + 0.026*\"values\" + 0.020*\"support\" + 0.019*\"supportive\" + 0.019*\"corporate\" + 0.018*\"training\" + 0.017*\"professional\" + 0.017*\"helpful\"'),\n",
       " (4,\n",
       "  '0.155*\"place\" + 0.082*\"like\" + 0.060*\"really\" + 0.052*\"care\" + 0.041*\"employees\" + 0.037*\"people\" + 0.037*\"family\" + 0.035*\"pretty\" + 0.029*\"location\" + 0.024*\"feel\" + 0.023*\"college\" + 0.017*\"success\" + 0.013*\"especially\"'),\n",
       " (5,\n",
       "  '0.088*\"best\" + 0.046*\"products\" + 0.044*\"strong\" + 0.042*\"people\" + 0.034*\"industry\" + 0.030*\"one\" + 0.026*\"community\" + 0.022*\"talented\" + 0.018*\"product\" + 0.018*\"experience\" + 0.018*\"new\" + 0.017*\"something\" + 0.017*\"helping\"'),\n",
       " (6,\n",
       "  '0.193*\"job\" + 0.075*\"easy\" + 0.037*\"fun\" + 0.022*\"school\" + 0.021*\"position\" + 0.019*\"going\" + 0.017*\"first\" + 0.017*\"makes\" + 0.017*\"made\" + 0.015*\"could\" + 0.014*\"area\" + 0.014*\"high\" + 0.014*\"outside\"'),\n",
       " (7,\n",
       "  '0.140*\"nice\" + 0.053*\"well\" + 0.048*\"store\" + 0.047*\"associates\" + 0.046*\"office\" + 0.020*\"coworkers\" + 0.020*\"managers\" + 0.018*\"building\" + 0.016*\"pays\" + 0.016*\"facilities\" + 0.016*\"busy\" + 0.015*\"scheduling\" + 0.014*\"fairly\"'),\n",
       " (8,\n",
       "  '0.162*\"flexible\" + 0.153*\"balance\" + 0.143*\"hours\" + 0.117*\"life\" + 0.090*\"schedule\" + 0.065*\"benefits\" + 0.059*\"worklife\" + 0.018*\"flexibility\" + 0.013*\"overall\" + 0.012*\"networking\" + 0.012*\"weekends\" + 0.009*\"compensation\" + 0.007*\"fund\"'),\n",
       " (9,\n",
       "  '0.068*\"experience\" + 0.056*\"much\" + 0.054*\"flexibility\" + 0.043*\"better\" + 0.040*\"open\" + 0.038*\"knowledge\" + 0.031*\"diversity\" + 0.030*\"able\" + 0.028*\"think\" + 0.028*\"mobility\" + 0.027*\"provides\" + 0.025*\"find\" + 0.024*\"say\"'),\n",
       " (10,\n",
       "  '0.127*\"opportunities\" + 0.067*\"lots\" + 0.067*\"opportunity\" + 0.057*\"career\" + 0.048*\"growth\" + 0.046*\"benefits\" + 0.044*\"many\" + 0.034*\"training\" + 0.033*\"within\" + 0.030*\"advancement\" + 0.029*\"grow\" + 0.028*\"move\" + 0.028*\"development\"'),\n",
       " (11,\n",
       "  '0.169*\"people\" + 0.058*\"smart\" + 0.034*\"worked\" + 0.030*\"interesting\" + 0.028*\"projects\" + 0.028*\"working\" + 0.028*\"lot\" + 0.025*\"take\" + 0.023*\"years\" + 0.022*\"youre\" + 0.020*\"many\" + 0.018*\"jobs\" + 0.016*\"really\"'),\n",
       " (12,\n",
       "  '0.151*\"get\" + 0.046*\"want\" + 0.032*\"dont\" + 0.032*\"manager\" + 0.031*\"need\" + 0.027*\"average\" + 0.026*\"stable\" + 0.025*\"go\" + 0.021*\"generally\" + 0.021*\"meet\" + 0.020*\"give\" + 0.020*\"hard\" + 0.018*\"right\"'),\n",
       " (13,\n",
       "  '0.117*\"benefits\" + 0.090*\"k\" + 0.072*\"health\" + 0.049*\"insurance\" + 0.031*\"tuition\" + 0.030*\"pto\" + 0.030*\"discounts\" + 0.029*\"reimbursement\" + 0.028*\"program\" + 0.027*\"medical\" + 0.025*\"bonus\" + 0.024*\"plan\" + 0.023*\"stock\"'),\n",
       " (14,\n",
       "  '0.232*\"environment\" + 0.126*\"working\" + 0.065*\"around\" + 0.056*\"people\" + 0.047*\"ability\" + 0.037*\"love\" + 0.036*\"world\" + 0.024*\"friendly\" + 0.019*\"fun\" + 0.018*\"departments\" + 0.017*\"enjoy\" + 0.015*\"pros\" + 0.015*\"move\"'),\n",
       " (15,\n",
       "  '0.110*\"excellent\" + 0.082*\"friendly\" + 0.077*\"coworkers\" + 0.058*\"atmosphere\" + 0.055*\"help\" + 0.043*\"staff\" + 0.042*\"willing\" + 0.041*\"people\" + 0.031*\"team\" + 0.025*\"always\" + 0.019*\"driven\" + 0.016*\"training\" + 0.016*\"chance\"'),\n",
       " (16,\n",
       "  '0.045*\"customer\" + 0.043*\"customers\" + 0.036*\"service\" + 0.033*\"top\" + 0.033*\"workers\" + 0.029*\"brand\" + 0.029*\"everyone\" + 0.028*\"name\" + 0.023*\"cool\" + 0.021*\"co\" + 0.020*\"long\" + 0.020*\"everything\" + 0.019*\"ever\"'),\n",
       " (17,\n",
       "  '0.054*\"benefits\" + 0.048*\"compensation\" + 0.045*\"paid\" + 0.042*\"time\" + 0.036*\"vacation\" + 0.035*\"year\" + 0.029*\"every\" + 0.029*\"day\" + 0.028*\"days\" + 0.028*\"package\" + 0.024*\"companies\" + 0.024*\"start\" + 0.021*\"benefit\"'),\n",
       " (18,\n",
       "  '0.126*\"employee\" + 0.088*\"free\" + 0.067*\"fast\" + 0.041*\"food\" + 0.040*\"overtime\" + 0.037*\"paced\" + 0.031*\"etc\" + 0.024*\"commission\" + 0.023*\"retirement\" + 0.021*\"discount\" + 0.020*\"tons\" + 0.020*\"challenges\" + 0.019*\"lots\"'),\n",
       " (19,\n",
       "  '0.125*\"learn\" + 0.086*\"lot\" + 0.072*\"new\" + 0.067*\"learning\" + 0.050*\"challenging\" + 0.047*\"technology\" + 0.031*\"things\" + 0.030*\"business\" + 0.028*\"colleagues\" + 0.026*\"resume\" + 0.025*\"exposure\" + 0.024*\"experience\" + 0.022*\"security\"')]"
      ]
     },
     "execution_count": 43,
     "metadata": {},
     "output_type": "execute_result"
    }
   ],
   "source": [
    "tokenized_pros = tokenized_pros.apply(lambda x: remove_stopwords(x, ['great','good','work','company']))\n",
    "dictionary_pros = corpora.Dictionary(tokenized_pros)\n",
    "pros_corpus = [dictionary_pros.doc2bow(text) for text in tokenized_pros]\n",
    "ldamodel_pros_20_custom_stopwords = LdaModel(corpus = pros_corpus, num_topics=20, id2word = dictionary_pros, \n",
    "                                           passes=10, random_state = 25, minimum_probability = 0.0)\n",
    "temp_file = datapath(\"lda_pros_20_custom_stopwords\")\n",
    "ldamodel_pros_20_custom_stopwords.save(temp_file)\n",
    "ldamodel_pros_20_custom_stopwords.show_topics(num_topics = 20, num_words = 13) # remove index to show all topics"
   ]
  },
  {
   "cell_type": "markdown",
   "metadata": {},
   "source": [
    "### Pros removing just stopwords 'work' and 'company' (same as OG model)"
   ]
  },
  {
   "cell_type": "code",
   "execution_count": 63,
   "metadata": {},
   "outputs": [
    {
     "data": {
      "text/plain": [
       "[(0,\n",
       "  '0.102*\"well\" + 0.088*\"like\" + 0.053*\"family\" + 0.042*\"team\" + 0.030*\"employees\" + 0.019*\"healthcare\" + 0.017*\"put\" + 0.017*\"pays\" + 0.017*\"management\" + 0.015*\"fairly\" + 0.014*\"role\" + 0.014*\"get\" + 0.014*\"members\"'),\n",
       " (1,\n",
       "  '0.121*\"lot\" + 0.121*\"lots\" + 0.099*\"learn\" + 0.062*\"experience\" + 0.053*\"new\" + 0.035*\"opportunity\" + 0.029*\"people\" + 0.026*\"high\" + 0.024*\"things\" + 0.022*\"different\" + 0.019*\"technology\" + 0.019*\"focus\" + 0.019*\"resources\"'),\n",
       " (2,\n",
       "  '0.102*\"really\" + 0.058*\"managers\" + 0.057*\"amazing\" + 0.052*\"worked\" + 0.046*\"associates\" + 0.034*\"level\" + 0.031*\"people\" + 0.029*\"helpful\" + 0.028*\"everyone\" + 0.022*\"ive\" + 0.021*\"cool\" + 0.020*\"years\" + 0.018*\"experience\"'),\n",
       " (3,\n",
       "  '0.462*\"good\" + 0.098*\"balance\" + 0.093*\"benefits\" + 0.075*\"life\" + 0.038*\"worklife\" + 0.032*\"people\" + 0.023*\"culture\" + 0.021*\"salary\" + 0.014*\"management\" + 0.014*\"compensation\" + 0.008*\"overall\" + 0.007*\"flexibility\" + 0.007*\"stable\"'),\n",
       " (4,\n",
       "  '0.039*\"help\" + 0.026*\"every\" + 0.026*\"workers\" + 0.024*\"willing\" + 0.024*\"year\" + 0.022*\"youre\" + 0.022*\"manager\" + 0.021*\"get\" + 0.021*\"teams\" + 0.021*\"department\" + 0.020*\"even\" + 0.019*\"find\" + 0.019*\"advance\"'),\n",
       " (5,\n",
       "  '0.192*\"time\" + 0.059*\"paid\" + 0.058*\"vacation\" + 0.057*\"part\" + 0.038*\"benefits\" + 0.037*\"days\" + 0.030*\"bonuses\" + 0.020*\"holidays\" + 0.019*\"hours\" + 0.018*\"get\" + 0.017*\"employees\" + 0.016*\"thats\" + 0.015*\"sick\"'),\n",
       " (6,\n",
       "  '0.107*\"schedule\" + 0.060*\"money\" + 0.059*\"flexible\" + 0.054*\"make\" + 0.047*\"get\" + 0.041*\"want\" + 0.031*\"meet\" + 0.030*\"flexibility\" + 0.029*\"travel\" + 0.028*\"need\" + 0.027*\"give\" + 0.024*\"set\" + 0.020*\"facilities\"'),\n",
       " (7,\n",
       "  '0.160*\"job\" + 0.073*\"fun\" + 0.072*\"move\" + 0.067*\"around\" + 0.049*\"ability\" + 0.043*\"hard\" + 0.037*\"within\" + 0.028*\"knowledge\" + 0.023*\"skills\" + 0.021*\"security\" + 0.020*\"able\" + 0.017*\"opportunity\" + 0.015*\"departments\"'),\n",
       " (8,\n",
       "  '0.081*\"easy\" + 0.046*\"job\" + 0.043*\"big\" + 0.042*\"much\" + 0.032*\"store\" + 0.030*\"jobs\" + 0.025*\"get\" + 0.025*\"better\" + 0.022*\"think\" + 0.021*\"position\" + 0.021*\"pros\" + 0.021*\"leave\" + 0.021*\"mobility\"'),\n",
       " (9,\n",
       "  '0.204*\"opportunities\" + 0.089*\"flexible\" + 0.077*\"growth\" + 0.071*\"career\" + 0.059*\"opportunity\" + 0.051*\"learning\" + 0.050*\"hours\" + 0.047*\"advancement\" + 0.030*\"plenty\" + 0.027*\"many\" + 0.020*\"training\" + 0.018*\"within\" + 0.016*\"internal\"'),\n",
       " (10,\n",
       "  '0.040*\"always\" + 0.025*\"world\" + 0.021*\"working\" + 0.019*\"people\" + 0.019*\"make\" + 0.018*\"right\" + 0.018*\"business\" + 0.017*\"employees\" + 0.017*\"something\" + 0.016*\"new\" + 0.016*\"never\" + 0.015*\"get\" + 0.014*\"change\"'),\n",
       " (11,\n",
       "  '0.087*\"people\" + 0.064*\"smart\" + 0.047*\"culture\" + 0.037*\"leadership\" + 0.037*\"development\" + 0.033*\"strong\" + 0.033*\"interesting\" + 0.033*\"challenging\" + 0.032*\"environment\" + 0.031*\"projects\" + 0.028*\"fast\" + 0.026*\"professional\" + 0.026*\"management\"'),\n",
       " (12,\n",
       "  '0.075*\"competitive\" + 0.041*\"package\" + 0.034*\"salary\" + 0.034*\"compensation\" + 0.031*\"long\" + 0.031*\"sales\" + 0.029*\"fair\" + 0.028*\"benefit\" + 0.025*\"take\" + 0.020*\"employees\" + 0.019*\"given\" + 0.018*\"freedom\" + 0.018*\"highly\"'),\n",
       " (13,\n",
       "  '0.226*\"pay\" + 0.173*\"good\" + 0.113*\"benefits\" + 0.072*\"decent\" + 0.030*\"pretty\" + 0.024*\"hours\" + 0.020*\"tuition\" + 0.019*\"reimbursement\" + 0.017*\"average\" + 0.016*\"full\" + 0.014*\"ok\" + 0.014*\"union\" + 0.012*\"starting\"'),\n",
       " (14,\n",
       "  '0.094*\"nice\" + 0.093*\"working\" + 0.080*\"coworkers\" + 0.069*\"people\" + 0.066*\"friendly\" + 0.052*\"environment\" + 0.031*\"awesome\" + 0.028*\"atmosphere\" + 0.028*\"customers\" + 0.026*\"staff\" + 0.026*\"office\" + 0.025*\"love\" + 0.019*\"colleagues\"'),\n",
       " (15,\n",
       "  '0.150*\"great\" + 0.145*\"place\" + 0.099*\"environment\" + 0.072*\"employees\" + 0.051*\"grow\" + 0.035*\"room\" + 0.031*\"values\" + 0.025*\"brand\" + 0.023*\"career\" + 0.021*\"exposure\" + 0.021*\"care\" + 0.021*\"start\" + 0.020*\"wonderful\"'),\n",
       " (16,\n",
       "  '0.104*\"best\" + 0.058*\"free\" + 0.054*\"products\" + 0.047*\"customer\" + 0.041*\"perks\" + 0.037*\"service\" + 0.027*\"food\" + 0.026*\"industry\" + 0.026*\"product\" + 0.025*\"one\" + 0.025*\"diverse\" + 0.024*\"companies\" + 0.022*\"global\"'),\n",
       " (17,\n",
       "  '0.501*\"great\" + 0.168*\"benefits\" + 0.068*\"people\" + 0.042*\"pay\" + 0.035*\"excellent\" + 0.031*\"culture\" + 0.018*\"training\" + 0.015*\"team\" + 0.013*\"salary\" + 0.012*\"management\" + 0.009*\"compensation\" + 0.008*\"fantastic\" + 0.007*\"flexibility\"'),\n",
       " (18,\n",
       "  '0.091*\"k\" + 0.087*\"benefits\" + 0.073*\"health\" + 0.072*\"employee\" + 0.049*\"insurance\" + 0.033*\"care\" + 0.030*\"discounts\" + 0.027*\"medical\" + 0.027*\"etc\" + 0.026*\"pto\" + 0.025*\"options\" + 0.024*\"bonus\" + 0.024*\"plan\"'),\n",
       " (19,\n",
       "  '0.079*\"many\" + 0.066*\"training\" + 0.049*\"day\" + 0.046*\"different\" + 0.043*\"large\" + 0.043*\"one\" + 0.040*\"available\" + 0.028*\"program\" + 0.027*\"programs\" + 0.025*\"name\" + 0.022*\"positions\" + 0.020*\"education\" + 0.019*\"offer\"')]"
      ]
     },
     "execution_count": 63,
     "metadata": {},
     "output_type": "execute_result"
    }
   ],
   "source": [
    "tokenized_pros = tokenized_pros.apply(lambda x: remove_stopwords(x, ['work','company']))\n",
    "dictionary_pros = corpora.Dictionary(tokenized_pros)\n",
    "pros_corpus = [dictionary_pros.doc2bow(text) for text in tokenized_pros]\n",
    "ldamodel_pros_20_custom_stopwords = LdaModel(corpus = pros_corpus, num_topics=20, id2word = dictionary_pros, \n",
    "                                           passes=10, random_state = 25, minimum_probability = 0.0)\n",
    "temp_file = datapath(\"lda_pros_20_custom_stopwords\")\n",
    "ldamodel_pros_20_custom_stopwords.save(temp_file)\n",
    "ldamodel_pros_20_custom_stopwords.show_topics(num_topics = 20, num_words = 13) # remove index to show all topics"
   ]
  },
  {
   "cell_type": "markdown",
   "metadata": {},
   "source": [
    "### Stemmed pros"
   ]
  },
  {
   "cell_type": "code",
   "execution_count": 26,
   "metadata": {},
   "outputs": [
    {
     "data": {
      "text/plain": [
       "0    [good, benefits, nice, values, nice, co, worke...\n",
       "1                      [great, pay, amp, steady, work]\n",
       "2    [great, worklife, balance, limitless, income, ...\n",
       "3    [money, benefits, flexibility, schedule, great...\n",
       "4    [excellent, benefits, competitive, within, mar...\n",
       "Name: pros, dtype: object"
      ]
     },
     "execution_count": 26,
     "metadata": {},
     "output_type": "execute_result"
    }
   ],
   "source": [
    "tokenized_pros[:5]"
   ]
  },
  {
   "cell_type": "code",
   "execution_count": 27,
   "metadata": {},
   "outputs": [
    {
     "data": {
      "text/plain": [
       "0    good benefit nice valu nice co worker nice outing\n",
       "1                            great pay amp steadi work\n",
       "2         great worklif balanc limitless incom potenti\n",
       "3      money benefit flexibl schedul great upper manag\n",
       "4                 excel benefit competit within market\n",
       "Name: pros, dtype: object"
      ]
     },
     "execution_count": 27,
     "metadata": {},
     "output_type": "execute_result"
    }
   ],
   "source": [
    "stemmed_pros[:5]"
   ]
  },
  {
   "cell_type": "code",
   "execution_count": 33,
   "metadata": {},
   "outputs": [],
   "source": [
    "stemmed_pros = [tokenize_sentences(word) for word in stemmed_pros]\n",
    "dictionary_pros = corpora.Dictionary(stemmed_pros)\n",
    "pros_corpus = [dictionary_pros.doc2bow(text) for text in stemmed_pros]"
   ]
  },
  {
   "cell_type": "code",
   "execution_count": 34,
   "metadata": {},
   "outputs": [],
   "source": [
    "ldamodel_stemmed_pros_20 = LdaModel(corpus = pros_corpus, num_topics=20, id2word = dictionary_pros, \n",
    "                                           passes=10, random_state = 25, minimum_probability = 0.0)"
   ]
  },
  {
   "cell_type": "code",
   "execution_count": 35,
   "metadata": {},
   "outputs": [],
   "source": [
    "# save model\n",
    "# from gensim.test.utils import datapath\n",
    "temp_file = datapath(\"lda_stemmed_pros_20\")\n",
    "ldamodel_stemmed_pros_20.save(temp_file)\n",
    "\n",
    "# lda_stemmed_pros_20 = LdaModel.load(datapath(\"lda_stemmed_pros_20\"))\n",
    "# doc_topics_pros = list(lda_stemmed_pros_20.get_document_topics(pros_corpus))"
   ]
  },
  {
   "cell_type": "code",
   "execution_count": 36,
   "metadata": {},
   "outputs": [
    {
     "data": {
      "text/plain": [
       "[(0,\n",
       "  '0.078*\"year\" + 0.056*\"day\" + 0.048*\"work\" + 0.042*\"love\" + 0.039*\"everi\" + 0.030*\"enjoy\" + 0.024*\"month\" + 0.020*\"come\" + 0.016*\"stay\" + 0.015*\"wage\" + 0.015*\"get\" + 0.014*\"leav\" + 0.014*\"ive\"'),\n",
       " (1,\n",
       "  '0.331*\"great\" + 0.200*\"work\" + 0.064*\"balanc\" + 0.059*\"benefit\" + 0.057*\"peopl\" + 0.053*\"place\" + 0.048*\"life\" + 0.036*\"compani\" + 0.029*\"environ\" + 0.027*\"cultur\" + 0.025*\"worklif\" + 0.018*\"team\" + 0.010*\"excel\"'),\n",
       " (2,\n",
       "  '0.125*\"custom\" + 0.086*\"product\" + 0.056*\"servic\" + 0.034*\"improv\" + 0.029*\"market\" + 0.028*\"chang\" + 0.027*\"process\" + 0.022*\"qualiti\" + 0.021*\"perform\" + 0.020*\"system\" + 0.020*\"motiv\" + 0.019*\"driven\" + 0.019*\"extrem\"'),\n",
       " (3,\n",
       "  '0.235*\"time\" + 0.077*\"part\" + 0.069*\"vacat\" + 0.065*\"paid\" + 0.031*\"week\" + 0.031*\"full\" + 0.028*\"top\" + 0.024*\"benefit\" + 0.022*\"employ\" + 0.021*\"get\" + 0.020*\"day\" + 0.019*\"tech\" + 0.017*\"live\"'),\n",
       " (4,\n",
       "  '0.099*\"benefit\" + 0.085*\"employe\" + 0.077*\"great\" + 0.057*\"k\" + 0.046*\"health\" + 0.032*\"care\" + 0.032*\"insur\" + 0.029*\"discount\" + 0.025*\"educ\" + 0.024*\"match\" + 0.023*\"plan\" + 0.022*\"offer\" + 0.022*\"pto\"'),\n",
       " (5,\n",
       "  '0.112*\"compani\" + 0.093*\"cultur\" + 0.056*\"best\" + 0.050*\"divers\" + 0.045*\"leadership\" + 0.045*\"valu\" + 0.044*\"employe\" + 0.041*\"strong\" + 0.034*\"big\" + 0.023*\"focus\" + 0.023*\"stabl\" + 0.021*\"industri\" + 0.021*\"leader\"'),\n",
       " (6,\n",
       "  '0.292*\"pay\" + 0.113*\"benefit\" + 0.111*\"decent\" + 0.049*\"locat\" + 0.045*\"pretti\" + 0.039*\"fair\" + 0.023*\"overtim\" + 0.023*\"excel\" + 0.022*\"ok\" + 0.022*\"union\" + 0.020*\"well\" + 0.016*\"cowork\" + 0.014*\"relat\"'),\n",
       " (7,\n",
       "  '0.216*\"manag\" + 0.054*\"support\" + 0.050*\"team\" + 0.047*\"train\" + 0.047*\"associ\" + 0.031*\"staff\" + 0.029*\"program\" + 0.023*\"help\" + 0.020*\"depend\" + 0.020*\"find\" + 0.019*\"well\" + 0.017*\"treat\" + 0.015*\"communiti\"'),\n",
       " (8,\n",
       "  '0.116*\"environ\" + 0.115*\"work\" + 0.097*\"nice\" + 0.078*\"friend\" + 0.072*\"cowork\" + 0.053*\"easi\" + 0.052*\"peopl\" + 0.048*\"fun\" + 0.033*\"money\" + 0.028*\"fast\" + 0.028*\"atmospher\" + 0.022*\"pace\" + 0.015*\"cool\"'),\n",
       " (9,\n",
       "  '0.077*\"work\" + 0.043*\"get\" + 0.042*\"realli\" + 0.029*\"like\" + 0.029*\"make\" + 0.027*\"employe\" + 0.026*\"peopl\" + 0.025*\"compani\" + 0.024*\"hard\" + 0.023*\"want\" + 0.023*\"take\" + 0.018*\"care\" + 0.018*\"better\"'),\n",
       " (10,\n",
       "  '0.065*\"compani\" + 0.047*\"busi\" + 0.045*\"mani\" + 0.041*\"provid\" + 0.026*\"world\" + 0.026*\"larg\" + 0.021*\"area\" + 0.018*\"differ\" + 0.016*\"exposur\" + 0.016*\"innov\" + 0.016*\"global\" + 0.015*\"experi\" + 0.014*\"solid\"'),\n",
       " (11,\n",
       "  '0.273*\"job\" + 0.064*\"free\" + 0.046*\"store\" + 0.043*\"worker\" + 0.040*\"level\" + 0.030*\"food\" + 0.029*\"secur\" + 0.024*\"co\" + 0.023*\"everyth\" + 0.019*\"class\" + 0.019*\"pros\" + 0.018*\"lunch\" + 0.018*\"first\"'),\n",
       " (12,\n",
       "  '0.111*\"lot\" + 0.089*\"learn\" + 0.062*\"work\" + 0.044*\"peopl\" + 0.042*\"opportun\" + 0.038*\"challeng\" + 0.034*\"interest\" + 0.030*\"project\" + 0.025*\"intern\" + 0.024*\"skill\" + 0.021*\"differ\" + 0.021*\"new\" + 0.021*\"meet\"'),\n",
       " (13,\n",
       "  '0.609*\"good\" + 0.121*\"benefit\" + 0.096*\"pay\" + 0.052*\"work\" + 0.033*\"compani\" + 0.026*\"peopl\" + 0.015*\"facil\" + 0.011*\"train\" + 0.006*\"alot\" + 0.005*\"coverag\" + 0.003*\"thought\" + 0.003*\"power\" + 0.002*\"late\"'),\n",
       " (14,\n",
       "  '0.229*\"flexibl\" + 0.179*\"hour\" + 0.145*\"work\" + 0.131*\"schedul\" + 0.066*\"amaz\" + 0.027*\"school\" + 0.026*\"benefit\" + 0.016*\"relax\" + 0.016*\"patient\" + 0.015*\"reason\" + 0.013*\"set\" + 0.011*\"shift\" + 0.010*\"workplac\"'),\n",
       " (15,\n",
       "  '0.059*\"around\" + 0.058*\"move\" + 0.056*\"technolog\" + 0.048*\"help\" + 0.044*\"abil\" + 0.044*\"new\" + 0.043*\"alway\" + 0.042*\"posit\" + 0.039*\"depart\" + 0.037*\"avail\" + 0.035*\"within\" + 0.027*\"promot\" + 0.025*\"will\"'),\n",
       " (16,\n",
       "  '0.184*\"opportun\" + 0.092*\"great\" + 0.072*\"career\" + 0.057*\"growth\" + 0.054*\"advanc\" + 0.051*\"lot\" + 0.046*\"compani\" + 0.041*\"grow\" + 0.035*\"benefit\" + 0.029*\"develop\" + 0.024*\"perk\" + 0.024*\"room\" + 0.023*\"train\"'),\n",
       " (17,\n",
       "  '0.149*\"salari\" + 0.092*\"competit\" + 0.064*\"benefit\" + 0.050*\"start\" + 0.041*\"hire\" + 0.040*\"packag\" + 0.031*\"think\" + 0.028*\"bad\" + 0.026*\"high\" + 0.025*\"retir\" + 0.024*\"compar\" + 0.022*\"overal\" + 0.020*\"averag\"'),\n",
       " (18,\n",
       "  '0.133*\"compens\" + 0.122*\"bonus\" + 0.058*\"base\" + 0.055*\"sale\" + 0.039*\"structur\" + 0.031*\"incent\" + 0.031*\"reward\" + 0.031*\"littl\" + 0.030*\"never\" + 0.028*\"commiss\" + 0.027*\"plus\" + 0.025*\"none\" + 0.020*\"annual\"'),\n",
       " (19,\n",
       "  '0.124*\"peopl\" + 0.102*\"smart\" + 0.052*\"awesom\" + 0.050*\"experi\" + 0.044*\"offic\" + 0.043*\"talent\" + 0.039*\"colleagu\" + 0.038*\"open\" + 0.036*\"brand\" + 0.034*\"profession\" + 0.030*\"name\" + 0.022*\"gain\" + 0.022*\"respons\"')]"
      ]
     },
     "execution_count": 36,
     "metadata": {},
     "output_type": "execute_result"
    }
   ],
   "source": [
    "ldamodel_stemmed_pros_20.show_topics(num_topics = 20, num_words = 13) # remove index to show all topics"
   ]
  },
  {
   "cell_type": "markdown",
   "metadata": {},
   "source": [
    "### Stemmed pros removing common stopwords (great, good, work, company)"
   ]
  },
  {
   "cell_type": "code",
   "execution_count": 47,
   "metadata": {},
   "outputs": [
    {
     "data": {
      "text/plain": [
       "[(0,\n",
       "  '0.067*\"perk\" + 0.053*\"right\" + 0.051*\"perform\" + 0.047*\"thing\" + 0.045*\"travel\" + 0.042*\"process\" + 0.037*\"mobil\" + 0.037*\"treat\" + 0.032*\"everyth\" + 0.030*\"fantast\" + 0.029*\"direct\" + 0.027*\"well\" + 0.025*\"patient\"'),\n",
       " (1,\n",
       "  '0.316*\"peopl\" + 0.066*\"smart\" + 0.058*\"help\" + 0.054*\"friend\" + 0.047*\"around\" + 0.045*\"interest\" + 0.039*\"project\" + 0.034*\"lot\" + 0.023*\"alway\" + 0.021*\"realli\" + 0.018*\"enjoy\" + 0.018*\"someth\" + 0.016*\"get\"'),\n",
       " (2,\n",
       "  '0.093*\"experi\" + 0.075*\"like\" + 0.073*\"famili\" + 0.053*\"room\" + 0.038*\"offer\" + 0.036*\"full\" + 0.027*\"gain\" + 0.024*\"huge\" + 0.022*\"varieti\" + 0.021*\"financi\" + 0.021*\"orient\" + 0.019*\"feel\" + 0.018*\"field\"'),\n",
       " (3,\n",
       "  '0.142*\"learn\" + 0.092*\"lot\" + 0.063*\"new\" + 0.048*\"product\" + 0.045*\"technolog\" + 0.044*\"divers\" + 0.031*\"skill\" + 0.028*\"talent\" + 0.024*\"busi\" + 0.023*\"experi\" + 0.022*\"meet\" + 0.022*\"knowledg\" + 0.016*\"improv\"'),\n",
       " (4,\n",
       "  '0.113*\"best\" + 0.085*\"compens\" + 0.058*\"industri\" + 0.053*\"one\" + 0.048*\"big\" + 0.045*\"world\" + 0.032*\"reason\" + 0.027*\"ive\" + 0.023*\"compar\" + 0.022*\"employ\" + 0.022*\"ever\" + 0.021*\"leader\" + 0.019*\"class\"'),\n",
       " (5,\n",
       "  '0.242*\"balanc\" + 0.182*\"life\" + 0.093*\"worklif\" + 0.085*\"locat\" + 0.062*\"benefit\" + 0.038*\"ok\" + 0.036*\"bad\" + 0.033*\"pros\" + 0.028*\"cultur\" + 0.024*\"close\" + 0.022*\"rate\" + 0.011*\"except\" + 0.008*\"commut\"'),\n",
       " (6,\n",
       "  '0.198*\"place\" + 0.111*\"train\" + 0.070*\"amaz\" + 0.070*\"associ\" + 0.054*\"awesom\" + 0.050*\"start\" + 0.042*\"job\" + 0.036*\"program\" + 0.033*\"atmospher\" + 0.028*\"secur\" + 0.022*\"wage\" + 0.018*\"give\" + 0.018*\"career\"'),\n",
       " (7,\n",
       "  '0.111*\"benefit\" + 0.102*\"k\" + 0.082*\"health\" + 0.057*\"insur\" + 0.053*\"bonus\" + 0.042*\"match\" + 0.041*\"plan\" + 0.039*\"option\" + 0.032*\"year\" + 0.030*\"stock\" + 0.030*\"averag\" + 0.029*\"pto\" + 0.022*\"includ\"'),\n",
       " (8,\n",
       "  '0.130*\"cultur\" + 0.045*\"valu\" + 0.044*\"love\" + 0.041*\"strong\" + 0.041*\"high\" + 0.032*\"focus\" + 0.030*\"profession\" + 0.027*\"corpor\" + 0.026*\"network\" + 0.024*\"provid\" + 0.022*\"look\" + 0.020*\"chang\" + 0.019*\"wonder\"'),\n",
       " (9,\n",
       "  '0.123*\"time\" + 0.116*\"benefit\" + 0.110*\"salari\" + 0.054*\"vacat\" + 0.051*\"paid\" + 0.048*\"day\" + 0.038*\"part\" + 0.032*\"packag\" + 0.029*\"week\" + 0.023*\"holiday\" + 0.023*\"competit\" + 0.022*\"union\" + 0.020*\"overal\"'),\n",
       " (10,\n",
       "  '0.239*\"flexibl\" + 0.187*\"hour\" + 0.136*\"schedul\" + 0.038*\"tuition\" + 0.037*\"reimburs\" + 0.030*\"time\" + 0.021*\"school\" + 0.018*\"shift\" + 0.018*\"plus\" + 0.017*\"lunch\" + 0.015*\"weekend\" + 0.015*\"set\" + 0.014*\"break\"'),\n",
       " (11,\n",
       "  '0.048*\"colleagu\" + 0.044*\"group\" + 0.044*\"base\" + 0.042*\"medic\" + 0.039*\"etc\" + 0.037*\"larg\" + 0.036*\"intern\" + 0.034*\"resum\" + 0.030*\"vision\" + 0.030*\"dental\" + 0.029*\"structur\" + 0.029*\"name\" + 0.021*\"commiss\"'),\n",
       " (12,\n",
       "  '0.061*\"store\" + 0.057*\"make\" + 0.051*\"abil\" + 0.051*\"money\" + 0.046*\"promot\" + 0.039*\"long\" + 0.036*\"depart\" + 0.034*\"hire\" + 0.031*\"depend\" + 0.031*\"month\" + 0.030*\"everi\" + 0.026*\"get\" + 0.025*\"facil\"'),\n",
       " (13,\n",
       "  '0.267*\"employe\" + 0.102*\"care\" + 0.057*\"benefit\" + 0.045*\"realli\" + 0.038*\"take\" + 0.033*\"share\" + 0.032*\"top\" + 0.028*\"pretti\" + 0.028*\"stabl\" + 0.023*\"seem\" + 0.018*\"well\" + 0.015*\"amount\" + 0.015*\"profit\"'),\n",
       " (14,\n",
       "  '0.190*\"manag\" + 0.107*\"team\" + 0.047*\"support\" + 0.032*\"help\" + 0.028*\"staff\" + 0.027*\"friend\" + 0.026*\"leadership\" + 0.025*\"worker\" + 0.020*\"level\" + 0.017*\"senior\" + 0.015*\"open\" + 0.014*\"reward\" + 0.014*\"co\"'),\n",
       " (15,\n",
       "  '0.062*\"job\" + 0.056*\"get\" + 0.028*\"easi\" + 0.024*\"want\" + 0.021*\"go\" + 0.021*\"make\" + 0.018*\"need\" + 0.016*\"much\" + 0.016*\"time\" + 0.016*\"like\" + 0.016*\"hard\" + 0.016*\"better\" + 0.014*\"day\"'),\n",
       " (16,\n",
       "  '0.173*\"nice\" + 0.086*\"peopl\" + 0.073*\"offic\" + 0.065*\"free\" + 0.031*\"food\" + 0.029*\"exposur\" + 0.027*\"cool\" + 0.023*\"build\" + 0.022*\"gym\" + 0.018*\"noth\" + 0.017*\"center\" + 0.017*\"enough\" + 0.015*\"els\"'),\n",
       " (17,\n",
       "  '0.184*\"opportun\" + 0.049*\"career\" + 0.045*\"lot\" + 0.043*\"mani\" + 0.042*\"growth\" + 0.038*\"advanc\" + 0.034*\"benefit\" + 0.030*\"train\" + 0.030*\"grow\" + 0.027*\"develop\" + 0.027*\"differ\" + 0.027*\"move\" + 0.024*\"within\"'),\n",
       " (18,\n",
       "  '0.239*\"environ\" + 0.116*\"custom\" + 0.072*\"fun\" + 0.070*\"challeng\" + 0.052*\"servic\" + 0.049*\"discount\" + 0.042*\"fast\" + 0.037*\"cowork\" + 0.032*\"pace\" + 0.019*\"back\" + 0.016*\"tech\" + 0.016*\"sale\" + 0.014*\"product\"'),\n",
       " (19,\n",
       "  '0.381*\"pay\" + 0.309*\"benefit\" + 0.097*\"decent\" + 0.045*\"excel\" + 0.034*\"competit\" + 0.023*\"cowork\" + 0.022*\"job\" + 0.016*\"fair\" + 0.012*\"well\" + 0.006*\"benifit\" + 0.005*\"area\" + 0.004*\"ot\" + 0.003*\"solid\"')]"
      ]
     },
     "execution_count": 47,
     "metadata": {},
     "output_type": "execute_result"
    }
   ],
   "source": [
    "# stemmed_pros = [tokenize_sentences(word) for word in stemmed_pros]\n",
    "stemmed_pros = pd.Series(stemmed_pros).apply(lambda x: remove_stopwords(x, ['great','good','work','compani']))\n",
    "dictionary_pros = corpora.Dictionary(stemmed_pros)\n",
    "pros_corpus = [dictionary_pros.doc2bow(text) for text in stemmed_pros]\n",
    "ldamodel_stemmed_pros_20_custom_stopwords = LdaModel(corpus = pros_corpus, num_topics=20, id2word = dictionary_pros, \n",
    "                                           passes=10, random_state = 25, minimum_probability = 0.0)\n",
    "temp_file = datapath(\"lda_stemmed_pros_20_custom_stopwords\")\n",
    "ldamodel_stemmed_pros_20_custom_stopwords.save(temp_file)\n",
    "ldamodel_stemmed_pros_20_custom_stopwords.show_topics(num_topics = 20, num_words = 13) # remove index to show all topics"
   ]
  },
  {
   "cell_type": "markdown",
   "metadata": {},
   "source": [
    "### Cons"
   ]
  },
  {
   "cell_type": "code",
   "execution_count": 66,
   "metadata": {},
   "outputs": [
    {
     "data": {
      "text/plain": [
       "[(0,\n",
       "  '0.023*\"get\" + 0.021*\"one\" + 0.019*\"people\" + 0.016*\"job\" + 0.015*\"even\" + 0.012*\"dont\" + 0.012*\"manager\" + 0.012*\"go\" + 0.011*\"youre\" + 0.010*\"want\" + 0.010*\"make\" + 0.010*\"time\" + 0.010*\"never\"'),\n",
       " (1,\n",
       "  '0.171*\"hours\" + 0.101*\"long\" + 0.039*\"time\" + 0.033*\"schedule\" + 0.033*\"working\" + 0.031*\"enough\" + 0.030*\"day\" + 0.030*\"days\" + 0.029*\"week\" + 0.019*\"shift\" + 0.014*\"weekends\" + 0.014*\"hour\" + 0.013*\"busy\"'),\n",
       " (2,\n",
       "  '0.131*\"store\" + 0.081*\"environment\" + 0.071*\"think\" + 0.064*\"none\" + 0.052*\"retail\" + 0.039*\"changing\" + 0.030*\"cant\" + 0.025*\"competitive\" + 0.023*\"driven\" + 0.019*\"toxic\" + 0.018*\"corporation\" + 0.018*\"constantly\" + 0.016*\"overall\"'),\n",
       " (3,\n",
       "  '0.085*\"great\" + 0.082*\"good\" + 0.066*\"really\" + 0.058*\"cons\" + 0.048*\"nothing\" + 0.039*\"place\" + 0.026*\"bad\" + 0.024*\"isnt\" + 0.022*\"say\" + 0.021*\"best\" + 0.021*\"much\" + 0.020*\"everything\" + 0.020*\"learn\"'),\n",
       " (4,\n",
       "  '0.075*\"sales\" + 0.070*\"customer\" + 0.042*\"service\" + 0.033*\"expectations\" + 0.031*\"customers\" + 0.031*\"goals\" + 0.021*\"numbers\" + 0.021*\"unrealistic\" + 0.020*\"pressure\" + 0.019*\"meet\" + 0.019*\"products\" + 0.018*\"sell\" + 0.018*\"high\"'),\n",
       " (5,\n",
       "  '0.019*\"metrics\" + 0.017*\"us\" + 0.015*\"everyone\" + 0.013*\"gets\" + 0.013*\"play\" + 0.012*\"managers\" + 0.012*\"technical\" + 0.011*\"true\" + 0.010*\"incompetent\" + 0.010*\"favorites\" + 0.010*\"quality\" + 0.010*\"attitude\" + 0.010*\"role\"'),\n",
       " (6,\n",
       "  '0.099*\"lots\" + 0.096*\"politics\" + 0.077*\"office\" + 0.037*\"call\" + 0.027*\"center\" + 0.025*\"back\" + 0.022*\"corporate\" + 0.019*\"environment\" + 0.016*\"improve\" + 0.015*\"depends\" + 0.015*\"field\" + 0.014*\"much\" + 0.014*\"workforce\"'),\n",
       " (7,\n",
       "  '0.061*\"like\" + 0.027*\"dont\" + 0.023*\"would\" + 0.020*\"employees\" + 0.019*\"feel\" + 0.019*\"know\" + 0.015*\"people\" + 0.013*\"managers\" + 0.013*\"supervisors\" + 0.011*\"training\" + 0.009*\"treated\" + 0.009*\"floor\" + 0.008*\"expect\"'),\n",
       " (8,\n",
       "  '0.225*\"management\" + 0.048*\"poor\" + 0.029*\"leadership\" + 0.026*\"upper\" + 0.025*\"senior\" + 0.023*\"level\" + 0.023*\"employees\" + 0.021*\"lack\" + 0.015*\"favoritism\" + 0.014*\"decisions\" + 0.013*\"managers\" + 0.012*\"terrible\" + 0.012*\"middle\"'),\n",
       " (9,\n",
       "  '0.051*\"slow\" + 0.050*\"large\" + 0.047*\"big\" + 0.036*\"culture\" + 0.027*\"opportunity\" + 0.026*\"old\" + 0.025*\"technology\" + 0.023*\"organization\" + 0.023*\"bureaucracy\" + 0.020*\"political\" + 0.019*\"processes\" + 0.018*\"change\" + 0.018*\"bit\"'),\n",
       " (10,\n",
       "  '0.127*\"balance\" + 0.111*\"life\" + 0.058*\"opportunities\" + 0.057*\"growth\" + 0.054*\"advancement\" + 0.054*\"career\" + 0.049*\"worklife\" + 0.042*\"limited\" + 0.037*\"room\" + 0.023*\"fast\" + 0.019*\"challenging\" + 0.018*\"little\" + 0.016*\"shifts\"'),\n",
       " (11,\n",
       "  '0.101*\"many\" + 0.032*\"often\" + 0.028*\"associates\" + 0.026*\"managers\" + 0.022*\"certain\" + 0.019*\"people\" + 0.018*\"issues\" + 0.018*\"huge\" + 0.016*\"system\" + 0.012*\"policies\" + 0.012*\"times\" + 0.011*\"lost\" + 0.011*\"areas\"'),\n",
       " (12,\n",
       "  '0.058*\"team\" + 0.051*\"training\" + 0.049*\"lack\" + 0.032*\"departments\" + 0.028*\"teams\" + 0.027*\"department\" + 0.021*\"needs\" + 0.021*\"program\" + 0.021*\"support\" + 0.020*\"communication\" + 0.019*\"different\" + 0.016*\"development\" + 0.014*\"career\"'),\n",
       " (13,\n",
       "  '0.058*\"job\" + 0.051*\"changes\" + 0.047*\"change\" + 0.039*\"constant\" + 0.038*\"layoffs\" + 0.035*\"every\" + 0.030*\"overtime\" + 0.023*\"due\" + 0.021*\"year\" + 0.018*\"short\" + 0.018*\"security\" + 0.015*\"term\" + 0.014*\"lot\"'),\n",
       " (14,\n",
       "  '0.092*\"employees\" + 0.040*\"care\" + 0.035*\"management\" + 0.032*\"employee\" + 0.030*\"benefits\" + 0.022*\"insurance\" + 0.022*\"health\" + 0.019*\"doesnt\" + 0.017*\"money\" + 0.012*\"dont\" + 0.012*\"workers\" + 0.012*\"union\" + 0.011*\"take\"'),\n",
       " (15,\n",
       "  '0.054*\"process\" + 0.037*\"may\" + 0.023*\"projects\" + 0.023*\"scheduling\" + 0.019*\"project\" + 0.017*\"tasks\" + 0.016*\"flexible\" + 0.014*\"review\" + 0.013*\"tend\" + 0.012*\"working\" + 0.012*\"outside\" + 0.012*\"meetings\" + 0.011*\"nice\"'),\n",
       " (16,\n",
       "  '0.037*\"people\" + 0.031*\"years\" + 0.030*\"business\" + 0.019*\"new\" + 0.018*\"many\" + 0.014*\"good\" + 0.014*\"experience\" + 0.012*\"culture\" + 0.012*\"location\" + 0.011*\"employees\" + 0.010*\"positions\" + 0.010*\"focused\" + 0.009*\"talent\"'),\n",
       " (17,\n",
       "  '0.146*\"pay\" + 0.064*\"low\" + 0.038*\"salary\" + 0.029*\"could\" + 0.025*\"based\" + 0.025*\"compensation\" + 0.025*\"better\" + 0.023*\"less\" + 0.023*\"raises\" + 0.015*\"promotions\" + 0.015*\"average\" + 0.014*\"benefits\" + 0.014*\"lower\"'),\n",
       " (18,\n",
       "  '0.093*\"high\" + 0.055*\"bad\" + 0.052*\"customers\" + 0.051*\"sometimes\" + 0.043*\"times\" + 0.040*\"stressful\" + 0.034*\"turnover\" + 0.030*\"stress\" + 0.024*\"environment\" + 0.022*\"workload\" + 0.018*\"rate\" + 0.017*\"depending\" + 0.017*\"load\"'),\n",
       " (19,\n",
       "  '0.096*\"get\" + 0.079*\"hard\" + 0.076*\"time\" + 0.041*\"move\" + 0.030*\"difficult\" + 0.021*\"full\" + 0.019*\"things\" + 0.019*\"done\" + 0.017*\"part\" + 0.016*\"lot\" + 0.014*\"sometimes\" + 0.014*\"position\" + 0.013*\"takes\"')]"
      ]
     },
     "execution_count": 66,
     "metadata": {},
     "output_type": "execute_result"
    }
   ],
   "source": [
    "ldamodel_cons.show_topics(num_topics = 20, num_words = 13)"
   ]
  },
  {
   "cell_type": "code",
   "execution_count": null,
   "metadata": {},
   "outputs": [],
   "source": []
  }
 ],
 "metadata": {
  "kernelspec": {
   "display_name": "Python 3",
   "language": "python",
   "name": "python3"
  },
  "language_info": {
   "codemirror_mode": {
    "name": "ipython",
    "version": 3
   },
   "file_extension": ".py",
   "mimetype": "text/x-python",
   "name": "python",
   "nbconvert_exporter": "python",
   "pygments_lexer": "ipython3",
   "version": "3.6.9"
  }
 },
 "nbformat": 4,
 "nbformat_minor": 2
}
