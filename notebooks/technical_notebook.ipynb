{
 "cells": [
  {
   "cell_type": "markdown",
   "metadata": {},
   "source": [
    "# Employee Satisfaction Themes\n",
    "\n",
    "\n",
    "## Project Goals\n",
    "- Attempt to discover common themes of employee satisfaction and dissatisfaction among Fortune 100 companies using reviews from glassdoor.com\n",
    "- Determine which companies particularly excel or fail in these categories\n",
    "- Attempt to discover common principles that companies advocate for in their mission and vision statements, using manually scraped mission and vision statements from company pages\n",
    "- Determine the amount of \"mismatch\" between employee and company sentiment, evaluating difference between employee-provided reviews and company mission and vision statements\n",
    "\n",
    "## Summary of Data\n",
    "The employee review data consists of 250,000+ employee-provided reviews of companies. This data was web-scraped from glassdoor.com, and contains information only from Fortune 100 companies. Each review consists of a \"Pros\" and \"Cons\" section."
   ]
  },
  {
   "cell_type": "markdown",
   "metadata": {},
   "source": [
    "### Library and Function Import"
   ]
  },
  {
   "cell_type": "code",
   "execution_count": 62,
   "metadata": {},
   "outputs": [
    {
     "data": {
      "text/html": [
       "        <script type=\"text/javascript\">\n",
       "        window.PlotlyConfig = {MathJaxConfig: 'local'};\n",
       "        if (window.MathJax) {MathJax.Hub.Config({SVG: {font: \"STIX-Web\"}});}\n",
       "        if (typeof require !== 'undefined') {\n",
       "        require.undef(\"plotly\");\n",
       "        requirejs.config({\n",
       "            paths: {\n",
       "                'plotly': ['https://cdn.plot.ly/plotly-latest.min']\n",
       "            }\n",
       "        });\n",
       "        require(['plotly'], function(Plotly) {\n",
       "            window._Plotly = Plotly;\n",
       "        });\n",
       "        }\n",
       "        </script>\n",
       "        "
      ]
     },
     "metadata": {},
     "output_type": "display_data"
    }
   ],
   "source": [
    "#Import libraries\n",
    "%run ../python_files/libraries\n",
    "%run ../python_files/functions\n",
    "%matplotlib inline\n",
    "# from libraries import *   #for use within .py file"
   ]
  },
  {
   "cell_type": "markdown",
   "metadata": {},
   "source": [
    "### Object Import"
   ]
  },
  {
   "cell_type": "code",
   "execution_count": 58,
   "metadata": {},
   "outputs": [],
   "source": [
    "# 'unpickle' saved objects\n",
    "with open('../../saved_objects/tokenized_pros.pkl', 'rb') as f:\n",
    "    tokenized_pros = pickle.load(f)\n",
    "with open('../../saved_objects/tokenized_cons.pkl', 'rb') as f:\n",
    "    tokenized_cons = pickle.load(f)\n",
    "with open('../../saved_objects/stemmed_pros.pkl', 'rb') as f:\n",
    "    stemmed_pros = pickle.load(f)\n",
    "with open('../../saved_objects/stemmed_cons.pkl', 'rb') as f:\n",
    "    stemmed_cons = pickle.load(f)\n",
    "with open('../../saved_objects/top_adjectives_pros.pkl', 'rb') as f:\n",
    "    top_adjectives_pros = pickle.load(f)\n",
    "with open('../../saved_objects/top_adjectives_cons.pkl', 'rb') as f:\n",
    "    top_adjectives_cons = pickle.load(f)\n",
    "with open('../../saved_objects/ldamodel_pros.pkl', 'rb') as f:\n",
    "    ldamodel_pros = pickle.load(f)\n",
    "with open('../../saved_objects/ldamodel_cons.pkl', 'rb') as f:\n",
    "    ldamodel_cons = pickle.load(f)"
   ]
  },
  {
   "cell_type": "markdown",
   "metadata": {},
   "source": [
    "## Initial Exploratory Analysis\n",
    "\n",
    "### How do employees differ in describing jobs they enjoy vs. jobs they hate?\n",
    "We can use the previously POS-tagged reviews that we generated using SpaCy and discover what the most commonly used adjectives are. This is extremely useful in text generated from any sort of reviews. We can roughly gauge the way people view a certain item, product, or company in our case.\n",
    "### Most common adjectives used in Pros:"
   ]
  },
  {
   "cell_type": "code",
   "execution_count": 55,
   "metadata": {
    "scrolled": false
   },
   "outputs": [
    {
     "data": {
      "application/vnd.plotly.v1+json": {
       "config": {
        "linkText": "Export to plot.ly",
        "plotlyServerURL": "https://plot.ly",
        "showLink": true
       },
       "data": [
        {
         "marker": {
          "color": "rgba(0, 128, 0, 0.6)",
          "line": {
           "color": "rgba(0, 128, 0, 1.0)",
           "width": 1
          }
         },
         "name": "count",
         "orientation": "h",
         "text": "",
         "type": "bar",
         "x": [
          135,
          142,
          155,
          185,
          221,
          232,
          232,
          251,
          271,
          277,
          283,
          322,
          361,
          367,
          379,
          423,
          482,
          593,
          3454,
          3591
         ],
         "y": [
          "high",
          "interesting",
          "strong",
          "large",
          "competitive",
          "free",
          "amazing",
          "different",
          "smart",
          "easy",
          "new",
          "best",
          "friendly",
          "excellent",
          "many",
          "decent",
          "nice",
          "flexible",
          "good",
          "great"
         ]
        }
       ],
       "layout": {
        "legend": {
         "bgcolor": "#F5F6F9",
         "font": {
          "color": "#4D5663"
         }
        },
        "paper_bgcolor": "#F5F6F9",
        "plot_bgcolor": "#F5F6F9",
        "template": {
         "data": {
          "bar": [
           {
            "error_x": {
             "color": "#2a3f5f"
            },
            "error_y": {
             "color": "#2a3f5f"
            },
            "marker": {
             "line": {
              "color": "#E5ECF6",
              "width": 0.5
             }
            },
            "type": "bar"
           }
          ],
          "barpolar": [
           {
            "marker": {
             "line": {
              "color": "#E5ECF6",
              "width": 0.5
             }
            },
            "type": "barpolar"
           }
          ],
          "carpet": [
           {
            "aaxis": {
             "endlinecolor": "#2a3f5f",
             "gridcolor": "white",
             "linecolor": "white",
             "minorgridcolor": "white",
             "startlinecolor": "#2a3f5f"
            },
            "baxis": {
             "endlinecolor": "#2a3f5f",
             "gridcolor": "white",
             "linecolor": "white",
             "minorgridcolor": "white",
             "startlinecolor": "#2a3f5f"
            },
            "type": "carpet"
           }
          ],
          "choropleth": [
           {
            "colorbar": {
             "outlinewidth": 0,
             "ticks": ""
            },
            "type": "choropleth"
           }
          ],
          "contour": [
           {
            "colorbar": {
             "outlinewidth": 0,
             "ticks": ""
            },
            "colorscale": [
             [
              0,
              "#0d0887"
             ],
             [
              0.1111111111111111,
              "#46039f"
             ],
             [
              0.2222222222222222,
              "#7201a8"
             ],
             [
              0.3333333333333333,
              "#9c179e"
             ],
             [
              0.4444444444444444,
              "#bd3786"
             ],
             [
              0.5555555555555556,
              "#d8576b"
             ],
             [
              0.6666666666666666,
              "#ed7953"
             ],
             [
              0.7777777777777778,
              "#fb9f3a"
             ],
             [
              0.8888888888888888,
              "#fdca26"
             ],
             [
              1,
              "#f0f921"
             ]
            ],
            "type": "contour"
           }
          ],
          "contourcarpet": [
           {
            "colorbar": {
             "outlinewidth": 0,
             "ticks": ""
            },
            "type": "contourcarpet"
           }
          ],
          "heatmap": [
           {
            "colorbar": {
             "outlinewidth": 0,
             "ticks": ""
            },
            "colorscale": [
             [
              0,
              "#0d0887"
             ],
             [
              0.1111111111111111,
              "#46039f"
             ],
             [
              0.2222222222222222,
              "#7201a8"
             ],
             [
              0.3333333333333333,
              "#9c179e"
             ],
             [
              0.4444444444444444,
              "#bd3786"
             ],
             [
              0.5555555555555556,
              "#d8576b"
             ],
             [
              0.6666666666666666,
              "#ed7953"
             ],
             [
              0.7777777777777778,
              "#fb9f3a"
             ],
             [
              0.8888888888888888,
              "#fdca26"
             ],
             [
              1,
              "#f0f921"
             ]
            ],
            "type": "heatmap"
           }
          ],
          "heatmapgl": [
           {
            "colorbar": {
             "outlinewidth": 0,
             "ticks": ""
            },
            "colorscale": [
             [
              0,
              "#0d0887"
             ],
             [
              0.1111111111111111,
              "#46039f"
             ],
             [
              0.2222222222222222,
              "#7201a8"
             ],
             [
              0.3333333333333333,
              "#9c179e"
             ],
             [
              0.4444444444444444,
              "#bd3786"
             ],
             [
              0.5555555555555556,
              "#d8576b"
             ],
             [
              0.6666666666666666,
              "#ed7953"
             ],
             [
              0.7777777777777778,
              "#fb9f3a"
             ],
             [
              0.8888888888888888,
              "#fdca26"
             ],
             [
              1,
              "#f0f921"
             ]
            ],
            "type": "heatmapgl"
           }
          ],
          "histogram": [
           {
            "marker": {
             "colorbar": {
              "outlinewidth": 0,
              "ticks": ""
             }
            },
            "type": "histogram"
           }
          ],
          "histogram2d": [
           {
            "colorbar": {
             "outlinewidth": 0,
             "ticks": ""
            },
            "colorscale": [
             [
              0,
              "#0d0887"
             ],
             [
              0.1111111111111111,
              "#46039f"
             ],
             [
              0.2222222222222222,
              "#7201a8"
             ],
             [
              0.3333333333333333,
              "#9c179e"
             ],
             [
              0.4444444444444444,
              "#bd3786"
             ],
             [
              0.5555555555555556,
              "#d8576b"
             ],
             [
              0.6666666666666666,
              "#ed7953"
             ],
             [
              0.7777777777777778,
              "#fb9f3a"
             ],
             [
              0.8888888888888888,
              "#fdca26"
             ],
             [
              1,
              "#f0f921"
             ]
            ],
            "type": "histogram2d"
           }
          ],
          "histogram2dcontour": [
           {
            "colorbar": {
             "outlinewidth": 0,
             "ticks": ""
            },
            "colorscale": [
             [
              0,
              "#0d0887"
             ],
             [
              0.1111111111111111,
              "#46039f"
             ],
             [
              0.2222222222222222,
              "#7201a8"
             ],
             [
              0.3333333333333333,
              "#9c179e"
             ],
             [
              0.4444444444444444,
              "#bd3786"
             ],
             [
              0.5555555555555556,
              "#d8576b"
             ],
             [
              0.6666666666666666,
              "#ed7953"
             ],
             [
              0.7777777777777778,
              "#fb9f3a"
             ],
             [
              0.8888888888888888,
              "#fdca26"
             ],
             [
              1,
              "#f0f921"
             ]
            ],
            "type": "histogram2dcontour"
           }
          ],
          "mesh3d": [
           {
            "colorbar": {
             "outlinewidth": 0,
             "ticks": ""
            },
            "type": "mesh3d"
           }
          ],
          "parcoords": [
           {
            "line": {
             "colorbar": {
              "outlinewidth": 0,
              "ticks": ""
             }
            },
            "type": "parcoords"
           }
          ],
          "scatter": [
           {
            "marker": {
             "colorbar": {
              "outlinewidth": 0,
              "ticks": ""
             }
            },
            "type": "scatter"
           }
          ],
          "scatter3d": [
           {
            "line": {
             "colorbar": {
              "outlinewidth": 0,
              "ticks": ""
             }
            },
            "marker": {
             "colorbar": {
              "outlinewidth": 0,
              "ticks": ""
             }
            },
            "type": "scatter3d"
           }
          ],
          "scattercarpet": [
           {
            "marker": {
             "colorbar": {
              "outlinewidth": 0,
              "ticks": ""
             }
            },
            "type": "scattercarpet"
           }
          ],
          "scattergeo": [
           {
            "marker": {
             "colorbar": {
              "outlinewidth": 0,
              "ticks": ""
             }
            },
            "type": "scattergeo"
           }
          ],
          "scattergl": [
           {
            "marker": {
             "colorbar": {
              "outlinewidth": 0,
              "ticks": ""
             }
            },
            "type": "scattergl"
           }
          ],
          "scattermapbox": [
           {
            "marker": {
             "colorbar": {
              "outlinewidth": 0,
              "ticks": ""
             }
            },
            "type": "scattermapbox"
           }
          ],
          "scatterpolar": [
           {
            "marker": {
             "colorbar": {
              "outlinewidth": 0,
              "ticks": ""
             }
            },
            "type": "scatterpolar"
           }
          ],
          "scatterpolargl": [
           {
            "marker": {
             "colorbar": {
              "outlinewidth": 0,
              "ticks": ""
             }
            },
            "type": "scatterpolargl"
           }
          ],
          "scatterternary": [
           {
            "marker": {
             "colorbar": {
              "outlinewidth": 0,
              "ticks": ""
             }
            },
            "type": "scatterternary"
           }
          ],
          "surface": [
           {
            "colorbar": {
             "outlinewidth": 0,
             "ticks": ""
            },
            "colorscale": [
             [
              0,
              "#0d0887"
             ],
             [
              0.1111111111111111,
              "#46039f"
             ],
             [
              0.2222222222222222,
              "#7201a8"
             ],
             [
              0.3333333333333333,
              "#9c179e"
             ],
             [
              0.4444444444444444,
              "#bd3786"
             ],
             [
              0.5555555555555556,
              "#d8576b"
             ],
             [
              0.6666666666666666,
              "#ed7953"
             ],
             [
              0.7777777777777778,
              "#fb9f3a"
             ],
             [
              0.8888888888888888,
              "#fdca26"
             ],
             [
              1,
              "#f0f921"
             ]
            ],
            "type": "surface"
           }
          ],
          "table": [
           {
            "cells": {
             "fill": {
              "color": "#EBF0F8"
             },
             "line": {
              "color": "white"
             }
            },
            "header": {
             "fill": {
              "color": "#C8D4E3"
             },
             "line": {
              "color": "white"
             }
            },
            "type": "table"
           }
          ]
         },
         "layout": {
          "annotationdefaults": {
           "arrowcolor": "#2a3f5f",
           "arrowhead": 0,
           "arrowwidth": 1
          },
          "colorscale": {
           "diverging": [
            [
             0,
             "#8e0152"
            ],
            [
             0.1,
             "#c51b7d"
            ],
            [
             0.2,
             "#de77ae"
            ],
            [
             0.3,
             "#f1b6da"
            ],
            [
             0.4,
             "#fde0ef"
            ],
            [
             0.5,
             "#f7f7f7"
            ],
            [
             0.6,
             "#e6f5d0"
            ],
            [
             0.7,
             "#b8e186"
            ],
            [
             0.8,
             "#7fbc41"
            ],
            [
             0.9,
             "#4d9221"
            ],
            [
             1,
             "#276419"
            ]
           ],
           "sequential": [
            [
             0,
             "#0d0887"
            ],
            [
             0.1111111111111111,
             "#46039f"
            ],
            [
             0.2222222222222222,
             "#7201a8"
            ],
            [
             0.3333333333333333,
             "#9c179e"
            ],
            [
             0.4444444444444444,
             "#bd3786"
            ],
            [
             0.5555555555555556,
             "#d8576b"
            ],
            [
             0.6666666666666666,
             "#ed7953"
            ],
            [
             0.7777777777777778,
             "#fb9f3a"
            ],
            [
             0.8888888888888888,
             "#fdca26"
            ],
            [
             1,
             "#f0f921"
            ]
           ],
           "sequentialminus": [
            [
             0,
             "#0d0887"
            ],
            [
             0.1111111111111111,
             "#46039f"
            ],
            [
             0.2222222222222222,
             "#7201a8"
            ],
            [
             0.3333333333333333,
             "#9c179e"
            ],
            [
             0.4444444444444444,
             "#bd3786"
            ],
            [
             0.5555555555555556,
             "#d8576b"
            ],
            [
             0.6666666666666666,
             "#ed7953"
            ],
            [
             0.7777777777777778,
             "#fb9f3a"
            ],
            [
             0.8888888888888888,
             "#fdca26"
            ],
            [
             1,
             "#f0f921"
            ]
           ]
          },
          "colorway": [
           "#636efa",
           "#EF553B",
           "#00cc96",
           "#ab63fa",
           "#FFA15A",
           "#19d3f3",
           "#FF6692",
           "#B6E880",
           "#FF97FF",
           "#FECB52"
          ],
          "font": {
           "color": "#2a3f5f"
          },
          "geo": {
           "bgcolor": "white",
           "lakecolor": "white",
           "landcolor": "#E5ECF6",
           "showlakes": true,
           "showland": true,
           "subunitcolor": "white"
          },
          "hoverlabel": {
           "align": "left"
          },
          "hovermode": "closest",
          "mapbox": {
           "style": "light"
          },
          "paper_bgcolor": "white",
          "plot_bgcolor": "#E5ECF6",
          "polar": {
           "angularaxis": {
            "gridcolor": "white",
            "linecolor": "white",
            "ticks": ""
           },
           "bgcolor": "#E5ECF6",
           "radialaxis": {
            "gridcolor": "white",
            "linecolor": "white",
            "ticks": ""
           }
          },
          "scene": {
           "xaxis": {
            "backgroundcolor": "#E5ECF6",
            "gridcolor": "white",
            "gridwidth": 2,
            "linecolor": "white",
            "showbackground": true,
            "ticks": "",
            "zerolinecolor": "white"
           },
           "yaxis": {
            "backgroundcolor": "#E5ECF6",
            "gridcolor": "white",
            "gridwidth": 2,
            "linecolor": "white",
            "showbackground": true,
            "ticks": "",
            "zerolinecolor": "white"
           },
           "zaxis": {
            "backgroundcolor": "#E5ECF6",
            "gridcolor": "white",
            "gridwidth": 2,
            "linecolor": "white",
            "showbackground": true,
            "ticks": "",
            "zerolinecolor": "white"
           }
          },
          "shapedefaults": {
           "line": {
            "color": "#2a3f5f"
           }
          },
          "ternary": {
           "aaxis": {
            "gridcolor": "white",
            "linecolor": "white",
            "ticks": ""
           },
           "baxis": {
            "gridcolor": "white",
            "linecolor": "white",
            "ticks": ""
           },
           "bgcolor": "#E5ECF6",
           "caxis": {
            "gridcolor": "white",
            "linecolor": "white",
            "ticks": ""
           }
          },
          "title": {
           "x": 0.05
          },
          "xaxis": {
           "automargin": true,
           "gridcolor": "white",
           "linecolor": "white",
           "ticks": "",
           "zerolinecolor": "white",
           "zerolinewidth": 2
          },
          "yaxis": {
           "automargin": true,
           "gridcolor": "white",
           "linecolor": "white",
           "ticks": "",
           "zerolinecolor": "white",
           "zerolinewidth": 2
          }
         }
        },
        "title": {
         "font": {
          "color": "#4D5663"
         },
         "text": "Top 20 Adjectives in 'Pros' after Removing Stop Words (sample of 10k):"
        },
        "xaxis": {
         "gridcolor": "#E1E5ED",
         "linecolor": "black",
         "showgrid": true,
         "tickfont": {
          "color": "#4D5663"
         },
         "title": {
          "font": {
           "color": "#4D5663"
          },
          "text": "Count"
         },
         "zerolinecolor": "#E1E5ED"
        },
        "yaxis": {
         "gridcolor": "#E1E5ED",
         "linecolor": "black",
         "showgrid": true,
         "tickfont": {
          "color": "#4D5663"
         },
         "title": {
          "font": {
           "color": "#4D5663"
          },
          "text": ""
         },
         "zerolinecolor": "#E1E5ED"
        }
       }
      },
      "text/html": [
       "<div>\n",
       "        \n",
       "        \n",
       "            <div id=\"1b8add47-f9df-4477-961e-17b019a5f231\" class=\"plotly-graph-div\" style=\"height:525px; width:100%;\"></div>\n",
       "            <script type=\"text/javascript\">\n",
       "                require([\"plotly\"], function(Plotly) {\n",
       "                    window.PLOTLYENV=window.PLOTLYENV || {};\n",
       "                    window.PLOTLYENV.BASE_URL='https://plot.ly';\n",
       "                    \n",
       "                if (document.getElementById(\"1b8add47-f9df-4477-961e-17b019a5f231\")) {\n",
       "                    Plotly.newPlot(\n",
       "                        '1b8add47-f9df-4477-961e-17b019a5f231',\n",
       "                        [{\"marker\": {\"color\": \"rgba(0, 128, 0, 0.6)\", \"line\": {\"color\": \"rgba(0, 128, 0, 1.0)\", \"width\": 1}}, \"name\": \"count\", \"orientation\": \"h\", \"text\": \"\", \"type\": \"bar\", \"x\": [135, 142, 155, 185, 221, 232, 232, 251, 271, 277, 283, 322, 361, 367, 379, 423, 482, 593, 3454, 3591], \"y\": [\"high\", \"interesting\", \"strong\", \"large\", \"competitive\", \"free\", \"amazing\", \"different\", \"smart\", \"easy\", \"new\", \"best\", \"friendly\", \"excellent\", \"many\", \"decent\", \"nice\", \"flexible\", \"good\", \"great\"]}],\n",
       "                        {\"legend\": {\"bgcolor\": \"#F5F6F9\", \"font\": {\"color\": \"#4D5663\"}}, \"paper_bgcolor\": \"#F5F6F9\", \"plot_bgcolor\": \"#F5F6F9\", \"template\": {\"data\": {\"bar\": [{\"error_x\": {\"color\": \"#2a3f5f\"}, \"error_y\": {\"color\": \"#2a3f5f\"}, \"marker\": {\"line\": {\"color\": \"#E5ECF6\", \"width\": 0.5}}, \"type\": \"bar\"}], \"barpolar\": [{\"marker\": {\"line\": {\"color\": \"#E5ECF6\", \"width\": 0.5}}, \"type\": \"barpolar\"}], \"carpet\": [{\"aaxis\": {\"endlinecolor\": \"#2a3f5f\", \"gridcolor\": \"white\", \"linecolor\": \"white\", \"minorgridcolor\": \"white\", \"startlinecolor\": \"#2a3f5f\"}, \"baxis\": {\"endlinecolor\": \"#2a3f5f\", \"gridcolor\": \"white\", \"linecolor\": \"white\", \"minorgridcolor\": \"white\", \"startlinecolor\": \"#2a3f5f\"}, \"type\": \"carpet\"}], \"choropleth\": [{\"colorbar\": {\"outlinewidth\": 0, \"ticks\": \"\"}, \"type\": \"choropleth\"}], \"contour\": [{\"colorbar\": {\"outlinewidth\": 0, \"ticks\": \"\"}, \"colorscale\": [[0.0, \"#0d0887\"], [0.1111111111111111, \"#46039f\"], [0.2222222222222222, \"#7201a8\"], [0.3333333333333333, \"#9c179e\"], [0.4444444444444444, \"#bd3786\"], [0.5555555555555556, \"#d8576b\"], [0.6666666666666666, \"#ed7953\"], [0.7777777777777778, \"#fb9f3a\"], [0.8888888888888888, \"#fdca26\"], [1.0, \"#f0f921\"]], \"type\": \"contour\"}], \"contourcarpet\": [{\"colorbar\": {\"outlinewidth\": 0, \"ticks\": \"\"}, \"type\": \"contourcarpet\"}], \"heatmap\": [{\"colorbar\": {\"outlinewidth\": 0, \"ticks\": \"\"}, \"colorscale\": [[0.0, \"#0d0887\"], [0.1111111111111111, \"#46039f\"], [0.2222222222222222, \"#7201a8\"], [0.3333333333333333, \"#9c179e\"], [0.4444444444444444, \"#bd3786\"], [0.5555555555555556, \"#d8576b\"], [0.6666666666666666, \"#ed7953\"], [0.7777777777777778, \"#fb9f3a\"], [0.8888888888888888, \"#fdca26\"], [1.0, \"#f0f921\"]], \"type\": \"heatmap\"}], \"heatmapgl\": [{\"colorbar\": {\"outlinewidth\": 0, \"ticks\": \"\"}, \"colorscale\": [[0.0, \"#0d0887\"], [0.1111111111111111, \"#46039f\"], [0.2222222222222222, \"#7201a8\"], [0.3333333333333333, \"#9c179e\"], [0.4444444444444444, \"#bd3786\"], [0.5555555555555556, \"#d8576b\"], [0.6666666666666666, \"#ed7953\"], [0.7777777777777778, \"#fb9f3a\"], [0.8888888888888888, \"#fdca26\"], [1.0, \"#f0f921\"]], \"type\": \"heatmapgl\"}], \"histogram\": [{\"marker\": {\"colorbar\": {\"outlinewidth\": 0, \"ticks\": \"\"}}, \"type\": \"histogram\"}], \"histogram2d\": [{\"colorbar\": {\"outlinewidth\": 0, \"ticks\": \"\"}, \"colorscale\": [[0.0, \"#0d0887\"], [0.1111111111111111, \"#46039f\"], [0.2222222222222222, \"#7201a8\"], [0.3333333333333333, \"#9c179e\"], [0.4444444444444444, \"#bd3786\"], [0.5555555555555556, \"#d8576b\"], [0.6666666666666666, \"#ed7953\"], [0.7777777777777778, \"#fb9f3a\"], [0.8888888888888888, \"#fdca26\"], [1.0, \"#f0f921\"]], \"type\": \"histogram2d\"}], \"histogram2dcontour\": [{\"colorbar\": {\"outlinewidth\": 0, \"ticks\": \"\"}, \"colorscale\": [[0.0, \"#0d0887\"], [0.1111111111111111, \"#46039f\"], [0.2222222222222222, \"#7201a8\"], [0.3333333333333333, \"#9c179e\"], [0.4444444444444444, \"#bd3786\"], [0.5555555555555556, \"#d8576b\"], [0.6666666666666666, \"#ed7953\"], [0.7777777777777778, \"#fb9f3a\"], [0.8888888888888888, \"#fdca26\"], [1.0, \"#f0f921\"]], \"type\": \"histogram2dcontour\"}], \"mesh3d\": [{\"colorbar\": {\"outlinewidth\": 0, \"ticks\": \"\"}, \"type\": \"mesh3d\"}], \"parcoords\": [{\"line\": {\"colorbar\": {\"outlinewidth\": 0, \"ticks\": \"\"}}, \"type\": \"parcoords\"}], \"scatter\": [{\"marker\": {\"colorbar\": {\"outlinewidth\": 0, \"ticks\": \"\"}}, \"type\": \"scatter\"}], \"scatter3d\": [{\"line\": {\"colorbar\": {\"outlinewidth\": 0, \"ticks\": \"\"}}, \"marker\": {\"colorbar\": {\"outlinewidth\": 0, \"ticks\": \"\"}}, \"type\": \"scatter3d\"}], \"scattercarpet\": [{\"marker\": {\"colorbar\": {\"outlinewidth\": 0, \"ticks\": \"\"}}, \"type\": \"scattercarpet\"}], \"scattergeo\": [{\"marker\": {\"colorbar\": {\"outlinewidth\": 0, \"ticks\": \"\"}}, \"type\": \"scattergeo\"}], \"scattergl\": [{\"marker\": {\"colorbar\": {\"outlinewidth\": 0, \"ticks\": \"\"}}, \"type\": \"scattergl\"}], \"scattermapbox\": [{\"marker\": {\"colorbar\": {\"outlinewidth\": 0, \"ticks\": \"\"}}, \"type\": \"scattermapbox\"}], \"scatterpolar\": [{\"marker\": {\"colorbar\": {\"outlinewidth\": 0, \"ticks\": \"\"}}, \"type\": \"scatterpolar\"}], \"scatterpolargl\": [{\"marker\": {\"colorbar\": {\"outlinewidth\": 0, \"ticks\": \"\"}}, \"type\": \"scatterpolargl\"}], \"scatterternary\": [{\"marker\": {\"colorbar\": {\"outlinewidth\": 0, \"ticks\": \"\"}}, \"type\": \"scatterternary\"}], \"surface\": [{\"colorbar\": {\"outlinewidth\": 0, \"ticks\": \"\"}, \"colorscale\": [[0.0, \"#0d0887\"], [0.1111111111111111, \"#46039f\"], [0.2222222222222222, \"#7201a8\"], [0.3333333333333333, \"#9c179e\"], [0.4444444444444444, \"#bd3786\"], [0.5555555555555556, \"#d8576b\"], [0.6666666666666666, \"#ed7953\"], [0.7777777777777778, \"#fb9f3a\"], [0.8888888888888888, \"#fdca26\"], [1.0, \"#f0f921\"]], \"type\": \"surface\"}], \"table\": [{\"cells\": {\"fill\": {\"color\": \"#EBF0F8\"}, \"line\": {\"color\": \"white\"}}, \"header\": {\"fill\": {\"color\": \"#C8D4E3\"}, \"line\": {\"color\": \"white\"}}, \"type\": \"table\"}]}, \"layout\": {\"annotationdefaults\": {\"arrowcolor\": \"#2a3f5f\", \"arrowhead\": 0, \"arrowwidth\": 1}, \"colorscale\": {\"diverging\": [[0, \"#8e0152\"], [0.1, \"#c51b7d\"], [0.2, \"#de77ae\"], [0.3, \"#f1b6da\"], [0.4, \"#fde0ef\"], [0.5, \"#f7f7f7\"], [0.6, \"#e6f5d0\"], [0.7, \"#b8e186\"], [0.8, \"#7fbc41\"], [0.9, \"#4d9221\"], [1, \"#276419\"]], \"sequential\": [[0.0, \"#0d0887\"], [0.1111111111111111, \"#46039f\"], [0.2222222222222222, \"#7201a8\"], [0.3333333333333333, \"#9c179e\"], [0.4444444444444444, \"#bd3786\"], [0.5555555555555556, \"#d8576b\"], [0.6666666666666666, \"#ed7953\"], [0.7777777777777778, \"#fb9f3a\"], [0.8888888888888888, \"#fdca26\"], [1.0, \"#f0f921\"]], \"sequentialminus\": [[0.0, \"#0d0887\"], [0.1111111111111111, \"#46039f\"], [0.2222222222222222, \"#7201a8\"], [0.3333333333333333, \"#9c179e\"], [0.4444444444444444, \"#bd3786\"], [0.5555555555555556, \"#d8576b\"], [0.6666666666666666, \"#ed7953\"], [0.7777777777777778, \"#fb9f3a\"], [0.8888888888888888, \"#fdca26\"], [1.0, \"#f0f921\"]]}, \"colorway\": [\"#636efa\", \"#EF553B\", \"#00cc96\", \"#ab63fa\", \"#FFA15A\", \"#19d3f3\", \"#FF6692\", \"#B6E880\", \"#FF97FF\", \"#FECB52\"], \"font\": {\"color\": \"#2a3f5f\"}, \"geo\": {\"bgcolor\": \"white\", \"lakecolor\": \"white\", \"landcolor\": \"#E5ECF6\", \"showlakes\": true, \"showland\": true, \"subunitcolor\": \"white\"}, \"hoverlabel\": {\"align\": \"left\"}, \"hovermode\": \"closest\", \"mapbox\": {\"style\": \"light\"}, \"paper_bgcolor\": \"white\", \"plot_bgcolor\": \"#E5ECF6\", \"polar\": {\"angularaxis\": {\"gridcolor\": \"white\", \"linecolor\": \"white\", \"ticks\": \"\"}, \"bgcolor\": \"#E5ECF6\", \"radialaxis\": {\"gridcolor\": \"white\", \"linecolor\": \"white\", \"ticks\": \"\"}}, \"scene\": {\"xaxis\": {\"backgroundcolor\": \"#E5ECF6\", \"gridcolor\": \"white\", \"gridwidth\": 2, \"linecolor\": \"white\", \"showbackground\": true, \"ticks\": \"\", \"zerolinecolor\": \"white\"}, \"yaxis\": {\"backgroundcolor\": \"#E5ECF6\", \"gridcolor\": \"white\", \"gridwidth\": 2, \"linecolor\": \"white\", \"showbackground\": true, \"ticks\": \"\", \"zerolinecolor\": \"white\"}, \"zaxis\": {\"backgroundcolor\": \"#E5ECF6\", \"gridcolor\": \"white\", \"gridwidth\": 2, \"linecolor\": \"white\", \"showbackground\": true, \"ticks\": \"\", \"zerolinecolor\": \"white\"}}, \"shapedefaults\": {\"line\": {\"color\": \"#2a3f5f\"}}, \"ternary\": {\"aaxis\": {\"gridcolor\": \"white\", \"linecolor\": \"white\", \"ticks\": \"\"}, \"baxis\": {\"gridcolor\": \"white\", \"linecolor\": \"white\", \"ticks\": \"\"}, \"bgcolor\": \"#E5ECF6\", \"caxis\": {\"gridcolor\": \"white\", \"linecolor\": \"white\", \"ticks\": \"\"}}, \"title\": {\"x\": 0.05}, \"xaxis\": {\"automargin\": true, \"gridcolor\": \"white\", \"linecolor\": \"white\", \"ticks\": \"\", \"zerolinecolor\": \"white\", \"zerolinewidth\": 2}, \"yaxis\": {\"automargin\": true, \"gridcolor\": \"white\", \"linecolor\": \"white\", \"ticks\": \"\", \"zerolinecolor\": \"white\", \"zerolinewidth\": 2}}}, \"title\": {\"font\": {\"color\": \"#4D5663\"}, \"text\": \"Top 20 Adjectives in 'Pros' after Removing Stop Words (sample of 10k):\"}, \"xaxis\": {\"gridcolor\": \"#E1E5ED\", \"linecolor\": \"black\", \"showgrid\": true, \"tickfont\": {\"color\": \"#4D5663\"}, \"title\": {\"font\": {\"color\": \"#4D5663\"}, \"text\": \"Count\"}, \"zerolinecolor\": \"#E1E5ED\"}, \"yaxis\": {\"gridcolor\": \"#E1E5ED\", \"linecolor\": \"black\", \"showgrid\": true, \"tickfont\": {\"color\": \"#4D5663\"}, \"title\": {\"font\": {\"color\": \"#4D5663\"}, \"text\": \"\"}, \"zerolinecolor\": \"#E1E5ED\"}},\n",
       "                        {\"showLink\": true, \"linkText\": \"Export to plot.ly\", \"plotlyServerURL\": \"https://plot.ly\", \"responsive\": true}\n",
       "                    ).then(function(){\n",
       "                            \n",
       "var gd = document.getElementById('1b8add47-f9df-4477-961e-17b019a5f231');\n",
       "var x = new MutationObserver(function (mutations, observer) {{\n",
       "        var display = window.getComputedStyle(gd).display;\n",
       "        if (!display || display === 'none') {{\n",
       "            console.log([gd, 'removed!']);\n",
       "            Plotly.purge(gd);\n",
       "            observer.disconnect();\n",
       "        }}\n",
       "}});\n",
       "\n",
       "// Listen for the removal of the full notebook cells\n",
       "var notebookContainer = gd.closest('#notebook-container');\n",
       "if (notebookContainer) {{\n",
       "    x.observe(notebookContainer, {childList: true});\n",
       "}}\n",
       "\n",
       "// Listen for the clearing of the current output cell\n",
       "var outputEl = gd.closest('.output');\n",
       "if (outputEl) {{\n",
       "    x.observe(outputEl, {childList: true});\n",
       "}}\n",
       "\n",
       "                        })\n",
       "                };\n",
       "                });\n",
       "            </script>\n",
       "        </div>"
      ]
     },
     "metadata": {},
     "output_type": "display_data"
    }
   ],
   "source": [
    "top_adjectives_pros.iplot(\n",
    "    kind='bar', xTitle='Count', linecolor='black',orientation = 'h', color='green', title=\"Top 20 Adjectives in 'Pros' after Removing Stop Words (sample of 10k):\")"
   ]
  },
  {
   "cell_type": "markdown",
   "metadata": {},
   "source": [
    "Unsurprisingly, \"great\" and \"good\" top the list of most frequently used words - highly skewing the distribution to the right. Adjectives that stand out and give us an idea of what characteristics employees desire in a workplace are \"flexible,\" \"friendly,\" \"smart,\" and \"interesting.\""
   ]
  },
  {
   "cell_type": "markdown",
   "metadata": {},
   "source": [
    "### Most common adjectives used in Cons:"
   ]
  },
  {
   "cell_type": "code",
   "execution_count": 56,
   "metadata": {},
   "outputs": [
    {
     "data": {
      "application/vnd.plotly.v1+json": {
       "config": {
        "linkText": "Export to plot.ly",
        "plotlyServerURL": "https://plot.ly",
        "showLink": true
       },
       "data": [
        {
         "marker": {
          "color": "rgba(219, 64, 82, 0.6)",
          "line": {
           "color": "rgba(219, 64, 82, 1.0)",
           "width": 1
          }
         },
         "name": "count",
         "orientation": "h",
         "text": "",
         "type": "bar",
         "x": [
          218,
          223,
          234,
          269,
          272,
          277,
          290,
          306,
          328,
          362,
          380,
          387,
          390,
          404,
          427,
          474,
          536,
          543,
          563,
          739
         ],
         "y": [
          "upper",
          "due",
          "slow",
          "corporate",
          "enough",
          "large",
          "big",
          "hard",
          "great",
          "poor",
          "bad",
          "little",
          "difficult",
          "new",
          "high",
          "low",
          "long",
          "much",
          "good",
          "many"
         ]
        }
       ],
       "layout": {
        "legend": {
         "bgcolor": "#F5F6F9",
         "font": {
          "color": "#4D5663"
         }
        },
        "paper_bgcolor": "#F5F6F9",
        "plot_bgcolor": "#F5F6F9",
        "template": {
         "data": {
          "bar": [
           {
            "error_x": {
             "color": "#2a3f5f"
            },
            "error_y": {
             "color": "#2a3f5f"
            },
            "marker": {
             "line": {
              "color": "#E5ECF6",
              "width": 0.5
             }
            },
            "type": "bar"
           }
          ],
          "barpolar": [
           {
            "marker": {
             "line": {
              "color": "#E5ECF6",
              "width": 0.5
             }
            },
            "type": "barpolar"
           }
          ],
          "carpet": [
           {
            "aaxis": {
             "endlinecolor": "#2a3f5f",
             "gridcolor": "white",
             "linecolor": "white",
             "minorgridcolor": "white",
             "startlinecolor": "#2a3f5f"
            },
            "baxis": {
             "endlinecolor": "#2a3f5f",
             "gridcolor": "white",
             "linecolor": "white",
             "minorgridcolor": "white",
             "startlinecolor": "#2a3f5f"
            },
            "type": "carpet"
           }
          ],
          "choropleth": [
           {
            "colorbar": {
             "outlinewidth": 0,
             "ticks": ""
            },
            "type": "choropleth"
           }
          ],
          "contour": [
           {
            "colorbar": {
             "outlinewidth": 0,
             "ticks": ""
            },
            "colorscale": [
             [
              0,
              "#0d0887"
             ],
             [
              0.1111111111111111,
              "#46039f"
             ],
             [
              0.2222222222222222,
              "#7201a8"
             ],
             [
              0.3333333333333333,
              "#9c179e"
             ],
             [
              0.4444444444444444,
              "#bd3786"
             ],
             [
              0.5555555555555556,
              "#d8576b"
             ],
             [
              0.6666666666666666,
              "#ed7953"
             ],
             [
              0.7777777777777778,
              "#fb9f3a"
             ],
             [
              0.8888888888888888,
              "#fdca26"
             ],
             [
              1,
              "#f0f921"
             ]
            ],
            "type": "contour"
           }
          ],
          "contourcarpet": [
           {
            "colorbar": {
             "outlinewidth": 0,
             "ticks": ""
            },
            "type": "contourcarpet"
           }
          ],
          "heatmap": [
           {
            "colorbar": {
             "outlinewidth": 0,
             "ticks": ""
            },
            "colorscale": [
             [
              0,
              "#0d0887"
             ],
             [
              0.1111111111111111,
              "#46039f"
             ],
             [
              0.2222222222222222,
              "#7201a8"
             ],
             [
              0.3333333333333333,
              "#9c179e"
             ],
             [
              0.4444444444444444,
              "#bd3786"
             ],
             [
              0.5555555555555556,
              "#d8576b"
             ],
             [
              0.6666666666666666,
              "#ed7953"
             ],
             [
              0.7777777777777778,
              "#fb9f3a"
             ],
             [
              0.8888888888888888,
              "#fdca26"
             ],
             [
              1,
              "#f0f921"
             ]
            ],
            "type": "heatmap"
           }
          ],
          "heatmapgl": [
           {
            "colorbar": {
             "outlinewidth": 0,
             "ticks": ""
            },
            "colorscale": [
             [
              0,
              "#0d0887"
             ],
             [
              0.1111111111111111,
              "#46039f"
             ],
             [
              0.2222222222222222,
              "#7201a8"
             ],
             [
              0.3333333333333333,
              "#9c179e"
             ],
             [
              0.4444444444444444,
              "#bd3786"
             ],
             [
              0.5555555555555556,
              "#d8576b"
             ],
             [
              0.6666666666666666,
              "#ed7953"
             ],
             [
              0.7777777777777778,
              "#fb9f3a"
             ],
             [
              0.8888888888888888,
              "#fdca26"
             ],
             [
              1,
              "#f0f921"
             ]
            ],
            "type": "heatmapgl"
           }
          ],
          "histogram": [
           {
            "marker": {
             "colorbar": {
              "outlinewidth": 0,
              "ticks": ""
             }
            },
            "type": "histogram"
           }
          ],
          "histogram2d": [
           {
            "colorbar": {
             "outlinewidth": 0,
             "ticks": ""
            },
            "colorscale": [
             [
              0,
              "#0d0887"
             ],
             [
              0.1111111111111111,
              "#46039f"
             ],
             [
              0.2222222222222222,
              "#7201a8"
             ],
             [
              0.3333333333333333,
              "#9c179e"
             ],
             [
              0.4444444444444444,
              "#bd3786"
             ],
             [
              0.5555555555555556,
              "#d8576b"
             ],
             [
              0.6666666666666666,
              "#ed7953"
             ],
             [
              0.7777777777777778,
              "#fb9f3a"
             ],
             [
              0.8888888888888888,
              "#fdca26"
             ],
             [
              1,
              "#f0f921"
             ]
            ],
            "type": "histogram2d"
           }
          ],
          "histogram2dcontour": [
           {
            "colorbar": {
             "outlinewidth": 0,
             "ticks": ""
            },
            "colorscale": [
             [
              0,
              "#0d0887"
             ],
             [
              0.1111111111111111,
              "#46039f"
             ],
             [
              0.2222222222222222,
              "#7201a8"
             ],
             [
              0.3333333333333333,
              "#9c179e"
             ],
             [
              0.4444444444444444,
              "#bd3786"
             ],
             [
              0.5555555555555556,
              "#d8576b"
             ],
             [
              0.6666666666666666,
              "#ed7953"
             ],
             [
              0.7777777777777778,
              "#fb9f3a"
             ],
             [
              0.8888888888888888,
              "#fdca26"
             ],
             [
              1,
              "#f0f921"
             ]
            ],
            "type": "histogram2dcontour"
           }
          ],
          "mesh3d": [
           {
            "colorbar": {
             "outlinewidth": 0,
             "ticks": ""
            },
            "type": "mesh3d"
           }
          ],
          "parcoords": [
           {
            "line": {
             "colorbar": {
              "outlinewidth": 0,
              "ticks": ""
             }
            },
            "type": "parcoords"
           }
          ],
          "scatter": [
           {
            "marker": {
             "colorbar": {
              "outlinewidth": 0,
              "ticks": ""
             }
            },
            "type": "scatter"
           }
          ],
          "scatter3d": [
           {
            "line": {
             "colorbar": {
              "outlinewidth": 0,
              "ticks": ""
             }
            },
            "marker": {
             "colorbar": {
              "outlinewidth": 0,
              "ticks": ""
             }
            },
            "type": "scatter3d"
           }
          ],
          "scattercarpet": [
           {
            "marker": {
             "colorbar": {
              "outlinewidth": 0,
              "ticks": ""
             }
            },
            "type": "scattercarpet"
           }
          ],
          "scattergeo": [
           {
            "marker": {
             "colorbar": {
              "outlinewidth": 0,
              "ticks": ""
             }
            },
            "type": "scattergeo"
           }
          ],
          "scattergl": [
           {
            "marker": {
             "colorbar": {
              "outlinewidth": 0,
              "ticks": ""
             }
            },
            "type": "scattergl"
           }
          ],
          "scattermapbox": [
           {
            "marker": {
             "colorbar": {
              "outlinewidth": 0,
              "ticks": ""
             }
            },
            "type": "scattermapbox"
           }
          ],
          "scatterpolar": [
           {
            "marker": {
             "colorbar": {
              "outlinewidth": 0,
              "ticks": ""
             }
            },
            "type": "scatterpolar"
           }
          ],
          "scatterpolargl": [
           {
            "marker": {
             "colorbar": {
              "outlinewidth": 0,
              "ticks": ""
             }
            },
            "type": "scatterpolargl"
           }
          ],
          "scatterternary": [
           {
            "marker": {
             "colorbar": {
              "outlinewidth": 0,
              "ticks": ""
             }
            },
            "type": "scatterternary"
           }
          ],
          "surface": [
           {
            "colorbar": {
             "outlinewidth": 0,
             "ticks": ""
            },
            "colorscale": [
             [
              0,
              "#0d0887"
             ],
             [
              0.1111111111111111,
              "#46039f"
             ],
             [
              0.2222222222222222,
              "#7201a8"
             ],
             [
              0.3333333333333333,
              "#9c179e"
             ],
             [
              0.4444444444444444,
              "#bd3786"
             ],
             [
              0.5555555555555556,
              "#d8576b"
             ],
             [
              0.6666666666666666,
              "#ed7953"
             ],
             [
              0.7777777777777778,
              "#fb9f3a"
             ],
             [
              0.8888888888888888,
              "#fdca26"
             ],
             [
              1,
              "#f0f921"
             ]
            ],
            "type": "surface"
           }
          ],
          "table": [
           {
            "cells": {
             "fill": {
              "color": "#EBF0F8"
             },
             "line": {
              "color": "white"
             }
            },
            "header": {
             "fill": {
              "color": "#C8D4E3"
             },
             "line": {
              "color": "white"
             }
            },
            "type": "table"
           }
          ]
         },
         "layout": {
          "annotationdefaults": {
           "arrowcolor": "#2a3f5f",
           "arrowhead": 0,
           "arrowwidth": 1
          },
          "colorscale": {
           "diverging": [
            [
             0,
             "#8e0152"
            ],
            [
             0.1,
             "#c51b7d"
            ],
            [
             0.2,
             "#de77ae"
            ],
            [
             0.3,
             "#f1b6da"
            ],
            [
             0.4,
             "#fde0ef"
            ],
            [
             0.5,
             "#f7f7f7"
            ],
            [
             0.6,
             "#e6f5d0"
            ],
            [
             0.7,
             "#b8e186"
            ],
            [
             0.8,
             "#7fbc41"
            ],
            [
             0.9,
             "#4d9221"
            ],
            [
             1,
             "#276419"
            ]
           ],
           "sequential": [
            [
             0,
             "#0d0887"
            ],
            [
             0.1111111111111111,
             "#46039f"
            ],
            [
             0.2222222222222222,
             "#7201a8"
            ],
            [
             0.3333333333333333,
             "#9c179e"
            ],
            [
             0.4444444444444444,
             "#bd3786"
            ],
            [
             0.5555555555555556,
             "#d8576b"
            ],
            [
             0.6666666666666666,
             "#ed7953"
            ],
            [
             0.7777777777777778,
             "#fb9f3a"
            ],
            [
             0.8888888888888888,
             "#fdca26"
            ],
            [
             1,
             "#f0f921"
            ]
           ],
           "sequentialminus": [
            [
             0,
             "#0d0887"
            ],
            [
             0.1111111111111111,
             "#46039f"
            ],
            [
             0.2222222222222222,
             "#7201a8"
            ],
            [
             0.3333333333333333,
             "#9c179e"
            ],
            [
             0.4444444444444444,
             "#bd3786"
            ],
            [
             0.5555555555555556,
             "#d8576b"
            ],
            [
             0.6666666666666666,
             "#ed7953"
            ],
            [
             0.7777777777777778,
             "#fb9f3a"
            ],
            [
             0.8888888888888888,
             "#fdca26"
            ],
            [
             1,
             "#f0f921"
            ]
           ]
          },
          "colorway": [
           "#636efa",
           "#EF553B",
           "#00cc96",
           "#ab63fa",
           "#FFA15A",
           "#19d3f3",
           "#FF6692",
           "#B6E880",
           "#FF97FF",
           "#FECB52"
          ],
          "font": {
           "color": "#2a3f5f"
          },
          "geo": {
           "bgcolor": "white",
           "lakecolor": "white",
           "landcolor": "#E5ECF6",
           "showlakes": true,
           "showland": true,
           "subunitcolor": "white"
          },
          "hoverlabel": {
           "align": "left"
          },
          "hovermode": "closest",
          "mapbox": {
           "style": "light"
          },
          "paper_bgcolor": "white",
          "plot_bgcolor": "#E5ECF6",
          "polar": {
           "angularaxis": {
            "gridcolor": "white",
            "linecolor": "white",
            "ticks": ""
           },
           "bgcolor": "#E5ECF6",
           "radialaxis": {
            "gridcolor": "white",
            "linecolor": "white",
            "ticks": ""
           }
          },
          "scene": {
           "xaxis": {
            "backgroundcolor": "#E5ECF6",
            "gridcolor": "white",
            "gridwidth": 2,
            "linecolor": "white",
            "showbackground": true,
            "ticks": "",
            "zerolinecolor": "white"
           },
           "yaxis": {
            "backgroundcolor": "#E5ECF6",
            "gridcolor": "white",
            "gridwidth": 2,
            "linecolor": "white",
            "showbackground": true,
            "ticks": "",
            "zerolinecolor": "white"
           },
           "zaxis": {
            "backgroundcolor": "#E5ECF6",
            "gridcolor": "white",
            "gridwidth": 2,
            "linecolor": "white",
            "showbackground": true,
            "ticks": "",
            "zerolinecolor": "white"
           }
          },
          "shapedefaults": {
           "line": {
            "color": "#2a3f5f"
           }
          },
          "ternary": {
           "aaxis": {
            "gridcolor": "white",
            "linecolor": "white",
            "ticks": ""
           },
           "baxis": {
            "gridcolor": "white",
            "linecolor": "white",
            "ticks": ""
           },
           "bgcolor": "#E5ECF6",
           "caxis": {
            "gridcolor": "white",
            "linecolor": "white",
            "ticks": ""
           }
          },
          "title": {
           "x": 0.05
          },
          "xaxis": {
           "automargin": true,
           "gridcolor": "white",
           "linecolor": "white",
           "ticks": "",
           "zerolinecolor": "white",
           "zerolinewidth": 2
          },
          "yaxis": {
           "automargin": true,
           "gridcolor": "white",
           "linecolor": "white",
           "ticks": "",
           "zerolinecolor": "white",
           "zerolinewidth": 2
          }
         }
        },
        "title": {
         "font": {
          "color": "#4D5663"
         },
         "text": "Top 20 Adjectives in 'Cons' after Removing Stop Words (sample of 10k):"
        },
        "xaxis": {
         "gridcolor": "#E1E5ED",
         "linecolor": "black",
         "showgrid": true,
         "tickfont": {
          "color": "#4D5663"
         },
         "title": {
          "font": {
           "color": "#4D5663"
          },
          "text": "Count"
         },
         "zerolinecolor": "#E1E5ED"
        },
        "yaxis": {
         "gridcolor": "#E1E5ED",
         "linecolor": "black",
         "showgrid": true,
         "tickfont": {
          "color": "#4D5663"
         },
         "title": {
          "font": {
           "color": "#4D5663"
          },
          "text": ""
         },
         "zerolinecolor": "#E1E5ED"
        }
       }
      },
      "text/html": [
       "<div>\n",
       "        \n",
       "        \n",
       "            <div id=\"efa0dfad-844d-4bb5-ad23-c4e292dff7b1\" class=\"plotly-graph-div\" style=\"height:525px; width:100%;\"></div>\n",
       "            <script type=\"text/javascript\">\n",
       "                require([\"plotly\"], function(Plotly) {\n",
       "                    window.PLOTLYENV=window.PLOTLYENV || {};\n",
       "                    window.PLOTLYENV.BASE_URL='https://plot.ly';\n",
       "                    \n",
       "                if (document.getElementById(\"efa0dfad-844d-4bb5-ad23-c4e292dff7b1\")) {\n",
       "                    Plotly.newPlot(\n",
       "                        'efa0dfad-844d-4bb5-ad23-c4e292dff7b1',\n",
       "                        [{\"marker\": {\"color\": \"rgba(219, 64, 82, 0.6)\", \"line\": {\"color\": \"rgba(219, 64, 82, 1.0)\", \"width\": 1}}, \"name\": \"count\", \"orientation\": \"h\", \"text\": \"\", \"type\": \"bar\", \"x\": [218, 223, 234, 269, 272, 277, 290, 306, 328, 362, 380, 387, 390, 404, 427, 474, 536, 543, 563, 739], \"y\": [\"upper\", \"due\", \"slow\", \"corporate\", \"enough\", \"large\", \"big\", \"hard\", \"great\", \"poor\", \"bad\", \"little\", \"difficult\", \"new\", \"high\", \"low\", \"long\", \"much\", \"good\", \"many\"]}],\n",
       "                        {\"legend\": {\"bgcolor\": \"#F5F6F9\", \"font\": {\"color\": \"#4D5663\"}}, \"paper_bgcolor\": \"#F5F6F9\", \"plot_bgcolor\": \"#F5F6F9\", \"template\": {\"data\": {\"bar\": [{\"error_x\": {\"color\": \"#2a3f5f\"}, \"error_y\": {\"color\": \"#2a3f5f\"}, \"marker\": {\"line\": {\"color\": \"#E5ECF6\", \"width\": 0.5}}, \"type\": \"bar\"}], \"barpolar\": [{\"marker\": {\"line\": {\"color\": \"#E5ECF6\", \"width\": 0.5}}, \"type\": \"barpolar\"}], \"carpet\": [{\"aaxis\": {\"endlinecolor\": \"#2a3f5f\", \"gridcolor\": \"white\", \"linecolor\": \"white\", \"minorgridcolor\": \"white\", \"startlinecolor\": \"#2a3f5f\"}, \"baxis\": {\"endlinecolor\": \"#2a3f5f\", \"gridcolor\": \"white\", \"linecolor\": \"white\", \"minorgridcolor\": \"white\", \"startlinecolor\": \"#2a3f5f\"}, \"type\": \"carpet\"}], \"choropleth\": [{\"colorbar\": {\"outlinewidth\": 0, \"ticks\": \"\"}, \"type\": \"choropleth\"}], \"contour\": [{\"colorbar\": {\"outlinewidth\": 0, \"ticks\": \"\"}, \"colorscale\": [[0.0, \"#0d0887\"], [0.1111111111111111, \"#46039f\"], [0.2222222222222222, \"#7201a8\"], [0.3333333333333333, \"#9c179e\"], [0.4444444444444444, \"#bd3786\"], [0.5555555555555556, \"#d8576b\"], [0.6666666666666666, \"#ed7953\"], [0.7777777777777778, \"#fb9f3a\"], [0.8888888888888888, \"#fdca26\"], [1.0, \"#f0f921\"]], \"type\": \"contour\"}], \"contourcarpet\": [{\"colorbar\": {\"outlinewidth\": 0, \"ticks\": \"\"}, \"type\": \"contourcarpet\"}], \"heatmap\": [{\"colorbar\": {\"outlinewidth\": 0, \"ticks\": \"\"}, \"colorscale\": [[0.0, \"#0d0887\"], [0.1111111111111111, \"#46039f\"], [0.2222222222222222, \"#7201a8\"], [0.3333333333333333, \"#9c179e\"], [0.4444444444444444, \"#bd3786\"], [0.5555555555555556, \"#d8576b\"], [0.6666666666666666, \"#ed7953\"], [0.7777777777777778, \"#fb9f3a\"], [0.8888888888888888, \"#fdca26\"], [1.0, \"#f0f921\"]], \"type\": \"heatmap\"}], \"heatmapgl\": [{\"colorbar\": {\"outlinewidth\": 0, \"ticks\": \"\"}, \"colorscale\": [[0.0, \"#0d0887\"], [0.1111111111111111, \"#46039f\"], [0.2222222222222222, \"#7201a8\"], [0.3333333333333333, \"#9c179e\"], [0.4444444444444444, \"#bd3786\"], [0.5555555555555556, \"#d8576b\"], [0.6666666666666666, \"#ed7953\"], [0.7777777777777778, \"#fb9f3a\"], [0.8888888888888888, \"#fdca26\"], [1.0, \"#f0f921\"]], \"type\": \"heatmapgl\"}], \"histogram\": [{\"marker\": {\"colorbar\": {\"outlinewidth\": 0, \"ticks\": \"\"}}, \"type\": \"histogram\"}], \"histogram2d\": [{\"colorbar\": {\"outlinewidth\": 0, \"ticks\": \"\"}, \"colorscale\": [[0.0, \"#0d0887\"], [0.1111111111111111, \"#46039f\"], [0.2222222222222222, \"#7201a8\"], [0.3333333333333333, \"#9c179e\"], [0.4444444444444444, \"#bd3786\"], [0.5555555555555556, \"#d8576b\"], [0.6666666666666666, \"#ed7953\"], [0.7777777777777778, \"#fb9f3a\"], [0.8888888888888888, \"#fdca26\"], [1.0, \"#f0f921\"]], \"type\": \"histogram2d\"}], \"histogram2dcontour\": [{\"colorbar\": {\"outlinewidth\": 0, \"ticks\": \"\"}, \"colorscale\": [[0.0, \"#0d0887\"], [0.1111111111111111, \"#46039f\"], [0.2222222222222222, \"#7201a8\"], [0.3333333333333333, \"#9c179e\"], [0.4444444444444444, \"#bd3786\"], [0.5555555555555556, \"#d8576b\"], [0.6666666666666666, \"#ed7953\"], [0.7777777777777778, \"#fb9f3a\"], [0.8888888888888888, \"#fdca26\"], [1.0, \"#f0f921\"]], \"type\": \"histogram2dcontour\"}], \"mesh3d\": [{\"colorbar\": {\"outlinewidth\": 0, \"ticks\": \"\"}, \"type\": \"mesh3d\"}], \"parcoords\": [{\"line\": {\"colorbar\": {\"outlinewidth\": 0, \"ticks\": \"\"}}, \"type\": \"parcoords\"}], \"scatter\": [{\"marker\": {\"colorbar\": {\"outlinewidth\": 0, \"ticks\": \"\"}}, \"type\": \"scatter\"}], \"scatter3d\": [{\"line\": {\"colorbar\": {\"outlinewidth\": 0, \"ticks\": \"\"}}, \"marker\": {\"colorbar\": {\"outlinewidth\": 0, \"ticks\": \"\"}}, \"type\": \"scatter3d\"}], \"scattercarpet\": [{\"marker\": {\"colorbar\": {\"outlinewidth\": 0, \"ticks\": \"\"}}, \"type\": \"scattercarpet\"}], \"scattergeo\": [{\"marker\": {\"colorbar\": {\"outlinewidth\": 0, \"ticks\": \"\"}}, \"type\": \"scattergeo\"}], \"scattergl\": [{\"marker\": {\"colorbar\": {\"outlinewidth\": 0, \"ticks\": \"\"}}, \"type\": \"scattergl\"}], \"scattermapbox\": [{\"marker\": {\"colorbar\": {\"outlinewidth\": 0, \"ticks\": \"\"}}, \"type\": \"scattermapbox\"}], \"scatterpolar\": [{\"marker\": {\"colorbar\": {\"outlinewidth\": 0, \"ticks\": \"\"}}, \"type\": \"scatterpolar\"}], \"scatterpolargl\": [{\"marker\": {\"colorbar\": {\"outlinewidth\": 0, \"ticks\": \"\"}}, \"type\": \"scatterpolargl\"}], \"scatterternary\": [{\"marker\": {\"colorbar\": {\"outlinewidth\": 0, \"ticks\": \"\"}}, \"type\": \"scatterternary\"}], \"surface\": [{\"colorbar\": {\"outlinewidth\": 0, \"ticks\": \"\"}, \"colorscale\": [[0.0, \"#0d0887\"], [0.1111111111111111, \"#46039f\"], [0.2222222222222222, \"#7201a8\"], [0.3333333333333333, \"#9c179e\"], [0.4444444444444444, \"#bd3786\"], [0.5555555555555556, \"#d8576b\"], [0.6666666666666666, \"#ed7953\"], [0.7777777777777778, \"#fb9f3a\"], [0.8888888888888888, \"#fdca26\"], [1.0, \"#f0f921\"]], \"type\": \"surface\"}], \"table\": [{\"cells\": {\"fill\": {\"color\": \"#EBF0F8\"}, \"line\": {\"color\": \"white\"}}, \"header\": {\"fill\": {\"color\": \"#C8D4E3\"}, \"line\": {\"color\": \"white\"}}, \"type\": \"table\"}]}, \"layout\": {\"annotationdefaults\": {\"arrowcolor\": \"#2a3f5f\", \"arrowhead\": 0, \"arrowwidth\": 1}, \"colorscale\": {\"diverging\": [[0, \"#8e0152\"], [0.1, \"#c51b7d\"], [0.2, \"#de77ae\"], [0.3, \"#f1b6da\"], [0.4, \"#fde0ef\"], [0.5, \"#f7f7f7\"], [0.6, \"#e6f5d0\"], [0.7, \"#b8e186\"], [0.8, \"#7fbc41\"], [0.9, \"#4d9221\"], [1, \"#276419\"]], \"sequential\": [[0.0, \"#0d0887\"], [0.1111111111111111, \"#46039f\"], [0.2222222222222222, \"#7201a8\"], [0.3333333333333333, \"#9c179e\"], [0.4444444444444444, \"#bd3786\"], [0.5555555555555556, \"#d8576b\"], [0.6666666666666666, \"#ed7953\"], [0.7777777777777778, \"#fb9f3a\"], [0.8888888888888888, \"#fdca26\"], [1.0, \"#f0f921\"]], \"sequentialminus\": [[0.0, \"#0d0887\"], [0.1111111111111111, \"#46039f\"], [0.2222222222222222, \"#7201a8\"], [0.3333333333333333, \"#9c179e\"], [0.4444444444444444, \"#bd3786\"], [0.5555555555555556, \"#d8576b\"], [0.6666666666666666, \"#ed7953\"], [0.7777777777777778, \"#fb9f3a\"], [0.8888888888888888, \"#fdca26\"], [1.0, \"#f0f921\"]]}, \"colorway\": [\"#636efa\", \"#EF553B\", \"#00cc96\", \"#ab63fa\", \"#FFA15A\", \"#19d3f3\", \"#FF6692\", \"#B6E880\", \"#FF97FF\", \"#FECB52\"], \"font\": {\"color\": \"#2a3f5f\"}, \"geo\": {\"bgcolor\": \"white\", \"lakecolor\": \"white\", \"landcolor\": \"#E5ECF6\", \"showlakes\": true, \"showland\": true, \"subunitcolor\": \"white\"}, \"hoverlabel\": {\"align\": \"left\"}, \"hovermode\": \"closest\", \"mapbox\": {\"style\": \"light\"}, \"paper_bgcolor\": \"white\", \"plot_bgcolor\": \"#E5ECF6\", \"polar\": {\"angularaxis\": {\"gridcolor\": \"white\", \"linecolor\": \"white\", \"ticks\": \"\"}, \"bgcolor\": \"#E5ECF6\", \"radialaxis\": {\"gridcolor\": \"white\", \"linecolor\": \"white\", \"ticks\": \"\"}}, \"scene\": {\"xaxis\": {\"backgroundcolor\": \"#E5ECF6\", \"gridcolor\": \"white\", \"gridwidth\": 2, \"linecolor\": \"white\", \"showbackground\": true, \"ticks\": \"\", \"zerolinecolor\": \"white\"}, \"yaxis\": {\"backgroundcolor\": \"#E5ECF6\", \"gridcolor\": \"white\", \"gridwidth\": 2, \"linecolor\": \"white\", \"showbackground\": true, \"ticks\": \"\", \"zerolinecolor\": \"white\"}, \"zaxis\": {\"backgroundcolor\": \"#E5ECF6\", \"gridcolor\": \"white\", \"gridwidth\": 2, \"linecolor\": \"white\", \"showbackground\": true, \"ticks\": \"\", \"zerolinecolor\": \"white\"}}, \"shapedefaults\": {\"line\": {\"color\": \"#2a3f5f\"}}, \"ternary\": {\"aaxis\": {\"gridcolor\": \"white\", \"linecolor\": \"white\", \"ticks\": \"\"}, \"baxis\": {\"gridcolor\": \"white\", \"linecolor\": \"white\", \"ticks\": \"\"}, \"bgcolor\": \"#E5ECF6\", \"caxis\": {\"gridcolor\": \"white\", \"linecolor\": \"white\", \"ticks\": \"\"}}, \"title\": {\"x\": 0.05}, \"xaxis\": {\"automargin\": true, \"gridcolor\": \"white\", \"linecolor\": \"white\", \"ticks\": \"\", \"zerolinecolor\": \"white\", \"zerolinewidth\": 2}, \"yaxis\": {\"automargin\": true, \"gridcolor\": \"white\", \"linecolor\": \"white\", \"ticks\": \"\", \"zerolinecolor\": \"white\", \"zerolinewidth\": 2}}}, \"title\": {\"font\": {\"color\": \"#4D5663\"}, \"text\": \"Top 20 Adjectives in 'Cons' after Removing Stop Words (sample of 10k):\"}, \"xaxis\": {\"gridcolor\": \"#E1E5ED\", \"linecolor\": \"black\", \"showgrid\": true, \"tickfont\": {\"color\": \"#4D5663\"}, \"title\": {\"font\": {\"color\": \"#4D5663\"}, \"text\": \"Count\"}, \"zerolinecolor\": \"#E1E5ED\"}, \"yaxis\": {\"gridcolor\": \"#E1E5ED\", \"linecolor\": \"black\", \"showgrid\": true, \"tickfont\": {\"color\": \"#4D5663\"}, \"title\": {\"font\": {\"color\": \"#4D5663\"}, \"text\": \"\"}, \"zerolinecolor\": \"#E1E5ED\"}},\n",
       "                        {\"showLink\": true, \"linkText\": \"Export to plot.ly\", \"plotlyServerURL\": \"https://plot.ly\", \"responsive\": true}\n",
       "                    ).then(function(){\n",
       "                            \n",
       "var gd = document.getElementById('efa0dfad-844d-4bb5-ad23-c4e292dff7b1');\n",
       "var x = new MutationObserver(function (mutations, observer) {{\n",
       "        var display = window.getComputedStyle(gd).display;\n",
       "        if (!display || display === 'none') {{\n",
       "            console.log([gd, 'removed!']);\n",
       "            Plotly.purge(gd);\n",
       "            observer.disconnect();\n",
       "        }}\n",
       "}});\n",
       "\n",
       "// Listen for the removal of the full notebook cells\n",
       "var notebookContainer = gd.closest('#notebook-container');\n",
       "if (notebookContainer) {{\n",
       "    x.observe(notebookContainer, {childList: true});\n",
       "}}\n",
       "\n",
       "// Listen for the clearing of the current output cell\n",
       "var outputEl = gd.closest('.output');\n",
       "if (outputEl) {{\n",
       "    x.observe(outputEl, {childList: true});\n",
       "}}\n",
       "\n",
       "                        })\n",
       "                };\n",
       "                });\n",
       "            </script>\n",
       "        </div>"
      ]
     },
     "metadata": {},
     "output_type": "display_data"
    }
   ],
   "source": [
    "top_adjectives_cons.iplot(\n",
    "    kind='bar', xTitle='Count', linecolor='black',orientation = 'h', color='red', title=\"Top 20 Adjectives in 'Cons' after Removing Stop Words (sample of 10k):\")"
   ]
  },
  {
   "cell_type": "markdown",
   "metadata": {},
   "source": [
    "The adjective distribution among the Cons is not as skewed as the Pros distribution. The top three adjectives are \"many,\" \"good,\" and \"much.\" At first glance, these seem like curious results, but upon further investigation, these words are usually used in the phrases \"not many,\" \"not good,\" and \"not much.\"\n",
    "\n",
    "Some adjectives that stand out are \"difficult,\" \"slow,\" and \"corporate.\""
   ]
  },
  {
   "cell_type": "markdown",
   "metadata": {},
   "source": [
    "## Topic Modeling using Latent Dirichlet Allocation (LDA)\n",
    "We may have a rough idea of what employees value/dislike in a job based on popular adjectives used, but let's attempt to get a clearer idea using topic modeling. We will use unsupervised natural language processing, applying Latent Dirichlet Allocation (LDA) to attempt to extract common themes of employee satisfaction among company reviews."
   ]
  },
  {
   "cell_type": "markdown",
   "metadata": {},
   "source": [
    "### Pros"
   ]
  },
  {
   "cell_type": "code",
   "execution_count": 8,
   "metadata": {},
   "outputs": [],
   "source": [
    "# creating a dictionary\n",
    "dictionary_pros = corpora.Dictionary(tokenized_pros)\n",
    "pros_corpus = [dictionary_pros.doc2bow(text) for text in tokenized_pros]"
   ]
  },
  {
   "cell_type": "code",
   "execution_count": 9,
   "metadata": {},
   "outputs": [],
   "source": [
    "ldamodel_pros_20 = LdaModel(corpus = pros_corpus, num_topics=20, id2word = dictionary_pros, \n",
    "                                           passes=10, random_state = 25, minimum_probability = 0.0)"
   ]
  },
  {
   "cell_type": "code",
   "execution_count": 17,
   "metadata": {},
   "outputs": [],
   "source": [
    "# save model\n",
    "# from gensim.test.utils import datapath\n",
    "temp_file = datapath(\"lda_pros_20\")\n",
    "ldamodel_pros_20.save(temp_file)\n",
    "\n",
    "# lda_pros_20 = LdaModel.load(datapath(\"lda_pros_20\"))\n",
    "# doc_topics_pros = list(lda_pros_20.get_document_topics(pros_corpus))"
   ]
  },
  {
   "cell_type": "code",
   "execution_count": 15,
   "metadata": {},
   "outputs": [
    {
     "data": {
      "text/plain": [
       "[(0,\n",
       "  '0.313*\"work\" + 0.100*\"environment\" + 0.100*\"great\" + 0.093*\"good\" + 0.062*\"place\" + 0.048*\"people\" + 0.048*\"life\" + 0.039*\"balance\" + 0.019*\"culture\" + 0.018*\"team\" + 0.018*\"company\" + 0.015*\"challenging\" + 0.013*\"working\"'),\n",
       " (1,\n",
       "  '0.107*\"best\" + 0.080*\"customers\" + 0.061*\"worked\" + 0.055*\"store\" + 0.054*\"associates\" + 0.050*\"people\" + 0.047*\"one\" + 0.028*\"meet\" + 0.026*\"product\" + 0.025*\"school\" + 0.021*\"ever\" + 0.020*\"helping\" + 0.017*\"thing\"'),\n",
       " (2,\n",
       "  '0.059*\"really\" + 0.047*\"employees\" + 0.043*\"company\" + 0.040*\"care\" + 0.035*\"amazing\" + 0.032*\"employee\" + 0.030*\"take\" + 0.024*\"working\" + 0.020*\"positive\" + 0.015*\"think\" + 0.015*\"pros\" + 0.014*\"everything\" + 0.013*\"enjoyed\"'),\n",
       " (3,\n",
       "  '0.162*\"flexible\" + 0.143*\"hours\" + 0.140*\"work\" + 0.091*\"schedule\" + 0.055*\"easy\" + 0.039*\"love\" + 0.031*\"working\" + 0.017*\"schedules\" + 0.017*\"busy\" + 0.015*\"hourly\" + 0.014*\"safety\" + 0.012*\"overtime\" + 0.012*\"weekends\"'),\n",
       " (4,\n",
       "  '0.038*\"technology\" + 0.033*\"strong\" + 0.032*\"leadership\" + 0.031*\"management\" + 0.030*\"support\" + 0.022*\"teams\" + 0.021*\"colleagues\" + 0.018*\"senior\" + 0.018*\"position\" + 0.017*\"market\" + 0.017*\"new\" + 0.016*\"internal\" + 0.016*\"success\"'),\n",
       " (5,\n",
       "  '0.095*\"fun\" + 0.076*\"like\" + 0.068*\"family\" + 0.055*\"big\" + 0.039*\"company\" + 0.035*\"name\" + 0.033*\"resume\" + 0.023*\"makes\" + 0.021*\"thats\" + 0.021*\"feel\" + 0.019*\"recognition\" + 0.017*\"area\" + 0.016*\"tons\"'),\n",
       " (6,\n",
       "  '0.189*\"nice\" + 0.072*\"free\" + 0.063*\"office\" + 0.052*\"people\" + 0.041*\"location\" + 0.038*\"average\" + 0.034*\"level\" + 0.033*\"food\" + 0.026*\"back\" + 0.024*\"building\" + 0.023*\"gym\" + 0.022*\"come\" + 0.022*\"coworkers\"'),\n",
       " (7,\n",
       "  '0.123*\"training\" + 0.075*\"lots\" + 0.072*\"opportunities\" + 0.054*\"opportunity\" + 0.049*\"advancement\" + 0.037*\"available\" + 0.031*\"plenty\" + 0.027*\"discounts\" + 0.026*\"program\" + 0.025*\"education\" + 0.025*\"programs\" + 0.023*\"ability\" + 0.021*\"college\"'),\n",
       " (8,\n",
       "  '0.153*\"lot\" + 0.125*\"learn\" + 0.063*\"new\" + 0.052*\"money\" + 0.034*\"awesome\" + 0.033*\"make\" + 0.030*\"skills\" + 0.028*\"things\" + 0.025*\"exposure\" + 0.025*\"opportunity\" + 0.019*\"get\" + 0.017*\"scheduling\" + 0.017*\"learned\"'),\n",
       " (9,\n",
       "  '0.087*\"worklife\" + 0.086*\"flexibility\" + 0.083*\"balance\" + 0.031*\"solid\" + 0.027*\"events\" + 0.023*\"generous\" + 0.022*\"commission\" + 0.020*\"variety\" + 0.020*\"reasonable\" + 0.020*\"edge\" + 0.019*\"leave\" + 0.019*\"base\" + 0.019*\"wide\"'),\n",
       " (10,\n",
       "  '0.124*\"company\" + 0.067*\"well\" + 0.056*\"many\" + 0.050*\"different\" + 0.039*\"move\" + 0.038*\"around\" + 0.031*\"large\" + 0.025*\"years\" + 0.024*\"within\" + 0.019*\"jobs\" + 0.018*\"stable\" + 0.015*\"cool\" + 0.015*\"long\"'),\n",
       " (11,\n",
       "  '0.103*\"people\" + 0.073*\"smart\" + 0.061*\"experience\" + 0.050*\"learning\" + 0.035*\"projects\" + 0.030*\"business\" + 0.029*\"world\" + 0.025*\"top\" + 0.023*\"interesting\" + 0.022*\"knowledge\" + 0.021*\"working\" + 0.021*\"diversity\" + 0.019*\"talented\"'),\n",
       " (12,\n",
       "  '0.202*\"time\" + 0.062*\"paid\" + 0.058*\"day\" + 0.056*\"part\" + 0.052*\"vacation\" + 0.047*\"year\" + 0.041*\"every\" + 0.039*\"days\" + 0.029*\"options\" + 0.026*\"travel\" + 0.024*\"personal\" + 0.023*\"get\" + 0.021*\"holidays\"'),\n",
       " (13,\n",
       "  '0.109*\"employees\" + 0.088*\"excellent\" + 0.070*\"benefits\" + 0.065*\"great\" + 0.058*\"compensation\" + 0.047*\"company\" + 0.033*\"perks\" + 0.030*\"values\" + 0.028*\"package\" + 0.024*\"community\" + 0.023*\"fair\" + 0.023*\"full\" + 0.022*\"benefit\"'),\n",
       " (14,\n",
       "  '0.343*\"good\" + 0.202*\"pay\" + 0.176*\"benefits\" + 0.054*\"decent\" + 0.042*\"salary\" + 0.025*\"competitive\" + 0.014*\"pretty\" + 0.013*\"people\" + 0.012*\"bonuses\" + 0.011*\"ok\" + 0.009*\"union\" + 0.008*\"starting\" + 0.008*\"bonus\"'),\n",
       " (15,\n",
       "  '0.051*\"work\" + 0.050*\"get\" + 0.032*\"job\" + 0.023*\"always\" + 0.022*\"want\" + 0.021*\"people\" + 0.018*\"hard\" + 0.017*\"better\" + 0.016*\"youre\" + 0.015*\"much\" + 0.015*\"dont\" + 0.015*\"go\" + 0.015*\"need\"'),\n",
       " (16,\n",
       "  '0.286*\"great\" + 0.085*\"opportunities\" + 0.085*\"benefits\" + 0.076*\"company\" + 0.058*\"career\" + 0.049*\"growth\" + 0.043*\"people\" + 0.037*\"culture\" + 0.029*\"grow\" + 0.028*\"development\" + 0.023*\"opportunity\" + 0.018*\"lots\" + 0.016*\"workers\"'),\n",
       " (17,\n",
       "  '0.159*\"job\" + 0.062*\"products\" + 0.053*\"customer\" + 0.051*\"fast\" + 0.042*\"service\" + 0.042*\"high\" + 0.035*\"sales\" + 0.028*\"paced\" + 0.026*\"security\" + 0.024*\"quality\" + 0.018*\"first\" + 0.018*\"services\" + 0.017*\"amp\"'),\n",
       " (18,\n",
       "  '0.096*\"benefits\" + 0.086*\"k\" + 0.069*\"health\" + 0.063*\"great\" + 0.046*\"insurance\" + 0.030*\"tuition\" + 0.027*\"reimbursement\" + 0.026*\"pto\" + 0.026*\"medical\" + 0.023*\"plan\" + 0.021*\"etc\" + 0.020*\"match\" + 0.019*\"vision\"'),\n",
       " (19,\n",
       "  '0.095*\"great\" + 0.085*\"coworkers\" + 0.081*\"friendly\" + 0.071*\"management\" + 0.058*\"team\" + 0.044*\"atmosphere\" + 0.036*\"managers\" + 0.033*\"staff\" + 0.032*\"everyone\" + 0.024*\"open\" + 0.023*\"help\" + 0.022*\"supportive\" + 0.021*\"people\"')]"
      ]
     },
     "execution_count": 15,
     "metadata": {},
     "output_type": "execute_result"
    }
   ],
   "source": [
    "# display model topics\n",
    "ldamodel_pros_20.show_topics(num_topics = 20, num_words = 13) # remove index to show all topics"
   ]
  },
  {
   "cell_type": "markdown",
   "metadata": {},
   "source": [
    "### Pros removing common stopwords (great, good, work, company)"
   ]
  },
  {
   "cell_type": "code",
   "execution_count": 43,
   "metadata": {},
   "outputs": [
    {
     "data": {
      "text/plain": [
       "[(0,\n",
       "  '0.169*\"time\" + 0.080*\"part\" + 0.040*\"employees\" + 0.034*\"full\" + 0.031*\"available\" + 0.030*\"ok\" + 0.026*\"even\" + 0.025*\"quality\" + 0.023*\"resources\" + 0.021*\"provide\" + 0.021*\"schedules\" + 0.020*\"group\" + 0.020*\"needed\"'),\n",
       " (1,\n",
       "  '0.094*\"make\" + 0.078*\"amazing\" + 0.064*\"money\" + 0.054*\"big\" + 0.037*\"back\" + 0.033*\"hard\" + 0.031*\"sales\" + 0.028*\"large\" + 0.021*\"exciting\" + 0.021*\"bad\" + 0.020*\"thats\" + 0.018*\"role\" + 0.018*\"none\"'),\n",
       " (2,\n",
       "  '0.268*\"pay\" + 0.243*\"benefits\" + 0.072*\"decent\" + 0.064*\"salary\" + 0.042*\"competitive\" + 0.036*\"people\" + 0.022*\"awesome\" + 0.018*\"coworkers\" + 0.017*\"perks\" + 0.013*\"union\" + 0.013*\"wonderful\" + 0.012*\"bonuses\" + 0.010*\"healthcare\"'),\n",
       " (3,\n",
       "  '0.125*\"culture\" + 0.123*\"management\" + 0.084*\"employees\" + 0.075*\"team\" + 0.031*\"leadership\" + 0.027*\"level\" + 0.026*\"values\" + 0.020*\"support\" + 0.019*\"supportive\" + 0.019*\"corporate\" + 0.018*\"training\" + 0.017*\"professional\" + 0.017*\"helpful\"'),\n",
       " (4,\n",
       "  '0.155*\"place\" + 0.082*\"like\" + 0.060*\"really\" + 0.052*\"care\" + 0.041*\"employees\" + 0.037*\"people\" + 0.037*\"family\" + 0.035*\"pretty\" + 0.029*\"location\" + 0.024*\"feel\" + 0.023*\"college\" + 0.017*\"success\" + 0.013*\"especially\"'),\n",
       " (5,\n",
       "  '0.088*\"best\" + 0.046*\"products\" + 0.044*\"strong\" + 0.042*\"people\" + 0.034*\"industry\" + 0.030*\"one\" + 0.026*\"community\" + 0.022*\"talented\" + 0.018*\"product\" + 0.018*\"experience\" + 0.018*\"new\" + 0.017*\"something\" + 0.017*\"helping\"'),\n",
       " (6,\n",
       "  '0.193*\"job\" + 0.075*\"easy\" + 0.037*\"fun\" + 0.022*\"school\" + 0.021*\"position\" + 0.019*\"going\" + 0.017*\"first\" + 0.017*\"makes\" + 0.017*\"made\" + 0.015*\"could\" + 0.014*\"area\" + 0.014*\"high\" + 0.014*\"outside\"'),\n",
       " (7,\n",
       "  '0.140*\"nice\" + 0.053*\"well\" + 0.048*\"store\" + 0.047*\"associates\" + 0.046*\"office\" + 0.020*\"coworkers\" + 0.020*\"managers\" + 0.018*\"building\" + 0.016*\"pays\" + 0.016*\"facilities\" + 0.016*\"busy\" + 0.015*\"scheduling\" + 0.014*\"fairly\"'),\n",
       " (8,\n",
       "  '0.162*\"flexible\" + 0.153*\"balance\" + 0.143*\"hours\" + 0.117*\"life\" + 0.090*\"schedule\" + 0.065*\"benefits\" + 0.059*\"worklife\" + 0.018*\"flexibility\" + 0.013*\"overall\" + 0.012*\"networking\" + 0.012*\"weekends\" + 0.009*\"compensation\" + 0.007*\"fund\"'),\n",
       " (9,\n",
       "  '0.068*\"experience\" + 0.056*\"much\" + 0.054*\"flexibility\" + 0.043*\"better\" + 0.040*\"open\" + 0.038*\"knowledge\" + 0.031*\"diversity\" + 0.030*\"able\" + 0.028*\"think\" + 0.028*\"mobility\" + 0.027*\"provides\" + 0.025*\"find\" + 0.024*\"say\"'),\n",
       " (10,\n",
       "  '0.127*\"opportunities\" + 0.067*\"lots\" + 0.067*\"opportunity\" + 0.057*\"career\" + 0.048*\"growth\" + 0.046*\"benefits\" + 0.044*\"many\" + 0.034*\"training\" + 0.033*\"within\" + 0.030*\"advancement\" + 0.029*\"grow\" + 0.028*\"move\" + 0.028*\"development\"'),\n",
       " (11,\n",
       "  '0.169*\"people\" + 0.058*\"smart\" + 0.034*\"worked\" + 0.030*\"interesting\" + 0.028*\"projects\" + 0.028*\"working\" + 0.028*\"lot\" + 0.025*\"take\" + 0.023*\"years\" + 0.022*\"youre\" + 0.020*\"many\" + 0.018*\"jobs\" + 0.016*\"really\"'),\n",
       " (12,\n",
       "  '0.151*\"get\" + 0.046*\"want\" + 0.032*\"dont\" + 0.032*\"manager\" + 0.031*\"need\" + 0.027*\"average\" + 0.026*\"stable\" + 0.025*\"go\" + 0.021*\"generally\" + 0.021*\"meet\" + 0.020*\"give\" + 0.020*\"hard\" + 0.018*\"right\"'),\n",
       " (13,\n",
       "  '0.117*\"benefits\" + 0.090*\"k\" + 0.072*\"health\" + 0.049*\"insurance\" + 0.031*\"tuition\" + 0.030*\"pto\" + 0.030*\"discounts\" + 0.029*\"reimbursement\" + 0.028*\"program\" + 0.027*\"medical\" + 0.025*\"bonus\" + 0.024*\"plan\" + 0.023*\"stock\"'),\n",
       " (14,\n",
       "  '0.232*\"environment\" + 0.126*\"working\" + 0.065*\"around\" + 0.056*\"people\" + 0.047*\"ability\" + 0.037*\"love\" + 0.036*\"world\" + 0.024*\"friendly\" + 0.019*\"fun\" + 0.018*\"departments\" + 0.017*\"enjoy\" + 0.015*\"pros\" + 0.015*\"move\"'),\n",
       " (15,\n",
       "  '0.110*\"excellent\" + 0.082*\"friendly\" + 0.077*\"coworkers\" + 0.058*\"atmosphere\" + 0.055*\"help\" + 0.043*\"staff\" + 0.042*\"willing\" + 0.041*\"people\" + 0.031*\"team\" + 0.025*\"always\" + 0.019*\"driven\" + 0.016*\"training\" + 0.016*\"chance\"'),\n",
       " (16,\n",
       "  '0.045*\"customer\" + 0.043*\"customers\" + 0.036*\"service\" + 0.033*\"top\" + 0.033*\"workers\" + 0.029*\"brand\" + 0.029*\"everyone\" + 0.028*\"name\" + 0.023*\"cool\" + 0.021*\"co\" + 0.020*\"long\" + 0.020*\"everything\" + 0.019*\"ever\"'),\n",
       " (17,\n",
       "  '0.054*\"benefits\" + 0.048*\"compensation\" + 0.045*\"paid\" + 0.042*\"time\" + 0.036*\"vacation\" + 0.035*\"year\" + 0.029*\"every\" + 0.029*\"day\" + 0.028*\"days\" + 0.028*\"package\" + 0.024*\"companies\" + 0.024*\"start\" + 0.021*\"benefit\"'),\n",
       " (18,\n",
       "  '0.126*\"employee\" + 0.088*\"free\" + 0.067*\"fast\" + 0.041*\"food\" + 0.040*\"overtime\" + 0.037*\"paced\" + 0.031*\"etc\" + 0.024*\"commission\" + 0.023*\"retirement\" + 0.021*\"discount\" + 0.020*\"tons\" + 0.020*\"challenges\" + 0.019*\"lots\"'),\n",
       " (19,\n",
       "  '0.125*\"learn\" + 0.086*\"lot\" + 0.072*\"new\" + 0.067*\"learning\" + 0.050*\"challenging\" + 0.047*\"technology\" + 0.031*\"things\" + 0.030*\"business\" + 0.028*\"colleagues\" + 0.026*\"resume\" + 0.025*\"exposure\" + 0.024*\"experience\" + 0.022*\"security\"')]"
      ]
     },
     "execution_count": 43,
     "metadata": {},
     "output_type": "execute_result"
    }
   ],
   "source": [
    "tokenized_pros = tokenized_pros.apply(lambda x: remove_stopwords(x, ['great','good','work','company']))\n",
    "dictionary_pros = corpora.Dictionary(tokenized_pros)\n",
    "pros_corpus = [dictionary_pros.doc2bow(text) for text in tokenized_pros]\n",
    "ldamodel_pros_20_custom_stopwords = LdaModel(corpus = pros_corpus, num_topics=20, id2word = dictionary_pros, \n",
    "                                           passes=10, random_state = 25, minimum_probability = 0.0)\n",
    "temp_file = datapath(\"lda_pros_20_custom_stopwords\")\n",
    "ldamodel_pros_20_custom_stopwords.save(temp_file)\n",
    "ldamodel_pros_20_custom_stopwords.show_topics(num_topics = 20, num_words = 13) # remove index to show all topics"
   ]
  },
  {
   "cell_type": "markdown",
   "metadata": {},
   "source": [
    "### Pros removing just stopwords 'work' and 'company' (same as OG model)"
   ]
  },
  {
   "cell_type": "code",
   "execution_count": 63,
   "metadata": {},
   "outputs": [
    {
     "data": {
      "text/plain": [
       "[(0,\n",
       "  '0.102*\"well\" + 0.088*\"like\" + 0.053*\"family\" + 0.042*\"team\" + 0.030*\"employees\" + 0.019*\"healthcare\" + 0.017*\"put\" + 0.017*\"pays\" + 0.017*\"management\" + 0.015*\"fairly\" + 0.014*\"role\" + 0.014*\"get\" + 0.014*\"members\"'),\n",
       " (1,\n",
       "  '0.121*\"lot\" + 0.121*\"lots\" + 0.099*\"learn\" + 0.062*\"experience\" + 0.053*\"new\" + 0.035*\"opportunity\" + 0.029*\"people\" + 0.026*\"high\" + 0.024*\"things\" + 0.022*\"different\" + 0.019*\"technology\" + 0.019*\"focus\" + 0.019*\"resources\"'),\n",
       " (2,\n",
       "  '0.102*\"really\" + 0.058*\"managers\" + 0.057*\"amazing\" + 0.052*\"worked\" + 0.046*\"associates\" + 0.034*\"level\" + 0.031*\"people\" + 0.029*\"helpful\" + 0.028*\"everyone\" + 0.022*\"ive\" + 0.021*\"cool\" + 0.020*\"years\" + 0.018*\"experience\"'),\n",
       " (3,\n",
       "  '0.462*\"good\" + 0.098*\"balance\" + 0.093*\"benefits\" + 0.075*\"life\" + 0.038*\"worklife\" + 0.032*\"people\" + 0.023*\"culture\" + 0.021*\"salary\" + 0.014*\"management\" + 0.014*\"compensation\" + 0.008*\"overall\" + 0.007*\"flexibility\" + 0.007*\"stable\"'),\n",
       " (4,\n",
       "  '0.039*\"help\" + 0.026*\"every\" + 0.026*\"workers\" + 0.024*\"willing\" + 0.024*\"year\" + 0.022*\"youre\" + 0.022*\"manager\" + 0.021*\"get\" + 0.021*\"teams\" + 0.021*\"department\" + 0.020*\"even\" + 0.019*\"find\" + 0.019*\"advance\"'),\n",
       " (5,\n",
       "  '0.192*\"time\" + 0.059*\"paid\" + 0.058*\"vacation\" + 0.057*\"part\" + 0.038*\"benefits\" + 0.037*\"days\" + 0.030*\"bonuses\" + 0.020*\"holidays\" + 0.019*\"hours\" + 0.018*\"get\" + 0.017*\"employees\" + 0.016*\"thats\" + 0.015*\"sick\"'),\n",
       " (6,\n",
       "  '0.107*\"schedule\" + 0.060*\"money\" + 0.059*\"flexible\" + 0.054*\"make\" + 0.047*\"get\" + 0.041*\"want\" + 0.031*\"meet\" + 0.030*\"flexibility\" + 0.029*\"travel\" + 0.028*\"need\" + 0.027*\"give\" + 0.024*\"set\" + 0.020*\"facilities\"'),\n",
       " (7,\n",
       "  '0.160*\"job\" + 0.073*\"fun\" + 0.072*\"move\" + 0.067*\"around\" + 0.049*\"ability\" + 0.043*\"hard\" + 0.037*\"within\" + 0.028*\"knowledge\" + 0.023*\"skills\" + 0.021*\"security\" + 0.020*\"able\" + 0.017*\"opportunity\" + 0.015*\"departments\"'),\n",
       " (8,\n",
       "  '0.081*\"easy\" + 0.046*\"job\" + 0.043*\"big\" + 0.042*\"much\" + 0.032*\"store\" + 0.030*\"jobs\" + 0.025*\"get\" + 0.025*\"better\" + 0.022*\"think\" + 0.021*\"position\" + 0.021*\"pros\" + 0.021*\"leave\" + 0.021*\"mobility\"'),\n",
       " (9,\n",
       "  '0.204*\"opportunities\" + 0.089*\"flexible\" + 0.077*\"growth\" + 0.071*\"career\" + 0.059*\"opportunity\" + 0.051*\"learning\" + 0.050*\"hours\" + 0.047*\"advancement\" + 0.030*\"plenty\" + 0.027*\"many\" + 0.020*\"training\" + 0.018*\"within\" + 0.016*\"internal\"'),\n",
       " (10,\n",
       "  '0.040*\"always\" + 0.025*\"world\" + 0.021*\"working\" + 0.019*\"people\" + 0.019*\"make\" + 0.018*\"right\" + 0.018*\"business\" + 0.017*\"employees\" + 0.017*\"something\" + 0.016*\"new\" + 0.016*\"never\" + 0.015*\"get\" + 0.014*\"change\"'),\n",
       " (11,\n",
       "  '0.087*\"people\" + 0.064*\"smart\" + 0.047*\"culture\" + 0.037*\"leadership\" + 0.037*\"development\" + 0.033*\"strong\" + 0.033*\"interesting\" + 0.033*\"challenging\" + 0.032*\"environment\" + 0.031*\"projects\" + 0.028*\"fast\" + 0.026*\"professional\" + 0.026*\"management\"'),\n",
       " (12,\n",
       "  '0.075*\"competitive\" + 0.041*\"package\" + 0.034*\"salary\" + 0.034*\"compensation\" + 0.031*\"long\" + 0.031*\"sales\" + 0.029*\"fair\" + 0.028*\"benefit\" + 0.025*\"take\" + 0.020*\"employees\" + 0.019*\"given\" + 0.018*\"freedom\" + 0.018*\"highly\"'),\n",
       " (13,\n",
       "  '0.226*\"pay\" + 0.173*\"good\" + 0.113*\"benefits\" + 0.072*\"decent\" + 0.030*\"pretty\" + 0.024*\"hours\" + 0.020*\"tuition\" + 0.019*\"reimbursement\" + 0.017*\"average\" + 0.016*\"full\" + 0.014*\"ok\" + 0.014*\"union\" + 0.012*\"starting\"'),\n",
       " (14,\n",
       "  '0.094*\"nice\" + 0.093*\"working\" + 0.080*\"coworkers\" + 0.069*\"people\" + 0.066*\"friendly\" + 0.052*\"environment\" + 0.031*\"awesome\" + 0.028*\"atmosphere\" + 0.028*\"customers\" + 0.026*\"staff\" + 0.026*\"office\" + 0.025*\"love\" + 0.019*\"colleagues\"'),\n",
       " (15,\n",
       "  '0.150*\"great\" + 0.145*\"place\" + 0.099*\"environment\" + 0.072*\"employees\" + 0.051*\"grow\" + 0.035*\"room\" + 0.031*\"values\" + 0.025*\"brand\" + 0.023*\"career\" + 0.021*\"exposure\" + 0.021*\"care\" + 0.021*\"start\" + 0.020*\"wonderful\"'),\n",
       " (16,\n",
       "  '0.104*\"best\" + 0.058*\"free\" + 0.054*\"products\" + 0.047*\"customer\" + 0.041*\"perks\" + 0.037*\"service\" + 0.027*\"food\" + 0.026*\"industry\" + 0.026*\"product\" + 0.025*\"one\" + 0.025*\"diverse\" + 0.024*\"companies\" + 0.022*\"global\"'),\n",
       " (17,\n",
       "  '0.501*\"great\" + 0.168*\"benefits\" + 0.068*\"people\" + 0.042*\"pay\" + 0.035*\"excellent\" + 0.031*\"culture\" + 0.018*\"training\" + 0.015*\"team\" + 0.013*\"salary\" + 0.012*\"management\" + 0.009*\"compensation\" + 0.008*\"fantastic\" + 0.007*\"flexibility\"'),\n",
       " (18,\n",
       "  '0.091*\"k\" + 0.087*\"benefits\" + 0.073*\"health\" + 0.072*\"employee\" + 0.049*\"insurance\" + 0.033*\"care\" + 0.030*\"discounts\" + 0.027*\"medical\" + 0.027*\"etc\" + 0.026*\"pto\" + 0.025*\"options\" + 0.024*\"bonus\" + 0.024*\"plan\"'),\n",
       " (19,\n",
       "  '0.079*\"many\" + 0.066*\"training\" + 0.049*\"day\" + 0.046*\"different\" + 0.043*\"large\" + 0.043*\"one\" + 0.040*\"available\" + 0.028*\"program\" + 0.027*\"programs\" + 0.025*\"name\" + 0.022*\"positions\" + 0.020*\"education\" + 0.019*\"offer\"')]"
      ]
     },
     "execution_count": 63,
     "metadata": {},
     "output_type": "execute_result"
    }
   ],
   "source": [
    "tokenized_pros = tokenized_pros.apply(lambda x: remove_stopwords(x, ['work','company']))\n",
    "dictionary_pros = corpora.Dictionary(tokenized_pros)\n",
    "pros_corpus = [dictionary_pros.doc2bow(text) for text in tokenized_pros]\n",
    "ldamodel_pros_20_custom_stopwords = LdaModel(corpus = pros_corpus, num_topics=20, id2word = dictionary_pros, \n",
    "                                           passes=10, random_state = 25, minimum_probability = 0.0)\n",
    "temp_file = datapath(\"lda_pros_20_custom_stopwords\")\n",
    "ldamodel_pros_20_custom_stopwords.save(temp_file)\n",
    "ldamodel_pros_20_custom_stopwords.show_topics(num_topics = 20, num_words = 13) # remove index to show all topics"
   ]
  },
  {
   "cell_type": "markdown",
   "metadata": {},
   "source": [
    "### Stemmed pros"
   ]
  },
  {
   "cell_type": "code",
   "execution_count": 26,
   "metadata": {},
   "outputs": [
    {
     "data": {
      "text/plain": [
       "0    [good, benefits, nice, values, nice, co, worke...\n",
       "1                      [great, pay, amp, steady, work]\n",
       "2    [great, worklife, balance, limitless, income, ...\n",
       "3    [money, benefits, flexibility, schedule, great...\n",
       "4    [excellent, benefits, competitive, within, mar...\n",
       "Name: pros, dtype: object"
      ]
     },
     "execution_count": 26,
     "metadata": {},
     "output_type": "execute_result"
    }
   ],
   "source": [
    "tokenized_pros[:5]"
   ]
  },
  {
   "cell_type": "code",
   "execution_count": 27,
   "metadata": {},
   "outputs": [
    {
     "data": {
      "text/plain": [
       "0    good benefit nice valu nice co worker nice outing\n",
       "1                            great pay amp steadi work\n",
       "2         great worklif balanc limitless incom potenti\n",
       "3      money benefit flexibl schedul great upper manag\n",
       "4                 excel benefit competit within market\n",
       "Name: pros, dtype: object"
      ]
     },
     "execution_count": 27,
     "metadata": {},
     "output_type": "execute_result"
    }
   ],
   "source": [
    "stemmed_pros[:5]"
   ]
  },
  {
   "cell_type": "code",
   "execution_count": 33,
   "metadata": {},
   "outputs": [],
   "source": [
    "stemmed_pros = [tokenize_sentences(word) for word in stemmed_pros]\n",
    "dictionary_pros = corpora.Dictionary(stemmed_pros)\n",
    "pros_corpus = [dictionary_pros.doc2bow(text) for text in stemmed_pros]"
   ]
  },
  {
   "cell_type": "code",
   "execution_count": 34,
   "metadata": {},
   "outputs": [],
   "source": [
    "ldamodel_stemmed_pros_20 = LdaModel(corpus = pros_corpus, num_topics=20, id2word = dictionary_pros, \n",
    "                                           passes=10, random_state = 25, minimum_probability = 0.0)"
   ]
  },
  {
   "cell_type": "code",
   "execution_count": 35,
   "metadata": {},
   "outputs": [],
   "source": [
    "# save model\n",
    "# from gensim.test.utils import datapath\n",
    "temp_file = datapath(\"lda_stemmed_pros_20\")\n",
    "ldamodel_stemmed_pros_20.save(temp_file)\n",
    "\n",
    "# lda_stemmed_pros_20 = LdaModel.load(datapath(\"lda_stemmed_pros_20\"))\n",
    "# doc_topics_pros = list(lda_stemmed_pros_20.get_document_topics(pros_corpus))"
   ]
  },
  {
   "cell_type": "code",
   "execution_count": 36,
   "metadata": {},
   "outputs": [
    {
     "data": {
      "text/plain": [
       "[(0,\n",
       "  '0.078*\"year\" + 0.056*\"day\" + 0.048*\"work\" + 0.042*\"love\" + 0.039*\"everi\" + 0.030*\"enjoy\" + 0.024*\"month\" + 0.020*\"come\" + 0.016*\"stay\" + 0.015*\"wage\" + 0.015*\"get\" + 0.014*\"leav\" + 0.014*\"ive\"'),\n",
       " (1,\n",
       "  '0.331*\"great\" + 0.200*\"work\" + 0.064*\"balanc\" + 0.059*\"benefit\" + 0.057*\"peopl\" + 0.053*\"place\" + 0.048*\"life\" + 0.036*\"compani\" + 0.029*\"environ\" + 0.027*\"cultur\" + 0.025*\"worklif\" + 0.018*\"team\" + 0.010*\"excel\"'),\n",
       " (2,\n",
       "  '0.125*\"custom\" + 0.086*\"product\" + 0.056*\"servic\" + 0.034*\"improv\" + 0.029*\"market\" + 0.028*\"chang\" + 0.027*\"process\" + 0.022*\"qualiti\" + 0.021*\"perform\" + 0.020*\"system\" + 0.020*\"motiv\" + 0.019*\"driven\" + 0.019*\"extrem\"'),\n",
       " (3,\n",
       "  '0.235*\"time\" + 0.077*\"part\" + 0.069*\"vacat\" + 0.065*\"paid\" + 0.031*\"week\" + 0.031*\"full\" + 0.028*\"top\" + 0.024*\"benefit\" + 0.022*\"employ\" + 0.021*\"get\" + 0.020*\"day\" + 0.019*\"tech\" + 0.017*\"live\"'),\n",
       " (4,\n",
       "  '0.099*\"benefit\" + 0.085*\"employe\" + 0.077*\"great\" + 0.057*\"k\" + 0.046*\"health\" + 0.032*\"care\" + 0.032*\"insur\" + 0.029*\"discount\" + 0.025*\"educ\" + 0.024*\"match\" + 0.023*\"plan\" + 0.022*\"offer\" + 0.022*\"pto\"'),\n",
       " (5,\n",
       "  '0.112*\"compani\" + 0.093*\"cultur\" + 0.056*\"best\" + 0.050*\"divers\" + 0.045*\"leadership\" + 0.045*\"valu\" + 0.044*\"employe\" + 0.041*\"strong\" + 0.034*\"big\" + 0.023*\"focus\" + 0.023*\"stabl\" + 0.021*\"industri\" + 0.021*\"leader\"'),\n",
       " (6,\n",
       "  '0.292*\"pay\" + 0.113*\"benefit\" + 0.111*\"decent\" + 0.049*\"locat\" + 0.045*\"pretti\" + 0.039*\"fair\" + 0.023*\"overtim\" + 0.023*\"excel\" + 0.022*\"ok\" + 0.022*\"union\" + 0.020*\"well\" + 0.016*\"cowork\" + 0.014*\"relat\"'),\n",
       " (7,\n",
       "  '0.216*\"manag\" + 0.054*\"support\" + 0.050*\"team\" + 0.047*\"train\" + 0.047*\"associ\" + 0.031*\"staff\" + 0.029*\"program\" + 0.023*\"help\" + 0.020*\"depend\" + 0.020*\"find\" + 0.019*\"well\" + 0.017*\"treat\" + 0.015*\"communiti\"'),\n",
       " (8,\n",
       "  '0.116*\"environ\" + 0.115*\"work\" + 0.097*\"nice\" + 0.078*\"friend\" + 0.072*\"cowork\" + 0.053*\"easi\" + 0.052*\"peopl\" + 0.048*\"fun\" + 0.033*\"money\" + 0.028*\"fast\" + 0.028*\"atmospher\" + 0.022*\"pace\" + 0.015*\"cool\"'),\n",
       " (9,\n",
       "  '0.077*\"work\" + 0.043*\"get\" + 0.042*\"realli\" + 0.029*\"like\" + 0.029*\"make\" + 0.027*\"employe\" + 0.026*\"peopl\" + 0.025*\"compani\" + 0.024*\"hard\" + 0.023*\"want\" + 0.023*\"take\" + 0.018*\"care\" + 0.018*\"better\"'),\n",
       " (10,\n",
       "  '0.065*\"compani\" + 0.047*\"busi\" + 0.045*\"mani\" + 0.041*\"provid\" + 0.026*\"world\" + 0.026*\"larg\" + 0.021*\"area\" + 0.018*\"differ\" + 0.016*\"exposur\" + 0.016*\"innov\" + 0.016*\"global\" + 0.015*\"experi\" + 0.014*\"solid\"'),\n",
       " (11,\n",
       "  '0.273*\"job\" + 0.064*\"free\" + 0.046*\"store\" + 0.043*\"worker\" + 0.040*\"level\" + 0.030*\"food\" + 0.029*\"secur\" + 0.024*\"co\" + 0.023*\"everyth\" + 0.019*\"class\" + 0.019*\"pros\" + 0.018*\"lunch\" + 0.018*\"first\"'),\n",
       " (12,\n",
       "  '0.111*\"lot\" + 0.089*\"learn\" + 0.062*\"work\" + 0.044*\"peopl\" + 0.042*\"opportun\" + 0.038*\"challeng\" + 0.034*\"interest\" + 0.030*\"project\" + 0.025*\"intern\" + 0.024*\"skill\" + 0.021*\"differ\" + 0.021*\"new\" + 0.021*\"meet\"'),\n",
       " (13,\n",
       "  '0.609*\"good\" + 0.121*\"benefit\" + 0.096*\"pay\" + 0.052*\"work\" + 0.033*\"compani\" + 0.026*\"peopl\" + 0.015*\"facil\" + 0.011*\"train\" + 0.006*\"alot\" + 0.005*\"coverag\" + 0.003*\"thought\" + 0.003*\"power\" + 0.002*\"late\"'),\n",
       " (14,\n",
       "  '0.229*\"flexibl\" + 0.179*\"hour\" + 0.145*\"work\" + 0.131*\"schedul\" + 0.066*\"amaz\" + 0.027*\"school\" + 0.026*\"benefit\" + 0.016*\"relax\" + 0.016*\"patient\" + 0.015*\"reason\" + 0.013*\"set\" + 0.011*\"shift\" + 0.010*\"workplac\"'),\n",
       " (15,\n",
       "  '0.059*\"around\" + 0.058*\"move\" + 0.056*\"technolog\" + 0.048*\"help\" + 0.044*\"abil\" + 0.044*\"new\" + 0.043*\"alway\" + 0.042*\"posit\" + 0.039*\"depart\" + 0.037*\"avail\" + 0.035*\"within\" + 0.027*\"promot\" + 0.025*\"will\"'),\n",
       " (16,\n",
       "  '0.184*\"opportun\" + 0.092*\"great\" + 0.072*\"career\" + 0.057*\"growth\" + 0.054*\"advanc\" + 0.051*\"lot\" + 0.046*\"compani\" + 0.041*\"grow\" + 0.035*\"benefit\" + 0.029*\"develop\" + 0.024*\"perk\" + 0.024*\"room\" + 0.023*\"train\"'),\n",
       " (17,\n",
       "  '0.149*\"salari\" + 0.092*\"competit\" + 0.064*\"benefit\" + 0.050*\"start\" + 0.041*\"hire\" + 0.040*\"packag\" + 0.031*\"think\" + 0.028*\"bad\" + 0.026*\"high\" + 0.025*\"retir\" + 0.024*\"compar\" + 0.022*\"overal\" + 0.020*\"averag\"'),\n",
       " (18,\n",
       "  '0.133*\"compens\" + 0.122*\"bonus\" + 0.058*\"base\" + 0.055*\"sale\" + 0.039*\"structur\" + 0.031*\"incent\" + 0.031*\"reward\" + 0.031*\"littl\" + 0.030*\"never\" + 0.028*\"commiss\" + 0.027*\"plus\" + 0.025*\"none\" + 0.020*\"annual\"'),\n",
       " (19,\n",
       "  '0.124*\"peopl\" + 0.102*\"smart\" + 0.052*\"awesom\" + 0.050*\"experi\" + 0.044*\"offic\" + 0.043*\"talent\" + 0.039*\"colleagu\" + 0.038*\"open\" + 0.036*\"brand\" + 0.034*\"profession\" + 0.030*\"name\" + 0.022*\"gain\" + 0.022*\"respons\"')]"
      ]
     },
     "execution_count": 36,
     "metadata": {},
     "output_type": "execute_result"
    }
   ],
   "source": [
    "ldamodel_stemmed_pros_20.show_topics(num_topics = 20, num_words = 13) # remove index to show all topics"
   ]
  },
  {
   "cell_type": "markdown",
   "metadata": {},
   "source": [
    "### Stemmed pros removing common stopwords (great, good, work, company)"
   ]
  },
  {
   "cell_type": "code",
   "execution_count": 47,
   "metadata": {},
   "outputs": [
    {
     "data": {
      "text/plain": [
       "[(0,\n",
       "  '0.067*\"perk\" + 0.053*\"right\" + 0.051*\"perform\" + 0.047*\"thing\" + 0.045*\"travel\" + 0.042*\"process\" + 0.037*\"mobil\" + 0.037*\"treat\" + 0.032*\"everyth\" + 0.030*\"fantast\" + 0.029*\"direct\" + 0.027*\"well\" + 0.025*\"patient\"'),\n",
       " (1,\n",
       "  '0.316*\"peopl\" + 0.066*\"smart\" + 0.058*\"help\" + 0.054*\"friend\" + 0.047*\"around\" + 0.045*\"interest\" + 0.039*\"project\" + 0.034*\"lot\" + 0.023*\"alway\" + 0.021*\"realli\" + 0.018*\"enjoy\" + 0.018*\"someth\" + 0.016*\"get\"'),\n",
       " (2,\n",
       "  '0.093*\"experi\" + 0.075*\"like\" + 0.073*\"famili\" + 0.053*\"room\" + 0.038*\"offer\" + 0.036*\"full\" + 0.027*\"gain\" + 0.024*\"huge\" + 0.022*\"varieti\" + 0.021*\"financi\" + 0.021*\"orient\" + 0.019*\"feel\" + 0.018*\"field\"'),\n",
       " (3,\n",
       "  '0.142*\"learn\" + 0.092*\"lot\" + 0.063*\"new\" + 0.048*\"product\" + 0.045*\"technolog\" + 0.044*\"divers\" + 0.031*\"skill\" + 0.028*\"talent\" + 0.024*\"busi\" + 0.023*\"experi\" + 0.022*\"meet\" + 0.022*\"knowledg\" + 0.016*\"improv\"'),\n",
       " (4,\n",
       "  '0.113*\"best\" + 0.085*\"compens\" + 0.058*\"industri\" + 0.053*\"one\" + 0.048*\"big\" + 0.045*\"world\" + 0.032*\"reason\" + 0.027*\"ive\" + 0.023*\"compar\" + 0.022*\"employ\" + 0.022*\"ever\" + 0.021*\"leader\" + 0.019*\"class\"'),\n",
       " (5,\n",
       "  '0.242*\"balanc\" + 0.182*\"life\" + 0.093*\"worklif\" + 0.085*\"locat\" + 0.062*\"benefit\" + 0.038*\"ok\" + 0.036*\"bad\" + 0.033*\"pros\" + 0.028*\"cultur\" + 0.024*\"close\" + 0.022*\"rate\" + 0.011*\"except\" + 0.008*\"commut\"'),\n",
       " (6,\n",
       "  '0.198*\"place\" + 0.111*\"train\" + 0.070*\"amaz\" + 0.070*\"associ\" + 0.054*\"awesom\" + 0.050*\"start\" + 0.042*\"job\" + 0.036*\"program\" + 0.033*\"atmospher\" + 0.028*\"secur\" + 0.022*\"wage\" + 0.018*\"give\" + 0.018*\"career\"'),\n",
       " (7,\n",
       "  '0.111*\"benefit\" + 0.102*\"k\" + 0.082*\"health\" + 0.057*\"insur\" + 0.053*\"bonus\" + 0.042*\"match\" + 0.041*\"plan\" + 0.039*\"option\" + 0.032*\"year\" + 0.030*\"stock\" + 0.030*\"averag\" + 0.029*\"pto\" + 0.022*\"includ\"'),\n",
       " (8,\n",
       "  '0.130*\"cultur\" + 0.045*\"valu\" + 0.044*\"love\" + 0.041*\"strong\" + 0.041*\"high\" + 0.032*\"focus\" + 0.030*\"profession\" + 0.027*\"corpor\" + 0.026*\"network\" + 0.024*\"provid\" + 0.022*\"look\" + 0.020*\"chang\" + 0.019*\"wonder\"'),\n",
       " (9,\n",
       "  '0.123*\"time\" + 0.116*\"benefit\" + 0.110*\"salari\" + 0.054*\"vacat\" + 0.051*\"paid\" + 0.048*\"day\" + 0.038*\"part\" + 0.032*\"packag\" + 0.029*\"week\" + 0.023*\"holiday\" + 0.023*\"competit\" + 0.022*\"union\" + 0.020*\"overal\"'),\n",
       " (10,\n",
       "  '0.239*\"flexibl\" + 0.187*\"hour\" + 0.136*\"schedul\" + 0.038*\"tuition\" + 0.037*\"reimburs\" + 0.030*\"time\" + 0.021*\"school\" + 0.018*\"shift\" + 0.018*\"plus\" + 0.017*\"lunch\" + 0.015*\"weekend\" + 0.015*\"set\" + 0.014*\"break\"'),\n",
       " (11,\n",
       "  '0.048*\"colleagu\" + 0.044*\"group\" + 0.044*\"base\" + 0.042*\"medic\" + 0.039*\"etc\" + 0.037*\"larg\" + 0.036*\"intern\" + 0.034*\"resum\" + 0.030*\"vision\" + 0.030*\"dental\" + 0.029*\"structur\" + 0.029*\"name\" + 0.021*\"commiss\"'),\n",
       " (12,\n",
       "  '0.061*\"store\" + 0.057*\"make\" + 0.051*\"abil\" + 0.051*\"money\" + 0.046*\"promot\" + 0.039*\"long\" + 0.036*\"depart\" + 0.034*\"hire\" + 0.031*\"depend\" + 0.031*\"month\" + 0.030*\"everi\" + 0.026*\"get\" + 0.025*\"facil\"'),\n",
       " (13,\n",
       "  '0.267*\"employe\" + 0.102*\"care\" + 0.057*\"benefit\" + 0.045*\"realli\" + 0.038*\"take\" + 0.033*\"share\" + 0.032*\"top\" + 0.028*\"pretti\" + 0.028*\"stabl\" + 0.023*\"seem\" + 0.018*\"well\" + 0.015*\"amount\" + 0.015*\"profit\"'),\n",
       " (14,\n",
       "  '0.190*\"manag\" + 0.107*\"team\" + 0.047*\"support\" + 0.032*\"help\" + 0.028*\"staff\" + 0.027*\"friend\" + 0.026*\"leadership\" + 0.025*\"worker\" + 0.020*\"level\" + 0.017*\"senior\" + 0.015*\"open\" + 0.014*\"reward\" + 0.014*\"co\"'),\n",
       " (15,\n",
       "  '0.062*\"job\" + 0.056*\"get\" + 0.028*\"easi\" + 0.024*\"want\" + 0.021*\"go\" + 0.021*\"make\" + 0.018*\"need\" + 0.016*\"much\" + 0.016*\"time\" + 0.016*\"like\" + 0.016*\"hard\" + 0.016*\"better\" + 0.014*\"day\"'),\n",
       " (16,\n",
       "  '0.173*\"nice\" + 0.086*\"peopl\" + 0.073*\"offic\" + 0.065*\"free\" + 0.031*\"food\" + 0.029*\"exposur\" + 0.027*\"cool\" + 0.023*\"build\" + 0.022*\"gym\" + 0.018*\"noth\" + 0.017*\"center\" + 0.017*\"enough\" + 0.015*\"els\"'),\n",
       " (17,\n",
       "  '0.184*\"opportun\" + 0.049*\"career\" + 0.045*\"lot\" + 0.043*\"mani\" + 0.042*\"growth\" + 0.038*\"advanc\" + 0.034*\"benefit\" + 0.030*\"train\" + 0.030*\"grow\" + 0.027*\"develop\" + 0.027*\"differ\" + 0.027*\"move\" + 0.024*\"within\"'),\n",
       " (18,\n",
       "  '0.239*\"environ\" + 0.116*\"custom\" + 0.072*\"fun\" + 0.070*\"challeng\" + 0.052*\"servic\" + 0.049*\"discount\" + 0.042*\"fast\" + 0.037*\"cowork\" + 0.032*\"pace\" + 0.019*\"back\" + 0.016*\"tech\" + 0.016*\"sale\" + 0.014*\"product\"'),\n",
       " (19,\n",
       "  '0.381*\"pay\" + 0.309*\"benefit\" + 0.097*\"decent\" + 0.045*\"excel\" + 0.034*\"competit\" + 0.023*\"cowork\" + 0.022*\"job\" + 0.016*\"fair\" + 0.012*\"well\" + 0.006*\"benifit\" + 0.005*\"area\" + 0.004*\"ot\" + 0.003*\"solid\"')]"
      ]
     },
     "execution_count": 47,
     "metadata": {},
     "output_type": "execute_result"
    }
   ],
   "source": [
    "# stemmed_pros = [tokenize_sentences(word) for word in stemmed_pros]\n",
    "stemmed_pros = pd.Series(stemmed_pros).apply(lambda x: remove_stopwords(x, ['great','good','work','compani']))\n",
    "dictionary_pros = corpora.Dictionary(stemmed_pros)\n",
    "pros_corpus = [dictionary_pros.doc2bow(text) for text in stemmed_pros]\n",
    "ldamodel_stemmed_pros_20_custom_stopwords = LdaModel(corpus = pros_corpus, num_topics=20, id2word = dictionary_pros, \n",
    "                                           passes=10, random_state = 25, minimum_probability = 0.0)\n",
    "temp_file = datapath(\"lda_stemmed_pros_20_custom_stopwords\")\n",
    "ldamodel_stemmed_pros_20_custom_stopwords.save(temp_file)\n",
    "ldamodel_stemmed_pros_20_custom_stopwords.show_topics(num_topics = 20, num_words = 13) # remove index to show all topics"
   ]
  },
  {
   "cell_type": "code",
   "execution_count": null,
   "metadata": {},
   "outputs": [],
   "source": []
  }
 ],
 "metadata": {
  "kernelspec": {
   "display_name": "Python 3",
   "language": "python",
   "name": "python3"
  },
  "language_info": {
   "codemirror_mode": {
    "name": "ipython",
    "version": 3
   },
   "file_extension": ".py",
   "mimetype": "text/x-python",
   "name": "python",
   "nbconvert_exporter": "python",
   "pygments_lexer": "ipython3",
   "version": "3.6.9"
  }
 },
 "nbformat": 4,
 "nbformat_minor": 2
}
