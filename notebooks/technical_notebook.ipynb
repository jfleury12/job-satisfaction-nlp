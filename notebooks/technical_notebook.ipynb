{
 "cells": [
  {
   "attachments": {},
   "cell_type": "markdown",
   "metadata": {},
   "source": [
    "# Employee Satisfaction Themes\n",
    "## Technical Notebook\n",
    "<img src=\"../images/job_grayscale.jpg\" align=\"\" width=\"600\" height=\"600\" />\n",
    "\n",
    " \n",
    "## Project Goals\n",
    "- Attempt to discover common themes of employee satisfaction and dissatisfaction among Fortune 100 companies using reviews from glassdoor.com\n",
    "- Determine which companies particularly excel or fail in these categories\n",
    "- Attempt to discover common principles that companies advocate for in their mission and vision statements, using manually scraped mission and vision statements from company pages\n",
    "- Determine the amount of \"mismatch\" between employee and company sentiment, evaluating difference between employee-provided reviews and company mission and vision statements\n",
    "\n",
    "## Summary of Data\n",
    "The employee review data consists of 250,000+ employee-provided reviews of companies. This data was web-scraped from glassdoor.com, and contains information only from Fortune 100 companies. Each review consists of a \"Pros\" and \"Cons\" section."
   ]
  },
  {
   "cell_type": "markdown",
   "metadata": {},
   "source": [
    "### Library and Function Import"
   ]
  },
  {
   "cell_type": "code",
   "execution_count": 156,
   "metadata": {},
   "outputs": [
    {
     "data": {
      "text/html": [
       "        <script type=\"text/javascript\">\n",
       "        window.PlotlyConfig = {MathJaxConfig: 'local'};\n",
       "        if (window.MathJax) {MathJax.Hub.Config({SVG: {font: \"STIX-Web\"}});}\n",
       "        if (typeof require !== 'undefined') {\n",
       "        require.undef(\"plotly\");\n",
       "        requirejs.config({\n",
       "            paths: {\n",
       "                'plotly': ['https://cdn.plot.ly/plotly-latest.min']\n",
       "            }\n",
       "        });\n",
       "        require(['plotly'], function(Plotly) {\n",
       "            window._Plotly = Plotly;\n",
       "        });\n",
       "        }\n",
       "        </script>\n",
       "        "
      ]
     },
     "metadata": {},
     "output_type": "display_data"
    }
   ],
   "source": [
    "#Import libraries\n",
    "%run ../python_files/libraries\n",
    "# need to import libraries that functions are dependent on separately within functions.py file\n",
    "%run ../python_files/functions\n",
    "%matplotlib inline\n",
    "# from libraries import *   #for use within .py file"
   ]
  },
  {
   "cell_type": "markdown",
   "metadata": {},
   "source": [
    "### Object Import"
   ]
  },
  {
   "cell_type": "code",
   "execution_count": 126,
   "metadata": {},
   "outputs": [],
   "source": [
    "# 'unpickle' saved objects\n",
    "with open('../../saved_objects/tokenized_pros.pkl', 'rb') as f:\n",
    "    tokenized_pros = pickle.load(f)\n",
    "with open('../../saved_objects/tokenized_cons.pkl', 'rb') as f:\n",
    "    tokenized_cons = pickle.load(f)\n",
    "with open('../../saved_objects/stemmed_pros.pkl', 'rb') as f:\n",
    "    stemmed_pros = pickle.load(f)\n",
    "with open('../../saved_objects/stemmed_cons.pkl', 'rb') as f:\n",
    "    stemmed_cons = pickle.load(f)\n",
    "with open('../../saved_objects/top_adjectives_pros.pkl', 'rb') as f:\n",
    "    top_adjectives_pros = pickle.load(f)\n",
    "with open('../../saved_objects/top_adjectives_cons.pkl', 'rb') as f:\n",
    "    top_adjectives_cons = pickle.load(f)\n",
    "with open('../../saved_objects/ldamodel_pros.pkl', 'rb') as f:\n",
    "    ldamodel_pros = pickle.load(f)\n",
    "with open('../../saved_objects/ldamodel_cons.pkl', 'rb') as f:\n",
    "    ldamodel_cons = pickle.load(f)\n",
    "with open('../../saved_objects/reviews_df.pkl', 'rb') as f:\n",
    "    all_reviews = pickle.load(f)"
   ]
  },
  {
   "cell_type": "markdown",
   "metadata": {},
   "source": [
    "## Initial Exploratory Analysis\n",
    "\n",
    "### How do employees differ in describing jobs they enjoy vs. jobs they hate?\n",
    "We can use the previously POS-tagged reviews that we generated using SpaCy and discover what the most commonly used adjectives are. This is extremely useful in text generated from any sort of reviews. We can roughly gauge the way people view a certain item, product, or company in our case.\n",
    "### Most common adjectives used in Pros:"
   ]
  },
  {
   "cell_type": "code",
   "execution_count": 55,
   "metadata": {
    "scrolled": false
   },
   "outputs": [
    {
     "data": {
      "application/vnd.plotly.v1+json": {
       "config": {
        "linkText": "Export to plot.ly",
        "plotlyServerURL": "https://plot.ly",
        "showLink": true
       },
       "data": [
        {
         "marker": {
          "color": "rgba(0, 128, 0, 0.6)",
          "line": {
           "color": "rgba(0, 128, 0, 1.0)",
           "width": 1
          }
         },
         "name": "count",
         "orientation": "h",
         "text": "",
         "type": "bar",
         "x": [
          135,
          142,
          155,
          185,
          221,
          232,
          232,
          251,
          271,
          277,
          283,
          322,
          361,
          367,
          379,
          423,
          482,
          593,
          3454,
          3591
         ],
         "y": [
          "high",
          "interesting",
          "strong",
          "large",
          "competitive",
          "free",
          "amazing",
          "different",
          "smart",
          "easy",
          "new",
          "best",
          "friendly",
          "excellent",
          "many",
          "decent",
          "nice",
          "flexible",
          "good",
          "great"
         ]
        }
       ],
       "layout": {
        "legend": {
         "bgcolor": "#F5F6F9",
         "font": {
          "color": "#4D5663"
         }
        },
        "paper_bgcolor": "#F5F6F9",
        "plot_bgcolor": "#F5F6F9",
        "template": {
         "data": {
          "bar": [
           {
            "error_x": {
             "color": "#2a3f5f"
            },
            "error_y": {
             "color": "#2a3f5f"
            },
            "marker": {
             "line": {
              "color": "#E5ECF6",
              "width": 0.5
             }
            },
            "type": "bar"
           }
          ],
          "barpolar": [
           {
            "marker": {
             "line": {
              "color": "#E5ECF6",
              "width": 0.5
             }
            },
            "type": "barpolar"
           }
          ],
          "carpet": [
           {
            "aaxis": {
             "endlinecolor": "#2a3f5f",
             "gridcolor": "white",
             "linecolor": "white",
             "minorgridcolor": "white",
             "startlinecolor": "#2a3f5f"
            },
            "baxis": {
             "endlinecolor": "#2a3f5f",
             "gridcolor": "white",
             "linecolor": "white",
             "minorgridcolor": "white",
             "startlinecolor": "#2a3f5f"
            },
            "type": "carpet"
           }
          ],
          "choropleth": [
           {
            "colorbar": {
             "outlinewidth": 0,
             "ticks": ""
            },
            "type": "choropleth"
           }
          ],
          "contour": [
           {
            "colorbar": {
             "outlinewidth": 0,
             "ticks": ""
            },
            "colorscale": [
             [
              0,
              "#0d0887"
             ],
             [
              0.1111111111111111,
              "#46039f"
             ],
             [
              0.2222222222222222,
              "#7201a8"
             ],
             [
              0.3333333333333333,
              "#9c179e"
             ],
             [
              0.4444444444444444,
              "#bd3786"
             ],
             [
              0.5555555555555556,
              "#d8576b"
             ],
             [
              0.6666666666666666,
              "#ed7953"
             ],
             [
              0.7777777777777778,
              "#fb9f3a"
             ],
             [
              0.8888888888888888,
              "#fdca26"
             ],
             [
              1,
              "#f0f921"
             ]
            ],
            "type": "contour"
           }
          ],
          "contourcarpet": [
           {
            "colorbar": {
             "outlinewidth": 0,
             "ticks": ""
            },
            "type": "contourcarpet"
           }
          ],
          "heatmap": [
           {
            "colorbar": {
             "outlinewidth": 0,
             "ticks": ""
            },
            "colorscale": [
             [
              0,
              "#0d0887"
             ],
             [
              0.1111111111111111,
              "#46039f"
             ],
             [
              0.2222222222222222,
              "#7201a8"
             ],
             [
              0.3333333333333333,
              "#9c179e"
             ],
             [
              0.4444444444444444,
              "#bd3786"
             ],
             [
              0.5555555555555556,
              "#d8576b"
             ],
             [
              0.6666666666666666,
              "#ed7953"
             ],
             [
              0.7777777777777778,
              "#fb9f3a"
             ],
             [
              0.8888888888888888,
              "#fdca26"
             ],
             [
              1,
              "#f0f921"
             ]
            ],
            "type": "heatmap"
           }
          ],
          "heatmapgl": [
           {
            "colorbar": {
             "outlinewidth": 0,
             "ticks": ""
            },
            "colorscale": [
             [
              0,
              "#0d0887"
             ],
             [
              0.1111111111111111,
              "#46039f"
             ],
             [
              0.2222222222222222,
              "#7201a8"
             ],
             [
              0.3333333333333333,
              "#9c179e"
             ],
             [
              0.4444444444444444,
              "#bd3786"
             ],
             [
              0.5555555555555556,
              "#d8576b"
             ],
             [
              0.6666666666666666,
              "#ed7953"
             ],
             [
              0.7777777777777778,
              "#fb9f3a"
             ],
             [
              0.8888888888888888,
              "#fdca26"
             ],
             [
              1,
              "#f0f921"
             ]
            ],
            "type": "heatmapgl"
           }
          ],
          "histogram": [
           {
            "marker": {
             "colorbar": {
              "outlinewidth": 0,
              "ticks": ""
             }
            },
            "type": "histogram"
           }
          ],
          "histogram2d": [
           {
            "colorbar": {
             "outlinewidth": 0,
             "ticks": ""
            },
            "colorscale": [
             [
              0,
              "#0d0887"
             ],
             [
              0.1111111111111111,
              "#46039f"
             ],
             [
              0.2222222222222222,
              "#7201a8"
             ],
             [
              0.3333333333333333,
              "#9c179e"
             ],
             [
              0.4444444444444444,
              "#bd3786"
             ],
             [
              0.5555555555555556,
              "#d8576b"
             ],
             [
              0.6666666666666666,
              "#ed7953"
             ],
             [
              0.7777777777777778,
              "#fb9f3a"
             ],
             [
              0.8888888888888888,
              "#fdca26"
             ],
             [
              1,
              "#f0f921"
             ]
            ],
            "type": "histogram2d"
           }
          ],
          "histogram2dcontour": [
           {
            "colorbar": {
             "outlinewidth": 0,
             "ticks": ""
            },
            "colorscale": [
             [
              0,
              "#0d0887"
             ],
             [
              0.1111111111111111,
              "#46039f"
             ],
             [
              0.2222222222222222,
              "#7201a8"
             ],
             [
              0.3333333333333333,
              "#9c179e"
             ],
             [
              0.4444444444444444,
              "#bd3786"
             ],
             [
              0.5555555555555556,
              "#d8576b"
             ],
             [
              0.6666666666666666,
              "#ed7953"
             ],
             [
              0.7777777777777778,
              "#fb9f3a"
             ],
             [
              0.8888888888888888,
              "#fdca26"
             ],
             [
              1,
              "#f0f921"
             ]
            ],
            "type": "histogram2dcontour"
           }
          ],
          "mesh3d": [
           {
            "colorbar": {
             "outlinewidth": 0,
             "ticks": ""
            },
            "type": "mesh3d"
           }
          ],
          "parcoords": [
           {
            "line": {
             "colorbar": {
              "outlinewidth": 0,
              "ticks": ""
             }
            },
            "type": "parcoords"
           }
          ],
          "scatter": [
           {
            "marker": {
             "colorbar": {
              "outlinewidth": 0,
              "ticks": ""
             }
            },
            "type": "scatter"
           }
          ],
          "scatter3d": [
           {
            "line": {
             "colorbar": {
              "outlinewidth": 0,
              "ticks": ""
             }
            },
            "marker": {
             "colorbar": {
              "outlinewidth": 0,
              "ticks": ""
             }
            },
            "type": "scatter3d"
           }
          ],
          "scattercarpet": [
           {
            "marker": {
             "colorbar": {
              "outlinewidth": 0,
              "ticks": ""
             }
            },
            "type": "scattercarpet"
           }
          ],
          "scattergeo": [
           {
            "marker": {
             "colorbar": {
              "outlinewidth": 0,
              "ticks": ""
             }
            },
            "type": "scattergeo"
           }
          ],
          "scattergl": [
           {
            "marker": {
             "colorbar": {
              "outlinewidth": 0,
              "ticks": ""
             }
            },
            "type": "scattergl"
           }
          ],
          "scattermapbox": [
           {
            "marker": {
             "colorbar": {
              "outlinewidth": 0,
              "ticks": ""
             }
            },
            "type": "scattermapbox"
           }
          ],
          "scatterpolar": [
           {
            "marker": {
             "colorbar": {
              "outlinewidth": 0,
              "ticks": ""
             }
            },
            "type": "scatterpolar"
           }
          ],
          "scatterpolargl": [
           {
            "marker": {
             "colorbar": {
              "outlinewidth": 0,
              "ticks": ""
             }
            },
            "type": "scatterpolargl"
           }
          ],
          "scatterternary": [
           {
            "marker": {
             "colorbar": {
              "outlinewidth": 0,
              "ticks": ""
             }
            },
            "type": "scatterternary"
           }
          ],
          "surface": [
           {
            "colorbar": {
             "outlinewidth": 0,
             "ticks": ""
            },
            "colorscale": [
             [
              0,
              "#0d0887"
             ],
             [
              0.1111111111111111,
              "#46039f"
             ],
             [
              0.2222222222222222,
              "#7201a8"
             ],
             [
              0.3333333333333333,
              "#9c179e"
             ],
             [
              0.4444444444444444,
              "#bd3786"
             ],
             [
              0.5555555555555556,
              "#d8576b"
             ],
             [
              0.6666666666666666,
              "#ed7953"
             ],
             [
              0.7777777777777778,
              "#fb9f3a"
             ],
             [
              0.8888888888888888,
              "#fdca26"
             ],
             [
              1,
              "#f0f921"
             ]
            ],
            "type": "surface"
           }
          ],
          "table": [
           {
            "cells": {
             "fill": {
              "color": "#EBF0F8"
             },
             "line": {
              "color": "white"
             }
            },
            "header": {
             "fill": {
              "color": "#C8D4E3"
             },
             "line": {
              "color": "white"
             }
            },
            "type": "table"
           }
          ]
         },
         "layout": {
          "annotationdefaults": {
           "arrowcolor": "#2a3f5f",
           "arrowhead": 0,
           "arrowwidth": 1
          },
          "colorscale": {
           "diverging": [
            [
             0,
             "#8e0152"
            ],
            [
             0.1,
             "#c51b7d"
            ],
            [
             0.2,
             "#de77ae"
            ],
            [
             0.3,
             "#f1b6da"
            ],
            [
             0.4,
             "#fde0ef"
            ],
            [
             0.5,
             "#f7f7f7"
            ],
            [
             0.6,
             "#e6f5d0"
            ],
            [
             0.7,
             "#b8e186"
            ],
            [
             0.8,
             "#7fbc41"
            ],
            [
             0.9,
             "#4d9221"
            ],
            [
             1,
             "#276419"
            ]
           ],
           "sequential": [
            [
             0,
             "#0d0887"
            ],
            [
             0.1111111111111111,
             "#46039f"
            ],
            [
             0.2222222222222222,
             "#7201a8"
            ],
            [
             0.3333333333333333,
             "#9c179e"
            ],
            [
             0.4444444444444444,
             "#bd3786"
            ],
            [
             0.5555555555555556,
             "#d8576b"
            ],
            [
             0.6666666666666666,
             "#ed7953"
            ],
            [
             0.7777777777777778,
             "#fb9f3a"
            ],
            [
             0.8888888888888888,
             "#fdca26"
            ],
            [
             1,
             "#f0f921"
            ]
           ],
           "sequentialminus": [
            [
             0,
             "#0d0887"
            ],
            [
             0.1111111111111111,
             "#46039f"
            ],
            [
             0.2222222222222222,
             "#7201a8"
            ],
            [
             0.3333333333333333,
             "#9c179e"
            ],
            [
             0.4444444444444444,
             "#bd3786"
            ],
            [
             0.5555555555555556,
             "#d8576b"
            ],
            [
             0.6666666666666666,
             "#ed7953"
            ],
            [
             0.7777777777777778,
             "#fb9f3a"
            ],
            [
             0.8888888888888888,
             "#fdca26"
            ],
            [
             1,
             "#f0f921"
            ]
           ]
          },
          "colorway": [
           "#636efa",
           "#EF553B",
           "#00cc96",
           "#ab63fa",
           "#FFA15A",
           "#19d3f3",
           "#FF6692",
           "#B6E880",
           "#FF97FF",
           "#FECB52"
          ],
          "font": {
           "color": "#2a3f5f"
          },
          "geo": {
           "bgcolor": "white",
           "lakecolor": "white",
           "landcolor": "#E5ECF6",
           "showlakes": true,
           "showland": true,
           "subunitcolor": "white"
          },
          "hoverlabel": {
           "align": "left"
          },
          "hovermode": "closest",
          "mapbox": {
           "style": "light"
          },
          "paper_bgcolor": "white",
          "plot_bgcolor": "#E5ECF6",
          "polar": {
           "angularaxis": {
            "gridcolor": "white",
            "linecolor": "white",
            "ticks": ""
           },
           "bgcolor": "#E5ECF6",
           "radialaxis": {
            "gridcolor": "white",
            "linecolor": "white",
            "ticks": ""
           }
          },
          "scene": {
           "xaxis": {
            "backgroundcolor": "#E5ECF6",
            "gridcolor": "white",
            "gridwidth": 2,
            "linecolor": "white",
            "showbackground": true,
            "ticks": "",
            "zerolinecolor": "white"
           },
           "yaxis": {
            "backgroundcolor": "#E5ECF6",
            "gridcolor": "white",
            "gridwidth": 2,
            "linecolor": "white",
            "showbackground": true,
            "ticks": "",
            "zerolinecolor": "white"
           },
           "zaxis": {
            "backgroundcolor": "#E5ECF6",
            "gridcolor": "white",
            "gridwidth": 2,
            "linecolor": "white",
            "showbackground": true,
            "ticks": "",
            "zerolinecolor": "white"
           }
          },
          "shapedefaults": {
           "line": {
            "color": "#2a3f5f"
           }
          },
          "ternary": {
           "aaxis": {
            "gridcolor": "white",
            "linecolor": "white",
            "ticks": ""
           },
           "baxis": {
            "gridcolor": "white",
            "linecolor": "white",
            "ticks": ""
           },
           "bgcolor": "#E5ECF6",
           "caxis": {
            "gridcolor": "white",
            "linecolor": "white",
            "ticks": ""
           }
          },
          "title": {
           "x": 0.05
          },
          "xaxis": {
           "automargin": true,
           "gridcolor": "white",
           "linecolor": "white",
           "ticks": "",
           "zerolinecolor": "white",
           "zerolinewidth": 2
          },
          "yaxis": {
           "automargin": true,
           "gridcolor": "white",
           "linecolor": "white",
           "ticks": "",
           "zerolinecolor": "white",
           "zerolinewidth": 2
          }
         }
        },
        "title": {
         "font": {
          "color": "#4D5663"
         },
         "text": "Top 20 Adjectives in 'Pros' after Removing Stop Words (sample of 10k):"
        },
        "xaxis": {
         "gridcolor": "#E1E5ED",
         "linecolor": "black",
         "showgrid": true,
         "tickfont": {
          "color": "#4D5663"
         },
         "title": {
          "font": {
           "color": "#4D5663"
          },
          "text": "Count"
         },
         "zerolinecolor": "#E1E5ED"
        },
        "yaxis": {
         "gridcolor": "#E1E5ED",
         "linecolor": "black",
         "showgrid": true,
         "tickfont": {
          "color": "#4D5663"
         },
         "title": {
          "font": {
           "color": "#4D5663"
          },
          "text": ""
         },
         "zerolinecolor": "#E1E5ED"
        }
       }
      },
      "text/html": [
       "<div>\n",
       "        \n",
       "        \n",
       "            <div id=\"1b8add47-f9df-4477-961e-17b019a5f231\" class=\"plotly-graph-div\" style=\"height:525px; width:100%;\"></div>\n",
       "            <script type=\"text/javascript\">\n",
       "                require([\"plotly\"], function(Plotly) {\n",
       "                    window.PLOTLYENV=window.PLOTLYENV || {};\n",
       "                    window.PLOTLYENV.BASE_URL='https://plot.ly';\n",
       "                    \n",
       "                if (document.getElementById(\"1b8add47-f9df-4477-961e-17b019a5f231\")) {\n",
       "                    Plotly.newPlot(\n",
       "                        '1b8add47-f9df-4477-961e-17b019a5f231',\n",
       "                        [{\"marker\": {\"color\": \"rgba(0, 128, 0, 0.6)\", \"line\": {\"color\": \"rgba(0, 128, 0, 1.0)\", \"width\": 1}}, \"name\": \"count\", \"orientation\": \"h\", \"text\": \"\", \"type\": \"bar\", \"x\": [135, 142, 155, 185, 221, 232, 232, 251, 271, 277, 283, 322, 361, 367, 379, 423, 482, 593, 3454, 3591], \"y\": [\"high\", \"interesting\", \"strong\", \"large\", \"competitive\", \"free\", \"amazing\", \"different\", \"smart\", \"easy\", \"new\", \"best\", \"friendly\", \"excellent\", \"many\", \"decent\", \"nice\", \"flexible\", \"good\", \"great\"]}],\n",
       "                        {\"legend\": {\"bgcolor\": \"#F5F6F9\", \"font\": {\"color\": \"#4D5663\"}}, \"paper_bgcolor\": \"#F5F6F9\", \"plot_bgcolor\": \"#F5F6F9\", \"template\": {\"data\": {\"bar\": [{\"error_x\": {\"color\": \"#2a3f5f\"}, \"error_y\": {\"color\": \"#2a3f5f\"}, \"marker\": {\"line\": {\"color\": \"#E5ECF6\", \"width\": 0.5}}, \"type\": \"bar\"}], \"barpolar\": [{\"marker\": {\"line\": {\"color\": \"#E5ECF6\", \"width\": 0.5}}, \"type\": \"barpolar\"}], \"carpet\": [{\"aaxis\": {\"endlinecolor\": \"#2a3f5f\", \"gridcolor\": \"white\", \"linecolor\": \"white\", \"minorgridcolor\": \"white\", \"startlinecolor\": \"#2a3f5f\"}, \"baxis\": {\"endlinecolor\": \"#2a3f5f\", \"gridcolor\": \"white\", \"linecolor\": \"white\", \"minorgridcolor\": \"white\", \"startlinecolor\": \"#2a3f5f\"}, \"type\": \"carpet\"}], \"choropleth\": [{\"colorbar\": {\"outlinewidth\": 0, \"ticks\": \"\"}, \"type\": \"choropleth\"}], \"contour\": [{\"colorbar\": {\"outlinewidth\": 0, \"ticks\": \"\"}, \"colorscale\": [[0.0, \"#0d0887\"], [0.1111111111111111, \"#46039f\"], [0.2222222222222222, \"#7201a8\"], [0.3333333333333333, \"#9c179e\"], [0.4444444444444444, \"#bd3786\"], [0.5555555555555556, \"#d8576b\"], [0.6666666666666666, \"#ed7953\"], [0.7777777777777778, \"#fb9f3a\"], [0.8888888888888888, \"#fdca26\"], [1.0, \"#f0f921\"]], \"type\": \"contour\"}], \"contourcarpet\": [{\"colorbar\": {\"outlinewidth\": 0, \"ticks\": \"\"}, \"type\": \"contourcarpet\"}], \"heatmap\": [{\"colorbar\": {\"outlinewidth\": 0, \"ticks\": \"\"}, \"colorscale\": [[0.0, \"#0d0887\"], [0.1111111111111111, \"#46039f\"], [0.2222222222222222, \"#7201a8\"], [0.3333333333333333, \"#9c179e\"], [0.4444444444444444, \"#bd3786\"], [0.5555555555555556, \"#d8576b\"], [0.6666666666666666, \"#ed7953\"], [0.7777777777777778, \"#fb9f3a\"], [0.8888888888888888, \"#fdca26\"], [1.0, \"#f0f921\"]], \"type\": \"heatmap\"}], \"heatmapgl\": [{\"colorbar\": {\"outlinewidth\": 0, \"ticks\": \"\"}, \"colorscale\": [[0.0, \"#0d0887\"], [0.1111111111111111, \"#46039f\"], [0.2222222222222222, \"#7201a8\"], [0.3333333333333333, \"#9c179e\"], [0.4444444444444444, \"#bd3786\"], [0.5555555555555556, \"#d8576b\"], [0.6666666666666666, \"#ed7953\"], [0.7777777777777778, \"#fb9f3a\"], [0.8888888888888888, \"#fdca26\"], [1.0, \"#f0f921\"]], \"type\": \"heatmapgl\"}], \"histogram\": [{\"marker\": {\"colorbar\": {\"outlinewidth\": 0, \"ticks\": \"\"}}, \"type\": \"histogram\"}], \"histogram2d\": [{\"colorbar\": {\"outlinewidth\": 0, \"ticks\": \"\"}, \"colorscale\": [[0.0, \"#0d0887\"], [0.1111111111111111, \"#46039f\"], [0.2222222222222222, \"#7201a8\"], [0.3333333333333333, \"#9c179e\"], [0.4444444444444444, \"#bd3786\"], [0.5555555555555556, \"#d8576b\"], [0.6666666666666666, \"#ed7953\"], [0.7777777777777778, \"#fb9f3a\"], [0.8888888888888888, \"#fdca26\"], [1.0, \"#f0f921\"]], \"type\": \"histogram2d\"}], \"histogram2dcontour\": [{\"colorbar\": {\"outlinewidth\": 0, \"ticks\": \"\"}, \"colorscale\": [[0.0, \"#0d0887\"], [0.1111111111111111, \"#46039f\"], [0.2222222222222222, \"#7201a8\"], [0.3333333333333333, \"#9c179e\"], [0.4444444444444444, \"#bd3786\"], [0.5555555555555556, \"#d8576b\"], [0.6666666666666666, \"#ed7953\"], [0.7777777777777778, \"#fb9f3a\"], [0.8888888888888888, \"#fdca26\"], [1.0, \"#f0f921\"]], \"type\": \"histogram2dcontour\"}], \"mesh3d\": [{\"colorbar\": {\"outlinewidth\": 0, \"ticks\": \"\"}, \"type\": \"mesh3d\"}], \"parcoords\": [{\"line\": {\"colorbar\": {\"outlinewidth\": 0, \"ticks\": \"\"}}, \"type\": \"parcoords\"}], \"scatter\": [{\"marker\": {\"colorbar\": {\"outlinewidth\": 0, \"ticks\": \"\"}}, \"type\": \"scatter\"}], \"scatter3d\": [{\"line\": {\"colorbar\": {\"outlinewidth\": 0, \"ticks\": \"\"}}, \"marker\": {\"colorbar\": {\"outlinewidth\": 0, \"ticks\": \"\"}}, \"type\": \"scatter3d\"}], \"scattercarpet\": [{\"marker\": {\"colorbar\": {\"outlinewidth\": 0, \"ticks\": \"\"}}, \"type\": \"scattercarpet\"}], \"scattergeo\": [{\"marker\": {\"colorbar\": {\"outlinewidth\": 0, \"ticks\": \"\"}}, \"type\": \"scattergeo\"}], \"scattergl\": [{\"marker\": {\"colorbar\": {\"outlinewidth\": 0, \"ticks\": \"\"}}, \"type\": \"scattergl\"}], \"scattermapbox\": [{\"marker\": {\"colorbar\": {\"outlinewidth\": 0, \"ticks\": \"\"}}, \"type\": \"scattermapbox\"}], \"scatterpolar\": [{\"marker\": {\"colorbar\": {\"outlinewidth\": 0, \"ticks\": \"\"}}, \"type\": \"scatterpolar\"}], \"scatterpolargl\": [{\"marker\": {\"colorbar\": {\"outlinewidth\": 0, \"ticks\": \"\"}}, \"type\": \"scatterpolargl\"}], \"scatterternary\": [{\"marker\": {\"colorbar\": {\"outlinewidth\": 0, \"ticks\": \"\"}}, \"type\": \"scatterternary\"}], \"surface\": [{\"colorbar\": {\"outlinewidth\": 0, \"ticks\": \"\"}, \"colorscale\": [[0.0, \"#0d0887\"], [0.1111111111111111, \"#46039f\"], [0.2222222222222222, \"#7201a8\"], [0.3333333333333333, \"#9c179e\"], [0.4444444444444444, \"#bd3786\"], [0.5555555555555556, \"#d8576b\"], [0.6666666666666666, \"#ed7953\"], [0.7777777777777778, \"#fb9f3a\"], [0.8888888888888888, \"#fdca26\"], [1.0, \"#f0f921\"]], \"type\": \"surface\"}], \"table\": [{\"cells\": {\"fill\": {\"color\": \"#EBF0F8\"}, \"line\": {\"color\": \"white\"}}, \"header\": {\"fill\": {\"color\": \"#C8D4E3\"}, \"line\": {\"color\": \"white\"}}, \"type\": \"table\"}]}, \"layout\": {\"annotationdefaults\": {\"arrowcolor\": \"#2a3f5f\", \"arrowhead\": 0, \"arrowwidth\": 1}, \"colorscale\": {\"diverging\": [[0, \"#8e0152\"], [0.1, \"#c51b7d\"], [0.2, \"#de77ae\"], [0.3, \"#f1b6da\"], [0.4, \"#fde0ef\"], [0.5, \"#f7f7f7\"], [0.6, \"#e6f5d0\"], [0.7, \"#b8e186\"], [0.8, \"#7fbc41\"], [0.9, \"#4d9221\"], [1, \"#276419\"]], \"sequential\": [[0.0, \"#0d0887\"], [0.1111111111111111, \"#46039f\"], [0.2222222222222222, \"#7201a8\"], [0.3333333333333333, \"#9c179e\"], [0.4444444444444444, \"#bd3786\"], [0.5555555555555556, \"#d8576b\"], [0.6666666666666666, \"#ed7953\"], [0.7777777777777778, \"#fb9f3a\"], [0.8888888888888888, \"#fdca26\"], [1.0, \"#f0f921\"]], \"sequentialminus\": [[0.0, \"#0d0887\"], [0.1111111111111111, \"#46039f\"], [0.2222222222222222, \"#7201a8\"], [0.3333333333333333, \"#9c179e\"], [0.4444444444444444, \"#bd3786\"], [0.5555555555555556, \"#d8576b\"], [0.6666666666666666, \"#ed7953\"], [0.7777777777777778, \"#fb9f3a\"], [0.8888888888888888, \"#fdca26\"], [1.0, \"#f0f921\"]]}, \"colorway\": [\"#636efa\", \"#EF553B\", \"#00cc96\", \"#ab63fa\", \"#FFA15A\", \"#19d3f3\", \"#FF6692\", \"#B6E880\", \"#FF97FF\", \"#FECB52\"], \"font\": {\"color\": \"#2a3f5f\"}, \"geo\": {\"bgcolor\": \"white\", \"lakecolor\": \"white\", \"landcolor\": \"#E5ECF6\", \"showlakes\": true, \"showland\": true, \"subunitcolor\": \"white\"}, \"hoverlabel\": {\"align\": \"left\"}, \"hovermode\": \"closest\", \"mapbox\": {\"style\": \"light\"}, \"paper_bgcolor\": \"white\", \"plot_bgcolor\": \"#E5ECF6\", \"polar\": {\"angularaxis\": {\"gridcolor\": \"white\", \"linecolor\": \"white\", \"ticks\": \"\"}, \"bgcolor\": \"#E5ECF6\", \"radialaxis\": {\"gridcolor\": \"white\", \"linecolor\": \"white\", \"ticks\": \"\"}}, \"scene\": {\"xaxis\": {\"backgroundcolor\": \"#E5ECF6\", \"gridcolor\": \"white\", \"gridwidth\": 2, \"linecolor\": \"white\", \"showbackground\": true, \"ticks\": \"\", \"zerolinecolor\": \"white\"}, \"yaxis\": {\"backgroundcolor\": \"#E5ECF6\", \"gridcolor\": \"white\", \"gridwidth\": 2, \"linecolor\": \"white\", \"showbackground\": true, \"ticks\": \"\", \"zerolinecolor\": \"white\"}, \"zaxis\": {\"backgroundcolor\": \"#E5ECF6\", \"gridcolor\": \"white\", \"gridwidth\": 2, \"linecolor\": \"white\", \"showbackground\": true, \"ticks\": \"\", \"zerolinecolor\": \"white\"}}, \"shapedefaults\": {\"line\": {\"color\": \"#2a3f5f\"}}, \"ternary\": {\"aaxis\": {\"gridcolor\": \"white\", \"linecolor\": \"white\", \"ticks\": \"\"}, \"baxis\": {\"gridcolor\": \"white\", \"linecolor\": \"white\", \"ticks\": \"\"}, \"bgcolor\": \"#E5ECF6\", \"caxis\": {\"gridcolor\": \"white\", \"linecolor\": \"white\", \"ticks\": \"\"}}, \"title\": {\"x\": 0.05}, \"xaxis\": {\"automargin\": true, \"gridcolor\": \"white\", \"linecolor\": \"white\", \"ticks\": \"\", \"zerolinecolor\": \"white\", \"zerolinewidth\": 2}, \"yaxis\": {\"automargin\": true, \"gridcolor\": \"white\", \"linecolor\": \"white\", \"ticks\": \"\", \"zerolinecolor\": \"white\", \"zerolinewidth\": 2}}}, \"title\": {\"font\": {\"color\": \"#4D5663\"}, \"text\": \"Top 20 Adjectives in 'Pros' after Removing Stop Words (sample of 10k):\"}, \"xaxis\": {\"gridcolor\": \"#E1E5ED\", \"linecolor\": \"black\", \"showgrid\": true, \"tickfont\": {\"color\": \"#4D5663\"}, \"title\": {\"font\": {\"color\": \"#4D5663\"}, \"text\": \"Count\"}, \"zerolinecolor\": \"#E1E5ED\"}, \"yaxis\": {\"gridcolor\": \"#E1E5ED\", \"linecolor\": \"black\", \"showgrid\": true, \"tickfont\": {\"color\": \"#4D5663\"}, \"title\": {\"font\": {\"color\": \"#4D5663\"}, \"text\": \"\"}, \"zerolinecolor\": \"#E1E5ED\"}},\n",
       "                        {\"showLink\": true, \"linkText\": \"Export to plot.ly\", \"plotlyServerURL\": \"https://plot.ly\", \"responsive\": true}\n",
       "                    ).then(function(){\n",
       "                            \n",
       "var gd = document.getElementById('1b8add47-f9df-4477-961e-17b019a5f231');\n",
       "var x = new MutationObserver(function (mutations, observer) {{\n",
       "        var display = window.getComputedStyle(gd).display;\n",
       "        if (!display || display === 'none') {{\n",
       "            console.log([gd, 'removed!']);\n",
       "            Plotly.purge(gd);\n",
       "            observer.disconnect();\n",
       "        }}\n",
       "}});\n",
       "\n",
       "// Listen for the removal of the full notebook cells\n",
       "var notebookContainer = gd.closest('#notebook-container');\n",
       "if (notebookContainer) {{\n",
       "    x.observe(notebookContainer, {childList: true});\n",
       "}}\n",
       "\n",
       "// Listen for the clearing of the current output cell\n",
       "var outputEl = gd.closest('.output');\n",
       "if (outputEl) {{\n",
       "    x.observe(outputEl, {childList: true});\n",
       "}}\n",
       "\n",
       "                        })\n",
       "                };\n",
       "                });\n",
       "            </script>\n",
       "        </div>"
      ]
     },
     "metadata": {},
     "output_type": "display_data"
    }
   ],
   "source": [
    "top_adjectives_pros.iplot(\n",
    "    kind='bar', xTitle='Count', linecolor='black',orientation = 'h', color='green', title=\"Top 20 Adjectives in 'Pros' after Removing Stop Words (sample of 10k):\")"
   ]
  },
  {
   "cell_type": "markdown",
   "metadata": {},
   "source": [
    "Unsurprisingly, \"great\" and \"good\" top the list of most frequently used words - highly skewing the distribution to the right. Adjectives that stand out and give us an idea of what characteristics employees desire in a workplace are \"flexible,\" \"friendly,\" \"smart,\" and \"interesting.\""
   ]
  },
  {
   "cell_type": "markdown",
   "metadata": {},
   "source": [
    "### Most common adjectives used in Cons:"
   ]
  },
  {
   "cell_type": "code",
   "execution_count": 56,
   "metadata": {},
   "outputs": [
    {
     "data": {
      "application/vnd.plotly.v1+json": {
       "config": {
        "linkText": "Export to plot.ly",
        "plotlyServerURL": "https://plot.ly",
        "showLink": true
       },
       "data": [
        {
         "marker": {
          "color": "rgba(219, 64, 82, 0.6)",
          "line": {
           "color": "rgba(219, 64, 82, 1.0)",
           "width": 1
          }
         },
         "name": "count",
         "orientation": "h",
         "text": "",
         "type": "bar",
         "x": [
          218,
          223,
          234,
          269,
          272,
          277,
          290,
          306,
          328,
          362,
          380,
          387,
          390,
          404,
          427,
          474,
          536,
          543,
          563,
          739
         ],
         "y": [
          "upper",
          "due",
          "slow",
          "corporate",
          "enough",
          "large",
          "big",
          "hard",
          "great",
          "poor",
          "bad",
          "little",
          "difficult",
          "new",
          "high",
          "low",
          "long",
          "much",
          "good",
          "many"
         ]
        }
       ],
       "layout": {
        "legend": {
         "bgcolor": "#F5F6F9",
         "font": {
          "color": "#4D5663"
         }
        },
        "paper_bgcolor": "#F5F6F9",
        "plot_bgcolor": "#F5F6F9",
        "template": {
         "data": {
          "bar": [
           {
            "error_x": {
             "color": "#2a3f5f"
            },
            "error_y": {
             "color": "#2a3f5f"
            },
            "marker": {
             "line": {
              "color": "#E5ECF6",
              "width": 0.5
             }
            },
            "type": "bar"
           }
          ],
          "barpolar": [
           {
            "marker": {
             "line": {
              "color": "#E5ECF6",
              "width": 0.5
             }
            },
            "type": "barpolar"
           }
          ],
          "carpet": [
           {
            "aaxis": {
             "endlinecolor": "#2a3f5f",
             "gridcolor": "white",
             "linecolor": "white",
             "minorgridcolor": "white",
             "startlinecolor": "#2a3f5f"
            },
            "baxis": {
             "endlinecolor": "#2a3f5f",
             "gridcolor": "white",
             "linecolor": "white",
             "minorgridcolor": "white",
             "startlinecolor": "#2a3f5f"
            },
            "type": "carpet"
           }
          ],
          "choropleth": [
           {
            "colorbar": {
             "outlinewidth": 0,
             "ticks": ""
            },
            "type": "choropleth"
           }
          ],
          "contour": [
           {
            "colorbar": {
             "outlinewidth": 0,
             "ticks": ""
            },
            "colorscale": [
             [
              0,
              "#0d0887"
             ],
             [
              0.1111111111111111,
              "#46039f"
             ],
             [
              0.2222222222222222,
              "#7201a8"
             ],
             [
              0.3333333333333333,
              "#9c179e"
             ],
             [
              0.4444444444444444,
              "#bd3786"
             ],
             [
              0.5555555555555556,
              "#d8576b"
             ],
             [
              0.6666666666666666,
              "#ed7953"
             ],
             [
              0.7777777777777778,
              "#fb9f3a"
             ],
             [
              0.8888888888888888,
              "#fdca26"
             ],
             [
              1,
              "#f0f921"
             ]
            ],
            "type": "contour"
           }
          ],
          "contourcarpet": [
           {
            "colorbar": {
             "outlinewidth": 0,
             "ticks": ""
            },
            "type": "contourcarpet"
           }
          ],
          "heatmap": [
           {
            "colorbar": {
             "outlinewidth": 0,
             "ticks": ""
            },
            "colorscale": [
             [
              0,
              "#0d0887"
             ],
             [
              0.1111111111111111,
              "#46039f"
             ],
             [
              0.2222222222222222,
              "#7201a8"
             ],
             [
              0.3333333333333333,
              "#9c179e"
             ],
             [
              0.4444444444444444,
              "#bd3786"
             ],
             [
              0.5555555555555556,
              "#d8576b"
             ],
             [
              0.6666666666666666,
              "#ed7953"
             ],
             [
              0.7777777777777778,
              "#fb9f3a"
             ],
             [
              0.8888888888888888,
              "#fdca26"
             ],
             [
              1,
              "#f0f921"
             ]
            ],
            "type": "heatmap"
           }
          ],
          "heatmapgl": [
           {
            "colorbar": {
             "outlinewidth": 0,
             "ticks": ""
            },
            "colorscale": [
             [
              0,
              "#0d0887"
             ],
             [
              0.1111111111111111,
              "#46039f"
             ],
             [
              0.2222222222222222,
              "#7201a8"
             ],
             [
              0.3333333333333333,
              "#9c179e"
             ],
             [
              0.4444444444444444,
              "#bd3786"
             ],
             [
              0.5555555555555556,
              "#d8576b"
             ],
             [
              0.6666666666666666,
              "#ed7953"
             ],
             [
              0.7777777777777778,
              "#fb9f3a"
             ],
             [
              0.8888888888888888,
              "#fdca26"
             ],
             [
              1,
              "#f0f921"
             ]
            ],
            "type": "heatmapgl"
           }
          ],
          "histogram": [
           {
            "marker": {
             "colorbar": {
              "outlinewidth": 0,
              "ticks": ""
             }
            },
            "type": "histogram"
           }
          ],
          "histogram2d": [
           {
            "colorbar": {
             "outlinewidth": 0,
             "ticks": ""
            },
            "colorscale": [
             [
              0,
              "#0d0887"
             ],
             [
              0.1111111111111111,
              "#46039f"
             ],
             [
              0.2222222222222222,
              "#7201a8"
             ],
             [
              0.3333333333333333,
              "#9c179e"
             ],
             [
              0.4444444444444444,
              "#bd3786"
             ],
             [
              0.5555555555555556,
              "#d8576b"
             ],
             [
              0.6666666666666666,
              "#ed7953"
             ],
             [
              0.7777777777777778,
              "#fb9f3a"
             ],
             [
              0.8888888888888888,
              "#fdca26"
             ],
             [
              1,
              "#f0f921"
             ]
            ],
            "type": "histogram2d"
           }
          ],
          "histogram2dcontour": [
           {
            "colorbar": {
             "outlinewidth": 0,
             "ticks": ""
            },
            "colorscale": [
             [
              0,
              "#0d0887"
             ],
             [
              0.1111111111111111,
              "#46039f"
             ],
             [
              0.2222222222222222,
              "#7201a8"
             ],
             [
              0.3333333333333333,
              "#9c179e"
             ],
             [
              0.4444444444444444,
              "#bd3786"
             ],
             [
              0.5555555555555556,
              "#d8576b"
             ],
             [
              0.6666666666666666,
              "#ed7953"
             ],
             [
              0.7777777777777778,
              "#fb9f3a"
             ],
             [
              0.8888888888888888,
              "#fdca26"
             ],
             [
              1,
              "#f0f921"
             ]
            ],
            "type": "histogram2dcontour"
           }
          ],
          "mesh3d": [
           {
            "colorbar": {
             "outlinewidth": 0,
             "ticks": ""
            },
            "type": "mesh3d"
           }
          ],
          "parcoords": [
           {
            "line": {
             "colorbar": {
              "outlinewidth": 0,
              "ticks": ""
             }
            },
            "type": "parcoords"
           }
          ],
          "scatter": [
           {
            "marker": {
             "colorbar": {
              "outlinewidth": 0,
              "ticks": ""
             }
            },
            "type": "scatter"
           }
          ],
          "scatter3d": [
           {
            "line": {
             "colorbar": {
              "outlinewidth": 0,
              "ticks": ""
             }
            },
            "marker": {
             "colorbar": {
              "outlinewidth": 0,
              "ticks": ""
             }
            },
            "type": "scatter3d"
           }
          ],
          "scattercarpet": [
           {
            "marker": {
             "colorbar": {
              "outlinewidth": 0,
              "ticks": ""
             }
            },
            "type": "scattercarpet"
           }
          ],
          "scattergeo": [
           {
            "marker": {
             "colorbar": {
              "outlinewidth": 0,
              "ticks": ""
             }
            },
            "type": "scattergeo"
           }
          ],
          "scattergl": [
           {
            "marker": {
             "colorbar": {
              "outlinewidth": 0,
              "ticks": ""
             }
            },
            "type": "scattergl"
           }
          ],
          "scattermapbox": [
           {
            "marker": {
             "colorbar": {
              "outlinewidth": 0,
              "ticks": ""
             }
            },
            "type": "scattermapbox"
           }
          ],
          "scatterpolar": [
           {
            "marker": {
             "colorbar": {
              "outlinewidth": 0,
              "ticks": ""
             }
            },
            "type": "scatterpolar"
           }
          ],
          "scatterpolargl": [
           {
            "marker": {
             "colorbar": {
              "outlinewidth": 0,
              "ticks": ""
             }
            },
            "type": "scatterpolargl"
           }
          ],
          "scatterternary": [
           {
            "marker": {
             "colorbar": {
              "outlinewidth": 0,
              "ticks": ""
             }
            },
            "type": "scatterternary"
           }
          ],
          "surface": [
           {
            "colorbar": {
             "outlinewidth": 0,
             "ticks": ""
            },
            "colorscale": [
             [
              0,
              "#0d0887"
             ],
             [
              0.1111111111111111,
              "#46039f"
             ],
             [
              0.2222222222222222,
              "#7201a8"
             ],
             [
              0.3333333333333333,
              "#9c179e"
             ],
             [
              0.4444444444444444,
              "#bd3786"
             ],
             [
              0.5555555555555556,
              "#d8576b"
             ],
             [
              0.6666666666666666,
              "#ed7953"
             ],
             [
              0.7777777777777778,
              "#fb9f3a"
             ],
             [
              0.8888888888888888,
              "#fdca26"
             ],
             [
              1,
              "#f0f921"
             ]
            ],
            "type": "surface"
           }
          ],
          "table": [
           {
            "cells": {
             "fill": {
              "color": "#EBF0F8"
             },
             "line": {
              "color": "white"
             }
            },
            "header": {
             "fill": {
              "color": "#C8D4E3"
             },
             "line": {
              "color": "white"
             }
            },
            "type": "table"
           }
          ]
         },
         "layout": {
          "annotationdefaults": {
           "arrowcolor": "#2a3f5f",
           "arrowhead": 0,
           "arrowwidth": 1
          },
          "colorscale": {
           "diverging": [
            [
             0,
             "#8e0152"
            ],
            [
             0.1,
             "#c51b7d"
            ],
            [
             0.2,
             "#de77ae"
            ],
            [
             0.3,
             "#f1b6da"
            ],
            [
             0.4,
             "#fde0ef"
            ],
            [
             0.5,
             "#f7f7f7"
            ],
            [
             0.6,
             "#e6f5d0"
            ],
            [
             0.7,
             "#b8e186"
            ],
            [
             0.8,
             "#7fbc41"
            ],
            [
             0.9,
             "#4d9221"
            ],
            [
             1,
             "#276419"
            ]
           ],
           "sequential": [
            [
             0,
             "#0d0887"
            ],
            [
             0.1111111111111111,
             "#46039f"
            ],
            [
             0.2222222222222222,
             "#7201a8"
            ],
            [
             0.3333333333333333,
             "#9c179e"
            ],
            [
             0.4444444444444444,
             "#bd3786"
            ],
            [
             0.5555555555555556,
             "#d8576b"
            ],
            [
             0.6666666666666666,
             "#ed7953"
            ],
            [
             0.7777777777777778,
             "#fb9f3a"
            ],
            [
             0.8888888888888888,
             "#fdca26"
            ],
            [
             1,
             "#f0f921"
            ]
           ],
           "sequentialminus": [
            [
             0,
             "#0d0887"
            ],
            [
             0.1111111111111111,
             "#46039f"
            ],
            [
             0.2222222222222222,
             "#7201a8"
            ],
            [
             0.3333333333333333,
             "#9c179e"
            ],
            [
             0.4444444444444444,
             "#bd3786"
            ],
            [
             0.5555555555555556,
             "#d8576b"
            ],
            [
             0.6666666666666666,
             "#ed7953"
            ],
            [
             0.7777777777777778,
             "#fb9f3a"
            ],
            [
             0.8888888888888888,
             "#fdca26"
            ],
            [
             1,
             "#f0f921"
            ]
           ]
          },
          "colorway": [
           "#636efa",
           "#EF553B",
           "#00cc96",
           "#ab63fa",
           "#FFA15A",
           "#19d3f3",
           "#FF6692",
           "#B6E880",
           "#FF97FF",
           "#FECB52"
          ],
          "font": {
           "color": "#2a3f5f"
          },
          "geo": {
           "bgcolor": "white",
           "lakecolor": "white",
           "landcolor": "#E5ECF6",
           "showlakes": true,
           "showland": true,
           "subunitcolor": "white"
          },
          "hoverlabel": {
           "align": "left"
          },
          "hovermode": "closest",
          "mapbox": {
           "style": "light"
          },
          "paper_bgcolor": "white",
          "plot_bgcolor": "#E5ECF6",
          "polar": {
           "angularaxis": {
            "gridcolor": "white",
            "linecolor": "white",
            "ticks": ""
           },
           "bgcolor": "#E5ECF6",
           "radialaxis": {
            "gridcolor": "white",
            "linecolor": "white",
            "ticks": ""
           }
          },
          "scene": {
           "xaxis": {
            "backgroundcolor": "#E5ECF6",
            "gridcolor": "white",
            "gridwidth": 2,
            "linecolor": "white",
            "showbackground": true,
            "ticks": "",
            "zerolinecolor": "white"
           },
           "yaxis": {
            "backgroundcolor": "#E5ECF6",
            "gridcolor": "white",
            "gridwidth": 2,
            "linecolor": "white",
            "showbackground": true,
            "ticks": "",
            "zerolinecolor": "white"
           },
           "zaxis": {
            "backgroundcolor": "#E5ECF6",
            "gridcolor": "white",
            "gridwidth": 2,
            "linecolor": "white",
            "showbackground": true,
            "ticks": "",
            "zerolinecolor": "white"
           }
          },
          "shapedefaults": {
           "line": {
            "color": "#2a3f5f"
           }
          },
          "ternary": {
           "aaxis": {
            "gridcolor": "white",
            "linecolor": "white",
            "ticks": ""
           },
           "baxis": {
            "gridcolor": "white",
            "linecolor": "white",
            "ticks": ""
           },
           "bgcolor": "#E5ECF6",
           "caxis": {
            "gridcolor": "white",
            "linecolor": "white",
            "ticks": ""
           }
          },
          "title": {
           "x": 0.05
          },
          "xaxis": {
           "automargin": true,
           "gridcolor": "white",
           "linecolor": "white",
           "ticks": "",
           "zerolinecolor": "white",
           "zerolinewidth": 2
          },
          "yaxis": {
           "automargin": true,
           "gridcolor": "white",
           "linecolor": "white",
           "ticks": "",
           "zerolinecolor": "white",
           "zerolinewidth": 2
          }
         }
        },
        "title": {
         "font": {
          "color": "#4D5663"
         },
         "text": "Top 20 Adjectives in 'Cons' after Removing Stop Words (sample of 10k):"
        },
        "xaxis": {
         "gridcolor": "#E1E5ED",
         "linecolor": "black",
         "showgrid": true,
         "tickfont": {
          "color": "#4D5663"
         },
         "title": {
          "font": {
           "color": "#4D5663"
          },
          "text": "Count"
         },
         "zerolinecolor": "#E1E5ED"
        },
        "yaxis": {
         "gridcolor": "#E1E5ED",
         "linecolor": "black",
         "showgrid": true,
         "tickfont": {
          "color": "#4D5663"
         },
         "title": {
          "font": {
           "color": "#4D5663"
          },
          "text": ""
         },
         "zerolinecolor": "#E1E5ED"
        }
       }
      },
      "text/html": [
       "<div>\n",
       "        \n",
       "        \n",
       "            <div id=\"efa0dfad-844d-4bb5-ad23-c4e292dff7b1\" class=\"plotly-graph-div\" style=\"height:525px; width:100%;\"></div>\n",
       "            <script type=\"text/javascript\">\n",
       "                require([\"plotly\"], function(Plotly) {\n",
       "                    window.PLOTLYENV=window.PLOTLYENV || {};\n",
       "                    window.PLOTLYENV.BASE_URL='https://plot.ly';\n",
       "                    \n",
       "                if (document.getElementById(\"efa0dfad-844d-4bb5-ad23-c4e292dff7b1\")) {\n",
       "                    Plotly.newPlot(\n",
       "                        'efa0dfad-844d-4bb5-ad23-c4e292dff7b1',\n",
       "                        [{\"marker\": {\"color\": \"rgba(219, 64, 82, 0.6)\", \"line\": {\"color\": \"rgba(219, 64, 82, 1.0)\", \"width\": 1}}, \"name\": \"count\", \"orientation\": \"h\", \"text\": \"\", \"type\": \"bar\", \"x\": [218, 223, 234, 269, 272, 277, 290, 306, 328, 362, 380, 387, 390, 404, 427, 474, 536, 543, 563, 739], \"y\": [\"upper\", \"due\", \"slow\", \"corporate\", \"enough\", \"large\", \"big\", \"hard\", \"great\", \"poor\", \"bad\", \"little\", \"difficult\", \"new\", \"high\", \"low\", \"long\", \"much\", \"good\", \"many\"]}],\n",
       "                        {\"legend\": {\"bgcolor\": \"#F5F6F9\", \"font\": {\"color\": \"#4D5663\"}}, \"paper_bgcolor\": \"#F5F6F9\", \"plot_bgcolor\": \"#F5F6F9\", \"template\": {\"data\": {\"bar\": [{\"error_x\": {\"color\": \"#2a3f5f\"}, \"error_y\": {\"color\": \"#2a3f5f\"}, \"marker\": {\"line\": {\"color\": \"#E5ECF6\", \"width\": 0.5}}, \"type\": \"bar\"}], \"barpolar\": [{\"marker\": {\"line\": {\"color\": \"#E5ECF6\", \"width\": 0.5}}, \"type\": \"barpolar\"}], \"carpet\": [{\"aaxis\": {\"endlinecolor\": \"#2a3f5f\", \"gridcolor\": \"white\", \"linecolor\": \"white\", \"minorgridcolor\": \"white\", \"startlinecolor\": \"#2a3f5f\"}, \"baxis\": {\"endlinecolor\": \"#2a3f5f\", \"gridcolor\": \"white\", \"linecolor\": \"white\", \"minorgridcolor\": \"white\", \"startlinecolor\": \"#2a3f5f\"}, \"type\": \"carpet\"}], \"choropleth\": [{\"colorbar\": {\"outlinewidth\": 0, \"ticks\": \"\"}, \"type\": \"choropleth\"}], \"contour\": [{\"colorbar\": {\"outlinewidth\": 0, \"ticks\": \"\"}, \"colorscale\": [[0.0, \"#0d0887\"], [0.1111111111111111, \"#46039f\"], [0.2222222222222222, \"#7201a8\"], [0.3333333333333333, \"#9c179e\"], [0.4444444444444444, \"#bd3786\"], [0.5555555555555556, \"#d8576b\"], [0.6666666666666666, \"#ed7953\"], [0.7777777777777778, \"#fb9f3a\"], [0.8888888888888888, \"#fdca26\"], [1.0, \"#f0f921\"]], \"type\": \"contour\"}], \"contourcarpet\": [{\"colorbar\": {\"outlinewidth\": 0, \"ticks\": \"\"}, \"type\": \"contourcarpet\"}], \"heatmap\": [{\"colorbar\": {\"outlinewidth\": 0, \"ticks\": \"\"}, \"colorscale\": [[0.0, \"#0d0887\"], [0.1111111111111111, \"#46039f\"], [0.2222222222222222, \"#7201a8\"], [0.3333333333333333, \"#9c179e\"], [0.4444444444444444, \"#bd3786\"], [0.5555555555555556, \"#d8576b\"], [0.6666666666666666, \"#ed7953\"], [0.7777777777777778, \"#fb9f3a\"], [0.8888888888888888, \"#fdca26\"], [1.0, \"#f0f921\"]], \"type\": \"heatmap\"}], \"heatmapgl\": [{\"colorbar\": {\"outlinewidth\": 0, \"ticks\": \"\"}, \"colorscale\": [[0.0, \"#0d0887\"], [0.1111111111111111, \"#46039f\"], [0.2222222222222222, \"#7201a8\"], [0.3333333333333333, \"#9c179e\"], [0.4444444444444444, \"#bd3786\"], [0.5555555555555556, \"#d8576b\"], [0.6666666666666666, \"#ed7953\"], [0.7777777777777778, \"#fb9f3a\"], [0.8888888888888888, \"#fdca26\"], [1.0, \"#f0f921\"]], \"type\": \"heatmapgl\"}], \"histogram\": [{\"marker\": {\"colorbar\": {\"outlinewidth\": 0, \"ticks\": \"\"}}, \"type\": \"histogram\"}], \"histogram2d\": [{\"colorbar\": {\"outlinewidth\": 0, \"ticks\": \"\"}, \"colorscale\": [[0.0, \"#0d0887\"], [0.1111111111111111, \"#46039f\"], [0.2222222222222222, \"#7201a8\"], [0.3333333333333333, \"#9c179e\"], [0.4444444444444444, \"#bd3786\"], [0.5555555555555556, \"#d8576b\"], [0.6666666666666666, \"#ed7953\"], [0.7777777777777778, \"#fb9f3a\"], [0.8888888888888888, \"#fdca26\"], [1.0, \"#f0f921\"]], \"type\": \"histogram2d\"}], \"histogram2dcontour\": [{\"colorbar\": {\"outlinewidth\": 0, \"ticks\": \"\"}, \"colorscale\": [[0.0, \"#0d0887\"], [0.1111111111111111, \"#46039f\"], [0.2222222222222222, \"#7201a8\"], [0.3333333333333333, \"#9c179e\"], [0.4444444444444444, \"#bd3786\"], [0.5555555555555556, \"#d8576b\"], [0.6666666666666666, \"#ed7953\"], [0.7777777777777778, \"#fb9f3a\"], [0.8888888888888888, \"#fdca26\"], [1.0, \"#f0f921\"]], \"type\": \"histogram2dcontour\"}], \"mesh3d\": [{\"colorbar\": {\"outlinewidth\": 0, \"ticks\": \"\"}, \"type\": \"mesh3d\"}], \"parcoords\": [{\"line\": {\"colorbar\": {\"outlinewidth\": 0, \"ticks\": \"\"}}, \"type\": \"parcoords\"}], \"scatter\": [{\"marker\": {\"colorbar\": {\"outlinewidth\": 0, \"ticks\": \"\"}}, \"type\": \"scatter\"}], \"scatter3d\": [{\"line\": {\"colorbar\": {\"outlinewidth\": 0, \"ticks\": \"\"}}, \"marker\": {\"colorbar\": {\"outlinewidth\": 0, \"ticks\": \"\"}}, \"type\": \"scatter3d\"}], \"scattercarpet\": [{\"marker\": {\"colorbar\": {\"outlinewidth\": 0, \"ticks\": \"\"}}, \"type\": \"scattercarpet\"}], \"scattergeo\": [{\"marker\": {\"colorbar\": {\"outlinewidth\": 0, \"ticks\": \"\"}}, \"type\": \"scattergeo\"}], \"scattergl\": [{\"marker\": {\"colorbar\": {\"outlinewidth\": 0, \"ticks\": \"\"}}, \"type\": \"scattergl\"}], \"scattermapbox\": [{\"marker\": {\"colorbar\": {\"outlinewidth\": 0, \"ticks\": \"\"}}, \"type\": \"scattermapbox\"}], \"scatterpolar\": [{\"marker\": {\"colorbar\": {\"outlinewidth\": 0, \"ticks\": \"\"}}, \"type\": \"scatterpolar\"}], \"scatterpolargl\": [{\"marker\": {\"colorbar\": {\"outlinewidth\": 0, \"ticks\": \"\"}}, \"type\": \"scatterpolargl\"}], \"scatterternary\": [{\"marker\": {\"colorbar\": {\"outlinewidth\": 0, \"ticks\": \"\"}}, \"type\": \"scatterternary\"}], \"surface\": [{\"colorbar\": {\"outlinewidth\": 0, \"ticks\": \"\"}, \"colorscale\": [[0.0, \"#0d0887\"], [0.1111111111111111, \"#46039f\"], [0.2222222222222222, \"#7201a8\"], [0.3333333333333333, \"#9c179e\"], [0.4444444444444444, \"#bd3786\"], [0.5555555555555556, \"#d8576b\"], [0.6666666666666666, \"#ed7953\"], [0.7777777777777778, \"#fb9f3a\"], [0.8888888888888888, \"#fdca26\"], [1.0, \"#f0f921\"]], \"type\": \"surface\"}], \"table\": [{\"cells\": {\"fill\": {\"color\": \"#EBF0F8\"}, \"line\": {\"color\": \"white\"}}, \"header\": {\"fill\": {\"color\": \"#C8D4E3\"}, \"line\": {\"color\": \"white\"}}, \"type\": \"table\"}]}, \"layout\": {\"annotationdefaults\": {\"arrowcolor\": \"#2a3f5f\", \"arrowhead\": 0, \"arrowwidth\": 1}, \"colorscale\": {\"diverging\": [[0, \"#8e0152\"], [0.1, \"#c51b7d\"], [0.2, \"#de77ae\"], [0.3, \"#f1b6da\"], [0.4, \"#fde0ef\"], [0.5, \"#f7f7f7\"], [0.6, \"#e6f5d0\"], [0.7, \"#b8e186\"], [0.8, \"#7fbc41\"], [0.9, \"#4d9221\"], [1, \"#276419\"]], \"sequential\": [[0.0, \"#0d0887\"], [0.1111111111111111, \"#46039f\"], [0.2222222222222222, \"#7201a8\"], [0.3333333333333333, \"#9c179e\"], [0.4444444444444444, \"#bd3786\"], [0.5555555555555556, \"#d8576b\"], [0.6666666666666666, \"#ed7953\"], [0.7777777777777778, \"#fb9f3a\"], [0.8888888888888888, \"#fdca26\"], [1.0, \"#f0f921\"]], \"sequentialminus\": [[0.0, \"#0d0887\"], [0.1111111111111111, \"#46039f\"], [0.2222222222222222, \"#7201a8\"], [0.3333333333333333, \"#9c179e\"], [0.4444444444444444, \"#bd3786\"], [0.5555555555555556, \"#d8576b\"], [0.6666666666666666, \"#ed7953\"], [0.7777777777777778, \"#fb9f3a\"], [0.8888888888888888, \"#fdca26\"], [1.0, \"#f0f921\"]]}, \"colorway\": [\"#636efa\", \"#EF553B\", \"#00cc96\", \"#ab63fa\", \"#FFA15A\", \"#19d3f3\", \"#FF6692\", \"#B6E880\", \"#FF97FF\", \"#FECB52\"], \"font\": {\"color\": \"#2a3f5f\"}, \"geo\": {\"bgcolor\": \"white\", \"lakecolor\": \"white\", \"landcolor\": \"#E5ECF6\", \"showlakes\": true, \"showland\": true, \"subunitcolor\": \"white\"}, \"hoverlabel\": {\"align\": \"left\"}, \"hovermode\": \"closest\", \"mapbox\": {\"style\": \"light\"}, \"paper_bgcolor\": \"white\", \"plot_bgcolor\": \"#E5ECF6\", \"polar\": {\"angularaxis\": {\"gridcolor\": \"white\", \"linecolor\": \"white\", \"ticks\": \"\"}, \"bgcolor\": \"#E5ECF6\", \"radialaxis\": {\"gridcolor\": \"white\", \"linecolor\": \"white\", \"ticks\": \"\"}}, \"scene\": {\"xaxis\": {\"backgroundcolor\": \"#E5ECF6\", \"gridcolor\": \"white\", \"gridwidth\": 2, \"linecolor\": \"white\", \"showbackground\": true, \"ticks\": \"\", \"zerolinecolor\": \"white\"}, \"yaxis\": {\"backgroundcolor\": \"#E5ECF6\", \"gridcolor\": \"white\", \"gridwidth\": 2, \"linecolor\": \"white\", \"showbackground\": true, \"ticks\": \"\", \"zerolinecolor\": \"white\"}, \"zaxis\": {\"backgroundcolor\": \"#E5ECF6\", \"gridcolor\": \"white\", \"gridwidth\": 2, \"linecolor\": \"white\", \"showbackground\": true, \"ticks\": \"\", \"zerolinecolor\": \"white\"}}, \"shapedefaults\": {\"line\": {\"color\": \"#2a3f5f\"}}, \"ternary\": {\"aaxis\": {\"gridcolor\": \"white\", \"linecolor\": \"white\", \"ticks\": \"\"}, \"baxis\": {\"gridcolor\": \"white\", \"linecolor\": \"white\", \"ticks\": \"\"}, \"bgcolor\": \"#E5ECF6\", \"caxis\": {\"gridcolor\": \"white\", \"linecolor\": \"white\", \"ticks\": \"\"}}, \"title\": {\"x\": 0.05}, \"xaxis\": {\"automargin\": true, \"gridcolor\": \"white\", \"linecolor\": \"white\", \"ticks\": \"\", \"zerolinecolor\": \"white\", \"zerolinewidth\": 2}, \"yaxis\": {\"automargin\": true, \"gridcolor\": \"white\", \"linecolor\": \"white\", \"ticks\": \"\", \"zerolinecolor\": \"white\", \"zerolinewidth\": 2}}}, \"title\": {\"font\": {\"color\": \"#4D5663\"}, \"text\": \"Top 20 Adjectives in 'Cons' after Removing Stop Words (sample of 10k):\"}, \"xaxis\": {\"gridcolor\": \"#E1E5ED\", \"linecolor\": \"black\", \"showgrid\": true, \"tickfont\": {\"color\": \"#4D5663\"}, \"title\": {\"font\": {\"color\": \"#4D5663\"}, \"text\": \"Count\"}, \"zerolinecolor\": \"#E1E5ED\"}, \"yaxis\": {\"gridcolor\": \"#E1E5ED\", \"linecolor\": \"black\", \"showgrid\": true, \"tickfont\": {\"color\": \"#4D5663\"}, \"title\": {\"font\": {\"color\": \"#4D5663\"}, \"text\": \"\"}, \"zerolinecolor\": \"#E1E5ED\"}},\n",
       "                        {\"showLink\": true, \"linkText\": \"Export to plot.ly\", \"plotlyServerURL\": \"https://plot.ly\", \"responsive\": true}\n",
       "                    ).then(function(){\n",
       "                            \n",
       "var gd = document.getElementById('efa0dfad-844d-4bb5-ad23-c4e292dff7b1');\n",
       "var x = new MutationObserver(function (mutations, observer) {{\n",
       "        var display = window.getComputedStyle(gd).display;\n",
       "        if (!display || display === 'none') {{\n",
       "            console.log([gd, 'removed!']);\n",
       "            Plotly.purge(gd);\n",
       "            observer.disconnect();\n",
       "        }}\n",
       "}});\n",
       "\n",
       "// Listen for the removal of the full notebook cells\n",
       "var notebookContainer = gd.closest('#notebook-container');\n",
       "if (notebookContainer) {{\n",
       "    x.observe(notebookContainer, {childList: true});\n",
       "}}\n",
       "\n",
       "// Listen for the clearing of the current output cell\n",
       "var outputEl = gd.closest('.output');\n",
       "if (outputEl) {{\n",
       "    x.observe(outputEl, {childList: true});\n",
       "}}\n",
       "\n",
       "                        })\n",
       "                };\n",
       "                });\n",
       "            </script>\n",
       "        </div>"
      ]
     },
     "metadata": {},
     "output_type": "display_data"
    }
   ],
   "source": [
    "top_adjectives_cons.iplot(\n",
    "    kind='bar', xTitle='Count', linecolor='black',orientation = 'h', color='red', title=\"Top 20 Adjectives in 'Cons' after Removing Stop Words (sample of 10k):\")"
   ]
  },
  {
   "cell_type": "markdown",
   "metadata": {},
   "source": [
    "The adjective distribution among the Cons is not as skewed as the Pros distribution. The top three adjectives are \"many,\" \"good,\" and \"much.\" At first glance, these seem like curious results, but upon further investigation, these words are usually used in the phrases \"not many,\" \"not good,\" and \"not much.\"\n",
    "\n",
    "Some adjectives that stand out are \"difficult,\" \"slow,\" and \"corporate.\""
   ]
  },
  {
   "cell_type": "markdown",
   "metadata": {},
   "source": [
    "## Topic Modeling using Latent Dirichlet Allocation (LDA)\n",
    "We may have a rough idea of what employees value/dislike in a job based on popular adjectives used, but let's attempt to get a clearer idea using topic modeling. We will use unsupervised natural language processing, applying Latent Dirichlet Allocation (LDA) to attempt to extract common themes of employee satisfaction among company reviews.\n",
    "\n",
    "LDA Topic Modeling is an unsupervised learning method. It is similar to clustering but differs in a fundamental way. While clustering assigns each observation (or document, in this case) to a unique cluster, LDA Topic Modeling assumes that each document consists of different topics and assigns a topic probability distribution to each document. In practice, this makes more sense. It's likely that each review contains several topics (i.e. people will talk about several aspects of a job such as great benefits, culture, management in a single review), rather than just a single topic."
   ]
  },
  {
   "cell_type": "markdown",
   "metadata": {},
   "source": [
    "### Pros"
   ]
  },
  {
   "cell_type": "code",
   "execution_count": 115,
   "metadata": {},
   "outputs": [],
   "source": [
    "# Create a corpus from a list of texts\n",
    "dictionary_pros = corpora.Dictionary(tokenized_pros)\n",
    "# document to bag of words \n",
    "pros_corpus = [dictionary_pros.doc2bow(text) for text in tokenized_pros]"
   ]
  },
  {
   "cell_type": "code",
   "execution_count": 116,
   "metadata": {},
   "outputs": [],
   "source": [
    "# model on the corpus\n",
    "ldamodel_pros_20 = LdaModel(corpus = pros_corpus, num_topics=20, id2word = dictionary_pros, \n",
    "                                           passes=10, random_state = 25, minimum_probability = 0.0)"
   ]
  },
  {
   "cell_type": "code",
   "execution_count": 117,
   "metadata": {},
   "outputs": [],
   "source": [
    "# save model\n",
    "# from gensim.test.utils import datapath\n",
    "temp_file = datapath(\"lda_pros_20\")\n",
    "ldamodel_pros_20.save(temp_file)\n",
    "\n",
    "# Load a pretrained model from disk\n",
    "# pretrained_lda_pros = LdaModel.load(temp_file)"
   ]
  },
  {
   "cell_type": "code",
   "execution_count": 128,
   "metadata": {},
   "outputs": [
    {
     "data": {
      "text/plain": [
       "[(0,\n",
       "  '0.053*\"training\" + 0.037*\"leadership\" + 0.037*\"development\" + 0.034*\"management\" + 0.029*\"strong\" + 0.025*\"culture\" + 0.025*\"interesting\" + 0.025*\"level\" + 0.024*\"values\" + 0.023*\"support\" + 0.020*\"program\" + 0.020*\"programs\" + 0.019*\"plenty\"'),\n",
       " (1,\n",
       "  '0.196*\"place\" + 0.078*\"work\" + 0.039*\"people\" + 0.036*\"start\" + 0.027*\"cool\" + 0.025*\"think\" + 0.022*\"talented\" + 0.021*\"career\" + 0.020*\"generally\" + 0.019*\"meet\" + 0.018*\"need\" + 0.017*\"role\" + 0.017*\"plus\"'),\n",
       " (2,\n",
       "  '0.142*\"opportunities\" + 0.082*\"lots\" + 0.061*\"opportunity\" + 0.055*\"many\" + 0.054*\"growth\" + 0.043*\"career\" + 0.040*\"move\" + 0.039*\"within\" + 0.036*\"different\" + 0.033*\"advancement\" + 0.027*\"grow\" + 0.027*\"large\" + 0.025*\"company\"'),\n",
       " (3,\n",
       "  '0.113*\"time\" + 0.081*\"benefits\" + 0.071*\"k\" + 0.057*\"health\" + 0.041*\"paid\" + 0.040*\"vacation\" + 0.038*\"insurance\" + 0.032*\"part\" + 0.027*\"bonus\" + 0.026*\"days\" + 0.024*\"year\" + 0.021*\"medical\" + 0.021*\"pto\"'),\n",
       " (4,\n",
       "  '0.119*\"lot\" + 0.102*\"job\" + 0.098*\"learn\" + 0.076*\"experience\" + 0.060*\"good\" + 0.044*\"learning\" + 0.028*\"skills\" + 0.023*\"knowledge\" + 0.020*\"opportunity\" + 0.019*\"people\" + 0.017*\"security\" + 0.016*\"get\" + 0.015*\"network\"'),\n",
       " (5,\n",
       "  '0.222*\"employees\" + 0.084*\"care\" + 0.037*\"top\" + 0.037*\"workers\" + 0.036*\"for\" + 0.026*\"bonuses\" + 0.026*\"wonderful\" + 0.026*\"take\" + 0.024*\"co\" + 0.022*\"open\" + 0.020*\"highly\" + 0.018*\"pension\" + 0.016*\"talent\"'),\n",
       " (6,\n",
       "  '0.278*\"good\" + 0.149*\"pay\" + 0.138*\"benefits\" + 0.066*\"flexible\" + 0.058*\"hours\" + 0.050*\"decent\" + 0.039*\"salary\" + 0.037*\"schedule\" + 0.025*\"competitive\" + 0.014*\"tuition\" + 0.013*\"reimbursement\" + 0.011*\"pretty\" + 0.009*\"coworkers\"'),\n",
       " (7,\n",
       "  '0.051*\"hard\" + 0.045*\"make\" + 0.045*\"help\" + 0.042*\"money\" + 0.041*\"challenging\" + 0.036*\"fast\" + 0.034*\"want\" + 0.033*\"get\" + 0.033*\"willing\" + 0.032*\"job\" + 0.031*\"youre\" + 0.028*\"much\" + 0.019*\"paced\"'),\n",
       " (8,\n",
       "  '0.096*\"team\" + 0.081*\"easy\" + 0.074*\"customers\" + 0.073*\"fun\" + 0.045*\"customer\" + 0.043*\"job\" + 0.035*\"service\" + 0.024*\"diverse\" + 0.023*\"union\" + 0.023*\"focus\" + 0.019*\"helping\" + 0.018*\"management\" + 0.018*\"getting\"'),\n",
       " (9,\n",
       "  '0.068*\"really\" + 0.040*\"years\" + 0.024*\"working\" + 0.024*\"it\" + 0.023*\"time\" + 0.023*\"would\" + 0.022*\"name\" + 0.021*\"resume\" + 0.019*\"get\" + 0.018*\"still\" + 0.018*\"many\" + 0.017*\"dont\" + 0.017*\"pros\"'),\n",
       " (10,\n",
       "  '0.072*\"best\" + 0.059*\"products\" + 0.053*\"industry\" + 0.052*\"technology\" + 0.033*\"stable\" + 0.028*\"product\" + 0.027*\"business\" + 0.023*\"market\" + 0.022*\"ability\" + 0.022*\"internal\" + 0.020*\"intelligent\" + 0.020*\"exposure\" + 0.018*\"one\"'),\n",
       " (11,\n",
       "  '0.140*\"balance\" + 0.128*\"good\" + 0.107*\"life\" + 0.064*\"compensation\" + 0.055*\"benefits\" + 0.055*\"worklife\" + 0.054*\"flexibility\" + 0.040*\"culture\" + 0.028*\"package\" + 0.023*\"ok\" + 0.019*\"mobility\" + 0.017*\"benefit\" + 0.014*\"excellent\"'),\n",
       " (12,\n",
       "  '0.038*\"manager\" + 0.032*\"long\" + 0.024*\"community\" + 0.024*\"position\" + 0.023*\"sales\" + 0.023*\"group\" + 0.022*\"leave\" + 0.019*\"months\" + 0.019*\"put\" + 0.018*\"depending\" + 0.016*\"fairly\" + 0.015*\"in\" + 0.015*\"making\"'),\n",
       " (13,\n",
       "  '0.152*\"environment\" + 0.092*\"nice\" + 0.071*\"good\" + 0.065*\"friendly\" + 0.054*\"people\" + 0.047*\"working\" + 0.033*\"coworkers\" + 0.031*\"associates\" + 0.031*\"office\" + 0.026*\"staff\" + 0.024*\"team\" + 0.021*\"management\" + 0.020*\"helpful\"'),\n",
       " (14,\n",
       "  '0.166*\"people\" + 0.096*\"smart\" + 0.056*\"atmosphere\" + 0.046*\"projects\" + 0.034*\"high\" + 0.025*\"college\" + 0.024*\"colleagues\" + 0.020*\"quality\" + 0.020*\"working\" + 0.019*\"success\" + 0.017*\"technologies\" + 0.017*\"exciting\" + 0.017*\"variety\"'),\n",
       " (15,\n",
       "  '0.541*\"great\" + 0.131*\"benefits\" + 0.075*\"people\" + 0.047*\"pay\" + 0.030*\"culture\" + 0.024*\"awesome\" + 0.017*\"with\" + 0.017*\"coworkers\" + 0.013*\"excellent\" + 0.012*\"training\" + 0.009*\"management\" + 0.006*\"overall\" + 0.004*\"managers\"'),\n",
       " (16,\n",
       "  '0.089*\"amazing\" + 0.078*\"day\" + 0.072*\"every\" + 0.055*\"love\" + 0.048*\"perks\" + 0.047*\"one\" + 0.035*\"travel\" + 0.033*\"even\" + 0.027*\"big\" + 0.024*\"working\" + 0.021*\"sick\" + 0.021*\"here\" + 0.020*\"amp\"'),\n",
       " (17,\n",
       "  '0.084*\"employee\" + 0.059*\"free\" + 0.053*\"store\" + 0.035*\"discounts\" + 0.032*\"education\" + 0.031*\"jobs\" + 0.027*\"food\" + 0.022*\"etc\" + 0.020*\"including\" + 0.020*\"department\" + 0.020*\"events\" + 0.019*\"offer\" + 0.019*\"gym\"'),\n",
       " (18,\n",
       "  '0.066*\"well\" + 0.050*\"like\" + 0.048*\"always\" + 0.048*\"new\" + 0.042*\"people\" + 0.034*\"family\" + 0.026*\"worked\" + 0.024*\"world\" + 0.023*\"best\" + 0.022*\"things\" + 0.019*\"brand\" + 0.019*\"everyone\" + 0.017*\"get\"'),\n",
       " (19,\n",
       "  '0.056*\"better\" + 0.047*\"around\" + 0.042*\"able\" + 0.038*\"companies\" + 0.036*\"average\" + 0.027*\"diversity\" + 0.026*\"area\" + 0.023*\"especially\" + 0.021*\"come\" + 0.018*\"far\" + 0.018*\"find\" + 0.017*\"access\" + 0.017*\"higher\"')]"
      ]
     },
     "execution_count": 128,
     "metadata": {},
     "output_type": "execute_result"
    }
   ],
   "source": [
    "ldamodel_pros_20.show_topics(num_topics = 20, num_words = 13)"
   ]
  },
  {
   "cell_type": "markdown",
   "metadata": {},
   "source": [
    "### Labeling Topics in Pros\n",
    "As you can see, the LDA model output 20 topics from our corpus. The next step and more difficult step is to assign meaning to each of the topics above and see if they make sense. I have assigned a rough label to each of the topics. I did this by 1) looking at the weighted words assigned to each topic in the model output, and 2) examining the documents that had the highest probability assigned to each topic.\n",
    "\n",
    "### Let's take a closer look at topic 2 and try to get a better understanding\n",
    "Let's look at the top 20 reviews with the highest probability of being assigned to topic 2. "
   ]
  },
  {
   "cell_type": "code",
   "execution_count": 181,
   "metadata": {
    "scrolled": false
   },
   "outputs": [
    {
     "data": {
      "text/html": [
       "<div>\n",
       "<style scoped>\n",
       "    .dataframe tbody tr th:only-of-type {\n",
       "        vertical-align: middle;\n",
       "    }\n",
       "\n",
       "    .dataframe tbody tr th {\n",
       "        vertical-align: top;\n",
       "    }\n",
       "\n",
       "    .dataframe thead th {\n",
       "        text-align: right;\n",
       "    }\n",
       "</style>\n",
       "<table border=\"1\" class=\"dataframe\">\n",
       "  <thead>\n",
       "    <tr style=\"text-align: right;\">\n",
       "      <th></th>\n",
       "      <th>company</th>\n",
       "      <th>rating</th>\n",
       "      <th>pros</th>\n",
       "      <th>topic_pros_2</th>\n",
       "    </tr>\n",
       "  </thead>\n",
       "  <tbody>\n",
       "    <tr>\n",
       "      <td>57816</td>\n",
       "      <td>Wells Fargo</td>\n",
       "      <td>4.0</td>\n",
       "      <td>large company with room for advancement. many ...</td>\n",
       "      <td>0.881249</td>\n",
       "    </tr>\n",
       "    <tr>\n",
       "      <td>131577</td>\n",
       "      <td>Proctor &amp; Gamble</td>\n",
       "      <td>4.0</td>\n",
       "      <td>excellent training ground many resources avail...</td>\n",
       "      <td>0.881249</td>\n",
       "    </tr>\n",
       "    <tr>\n",
       "      <td>110556</td>\n",
       "      <td>Walgreens</td>\n",
       "      <td>1.0</td>\n",
       "      <td>very large company lots of opportunities to mo...</td>\n",
       "      <td>0.881249</td>\n",
       "    </tr>\n",
       "    <tr>\n",
       "      <td>110557</td>\n",
       "      <td>Walgreens</td>\n",
       "      <td>1.0</td>\n",
       "      <td>very large company lots of opportunities to mo...</td>\n",
       "      <td>0.881249</td>\n",
       "    </tr>\n",
       "    <tr>\n",
       "      <td>137898</td>\n",
       "      <td>Bank of America</td>\n",
       "      <td>4.0</td>\n",
       "      <td>many opportunities to move around to different...</td>\n",
       "      <td>0.881248</td>\n",
       "    </tr>\n",
       "    <tr>\n",
       "      <td>78461</td>\n",
       "      <td>Coca Cola</td>\n",
       "      <td>4.0</td>\n",
       "      <td>large company with lots of opportunities withi...</td>\n",
       "      <td>0.864285</td>\n",
       "    </tr>\n",
       "    <tr>\n",
       "      <td>38579</td>\n",
       "      <td>Cardinal Health</td>\n",
       "      <td>3.0</td>\n",
       "      <td>lots of opportunities to move into different a...</td>\n",
       "      <td>0.864285</td>\n",
       "    </tr>\n",
       "    <tr>\n",
       "      <td>160128</td>\n",
       "      <td>Morgan Stanley</td>\n",
       "      <td>3.0</td>\n",
       "      <td>its a large company with lots of different dep...</td>\n",
       "      <td>0.864285</td>\n",
       "    </tr>\n",
       "    <tr>\n",
       "      <td>141743</td>\n",
       "      <td>Bank of America</td>\n",
       "      <td>4.0</td>\n",
       "      <td>provides lots of training opportunities many l...</td>\n",
       "      <td>0.864285</td>\n",
       "    </tr>\n",
       "    <tr>\n",
       "      <td>128466</td>\n",
       "      <td>Kroger</td>\n",
       "      <td>5.0</td>\n",
       "      <td>large company with many opportunities and prom...</td>\n",
       "      <td>0.864285</td>\n",
       "    </tr>\n",
       "    <tr>\n",
       "      <td>70351</td>\n",
       "      <td>Wells Fargo</td>\n",
       "      <td>4.0</td>\n",
       "      <td>several opportunities to grow and advance with...</td>\n",
       "      <td>0.864285</td>\n",
       "    </tr>\n",
       "    <tr>\n",
       "      <td>50684</td>\n",
       "      <td>Wells Fargo</td>\n",
       "      <td>5.0</td>\n",
       "      <td>tons of opportunity to move into different are...</td>\n",
       "      <td>0.864285</td>\n",
       "    </tr>\n",
       "    <tr>\n",
       "      <td>148633</td>\n",
       "      <td>Bank of America</td>\n",
       "      <td>3.0</td>\n",
       "      <td>many opportunities for advancement and differe...</td>\n",
       "      <td>0.864280</td>\n",
       "    </tr>\n",
       "    <tr>\n",
       "      <td>54212</td>\n",
       "      <td>Wells Fargo</td>\n",
       "      <td>4.0</td>\n",
       "      <td>large organization with many different busines...</td>\n",
       "      <td>0.864280</td>\n",
       "    </tr>\n",
       "    <tr>\n",
       "      <td>16115</td>\n",
       "      <td>Verizon Wireless</td>\n",
       "      <td>3.0</td>\n",
       "      <td>tons of opportunity to move across lines of bu...</td>\n",
       "      <td>0.864279</td>\n",
       "    </tr>\n",
       "    <tr>\n",
       "      <td>147099</td>\n",
       "      <td>Bank of America</td>\n",
       "      <td>3.0</td>\n",
       "      <td>large company many opportunities for career ad...</td>\n",
       "      <td>0.841666</td>\n",
       "    </tr>\n",
       "    <tr>\n",
       "      <td>134455</td>\n",
       "      <td>Bank of America</td>\n",
       "      <td>4.0</td>\n",
       "      <td>career growth and opportunity to move up withi...</td>\n",
       "      <td>0.841666</td>\n",
       "    </tr>\n",
       "    <tr>\n",
       "      <td>131369</td>\n",
       "      <td>Kroger</td>\n",
       "      <td>4.0</td>\n",
       "      <td>lots of room for career growth and opportunities</td>\n",
       "      <td>0.841666</td>\n",
       "    </tr>\n",
       "    <tr>\n",
       "      <td>170655</td>\n",
       "      <td>JP Morgan</td>\n",
       "      <td>3.0</td>\n",
       "      <td>large company with opportunity for growth and ...</td>\n",
       "      <td>0.841666</td>\n",
       "    </tr>\n",
       "    <tr>\n",
       "      <td>116678</td>\n",
       "      <td>Lockheed Martin</td>\n",
       "      <td>3.0</td>\n",
       "      <td>many contracts and opportunity to move within ...</td>\n",
       "      <td>0.841666</td>\n",
       "    </tr>\n",
       "  </tbody>\n",
       "</table>\n",
       "</div>"
      ],
      "text/plain": [
       "                 company  rating  \\\n",
       "57816        Wells Fargo     4.0   \n",
       "131577  Proctor & Gamble     4.0   \n",
       "110556         Walgreens     1.0   \n",
       "110557         Walgreens     1.0   \n",
       "137898   Bank of America     4.0   \n",
       "78461          Coca Cola     4.0   \n",
       "38579    Cardinal Health     3.0   \n",
       "160128    Morgan Stanley     3.0   \n",
       "141743   Bank of America     4.0   \n",
       "128466            Kroger     5.0   \n",
       "70351        Wells Fargo     4.0   \n",
       "50684        Wells Fargo     5.0   \n",
       "148633   Bank of America     3.0   \n",
       "54212        Wells Fargo     4.0   \n",
       "16115   Verizon Wireless     3.0   \n",
       "147099   Bank of America     3.0   \n",
       "134455   Bank of America     4.0   \n",
       "131369            Kroger     4.0   \n",
       "170655         JP Morgan     3.0   \n",
       "116678   Lockheed Martin     3.0   \n",
       "\n",
       "                                                     pros  topic_pros_2  \n",
       "57816   large company with room for advancement. many ...      0.881249  \n",
       "131577  excellent training ground many resources avail...      0.881249  \n",
       "110556  very large company lots of opportunities to mo...      0.881249  \n",
       "110557  very large company lots of opportunities to mo...      0.881249  \n",
       "137898  many opportunities to move around to different...      0.881248  \n",
       "78461   large company with lots of opportunities withi...      0.864285  \n",
       "38579   lots of opportunities to move into different a...      0.864285  \n",
       "160128  its a large company with lots of different dep...      0.864285  \n",
       "141743  provides lots of training opportunities many l...      0.864285  \n",
       "128466  large company with many opportunities and prom...      0.864285  \n",
       "70351   several opportunities to grow and advance with...      0.864285  \n",
       "50684   tons of opportunity to move into different are...      0.864285  \n",
       "148633  many opportunities for advancement and differe...      0.864280  \n",
       "54212   large organization with many different busines...      0.864280  \n",
       "16115   tons of opportunity to move across lines of bu...      0.864279  \n",
       "147099  large company many opportunities for career ad...      0.841666  \n",
       "134455  career growth and opportunity to move up withi...      0.841666  \n",
       "131369   lots of room for career growth and opportunities      0.841666  \n",
       "170655  large company with opportunity for growth and ...      0.841666  \n",
       "116678  many contracts and opportunity to move within ...      0.841666  "
      ]
     },
     "execution_count": 181,
     "metadata": {},
     "output_type": "execute_result"
    }
   ],
   "source": [
    "# try to get an idea of what topic 2 is about\n",
    "all_reviews.loc[:,['company','rating','pros','topic_pros_2']].sort_values(by = ['topic_pros_2'], ascending=False).head(20)"
   ]
  },
  {
   "cell_type": "markdown",
   "metadata": {},
   "source": [
    "As shown above, most of these reviews mention opportunities for growth and advancement. This gives us a much better idea of what this topic captures."
   ]
  },
  {
   "cell_type": "markdown",
   "metadata": {},
   "source": [
    "### Topics (Pros):\n",
    "\n",
    "- 0: Training and development programs\n",
    "- 1: \"Cool\" people & place to work at the start of your career\n",
    "- 2: High potential for growth and advancement\n",
    "- 3: Good benefits: 401k, health/medical insurance, pto, vacation, bonus\n",
    "- 4: Great learning opportunity and skills development\n",
    "- 5: Rewarded for good work (caring managers, bonuses)\n",
    "- 6: Good pay, reimbursement for expenses, flexible hours\n",
    "- 7: Challenging, fast-paced, strive for excellence\n",
    "- 8: Help and customer-oriented\n",
    "- 9: No pros\n",
    "- 10: Superior products/industry\n",
    "- 11: Work-life balance, flexible schedule\n",
    "- 12: ? throwaway topic **-> throwaway**\n",
    "- 13: Friendly,helpful people and work environment\n",
    "- 14: High quality, exciting projects and smart people\n",
    "- 15: ? Great pay, culture, benefits **-> throwaway**\n",
    "- 16: ? \"Love\" working there **-> throwaway**\n",
    "- 17: Free amenities: free food, discounts, events, gym, education\n",
    "- 18: People like \"family.\" Best company, best brand. Always new things.\n",
    "- 19: Better than other similar companies, competitors"
   ]
  },
  {
   "cell_type": "markdown",
   "metadata": {},
   "source": [
    "There were some topics that were difficult to label either due to not being segmented well enough (topic 15 mentioned good benefits, pay, people, management, and training), or just containing noise. I had to throw away those topics. While the topic segmentation is not perfect and contains some overlap, the LDA topic modeling overall worked quite well."
   ]
  },
  {
   "cell_type": "markdown",
   "metadata": {},
   "source": [
    "### Cons"
   ]
  },
  {
   "cell_type": "code",
   "execution_count": 120,
   "metadata": {},
   "outputs": [],
   "source": [
    "# Create a corpus from a list of texts\n",
    "dictionary_cons = corpora.Dictionary(tokenized_cons)\n",
    "# document to bag of words \n",
    "cons_corpus = [dictionary_cons.doc2bow(text) for text in tokenized_cons]"
   ]
  },
  {
   "cell_type": "code",
   "execution_count": 121,
   "metadata": {},
   "outputs": [],
   "source": [
    "# model on the corpus\n",
    "ldamodel_cons_20 = LdaModel(corpus = cons_corpus, num_topics=20, id2word = dictionary_cons, \n",
    "                                           passes=10, random_state = 25, minimum_probability = 0.0)"
   ]
  },
  {
   "cell_type": "code",
   "execution_count": 122,
   "metadata": {},
   "outputs": [],
   "source": [
    "# save model\n",
    "# from gensim.test.utils import datapath\n",
    "temp_file = datapath(\"lda_cons_20\")\n",
    "ldamodel_cons_20.save(temp_file)\n",
    "\n",
    "# Load a pretrained model from disk\n",
    "# pretrained_lda_cons = LdaModel.load(temp_file)"
   ]
  },
  {
   "cell_type": "code",
   "execution_count": 123,
   "metadata": {},
   "outputs": [
    {
     "data": {
      "text/plain": [
       "[(0,\n",
       "  '0.023*\"get\" + 0.021*\"one\" + 0.019*\"people\" + 0.016*\"job\" + 0.015*\"even\" + 0.012*\"dont\" + 0.012*\"manager\" + 0.012*\"go\" + 0.011*\"youre\" + 0.010*\"want\" + 0.010*\"make\" + 0.010*\"time\" + 0.010*\"never\"'),\n",
       " (1,\n",
       "  '0.171*\"hours\" + 0.101*\"long\" + 0.039*\"time\" + 0.033*\"schedule\" + 0.033*\"working\" + 0.031*\"enough\" + 0.030*\"day\" + 0.030*\"days\" + 0.029*\"week\" + 0.019*\"shift\" + 0.014*\"weekends\" + 0.014*\"hour\" + 0.013*\"busy\"'),\n",
       " (2,\n",
       "  '0.131*\"store\" + 0.081*\"environment\" + 0.071*\"think\" + 0.064*\"none\" + 0.052*\"retail\" + 0.039*\"changing\" + 0.030*\"cant\" + 0.025*\"competitive\" + 0.023*\"driven\" + 0.019*\"toxic\" + 0.018*\"corporation\" + 0.018*\"constantly\" + 0.016*\"overall\"'),\n",
       " (3,\n",
       "  '0.085*\"great\" + 0.082*\"good\" + 0.066*\"really\" + 0.058*\"cons\" + 0.048*\"nothing\" + 0.039*\"place\" + 0.026*\"bad\" + 0.024*\"isnt\" + 0.022*\"say\" + 0.021*\"best\" + 0.021*\"much\" + 0.020*\"everything\" + 0.020*\"learn\"'),\n",
       " (4,\n",
       "  '0.075*\"sales\" + 0.070*\"customer\" + 0.042*\"service\" + 0.033*\"expectations\" + 0.031*\"customers\" + 0.031*\"goals\" + 0.021*\"numbers\" + 0.021*\"unrealistic\" + 0.020*\"pressure\" + 0.019*\"meet\" + 0.019*\"products\" + 0.018*\"sell\" + 0.018*\"high\"'),\n",
       " (5,\n",
       "  '0.019*\"metrics\" + 0.017*\"us\" + 0.015*\"everyone\" + 0.013*\"gets\" + 0.013*\"play\" + 0.012*\"managers\" + 0.012*\"technical\" + 0.011*\"true\" + 0.010*\"incompetent\" + 0.010*\"favorites\" + 0.010*\"quality\" + 0.010*\"attitude\" + 0.010*\"role\"'),\n",
       " (6,\n",
       "  '0.099*\"lots\" + 0.096*\"politics\" + 0.077*\"office\" + 0.037*\"call\" + 0.027*\"center\" + 0.025*\"back\" + 0.022*\"corporate\" + 0.019*\"environment\" + 0.016*\"improve\" + 0.015*\"depends\" + 0.015*\"field\" + 0.014*\"much\" + 0.014*\"workforce\"'),\n",
       " (7,\n",
       "  '0.061*\"like\" + 0.027*\"dont\" + 0.023*\"would\" + 0.020*\"employees\" + 0.019*\"feel\" + 0.019*\"know\" + 0.015*\"people\" + 0.013*\"managers\" + 0.013*\"supervisors\" + 0.011*\"training\" + 0.009*\"treated\" + 0.009*\"floor\" + 0.008*\"expect\"'),\n",
       " (8,\n",
       "  '0.225*\"management\" + 0.048*\"poor\" + 0.029*\"leadership\" + 0.026*\"upper\" + 0.025*\"senior\" + 0.023*\"level\" + 0.023*\"employees\" + 0.021*\"lack\" + 0.015*\"favoritism\" + 0.014*\"decisions\" + 0.013*\"managers\" + 0.012*\"terrible\" + 0.012*\"middle\"'),\n",
       " (9,\n",
       "  '0.051*\"slow\" + 0.050*\"large\" + 0.047*\"big\" + 0.036*\"culture\" + 0.027*\"opportunity\" + 0.026*\"old\" + 0.025*\"technology\" + 0.023*\"organization\" + 0.023*\"bureaucracy\" + 0.020*\"political\" + 0.019*\"processes\" + 0.018*\"change\" + 0.018*\"bit\"'),\n",
       " (10,\n",
       "  '0.127*\"balance\" + 0.111*\"life\" + 0.058*\"opportunities\" + 0.057*\"growth\" + 0.054*\"advancement\" + 0.054*\"career\" + 0.049*\"worklife\" + 0.042*\"limited\" + 0.037*\"room\" + 0.023*\"fast\" + 0.019*\"challenging\" + 0.018*\"little\" + 0.016*\"shifts\"'),\n",
       " (11,\n",
       "  '0.101*\"many\" + 0.032*\"often\" + 0.028*\"associates\" + 0.026*\"managers\" + 0.022*\"certain\" + 0.019*\"people\" + 0.018*\"issues\" + 0.018*\"huge\" + 0.016*\"system\" + 0.012*\"policies\" + 0.012*\"times\" + 0.011*\"lost\" + 0.011*\"areas\"'),\n",
       " (12,\n",
       "  '0.058*\"team\" + 0.051*\"training\" + 0.049*\"lack\" + 0.032*\"departments\" + 0.028*\"teams\" + 0.027*\"department\" + 0.021*\"needs\" + 0.021*\"program\" + 0.021*\"support\" + 0.020*\"communication\" + 0.019*\"different\" + 0.016*\"development\" + 0.014*\"career\"'),\n",
       " (13,\n",
       "  '0.058*\"job\" + 0.051*\"changes\" + 0.047*\"change\" + 0.039*\"constant\" + 0.038*\"layoffs\" + 0.035*\"every\" + 0.030*\"overtime\" + 0.023*\"due\" + 0.021*\"year\" + 0.018*\"short\" + 0.018*\"security\" + 0.015*\"term\" + 0.014*\"lot\"'),\n",
       " (14,\n",
       "  '0.092*\"employees\" + 0.040*\"care\" + 0.035*\"management\" + 0.032*\"employee\" + 0.030*\"benefits\" + 0.022*\"insurance\" + 0.022*\"health\" + 0.019*\"doesnt\" + 0.017*\"money\" + 0.012*\"dont\" + 0.012*\"workers\" + 0.012*\"union\" + 0.011*\"take\"'),\n",
       " (15,\n",
       "  '0.054*\"process\" + 0.037*\"may\" + 0.023*\"projects\" + 0.023*\"scheduling\" + 0.019*\"project\" + 0.017*\"tasks\" + 0.016*\"flexible\" + 0.014*\"review\" + 0.013*\"tend\" + 0.012*\"working\" + 0.012*\"outside\" + 0.012*\"meetings\" + 0.011*\"nice\"'),\n",
       " (16,\n",
       "  '0.037*\"people\" + 0.031*\"years\" + 0.030*\"business\" + 0.019*\"new\" + 0.018*\"many\" + 0.014*\"good\" + 0.014*\"experience\" + 0.012*\"culture\" + 0.012*\"location\" + 0.011*\"employees\" + 0.010*\"positions\" + 0.010*\"focused\" + 0.009*\"talent\"'),\n",
       " (17,\n",
       "  '0.146*\"pay\" + 0.064*\"low\" + 0.038*\"salary\" + 0.029*\"could\" + 0.025*\"based\" + 0.025*\"compensation\" + 0.025*\"better\" + 0.023*\"less\" + 0.023*\"raises\" + 0.015*\"promotions\" + 0.015*\"average\" + 0.014*\"benefits\" + 0.014*\"lower\"'),\n",
       " (18,\n",
       "  '0.093*\"high\" + 0.055*\"bad\" + 0.052*\"customers\" + 0.051*\"sometimes\" + 0.043*\"times\" + 0.040*\"stressful\" + 0.034*\"turnover\" + 0.030*\"stress\" + 0.024*\"environment\" + 0.022*\"workload\" + 0.018*\"rate\" + 0.017*\"depending\" + 0.017*\"load\"'),\n",
       " (19,\n",
       "  '0.096*\"get\" + 0.079*\"hard\" + 0.076*\"time\" + 0.041*\"move\" + 0.030*\"difficult\" + 0.021*\"full\" + 0.019*\"things\" + 0.019*\"done\" + 0.017*\"part\" + 0.016*\"lot\" + 0.014*\"sometimes\" + 0.014*\"position\" + 0.013*\"takes\"')]"
      ]
     },
     "execution_count": 123,
     "metadata": {},
     "output_type": "execute_result"
    }
   ],
   "source": [
    "ldamodel_cons_20.show_topics(num_topics = 20, num_words = 13)"
   ]
  },
  {
   "cell_type": "markdown",
   "metadata": {},
   "source": [
    "### Labeling Topics in Cons\n",
    "As we did for the Pros section, we can see the topics generated for the Cons section of all reviews."
   ]
  },
  {
   "cell_type": "markdown",
   "metadata": {},
   "source": [
    "### Topics (Cons):\n",
    "\n",
    "- 0: ? throwaway topic **-> throwaway**\n",
    "- 1: Long work hours, weekend shifts\n",
    "- 2: ? No cons **-> throwaway**\n",
    "- 3: No cons\n",
    "- 4: Unrealistic sales goals. Lofty expectations.\n",
    "- 5: Incompetent managers, focused on metrics.\n",
    "- 6: Office politics, red tape, a lot of \"manager influence\"\n",
    "- 7: Not treated well or respected\n",
    "- 8: Lack of leadership, poor management, limited communication\n",
    "- 9: Bureaucratic, big company, hierarchy, protocols. \"small fish in a big pond.\"\n",
    "- 10: Limited career opportunities/advancement, growth, work life balance.\n",
    "- 11: Too many processes, procedures, meetings. Too formalized.\n",
    "- 12: Lack of development path, training, support.\n",
    "- 13: Frequent change and layoffs\n",
    "- 14: Lack of care for employees from upper management\n",
    "- 15: Difficult scheduling, working outside\n",
    "- 16: ? throwaway topic **-> throwaway**\n",
    "- 17: Low salary, limited benefits, lack of promotion\n",
    "- 18: High stress, micromanagement, turnover\n",
    "- 19: Hard to advance from a lower level position, especially from part time to full time"
   ]
  },
  {
   "cell_type": "markdown",
   "metadata": {},
   "source": [
    "There are some interesting results here that immediately catch our attention. For example, the clear mention of \"office politics\" and \"corporate environment\" in topic 6. Additionally, \"poor leadership,\" \"management,\" and \"favoritism\" in topic 8. Lastly, \"job changes,\" \"constant,\" \"layoffs,\" and \"security\" in topic 13.\n",
    "\n",
    "When you think about it, these are all common employee concerns that make sense. Again, while not perfect, the LDA topic modeling did a fairly good job segementing the corpus into idenitifiable topics."
   ]
  },
  {
   "cell_type": "markdown",
   "metadata": {},
   "source": [
    "## Identifying Overall Topic Distributions within Each Company\n",
    "So the question is, \"Great, so we've identified common reasons of why people love or hate their jobs. Now, which companies excel or fail spectacularly in these categories?\"\n",
    "\n",
    "We can accomplish this task by aggregating topic distributions by company and performing an outlier analysis to determine outlier companies in each category.\n",
    "\n",
    "### Topic Distributions by Company (Pros)"
   ]
  },
  {
   "cell_type": "code",
   "execution_count": 148,
   "metadata": {},
   "outputs": [
    {
     "data": {
      "text/html": [
       "<div>\n",
       "<style scoped>\n",
       "    .dataframe tbody tr th:only-of-type {\n",
       "        vertical-align: middle;\n",
       "    }\n",
       "\n",
       "    .dataframe tbody tr th {\n",
       "        vertical-align: top;\n",
       "    }\n",
       "\n",
       "    .dataframe thead th {\n",
       "        text-align: right;\n",
       "    }\n",
       "</style>\n",
       "<table border=\"1\" class=\"dataframe\">\n",
       "  <thead>\n",
       "    <tr style=\"text-align: right;\">\n",
       "      <th></th>\n",
       "      <th>topic_pros_0</th>\n",
       "      <th>topic_pros_1</th>\n",
       "      <th>topic_pros_2</th>\n",
       "      <th>topic_pros_3</th>\n",
       "      <th>topic_pros_4</th>\n",
       "      <th>topic_pros_5</th>\n",
       "      <th>topic_pros_6</th>\n",
       "      <th>topic_pros_7</th>\n",
       "      <th>topic_pros_8</th>\n",
       "      <th>topic_pros_9</th>\n",
       "      <th>topic_pros_10</th>\n",
       "      <th>topic_pros_11</th>\n",
       "      <th>topic_pros_12</th>\n",
       "      <th>topic_pros_13</th>\n",
       "      <th>topic_pros_14</th>\n",
       "      <th>topic_pros_15</th>\n",
       "      <th>topic_pros_16</th>\n",
       "      <th>topic_pros_17</th>\n",
       "      <th>topic_pros_18</th>\n",
       "      <th>topic_pros_19</th>\n",
       "    </tr>\n",
       "    <tr>\n",
       "      <th>company</th>\n",
       "      <th></th>\n",
       "      <th></th>\n",
       "      <th></th>\n",
       "      <th></th>\n",
       "      <th></th>\n",
       "      <th></th>\n",
       "      <th></th>\n",
       "      <th></th>\n",
       "      <th></th>\n",
       "      <th></th>\n",
       "      <th></th>\n",
       "      <th></th>\n",
       "      <th></th>\n",
       "      <th></th>\n",
       "      <th></th>\n",
       "      <th></th>\n",
       "      <th></th>\n",
       "      <th></th>\n",
       "      <th></th>\n",
       "      <th></th>\n",
       "    </tr>\n",
       "  </thead>\n",
       "  <tbody>\n",
       "    <tr>\n",
       "      <td>3M</td>\n",
       "      <td>6.5</td>\n",
       "      <td>3.5</td>\n",
       "      <td>7.9</td>\n",
       "      <td>3.8</td>\n",
       "      <td>5.2</td>\n",
       "      <td>3.5</td>\n",
       "      <td>9.7</td>\n",
       "      <td>3.9</td>\n",
       "      <td>3.2</td>\n",
       "      <td>3.8</td>\n",
       "      <td>5.4</td>\n",
       "      <td>5.7</td>\n",
       "      <td>3.2</td>\n",
       "      <td>7.2</td>\n",
       "      <td>4.6</td>\n",
       "      <td>8.4</td>\n",
       "      <td>2.7</td>\n",
       "      <td>3.2</td>\n",
       "      <td>5.2</td>\n",
       "      <td>3.5</td>\n",
       "    </tr>\n",
       "    <tr>\n",
       "      <td>AIG</td>\n",
       "      <td>5.0</td>\n",
       "      <td>3.9</td>\n",
       "      <td>6.6</td>\n",
       "      <td>8.3</td>\n",
       "      <td>4.6</td>\n",
       "      <td>3.4</td>\n",
       "      <td>10.9</td>\n",
       "      <td>3.4</td>\n",
       "      <td>3.2</td>\n",
       "      <td>4.6</td>\n",
       "      <td>3.6</td>\n",
       "      <td>7.6</td>\n",
       "      <td>3.2</td>\n",
       "      <td>6.6</td>\n",
       "      <td>3.9</td>\n",
       "      <td>9.1</td>\n",
       "      <td>2.5</td>\n",
       "      <td>2.6</td>\n",
       "      <td>4.5</td>\n",
       "      <td>2.4</td>\n",
       "    </tr>\n",
       "    <tr>\n",
       "      <td>AT&amp;T</td>\n",
       "      <td>4.6</td>\n",
       "      <td>3.4</td>\n",
       "      <td>6.3</td>\n",
       "      <td>6.0</td>\n",
       "      <td>4.0</td>\n",
       "      <td>3.0</td>\n",
       "      <td>17.5</td>\n",
       "      <td>3.8</td>\n",
       "      <td>4.6</td>\n",
       "      <td>3.4</td>\n",
       "      <td>3.2</td>\n",
       "      <td>4.2</td>\n",
       "      <td>3.0</td>\n",
       "      <td>3.7</td>\n",
       "      <td>2.6</td>\n",
       "      <td>11.7</td>\n",
       "      <td>3.0</td>\n",
       "      <td>5.5</td>\n",
       "      <td>3.7</td>\n",
       "      <td>2.8</td>\n",
       "    </tr>\n",
       "    <tr>\n",
       "      <td>AbbVie</td>\n",
       "      <td>6.5</td>\n",
       "      <td>3.3</td>\n",
       "      <td>6.3</td>\n",
       "      <td>4.8</td>\n",
       "      <td>4.2</td>\n",
       "      <td>4.0</td>\n",
       "      <td>8.9</td>\n",
       "      <td>3.4</td>\n",
       "      <td>3.1</td>\n",
       "      <td>3.7</td>\n",
       "      <td>5.1</td>\n",
       "      <td>8.0</td>\n",
       "      <td>3.5</td>\n",
       "      <td>8.6</td>\n",
       "      <td>4.2</td>\n",
       "      <td>10.1</td>\n",
       "      <td>2.2</td>\n",
       "      <td>2.5</td>\n",
       "      <td>4.2</td>\n",
       "      <td>3.3</td>\n",
       "    </tr>\n",
       "    <tr>\n",
       "      <td>Albertsons</td>\n",
       "      <td>3.9</td>\n",
       "      <td>3.7</td>\n",
       "      <td>4.4</td>\n",
       "      <td>5.0</td>\n",
       "      <td>5.0</td>\n",
       "      <td>3.9</td>\n",
       "      <td>14.4</td>\n",
       "      <td>4.9</td>\n",
       "      <td>7.4</td>\n",
       "      <td>5.5</td>\n",
       "      <td>2.4</td>\n",
       "      <td>2.6</td>\n",
       "      <td>3.3</td>\n",
       "      <td>8.2</td>\n",
       "      <td>3.0</td>\n",
       "      <td>6.9</td>\n",
       "      <td>2.9</td>\n",
       "      <td>4.0</td>\n",
       "      <td>5.5</td>\n",
       "      <td>3.3</td>\n",
       "    </tr>\n",
       "  </tbody>\n",
       "</table>\n",
       "</div>"
      ],
      "text/plain": [
       "            topic_pros_0  topic_pros_1  topic_pros_2  topic_pros_3  \\\n",
       "company                                                              \n",
       "3M                   6.5           3.5           7.9           3.8   \n",
       "AIG                  5.0           3.9           6.6           8.3   \n",
       "AT&T                 4.6           3.4           6.3           6.0   \n",
       "AbbVie               6.5           3.3           6.3           4.8   \n",
       "Albertsons           3.9           3.7           4.4           5.0   \n",
       "\n",
       "            topic_pros_4  topic_pros_5  topic_pros_6  topic_pros_7  \\\n",
       "company                                                              \n",
       "3M                   5.2           3.5           9.7           3.9   \n",
       "AIG                  4.6           3.4          10.9           3.4   \n",
       "AT&T                 4.0           3.0          17.5           3.8   \n",
       "AbbVie               4.2           4.0           8.9           3.4   \n",
       "Albertsons           5.0           3.9          14.4           4.9   \n",
       "\n",
       "            topic_pros_8  topic_pros_9  topic_pros_10  topic_pros_11  \\\n",
       "company                                                                \n",
       "3M                   3.2           3.8            5.4            5.7   \n",
       "AIG                  3.2           4.6            3.6            7.6   \n",
       "AT&T                 4.6           3.4            3.2            4.2   \n",
       "AbbVie               3.1           3.7            5.1            8.0   \n",
       "Albertsons           7.4           5.5            2.4            2.6   \n",
       "\n",
       "            topic_pros_12  topic_pros_13  topic_pros_14  topic_pros_15  \\\n",
       "company                                                                  \n",
       "3M                    3.2            7.2            4.6            8.4   \n",
       "AIG                   3.2            6.6            3.9            9.1   \n",
       "AT&T                  3.0            3.7            2.6           11.7   \n",
       "AbbVie                3.5            8.6            4.2           10.1   \n",
       "Albertsons            3.3            8.2            3.0            6.9   \n",
       "\n",
       "            topic_pros_16  topic_pros_17  topic_pros_18  topic_pros_19  \n",
       "company                                                                 \n",
       "3M                    2.7            3.2            5.2            3.5  \n",
       "AIG                   2.5            2.6            4.5            2.4  \n",
       "AT&T                  3.0            5.5            3.7            2.8  \n",
       "AbbVie                2.2            2.5            4.2            3.3  \n",
       "Albertsons            2.9            4.0            5.5            3.3  "
      ]
     },
     "execution_count": 148,
     "metadata": {},
     "output_type": "execute_result"
    }
   ],
   "source": [
    "doc_topics = list(ldamodel_pros_20.get_document_topics(pros_corpus))\n",
    "all_reviews['doc_topic_pros'] = doc_topics\n",
    "all_reviews['doc_topic_pros'] = all_reviews['doc_topic_pros'].map(lambda x: dict(x))\n",
    "for topic_num in range(20):\n",
    "    all_reviews[f'topic_pros_{topic_num}'] = all_reviews['doc_topic_pros'].apply(lambda x: x.get(topic_num, 0))\n",
    "    \n",
    "# Preview table\n",
    "dist_pros = round(all_reviews.groupby('company').mean().iloc[:,1:21],3)*100\n",
    "dist_pros.head()"
   ]
  },
  {
   "cell_type": "markdown",
   "metadata": {},
   "source": [
    "The above table represents the concentration of topics within in each company. To put it another way, it very *roughly* shows us the percentage of reviews that fell into that particular topic. For example, topic 0 represents the existence of training and advancement opportunities. So we can very roughly say that 6.5% of reviews at 3M mentioned the presence of training and advancement opportunities. \n",
    "\n",
    "The reason I use the word *roughly* is because, remember, LDA topic modeling assigns percentage weights of topics to each review. So each review is made up of a variety of topics. Therefore, the above table is an *average of averages*."
   ]
  },
  {
   "cell_type": "markdown",
   "metadata": {},
   "source": [
    "### Visualizing the Distribution of Topic Concentrations (Pros)"
   ]
  },
  {
   "cell_type": "code",
   "execution_count": null,
   "metadata": {},
   "outputs": [],
   "source": [
    "pros_melt = pd.melt(dist_pros)\n",
    "pros_melt['company'] = list(dist_pros.index)*20"
   ]
  },
  {
   "cell_type": "code",
   "execution_count": 180,
   "metadata": {},
   "outputs": [
    {
     "data": {
      "image/png": "[encoded data removed]",
      "text/plain": [
       "<Figure size 1008x806.4 with 20 Axes>"
      ]
     },
     "metadata": {},
     "output_type": "display_data"
    }
   ],
   "source": [
    "with sns.axes_style(\"white\"):\n",
    "    g = sns.FacetGrid(pros_melt, col=\"variable\", col_wrap=5, margin_titles=False, height=2.8)\n",
    "g.map(sns.distplot, \"value\", color=\"#334488\");\n",
    "g.set_axis_labels(\"Rough Percentage of Reviews\", \"\");\n",
    "g.fig.subplots_adjust(wspace=.08, hspace=.08);"
   ]
  },
  {
   "cell_type": "markdown",
   "metadata": {},
   "source": [
    "We can see that the distributions of each topic vary quite a bit - not so much in the nature of the distribution itself (most appear normal), but more in the tightness and kurtosis of the distribution. For example, the distribution of topic 6 has a very low kurtosis (aka - it has very fat tails). Meanwhile, topic 1 and 12 are very \"squished,\" indicating a tighter distribution and lower standard error. Some distributions are also skewed to the right (topics 8 and 17)."
   ]
  },
  {
   "cell_type": "markdown",
   "metadata": {},
   "source": [
    "### Additional Statistical Testing (Pros)\n",
    "While we have assembled rough percentages of topic categories across different companies, we'd also like to ask the question, \"Are these results actually meaningful?\" or alternatively, \"How robust are these results?\"\n",
    "\n",
    "We want to compare two aspects of these distributions: \n",
    "- Do the concentration of topics really differ among companies (i.e. does topic 6 really have a different concentration at AT&T vs. AIG vs. AbbVie?) \n",
    "- Do the concentration of topics really differ within a single company (i.e. does topic 6 really have a greater concentration than topic 0 at AT&T?)\n",
    "\n",
    "Basically, did these distributions occur by chance, or are they actually statistically different from each other?"
   ]
  },
  {
   "cell_type": "code",
   "execution_count": 194,
   "metadata": {},
   "outputs": [
    {
     "name": "stdout",
     "output_type": "stream",
     "text": [
      "topic 0:  t-stat: -9.819700454269215 p-value: 7.315231898059889e-15\n",
      "topic 1:  t-stat: -57.72610829889248 p-value: 2.0721920153284174e-61\n",
      "topic 2:  t-stat: -1.7246432665001952 p-value: 0.08894293681424548 NOT SIGNIFICANT\n",
      "topic 3:  t-stat: -7.706914002569207 p-value: 5.84000315428744e-11\n",
      "topic 4:  t-stat: -23.1307273966507 p-value: 8.753256899931364e-35\n",
      "topic 5:  t-stat: -53.4838150821478 p-value: 4.148020959793462e-59\n",
      "topic 6:  t-stat: 14.990634353095432 p-value: 1.0864097304802613e-23\n",
      "topic 7:  t-stat: -31.60289834014082 p-value: 1.477477203820459e-43\n",
      "topic 8:  t-stat: -19.637388468122897 p-value: 2.0683509013634217e-30\n",
      "topic 9:  t-stat: -37.267099614374814 p-value: 2.355993231696315e-48\n",
      "topic 10:  t-stat: -29.394337114623657 p-value: 1.7654511227468982e-41\n",
      "topic 11:  t-stat: -3.7190287890182905 p-value: 0.00039632240867654926\n",
      "topic 12:  t-stat: -73.88921840592616 p-value: 6.7409384965458e-69\n",
      "topic 13:  t-stat: 1.8064695863315292 p-value: 0.07508268794057982 NOT SIGNIFICANT\n",
      "topic 14:  t-stat: -21.781751633228783 p-value: 3.708504898294733e-33\n",
      "topic 15:  t-stat: 13.465399077859667 p-value: 3.124694258015596e-21\n",
      "topic 16:  t-stat: -32.65376978178268 p-value: 1.6784821772482705e-44\n",
      "topic 17:  t-stat: -19.537436775391875 p-value: 2.8101817185795116e-30\n",
      "topic 18:  t-stat: -19.693940471417015 p-value: 1.7398804924942774e-30\n",
      "topic 19:  t-stat: -89.30162293869455 p-value: 1.1185507936196465e-74\n"
     ]
    }
   ],
   "source": [
    "# 1 sample t-test to test if topic distributions differ among different companies. \n",
    "# H0: all companies have the same distribution for that topic.\n",
    "# from scipy import stats\n",
    "for i in range(0,20):\n",
    "    test_result = stats.ttest_1samp(dist_pros[f'topic_pros_{i}'].values, 100/15)\n",
    "    if test_result[1] > 0.05:\n",
    "        print(f'topic {i}: ', f't-stat: {test_result[0]}', f'p-value: {test_result[1]}', 'NOT SIGNIFICANT')\n",
    "    else:\n",
    "        print(f'topic {i}: ', f't-stat: {test_result[0]}', f'p-value: {test_result[1]}')"
   ]
  },
  {
   "cell_type": "code",
   "execution_count": 195,
   "metadata": {},
   "outputs": [
    {
     "name": "stdout",
     "output_type": "stream",
     "text": [
      "3M:  chi-2 stat: 15.162737262737263 p-value: 0.7121995163745907 NOT SIGNIFICANT\n",
      "AIG:  chi-2 stat: 21.963863863863864 p-value: 0.2860583947014269 NOT SIGNIFICANT\n",
      "AT&T:  chi-2 stat: 48.364 p-value: 0.00022722288628765084\n",
      "AbbVie:  chi-2 stat: 20.033933933933934 p-value: 0.39253883055786165 NOT SIGNIFICANT\n",
      "Albertsons:  chi-2 stat: 28.0754491017964 p-value: 0.08198731211370189 NOT SIGNIFICANT\n",
      "Amazon:  chi-2 stat: 19.74215784215784 p-value: 0.41024095655597725 NOT SIGNIFICANT\n",
      "American Airlines:  chi-2 stat: 27.306212424849694 p-value: 0.09772027463447899 NOT SIGNIFICANT\n",
      "American Express:  chi-2 stat: 29.58031968031968 p-value: 0.05738837178455353 NOT SIGNIFICANT\n",
      "AmerisourceBergen:  chi-2 stat: 25.93200000000001 p-value: 0.1320949587086046 NOT SIGNIFICANT\n",
      "Apple:  chi-2 stat: 34.34755244755245 p-value: 0.016716550615816735\n",
      "Archer Daniels:  chi-2 stat: 24.143887775551097 p-value: 0.1906907909496856 NOT SIGNIFICANT\n",
      "Bank of America:  chi-2 stat: 25.064 p-value: 0.15844634646216063 NOT SIGNIFICANT\n",
      "Best Buy:  chi-2 stat: 31.404790419161674 p-value: 0.03642786529821481\n",
      "Boeing:  chi-2 stat: 24.168000000000003 p-value: 0.18978683570322513 NOT SIGNIFICANT\n",
      "Booking.com:  chi-2 stat: 16.262162162162163 p-value: 0.6397209255345698 NOT SIGNIFICANT\n",
      "CVS Health:  chi-2 stat: 28.36626626626627 p-value: 0.07662895549542971 NOT SIGNIFICANT\n",
      "Cardinal Health:  chi-2 stat: 21.728 p-value: 0.29800168403231897 NOT SIGNIFICANT\n",
      "Caterpillar:  chi-2 stat: 25.9314629258517 p-value: 0.1321101013009294 NOT SIGNIFICANT\n",
      "Centene:  chi-2 stat: 31.844000000000005 p-value: 0.03254216278394568\n",
      "Chevron:  chi-2 stat: 29.18071928071928 p-value: 0.06319514022492739 NOT SIGNIFICANT\n",
      "Cigna:  chi-2 stat: 23.676 p-value: 0.20887552366898834 NOT SIGNIFICANT\n",
      "Cisco:  chi-2 stat: 27.495999999999995 p-value: 0.09361974344788453 NOT SIGNIFICANT\n",
      "Coca Cola:  chi-2 stat: 23.806093906093906 p-value: 0.2036958002194157 NOT SIGNIFICANT\n",
      "Comcast:  chi-2 stat: 27.50540540540541 p-value: 0.09342035494695118 NOT SIGNIFICANT\n",
      "Costco:  chi-2 stat: 60.293606393606396 p-value: 3.47703772014441e-06\n",
      "Delta Airlines:  chi-2 stat: 33.332934131736536 p-value: 0.021998422575986696\n",
      "Enterprise Products:  chi-2 stat: 46.30299401197604 p-value: 0.00044896225434554714\n",
      "Exelon:  chi-2 stat: 20.375999999999998 p-value: 0.37227961322495795 NOT SIGNIFICANT\n",
      "Exxon Mobil:  chi-2 stat: 13.140759240759243 p-value: 0.8312878532240642 NOT SIGNIFICANT\n",
      "Facebook:  chi-2 stat: 11.272000000000004 p-value: 0.9143494841309706 NOT SIGNIFICANT\n",
      "Fannie Mae:  chi-2 stat: 36.12577422577422 p-value: 0.010186313517390215\n",
      "Fedex:  chi-2 stat: 33.08435305917753 p-value: 0.023507103516739628\n",
      "Ford:  chi-2 stat: 23.411999999999995 p-value: 0.2196818594950806 NOT SIGNIFICANT\n",
      "General Dynamics:  chi-2 stat: 21.52 p-value: 0.3087917582433937 NOT SIGNIFICANT\n",
      "General Electric:  chi-2 stat: 18.971999999999998 p-value: 0.45863369972044243 NOT SIGNIFICANT\n",
      "General Motors:  chi-2 stat: 29.79199999999999 p-value: 0.054505978759021544 NOT SIGNIFICANT\n",
      "Goldman Sachs:  chi-2 stat: 16.581318681318677 p-value: 0.6182091793197342 NOT SIGNIFICANT\n",
      "Google:  chi-2 stat: 15.748103792415176 p-value: 0.6740130120016112 NOT SIGNIFICANT\n",
      "HCA Healthcare:  chi-2 stat: 22.334930139720566 p-value: 0.267905755197177 NOT SIGNIFICANT\n",
      "HP:  chi-2 stat: 23.418481518481524 p-value: 0.21941179828247823 NOT SIGNIFICANT\n",
      "Home Depot:  chi-2 stat: 19.17472527472528 p-value: 0.4456798621733048 NOT SIGNIFICANT\n",
      "Humana:  chi-2 stat: 29.983916083916075 p-value: 0.05200351090855181 NOT SIGNIFICANT\n",
      "Intel:  chi-2 stat: 23.2 p-value: 0.2286475195552709 NOT SIGNIFICANT\n",
      "JP Morgan:  chi-2 stat: 17.552000000000003 p-value: 0.5525242487476594 NOT SIGNIFICANT\n",
      "John Deere:  chi-2 stat: 21.43933933933934 p-value: 0.31304036469817426 NOT SIGNIFICANT\n",
      "Kroger:  chi-2 stat: 22.864000000000004 p-value: 0.2433851409709343 NOT SIGNIFICANT\n",
      "Liberty Mutual:  chi-2 stat: 33.776 p-value: 0.019527394759507495\n",
      "Lockheed Martin:  chi-2 stat: 24.99012961116651 p-value: 0.16086737471083165 NOT SIGNIFICANT\n",
      "Lowe's:  chi-2 stat: 35.55600000000001 p-value: 0.011961080462518122\n",
      "McKesson:  chi-2 stat: 25.535435435435428 p-value: 0.14366212765475478 NOT SIGNIFICANT\n",
      "Merck:  chi-2 stat: 22.820000000000004 p-value: 0.2453631010472356 NOT SIGNIFICANT\n",
      "Microsoft:  chi-2 stat: 15.22267732267732 p-value: 0.7083432988170917 NOT SIGNIFICANT\n",
      "Morgan Stanley:  chi-2 stat: 19.578321678321682 p-value: 0.42034142264291974 NOT SIGNIFICANT\n",
      "Nationwide:  chi-2 stat: 27.118781218781223 p-value: 0.10191662505160819 NOT SIGNIFICANT\n",
      "New York Life Insurance:  chi-2 stat: 18.284 p-value: 0.5035486736495871 NOT SIGNIFICANT\n",
      "Nike:  chi-2 stat: 24.844 p-value: 0.16574149620030537 NOT SIGNIFICANT\n",
      "PepsiCo:  chi-2 stat: 35.536 p-value: 0.012028322043004604\n",
      "Pfizer:  chi-2 stat: 23.94770459081836 p-value: 0.19816599592860173 NOT SIGNIFICANT\n",
      "Phillips 66:  chi-2 stat: 30.969539078156316 p-value: 0.040684612371672944\n",
      "Proctor & Gamble:  chi-2 stat: 23.77367367367367 p-value: 0.2049776742888514 NOT SIGNIFICANT\n",
      "Progressive:  chi-2 stat: 27.1027972027972 p-value: 0.10228134820786794 NOT SIGNIFICANT\n",
      "Prudential:  chi-2 stat: 19.824 p-value: 0.4052379153143476 NOT SIGNIFICANT\n",
      "Publix:  chi-2 stat: 40.18800000000002 p-value: 0.0030913153346560276\n",
      "Sysco:  chi-2 stat: 21.207999999999995 p-value: 0.3254224527019479 NOT SIGNIFICANT\n",
      "Tech Data:  chi-2 stat: 14.524649298597193 p-value: 0.752293298141551 NOT SIGNIFICANT\n",
      "UPS:  chi-2 stat: 44.86903096903096 p-value: 0.0007149307206920839\n",
      "United Technologies:  chi-2 stat: 15.598301698301697 p-value: 0.6838884133693475 NOT SIGNIFICANT\n",
      "Verizon Wireless:  chi-2 stat: 40.8 p-value: 0.0025658441750789508\n",
      "Walgreens:  chi-2 stat: 18.6032967032967 p-value: 0.48253684108400785 NOT SIGNIFICANT\n",
      "Walmart:  chi-2 stat: 32.358882235528945 p-value: 0.028465968646190252\n",
      "Walt Disney:  chi-2 stat: 16.794694694694694 p-value: 0.6037745410002724 NOT SIGNIFICANT\n",
      "Wells Fargo:  chi-2 stat: 21.395295295295302 p-value: 0.3153753314002025 NOT SIGNIFICANT\n"
     ]
    }
   ],
   "source": [
    "# chi-2 test to test if topic distributions within a single company are equally distributed ~6.67. \n",
    "# H0: all topics have the same distribution within that company.\n",
    "# from scipy.stats import chisquare\n",
    "for i in range(0,len(dist_pros.index)):\n",
    "    test_result = chisquare(dist_pros.iloc[i])\n",
    "    if test_result[1] > 0.05:\n",
    "        print(f'{dist_pros.index[i]}: ', f'chi-2 stat: {test_result[0]}', f'p-value: {test_result[1]}', 'NOT SIGNIFICANT')\n",
    "    else:\n",
    "        print(f'{dist_pros.index[i]}: ', f'chi-2 stat: {test_result[0]}', f'p-value: {test_result[1]}')"
   ]
  },
  {
   "cell_type": "markdown",
   "metadata": {},
   "source": [
    "### Detecting Outlier Companies within each Topic (Pros)\n",
    "\n",
    "The next step is to determine which companies excel in each our predefined topics. For example, which companies excel in offering training and advancement opportunities to employees?\n",
    "\n",
    "We can accomplish this by conducting an outlier analysis in which we define outliers as any number that is greater than the Q3(3rd quartile) + 1.5*IQR (interquartile range)."
   ]
  },
  {
   "cell_type": "code",
   "execution_count": 132,
   "metadata": {},
   "outputs": [
    {
     "name": "stdout",
     "output_type": "stream",
     "text": [
      "topic_pros_0:  company\n",
      "New York Life Insurance    8.7\n",
      "General Electric           8.6\n",
      "Proctor & Gamble           8.4\n",
      "Name: topic_pros_0, dtype: float64 \n",
      "\n",
      "topic_pros_1:  company\n",
      "Tech Data        5.3\n",
      "Google           4.6\n",
      "Intel            4.5\n",
      "Goldman Sachs    4.5\n",
      "Walt Disney      4.2\n",
      "HP               4.2\n",
      "Name: topic_pros_1, dtype: float64 \n",
      "\n",
      "topic_pros_2:  company\n",
      "General Electric    10.2\n",
      "Name: topic_pros_2, dtype: float64 \n",
      "\n",
      "topic_pros_3:  company\n",
      "Humana    8.8\n",
      "Name: topic_pros_3, dtype: float64 \n",
      "\n",
      "topic_pros_4:  company\n",
      "Archer Daniels      6.6\n",
      "Morgan Stanley      6.5\n",
      "Goldman Sachs       6.3\n",
      "General Electric    6.2\n",
      "Tech Data           6.1\n",
      "Name: topic_pros_4, dtype: float64 \n",
      "\n",
      "topic_pros_5:  company\n",
      "Costco            5.1\n",
      "Delta Airlines    5.0\n",
      "Liberty Mutual    4.6\n",
      "HCA Healthcare    4.6\n",
      "Name: topic_pros_5, dtype: float64 \n",
      "\n",
      "topic_pros_6:  company\n",
      "Costco                 17.7\n",
      "UPS                    17.6\n",
      "AT&T                   17.5\n",
      "Enterprise Products    17.0\n",
      "Name: topic_pros_6, dtype: float64 \n",
      "\n",
      "topic_pros_7:  company\n",
      "Facebook                   5.9\n",
      "Amazon                     5.9\n",
      "UPS                        5.6\n",
      "Walmart                    5.4\n",
      "New York Life Insurance    5.4\n",
      "PepsiCo                    5.3\n",
      "Goldman Sachs              5.3\n",
      "CVS Health                 5.3\n",
      "Name: topic_pros_7, dtype: float64 \n",
      "\n",
      "topic_pros_8:  company\n",
      "Kroger         7.6\n",
      "Albertsons     7.4\n",
      "Walmart        6.5\n",
      "Walgreens      6.5\n",
      "Best Buy       6.4\n",
      "Lowe's         6.1\n",
      "Home Depot     6.1\n",
      "Nike           5.9\n",
      "CVS Health     5.9\n",
      "Publix         5.8\n",
      "Walt Disney    5.5\n",
      "Name: topic_pros_8, dtype: float64 \n",
      "\n",
      "topic_pros_9:  company\n",
      "CVS Health    6.0\n",
      "Kroger        5.7\n",
      "Walgreens     5.5\n",
      "Albertsons    5.5\n",
      "Prudential    5.4\n",
      "Name: topic_pros_9, dtype: float64 \n",
      "\n",
      "topic_pros_10:  company\n",
      "Microsoft    5.6\n",
      "Name: topic_pros_10, dtype: float64 \n",
      "\n",
      "topic_pros_11:  company\n",
      "Cisco               12.7\n",
      "Fannie Mae          12.4\n",
      "American Express    11.1\n",
      "HP                  10.9\n",
      "Intel               10.5\n",
      "Name: topic_pros_11, dtype: float64 \n",
      "\n",
      "topic_pros_12:  company\n",
      "New York Life Insurance    5.2\n",
      "Sysco                      4.1\n",
      "Exelon                     4.1\n",
      "Name: topic_pros_12, dtype: float64 \n",
      "\n",
      "topic_pros_13:  company\n",
      "Booking.com    11.9\n",
      "HP             10.1\n",
      "Name: topic_pros_13, dtype: float64 \n",
      "\n",
      "topic_pros_14:  company\n",
      "Goldman Sachs     8.8\n",
      "Google            7.0\n",
      "Microsoft         6.6\n",
      "Facebook          6.5\n",
      "Morgan Stanley    5.6\n",
      "Name: topic_pros_14, dtype: float64 \n",
      "\n",
      "topic_pros_15:  company\n",
      "Delta Airlines    15.2\n",
      "Apple             14.6\n",
      "Costco            13.8\n",
      "Name: topic_pros_15, dtype: float64 \n",
      "\n",
      "topic_pros_16:  company\n",
      "American Airlines      6.9\n",
      "Delta Airlines         6.3\n",
      "Facebook               6.1\n",
      "Google                 5.6\n",
      "Walt Disney            5.1\n",
      "Booking.com            4.4\n",
      "Apple                  4.3\n",
      "Enterprise Products    3.8\n",
      "Amazon                 3.8\n",
      "Nike                   3.7\n",
      "Name: topic_pros_16, dtype: float64 \n",
      "\n",
      "topic_pros_17:  company\n",
      "Nike           9.0\n",
      "Best Buy       7.8\n",
      "Comcast        7.3\n",
      "Walt Disney    6.8\n",
      "Booking.com    6.4\n",
      "Google         5.5\n",
      "AT&T           5.5\n",
      "Walgreens      5.3\n",
      "Facebook       5.1\n",
      "Kroger         4.9\n",
      "Name: topic_pros_17, dtype: float64 \n",
      "\n",
      "topic_pros_18:  company\n",
      "Facebook    8.3\n",
      "Name: topic_pros_18, dtype: float64 \n",
      "\n",
      "topic_pros_19:  company\n",
      "Exelon              4.2\n",
      "Liberty Mutual      3.7\n",
      "General Dynamics    3.7\n",
      "Name: topic_pros_19, dtype: float64 \n",
      "\n"
     ]
    }
   ],
   "source": [
    "# find outliers by locating values: Q1 - 1.5*IQR < X > Q3 + 1.5*IQR\n",
    "for i in range(0,20):\n",
    "    s = dist_pros[f'topic_pros_{i}']\n",
    "    IQR = iqr(dist_pros[f'topic_pros_{i}'])\n",
    "    below = s[s<(s.quantile(.25)-IQR)].sort_values(ascending=True)\n",
    "    above = s[s>(s.quantile(.75)+IQR)].sort_values(ascending=False)\n",
    "    print(f'topic_pros_{i}: ', above, '\\n')"
   ]
  },
  {
   "cell_type": "markdown",
   "metadata": {},
   "source": [
    "## The Moment We've all Been Waiting for - The Excellent Companies:\n",
    "![Alt Text](https://media.giphy.com/media/GBvkxysAR8Svm/giphy.gif)\n",
    "\n",
    "- **Availability of training and development programs:**\n",
    "    - New York Life Insurance, General Electric, Procter & Gamble\n",
    "- **Cool people & place to work, especially at the start of your career:**\n",
    "    - Tech Data, Google, Intel, Goldman Sachs, Walt Disney, HP\n",
    "- **High potential for growth and advancement:**\n",
    "    - General Electric\n",
    "- **Good benefits: 401k, health/medical insurance, pto, vacation, bonus:**\n",
    "    - Humana\n",
    "- **Great learning opportunity and skills development:**\n",
    "    - Archer Daniels, Morgan Stanley, Goldman Sachs, General Electric, Tech Data\n",
    "- **Rewarded for good work (caring managers, bonuses):**\n",
    "    - Costco, Delta, Liberty Mutual, HCA Healthcare\n",
    "- **Good pay, reimbursement for expenses, flexible hours:**\n",
    "    - Costco, UPS, AT&T, Enterprise Products\n",
    "- **Challenging, fast-paced, striving for excellence:**\n",
    "    - Facebook, Amazon, UPS, Walmart, New York Life Insurance, PepsiCo, Goldman Sachs, CVS Health\n",
    "- **Help and customer-oriented:**\n",
    "    - Kroger, Albertsons, Walmart, Walgreens, Best Buy, Lowe's, Home Depot, Nike, CVS Health, Publix, Walt Disney\n",
    "- **\"No pros\":**\n",
    "    - CVS Health, Kroger, Walgreens, Albertsons, Prudential\n",
    "- **Superior products/industry:**\n",
    "    - Microsoft\n",
    "- **Work-life balance, flexible schedule:**\n",
    "    - Cisco, Fannie Mae, American Express, HP, Intel\n",
    "- **Friendly, helpful people and work environment:**\n",
    "    - Booking.com, HP\n",
    "- **High quality, exciting projects and smart people:**\n",
    "    - Goldman Sachs, Google, Microsoft, Facebook, Morgan Stanley\n",
    "- **Free amenities: free food, discounts, events, gym, education:**\n",
    "    - Nike, Best Buy, Comcast, Walt Disney, Booking.com, Google, AT&T, Walgreens, Facebook, Kroger\n",
    "- **People like \"family.\" Best company, best brand. Always new things:**\n",
    "    - Facebook\n",
    "- **Better than similar companies, competitors:**\n",
    "    - Exelon, Liberty Mutual, General Dynamics"
   ]
  },
  {
   "cell_type": "markdown",
   "metadata": {},
   "source": [
    "### What stands out here?\n",
    "There are some things that align with our intuition, like Facebook and Amazon being known for a **challenging and fast-paced** environment. Additionally, Microsoft being the lone outlier in offering **superior products**.\n",
    "\n",
    "What is also interesting is the fact that Humana stands alone by a long shot in offering **great benefits, 401k, health insurance, pto, vacation package, and bonuses**. Similarly, General Electric seems to be known for offering **training and development programs** as well as a **high potential for growth and advancement**. Seems like a great place to work for young employees looking to advance their career.\n",
    "\n",
    "In the **help and customer-oriented** category, it's interesting but also unsurprising to see that most companies are grocery chains and brick and mortar stores such as Kroger, Albertsons, Walmart, Walgreens, Best Buy, Lowe's, Home Depot, and Publix."
   ]
  },
  {
   "cell_type": "markdown",
   "metadata": {},
   "source": [
    "### Topic Distributions by Company (Cons)"
   ]
  },
  {
   "cell_type": "code",
   "execution_count": 149,
   "metadata": {
    "scrolled": false
   },
   "outputs": [
    {
     "data": {
      "text/html": [
       "<div>\n",
       "<style scoped>\n",
       "    .dataframe tbody tr th:only-of-type {\n",
       "        vertical-align: middle;\n",
       "    }\n",
       "\n",
       "    .dataframe tbody tr th {\n",
       "        vertical-align: top;\n",
       "    }\n",
       "\n",
       "    .dataframe thead th {\n",
       "        text-align: right;\n",
       "    }\n",
       "</style>\n",
       "<table border=\"1\" class=\"dataframe\">\n",
       "  <thead>\n",
       "    <tr style=\"text-align: right;\">\n",
       "      <th></th>\n",
       "      <th>topic_cons_0</th>\n",
       "      <th>topic_cons_1</th>\n",
       "      <th>topic_cons_2</th>\n",
       "      <th>topic_cons_3</th>\n",
       "      <th>topic_cons_4</th>\n",
       "      <th>topic_cons_5</th>\n",
       "      <th>topic_cons_6</th>\n",
       "      <th>topic_cons_7</th>\n",
       "      <th>topic_cons_8</th>\n",
       "      <th>topic_cons_9</th>\n",
       "      <th>topic_cons_10</th>\n",
       "      <th>topic_cons_11</th>\n",
       "      <th>topic_cons_12</th>\n",
       "      <th>topic_cons_13</th>\n",
       "      <th>topic_cons_14</th>\n",
       "      <th>topic_cons_15</th>\n",
       "      <th>topic_cons_16</th>\n",
       "      <th>topic_cons_17</th>\n",
       "      <th>topic_cons_18</th>\n",
       "      <th>topic_cons_19</th>\n",
       "    </tr>\n",
       "    <tr>\n",
       "      <th>company</th>\n",
       "      <th></th>\n",
       "      <th></th>\n",
       "      <th></th>\n",
       "      <th></th>\n",
       "      <th></th>\n",
       "      <th></th>\n",
       "      <th></th>\n",
       "      <th></th>\n",
       "      <th></th>\n",
       "      <th></th>\n",
       "      <th></th>\n",
       "      <th></th>\n",
       "      <th></th>\n",
       "      <th></th>\n",
       "      <th></th>\n",
       "      <th></th>\n",
       "      <th></th>\n",
       "      <th></th>\n",
       "      <th></th>\n",
       "      <th></th>\n",
       "    </tr>\n",
       "  </thead>\n",
       "  <tbody>\n",
       "    <tr>\n",
       "      <td>3M</td>\n",
       "      <td>8.9</td>\n",
       "      <td>3.2</td>\n",
       "      <td>2.7</td>\n",
       "      <td>4.6</td>\n",
       "      <td>2.9</td>\n",
       "      <td>3.2</td>\n",
       "      <td>3.2</td>\n",
       "      <td>4.6</td>\n",
       "      <td>7.8</td>\n",
       "      <td>8.5</td>\n",
       "      <td>4.7</td>\n",
       "      <td>5.3</td>\n",
       "      <td>5.1</td>\n",
       "      <td>3.8</td>\n",
       "      <td>4.9</td>\n",
       "      <td>4.2</td>\n",
       "      <td>6.9</td>\n",
       "      <td>5.8</td>\n",
       "      <td>2.8</td>\n",
       "      <td>6.7</td>\n",
       "    </tr>\n",
       "    <tr>\n",
       "      <td>AIG</td>\n",
       "      <td>8.2</td>\n",
       "      <td>2.9</td>\n",
       "      <td>3.1</td>\n",
       "      <td>3.9</td>\n",
       "      <td>3.0</td>\n",
       "      <td>3.3</td>\n",
       "      <td>3.1</td>\n",
       "      <td>4.6</td>\n",
       "      <td>8.9</td>\n",
       "      <td>5.5</td>\n",
       "      <td>4.4</td>\n",
       "      <td>4.4</td>\n",
       "      <td>5.9</td>\n",
       "      <td>7.7</td>\n",
       "      <td>4.6</td>\n",
       "      <td>3.2</td>\n",
       "      <td>8.3</td>\n",
       "      <td>7.4</td>\n",
       "      <td>3.2</td>\n",
       "      <td>4.5</td>\n",
       "    </tr>\n",
       "    <tr>\n",
       "      <td>AT&amp;T</td>\n",
       "      <td>10.0</td>\n",
       "      <td>6.2</td>\n",
       "      <td>3.5</td>\n",
       "      <td>5.0</td>\n",
       "      <td>5.6</td>\n",
       "      <td>3.2</td>\n",
       "      <td>2.8</td>\n",
       "      <td>4.6</td>\n",
       "      <td>7.4</td>\n",
       "      <td>4.1</td>\n",
       "      <td>5.8</td>\n",
       "      <td>4.4</td>\n",
       "      <td>3.4</td>\n",
       "      <td>6.6</td>\n",
       "      <td>5.7</td>\n",
       "      <td>3.1</td>\n",
       "      <td>4.0</td>\n",
       "      <td>4.0</td>\n",
       "      <td>4.8</td>\n",
       "      <td>5.7</td>\n",
       "    </tr>\n",
       "    <tr>\n",
       "      <td>AbbVie</td>\n",
       "      <td>7.4</td>\n",
       "      <td>3.9</td>\n",
       "      <td>3.1</td>\n",
       "      <td>4.8</td>\n",
       "      <td>2.5</td>\n",
       "      <td>3.7</td>\n",
       "      <td>3.4</td>\n",
       "      <td>5.1</td>\n",
       "      <td>7.2</td>\n",
       "      <td>8.7</td>\n",
       "      <td>6.7</td>\n",
       "      <td>5.0</td>\n",
       "      <td>5.2</td>\n",
       "      <td>3.8</td>\n",
       "      <td>4.2</td>\n",
       "      <td>4.5</td>\n",
       "      <td>7.2</td>\n",
       "      <td>4.6</td>\n",
       "      <td>3.5</td>\n",
       "      <td>5.5</td>\n",
       "    </tr>\n",
       "    <tr>\n",
       "      <td>Albertsons</td>\n",
       "      <td>12.8</td>\n",
       "      <td>10.1</td>\n",
       "      <td>4.1</td>\n",
       "      <td>5.5</td>\n",
       "      <td>2.9</td>\n",
       "      <td>2.9</td>\n",
       "      <td>2.2</td>\n",
       "      <td>5.8</td>\n",
       "      <td>6.4</td>\n",
       "      <td>2.7</td>\n",
       "      <td>3.3</td>\n",
       "      <td>3.8</td>\n",
       "      <td>3.7</td>\n",
       "      <td>3.2</td>\n",
       "      <td>6.9</td>\n",
       "      <td>2.6</td>\n",
       "      <td>3.7</td>\n",
       "      <td>6.8</td>\n",
       "      <td>4.2</td>\n",
       "      <td>6.5</td>\n",
       "    </tr>\n",
       "  </tbody>\n",
       "</table>\n",
       "</div>"
      ],
      "text/plain": [
       "            topic_cons_0  topic_cons_1  topic_cons_2  topic_cons_3  \\\n",
       "company                                                              \n",
       "3M                   8.9           3.2           2.7           4.6   \n",
       "AIG                  8.2           2.9           3.1           3.9   \n",
       "AT&T                10.0           6.2           3.5           5.0   \n",
       "AbbVie               7.4           3.9           3.1           4.8   \n",
       "Albertsons          12.8          10.1           4.1           5.5   \n",
       "\n",
       "            topic_cons_4  topic_cons_5  topic_cons_6  topic_cons_7  \\\n",
       "company                                                              \n",
       "3M                   2.9           3.2           3.2           4.6   \n",
       "AIG                  3.0           3.3           3.1           4.6   \n",
       "AT&T                 5.6           3.2           2.8           4.6   \n",
       "AbbVie               2.5           3.7           3.4           5.1   \n",
       "Albertsons           2.9           2.9           2.2           5.8   \n",
       "\n",
       "            topic_cons_8  topic_cons_9  topic_cons_10  topic_cons_11  \\\n",
       "company                                                                \n",
       "3M                   7.8           8.5            4.7            5.3   \n",
       "AIG                  8.9           5.5            4.4            4.4   \n",
       "AT&T                 7.4           4.1            5.8            4.4   \n",
       "AbbVie               7.2           8.7            6.7            5.0   \n",
       "Albertsons           6.4           2.7            3.3            3.8   \n",
       "\n",
       "            topic_cons_12  topic_cons_13  topic_cons_14  topic_cons_15  \\\n",
       "company                                                                  \n",
       "3M                    5.1            3.8            4.9            4.2   \n",
       "AIG                   5.9            7.7            4.6            3.2   \n",
       "AT&T                  3.4            6.6            5.7            3.1   \n",
       "AbbVie                5.2            3.8            4.2            4.5   \n",
       "Albertsons            3.7            3.2            6.9            2.6   \n",
       "\n",
       "            topic_cons_16  topic_cons_17  topic_cons_18  topic_cons_19  \n",
       "company                                                                 \n",
       "3M                    6.9            5.8            2.8            6.7  \n",
       "AIG                   8.3            7.4            3.2            4.5  \n",
       "AT&T                  4.0            4.0            4.8            5.7  \n",
       "AbbVie                7.2            4.6            3.5            5.5  \n",
       "Albertsons            3.7            6.8            4.2            6.5  "
      ]
     },
     "execution_count": 149,
     "metadata": {},
     "output_type": "execute_result"
    }
   ],
   "source": [
    "all_reviews['doc_topic_cons'] = list(ldamodel_cons_20.get_document_topics(cons_corpus))\n",
    "all_reviews['doc_topic_cons'] = all_reviews['doc_topic_cons'].map(lambda x: dict(x))\n",
    "for topic_num in range(20):\n",
    "    all_reviews[f'topic_cons_{topic_num}'] = all_reviews['doc_topic_cons'].apply(lambda x: x.get(topic_num, 0))\n",
    "\n",
    "dist_cons = round(all_reviews.groupby('company').mean().iloc[:,-20:],3)*100\n",
    "# preview\n",
    "dist_cons.head()"
   ]
  },
  {
   "cell_type": "markdown",
   "metadata": {},
   "source": [
    "### Visualizing the Distribution of Topic Concentrations (Cons)"
   ]
  },
  {
   "cell_type": "code",
   "execution_count": 182,
   "metadata": {},
   "outputs": [],
   "source": [
    "cons_melt = pd.melt(dist_cons)\n",
    "cons_melt['company'] = list(dist_cons.index)*20"
   ]
  },
  {
   "cell_type": "code",
   "execution_count": 183,
   "metadata": {},
   "outputs": [
    {
     "data": {
      "image/png": "[encoded data removed]",
      "text/plain": [
       "<Figure size 1008x806.4 with 20 Axes>"
      ]
     },
     "metadata": {},
     "output_type": "display_data"
    }
   ],
   "source": [
    "with sns.axes_style(\"white\"):\n",
    "    g = sns.FacetGrid(cons_melt, col=\"variable\", col_wrap=5, margin_titles=False, height=2.8)\n",
    "g.map(sns.distplot, \"value\", color=\"#334488\");\n",
    "g.set_axis_labels(\"Rough Percentage of Reviews\", \"\");\n",
    "g.fig.subplots_adjust(wspace=.08, hspace=.08);"
   ]
  },
  {
   "cell_type": "markdown",
   "metadata": {},
   "source": [
    "### Additional Statistical Testing (Cons)"
   ]
  },
  {
   "cell_type": "code",
   "execution_count": 201,
   "metadata": {
    "collapsed": true
   },
   "outputs": [
    {
     "name": "stdout",
     "output_type": "stream",
     "text": [
      "topic 0:  t-stat: 13.621821987239823 p-value: 1.724685902528709e-21\n",
      "topic 1:  t-stat: -0.9947108873981519 p-value: 0.32325494066774474 NOT SIGNIFICANT\n",
      "topic 2:  t-stat: -43.389273082589256 p-value: 7.540032854214066e-53\n",
      "topic 3:  t-stat: -10.166903151263467 p-value: 1.7065187098475546e-15\n",
      "topic 4:  t-stat: -22.517977694473455 p-value: 4.69959328605072e-34\n",
      "topic 5:  t-stat: -92.80782679099217 p-value: 7.432135385595226e-76\n",
      "topic 6:  t-stat: -48.10408603592228 p-value: 6.309219790452031e-56\n",
      "topic 7:  t-stat: -15.711396610549347 p-value: 8.295872519091573e-25\n",
      "topic 8:  t-stat: 0.04403035792463026 p-value: 0.9650038040476254 NOT SIGNIFICANT\n",
      "topic 9:  t-stat: -4.841911281180754 p-value: 7.274963193461135e-06\n",
      "topic 10:  t-stat: -16.352110549853464 p-value: 8.904956747269916e-26\n",
      "topic 11:  t-stat: -33.349544149809624 p-value: 4.1119719398376e-45\n",
      "topic 12:  t-stat: -22.16069520667929 p-value: 1.2724339496634066e-33\n",
      "topic 13:  t-stat: -17.39477138021719 p-value: 2.6260376419093747e-27\n",
      "topic 14:  t-stat: -11.926004786394396 p-value: 1.2746015357975468e-18\n",
      "topic 15:  t-stat: -55.781335104951545 p-value: 2.242127122014368e-60\n",
      "topic 16:  t-stat: -7.378538016670408 p-value: 2.362821898733098e-10\n",
      "topic 17:  t-stat: -2.41110382569576 p-value: 0.018494281547257553\n",
      "topic 18:  t-stat: -22.07704116218099 p-value: 1.609445229112783e-33\n",
      "topic 19:  t-stat: -1.1003151166718417 p-value: 0.2749114857511899 NOT SIGNIFICANT\n"
     ]
    }
   ],
   "source": [
    "# 1 sample t-test to test if topic distributions differ among different companies. \n",
    "# H0: all companies have the same distribution for that topic.\n",
    "# from scipy import stats\n",
    "for i in range(0,20):\n",
    "    test_result = stats.ttest_1samp(dist_cons[f'topic_cons_{i}'].values, 100/15)\n",
    "    if test_result[1] > 0.05:\n",
    "        print(f'topic {i}: ', f't-stat: {test_result[0]}', f'p-value: {test_result[1]}', 'NOT SIGNIFICANT')\n",
    "    else:\n",
    "        print(f'topic {i}: ', f't-stat: {test_result[0]}', f'p-value: {test_result[1]}')"
   ]
  },
  {
   "cell_type": "code",
   "execution_count": 200,
   "metadata": {
    "collapsed": true
   },
   "outputs": [
    {
     "name": "stdout",
     "output_type": "stream",
     "text": [
      "3M:  chi-2 stat: 13.887374749499001 p-value: 0.7902167128060458 NOT SIGNIFICANT\n",
      "AIG:  chi-2 stat: 15.574325674325678 p-value: 0.6854630228199443 NOT SIGNIFICANT\n",
      "AT&T:  chi-2 stat: 11.333233233233232 p-value: 0.9121196195762886 NOT SIGNIFICANT\n",
      "AbbVie:  chi-2 stat: 10.483999999999998 p-value: 0.9399795669993731 NOT SIGNIFICANT\n",
      "Albertsons:  chi-2 stat: 27.754145854145857 p-value: 0.08827570995241588 NOT SIGNIFICANT\n",
      "Amazon:  chi-2 stat: 20.319999999999997 p-value: 0.37555839054834755 NOT SIGNIFICANT\n",
      "American Airlines:  chi-2 stat: 17.232667332667333 p-value: 0.574108565256136 NOT SIGNIFICANT\n",
      "American Express:  chi-2 stat: 8.071457085828342 p-value: 0.98593731090039 NOT SIGNIFICANT\n",
      "AmerisourceBergen:  chi-2 stat: 18.12 p-value: 0.5144362769106092 NOT SIGNIFICANT\n",
      "Apple:  chi-2 stat: 16.386286286286293 p-value: 0.631369398341251 NOT SIGNIFICANT\n",
      "Archer Daniels:  chi-2 stat: 10.91281281281281 p-value: 0.9267363309345729 NOT SIGNIFICANT\n",
      "Bank of America:  chi-2 stat: 8.901402805611223 p-value: 0.9750813433606702 NOT SIGNIFICANT\n",
      "Best Buy:  chi-2 stat: 17.764135864135863 p-value: 0.5382415411116495 NOT SIGNIFICANT\n",
      "Boeing:  chi-2 stat: 16.516633266533063 p-value: 0.6225783213601954 NOT SIGNIFICANT\n",
      "Booking.com:  chi-2 stat: 15.810089910089907 p-value: 0.6699090336044083 NOT SIGNIFICANT\n",
      "CVS Health:  chi-2 stat: 23.848 p-value: 0.20204764250643326 NOT SIGNIFICANT\n",
      "Cardinal Health:  chi-2 stat: 12.845054945054942 p-value: 0.8464077050804385 NOT SIGNIFICANT\n",
      "Caterpillar:  chi-2 stat: 15.545445445445447 p-value: 0.6873574169575893 NOT SIGNIFICANT\n",
      "Centene:  chi-2 stat: 16.724 p-value: 0.6085600205141974 NOT SIGNIFICANT\n",
      "Chevron:  chi-2 stat: 7.347999999999998 p-value: 0.992114299936832 NOT SIGNIFICANT\n",
      "Cigna:  chi-2 stat: 12.830730730730728 p-value: 0.8471224590713504 NOT SIGNIFICANT\n",
      "Cisco:  chi-2 stat: 10.460000000000004 p-value: 0.940671556434068 NOT SIGNIFICANT\n",
      "Coca Cola:  chi-2 stat: 9.887787787787786 p-value: 0.9556596875099893 NOT SIGNIFICANT\n",
      "Comcast:  chi-2 stat: 13.64416749750748 p-value: 0.8040253471863703 NOT SIGNIFICANT\n",
      "Costco:  chi-2 stat: 27.083999999999996 p-value: 0.10271165509249257 NOT SIGNIFICANT\n",
      "Delta Airlines:  chi-2 stat: 20.302202202202203 p-value: 0.37660359954761674 NOT SIGNIFICANT\n",
      "Enterprise Products:  chi-2 stat: 14.94484484484485 p-value: 0.7260963655038657 NOT SIGNIFICANT\n",
      "Exelon:  chi-2 stat: 22.351548451548453 p-value: 0.26711113733060476 NOT SIGNIFICANT\n",
      "Exxon Mobil:  chi-2 stat: 11.976 p-value: 0.8866486233484326 NOT SIGNIFICANT\n",
      "Facebook:  chi-2 stat: 16.742115768463073 p-value: 0.6073339613367452 NOT SIGNIFICANT\n",
      "Fannie Mae:  chi-2 stat: 14.961676646706588 p-value: 0.7250299452902651 NOT SIGNIFICANT\n",
      "Fedex:  chi-2 stat: 22.380000000000003 p-value: 0.2657543705411639 NOT SIGNIFICANT\n",
      "Ford:  chi-2 stat: 8.695185556670008 p-value: 0.9782064975905218 NOT SIGNIFICANT\n",
      "General Dynamics:  chi-2 stat: 17.772 p-value: 0.5377132079873805 NOT SIGNIFICANT\n",
      "General Electric:  chi-2 stat: 9.448702594810376 p-value: 0.9652615910100435 NOT SIGNIFICANT\n",
      "General Motors:  chi-2 stat: 11.040000000000001 p-value: 0.9224856163929367 NOT SIGNIFICANT\n",
      "Goldman Sachs:  chi-2 stat: 21.235135135135135 p-value: 0.3239550899921317 NOT SIGNIFICANT\n",
      "Google:  chi-2 stat: 16.001901901901892 p-value: 0.6571510966155223 NOT SIGNIFICANT\n",
      "HCA Healthcare:  chi-2 stat: 12.87334669338677 p-value: 0.8449911277211467 NOT SIGNIFICANT\n",
      "HP:  chi-2 stat: 13.756000000000002 p-value: 0.7977248457261411 NOT SIGNIFICANT\n",
      "Home Depot:  chi-2 stat: 22.930969030969035 p-value: 0.24039599876918116 NOT SIGNIFICANT\n",
      "Humana:  chi-2 stat: 9.524000000000003 p-value: 0.9637276923528328 NOT SIGNIFICANT\n",
      "Intel:  chi-2 stat: 8.4124248496994 p-value: 0.9820182521364638 NOT SIGNIFICANT\n",
      "JP Morgan:  chi-2 stat: 8.954854854854855 p-value: 0.9742217031540037 NOT SIGNIFICANT\n",
      "John Deere:  chi-2 stat: 10.939999999999996 p-value: 0.9258401723525926 NOT SIGNIFICANT\n",
      "Kroger:  chi-2 stat: 32.922822822822816 p-value: 0.02453751740129078\n",
      "Liberty Mutual:  chi-2 stat: 9.939720558882234 p-value: 0.9544171044703783 NOT SIGNIFICANT\n",
      "Lockheed Martin:  chi-2 stat: 13.935964035964039 p-value: 0.787411381261848 NOT SIGNIFICANT\n",
      "Lowe's:  chi-2 stat: 17.316000000000003 p-value: 0.5684689309919259 NOT SIGNIFICANT\n",
      "McKesson:  chi-2 stat: 9.356543456543456 p-value: 0.9670771644207793 NOT SIGNIFICANT\n",
      "Merck:  chi-2 stat: 12.730630630630628 p-value: 0.8520707061388133 NOT SIGNIFICANT\n",
      "Microsoft:  chi-2 stat: 10.884 p-value: 0.9276786856500225 NOT SIGNIFICANT\n",
      "Morgan Stanley:  chi-2 stat: 8.12177822177822 p-value: 0.9854030134938883 NOT SIGNIFICANT\n",
      "Nationwide:  chi-2 stat: 9.383999999999999 p-value: 0.9665433211614306 NOT SIGNIFICANT\n",
      "New York Life Insurance:  chi-2 stat: 19.27062937062937 p-value: 0.4396026762560049 NOT SIGNIFICANT\n",
      "Nike:  chi-2 stat: 16.663999999999998 p-value: 0.6126193915238086 NOT SIGNIFICANT\n",
      "PepsiCo:  chi-2 stat: 18.476000000000003 p-value: 0.49088213521877777 NOT SIGNIFICANT\n",
      "Pfizer:  chi-2 stat: 10.191217564870259 p-value: 0.9480700100544062 NOT SIGNIFICANT\n",
      "Phillips 66:  chi-2 stat: 10.399500499500496 p-value: 0.9423929967091953 NOT SIGNIFICANT\n",
      "Proctor & Gamble:  chi-2 stat: 17.159059059059057 p-value: 0.5790927651212383 NOT SIGNIFICANT\n",
      "Progressive:  chi-2 stat: 15.004904904904906 p-value: 0.7222855310564577 NOT SIGNIFICANT\n",
      "Prudential:  chi-2 stat: 14.616 p-value: 0.7466712886389435 NOT SIGNIFICANT\n",
      "Publix:  chi-2 stat: 32.874476570289126 p-value: 0.024853839548984086\n",
      "Sysco:  chi-2 stat: 15.046853146853143 p-value: 0.7196148279174064 NOT SIGNIFICANT\n",
      "Tech Data:  chi-2 stat: 20.15774225774226 p-value: 0.38514288100346467 NOT SIGNIFICANT\n",
      "UPS:  chi-2 stat: 30.239121756487034 p-value: 0.04883298315818008\n",
      "United Technologies:  chi-2 stat: 11.165065065065066 p-value: 0.9181610590903337 NOT SIGNIFICANT\n",
      "Verizon Wireless:  chi-2 stat: 9.244000000000003 p-value: 0.9692034598858051 NOT SIGNIFICANT\n",
      "Walgreens:  chi-2 stat: 25.38 p-value: 0.1484105649330355 NOT SIGNIFICANT\n",
      "Walmart:  chi-2 stat: 24.86933867735471 p-value: 0.16488821162870856 NOT SIGNIFICANT\n",
      "Walt Disney:  chi-2 stat: 16.727999999999998 p-value: 0.6082893193923311 NOT SIGNIFICANT\n",
      "Wells Fargo:  chi-2 stat: 15.790109890109884 p-value: 0.6712329428089432 NOT SIGNIFICANT\n"
     ]
    }
   ],
   "source": [
    "# chi-2 test to test if topic distributions within a single company are equally distributed ~6.67. \n",
    "# H0: all topics have the same distribution within that company.\n",
    "# from scipy.stats import chisquare\n",
    "for i in range(0,len(dist_cons.index)):\n",
    "    test_result = chisquare(dist_cons.iloc[i])\n",
    "    if test_result[1] > 0.05:\n",
    "        print(f'{dist_cons.index[i]}: ', f'chi-2 stat: {test_result[0]}', f'p-value: {test_result[1]}', 'NOT SIGNIFICANT')\n",
    "    else:\n",
    "        print(f'{dist_cons.index[i]}: ', f'chi-2 stat: {test_result[0]}', f'p-value: {test_result[1]}')"
   ]
  },
  {
   "cell_type": "markdown",
   "metadata": {},
   "source": [
    "### Detecting Outlier Companies within each Topic (Cons)\n",
    "\n",
    "Repeating the above steps, but for the Cons section of all reviews"
   ]
  },
  {
   "cell_type": "code",
   "execution_count": 137,
   "metadata": {
    "scrolled": false
   },
   "outputs": [
    {
     "name": "stdout",
     "output_type": "stream",
     "text": [
      "topic_0:  Series([], Name: topic_cons_0, dtype: float64) \n",
      "\n",
      "topic_1:  Series([], Name: topic_cons_1, dtype: float64) \n",
      "\n",
      "topic_2:  company\n",
      "Apple       5.8\n",
      "Nike        5.3\n",
      "Facebook    4.8\n",
      "Best Buy    4.8\n",
      "Name: topic_cons_2, dtype: float64 \n",
      "\n",
      "topic_3:  company\n",
      "Google            9.2\n",
      "John Deere        7.6\n",
      "Delta Airlines    7.5\n",
      "Nike              7.4\n",
      "HP                7.4\n",
      "Facebook          7.3\n",
      "Costco            7.2\n",
      "Apple             6.9\n",
      "Name: topic_cons_3, dtype: float64 \n",
      "\n",
      "topic_4:  company\n",
      "Wells Fargo                9.5\n",
      "New York Life Insurance    7.3\n",
      "Best Buy                   6.4\n",
      "Comcast                    6.1\n",
      "AT&T                       5.6\n",
      "Verizon Wireless           5.5\n",
      "Bank of America            5.5\n",
      "Sysco                      4.8\n",
      "Progressive                4.2\n",
      "Name: topic_cons_4, dtype: float64 \n",
      "\n",
      "topic_5:  company\n",
      "Microsoft      4.0\n",
      "Phillips 66    3.9\n",
      "Facebook       3.9\n",
      "Name: topic_cons_5, dtype: float64 \n",
      "\n",
      "topic_6:  company\n",
      "Exelon              6.7\n",
      "American Express    4.0\n",
      "Name: topic_cons_6, dtype: float64 \n",
      "\n",
      "topic_7:  company\n",
      "Enterprise Products    7.5\n",
      "Name: topic_cons_7, dtype: float64 \n",
      "\n",
      "topic_8:  company\n",
      "Fannie Mae    9.0\n",
      "Centene       9.0\n",
      "AIG           8.9\n",
      "Name: topic_cons_8, dtype: float64 \n",
      "\n",
      "topic_9:  company\n",
      "Proctor & Gamble    10.6\n",
      "Name: topic_cons_9, dtype: float64 \n",
      "\n",
      "topic_10:  company\n",
      "Goldman Sachs    8.5\n",
      "Apple            7.0\n",
      "AbbVie           6.7\n",
      "PepsiCo          6.6\n",
      "Name: topic_cons_10, dtype: float64 \n",
      "\n",
      "topic_11:  company\n",
      "Exxon Mobil    5.9\n",
      "Name: topic_cons_11, dtype: float64 \n",
      "\n",
      "topic_12:  company\n",
      "Centene    6.8\n",
      "Name: topic_cons_12, dtype: float64 \n",
      "\n",
      "topic_13:  company\n",
      "AIG               7.7\n",
      "Pfizer            7.1\n",
      "Merck             7.1\n",
      "Caterpillar       7.0\n",
      "Cisco             6.6\n",
      "AT&T              6.6\n",
      "Humana            6.5\n",
      "Liberty Mutual    6.0\n",
      "Name: topic_cons_13, dtype: float64 \n",
      "\n",
      "topic_14:  company\n",
      "General Dynamics    8.3\n",
      "HCA Healthcare      7.4\n",
      "Cigna               7.2\n",
      "Humana              7.1\n",
      "Name: topic_cons_14, dtype: float64 \n",
      "\n",
      "topic_15:  company\n",
      "Microsoft    4.6\n",
      "AbbVie       4.5\n",
      "Google       4.4\n",
      "Ford         4.3\n",
      "Name: topic_cons_15, dtype: float64 \n",
      "\n",
      "topic_16:  company\n",
      "Caterpillar    10.0\n",
      "Name: topic_cons_16, dtype: float64 \n",
      "\n",
      "topic_17:  company\n",
      "Tech Data    12.1\n",
      "HP           10.5\n",
      "Kroger        9.5\n",
      "Name: topic_cons_17, dtype: float64 \n",
      "\n",
      "topic_18:  company\n",
      "CVS Health     7.8\n",
      "Progressive    7.0\n",
      "Apple          6.3\n",
      "Name: topic_cons_18, dtype: float64 \n",
      "\n",
      "topic_19:  company\n",
      "Publix            10.1\n",
      "Delta Airlines     9.2\n",
      "Costco             8.7\n",
      "UPS                8.6\n",
      "Apple              8.5\n",
      "Nike               8.4\n",
      "Google             8.4\n",
      "Name: topic_cons_19, dtype: float64 \n",
      "\n"
     ]
    }
   ],
   "source": [
    "for i in range(0,20):\n",
    "    s = dist_cons[f'topic_cons_{i}']\n",
    "    IQR = iqr(dist_cons[f'topic_cons_{i}'])\n",
    "    below = s[s<(s.quantile(.25)-IQR)].sort_values(ascending=True)\n",
    "    above = s[s>(s.quantile(.75)+IQR)].sort_values(ascending=False)\n",
    "    print(f'topic_{i}: ', above, '\\n')"
   ]
  },
  {
   "cell_type": "markdown",
   "metadata": {},
   "source": [
    "## Now, for the Not-so-hot Companies:\n",
    "![Alt Text](https://78.media.tumblr.com/6126546b01dc449a24a5b416c0af8095/tumblr_ojibj1DBcm1vjgjw1o7_400.gif)\n",
    "\n",
    "- **Long work hours, weekend shifts:**\n",
    "    - None\n",
    "- **\"No cons\":**\n",
    "    - Google, John Deere, Delta, Nike, HP, Facebook, Costco, Apple\n",
    "- **Unrealistic sales goals. Lofty expectations:**\n",
    "    - Wells Fargo, New York Life Insurance, Best Buy, Comcast, AT&T, Verizon Wireless, Bank of America, Sysco, Progressive\n",
    "- **Incompetent managers, focused on metrics:**\n",
    "    - Microsoft, Phillips 66, Facebook\n",
    "- **Office politics, red tape, a lot of \"manager influence\":**\n",
    "    - Exelon, American Express\n",
    "- **Not treated well or respected:**\n",
    "    - Enterprise Products\n",
    "- **Lack of leadership, poor management, limited communication:**\n",
    "    - Fannie Mae, Centene, AIG\n",
    "- **Bureaucratic, big company, hierarchy, protocols. \"small fish in a big pond.\":**\n",
    "    - Procter & Gamble\n",
    "- **Limited work life balance, opportunities for advancement/growth:**\n",
    "    - Goldman Sachs, Apple, AbbVie, PepsiCo\n",
    "- **Too many processes, procedures, meetings. Too formalized:**\n",
    "    - Exxon Mobil\n",
    "- **Lack of development path, training, support:**\n",
    "    - Centene\n",
    "- **Frequent change and layoffs:**\n",
    "    - AIG, Pfizer, Merck, Caterpillar, Cisco, AT&T, Humana, Liberty Mutual\n",
    "- **Lack of care for employees from upper management:**\n",
    "    - General Dynamics, HCA Healthcare, Cigna, Humana\n",
    "- **Difficult scheduling, including working outside:**\n",
    "    - Microsoft, AbbVie, Google, Ford\n",
    "- **Low salary, limited benefits, lack of promotion:**\n",
    "    - Tech Data, HP, Kroger\n",
    "- **High stress, micromanagement, turnover:**\n",
    "    - CVS Health, Progressive, Apple\n",
    "- **Hard to advance from a lower level position, especially from part time to full time:**\n",
    "    - Publix, Delta, Costco, UPS, Apple, Nike, Google"
   ]
  },
  {
   "cell_type": "markdown",
   "metadata": {},
   "source": [
    "### What stands out here?\n",
    "Nothing here seems immediately obvious. Some interesting findings include Procter & Gamble being a **bureaucratic, hierarchical, big company** and Centene having a **lack of a development path, training, and support.** \n",
    "\n",
    "A interesting and telling category is the **lack of leadership, poor management, and limited communication.** This seems like a category that would play an influential role in determining company-fit for job seekers. The companies falling in that category are: Fannie Mae, Centene, and AIG. \n",
    "\n",
    "Lastly, it's interesting that CVS Health, Progressive, and Apple are outliers in the category of **high stress, micromanagement, turnover.** Upon closer inspection, it seems that \"customers\" are a frequent mention in reviews that are rated high in this category, mostly in the form of \"working with customers\" or \"dealing with customers.\" So it's likely that this category captures a lot of customer-service employees."
   ]
  },
  {
   "cell_type": "markdown",
   "metadata": {},
   "source": [
    "## LDA Topic Modeling Conclusions\n",
    "- It's important to remember that while the generated topics are pretty informative and well segmented, they are still not _perfect_. \n",
    "- There are still some categories that overlap with each other and some categories that contain multiple topics (i.e. benefits, work life balance, people & culture).\n",
    "- When calculating outlier companies, it's also important to realize that this is a relative measure and not an absolute measure. We are only comparing the Fortune 100 companies to each other, and not objectively as a whole. \n",
    "- For example, it's possible that all companies objectively offer great benefits, but we are only looking at companies where that was mentioned significantly more in the reviews compared to others.\n",
    "- As a continuation of the last point, these outliers are entirely based on the frequency of topic mentions in reviews. In other words, the average distribution of topics for a given company are all interdependent and correlated with each other. \n",
    "- For example, if the _only_ benefit employees liked about a company was its training programs, it would undoubtedly be an outlier in that category. That does not objectively mean that its training programs are the best - it just means that employees mentioned it more frequently than other topics."
   ]
  }
 ],
 "metadata": {
  "kernelspec": {
   "display_name": "Python 3",
   "language": "python",
   "name": "python3"
  },
  "language_info": {
   "codemirror_mode": {
    "name": "ipython",
    "version": 3
   },
   "file_extension": ".py",
   "mimetype": "text/x-python",
   "name": "python",
   "nbconvert_exporter": "python",
   "pygments_lexer": "ipython3",
   "version": "3.6.9"
  }
 },
 "nbformat": 4,
 "nbformat_minor": 2
}
