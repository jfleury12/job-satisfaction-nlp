{
 "cells": [
  {
   "cell_type": "code",
   "execution_count": 3,
   "metadata": {},
   "outputs": [],
   "source": [
    "import pandas as pd\n",
    "import re\n",
    "import nltk\n",
    "import glob\n",
    "from gensim import corpora\n",
    "from gensim.models.doc2vec import Doc2Vec, TaggedDocument\n",
    "from gensim.models.ldamodel import LdaModel\n",
    "pd.set_option('display.max_rows', None)"
   ]
  },
  {
   "cell_type": "markdown",
   "metadata": {},
   "source": [
    "## Read in Company Values Data"
   ]
  },
  {
   "cell_type": "markdown",
   "metadata": {},
   "source": [
    "### Text Preprocessing Functions:"
   ]
  },
  {
   "cell_type": "code",
   "execution_count": 4,
   "metadata": {},
   "outputs": [],
   "source": [
    "# Regex and tokenizing text:\n",
    "# takes text, removes special characters and punctuation \n",
    "# and returns a list of lower-cased tokenized words\n",
    "def tokenize_sentences(text):\n",
    "    pattern = \"([a-zA-Z]+(?:'[a-z]+)?)\" \n",
    "    raw_tokens = nltk.regexp_tokenize(text, pattern)\n",
    "    return [token.lower() for token in raw_tokens]\n",
    "\n",
    "# Removing stopwords:\n",
    "# removes stopwords from pre-tokenized list of words\n",
    "def remove_stopwords(token_list, custom_words= []):\n",
    "    return [word for word in token_list if word not in stopwords.words('english')+custom_words]"
   ]
  },
  {
   "cell_type": "markdown",
   "metadata": {},
   "source": [
    "Read in text files"
   ]
  },
  {
   "cell_type": "code",
   "execution_count": 5,
   "metadata": {},
   "outputs": [],
   "source": [
    "# read in all .txt files in our company_pages folder\n",
    "path = '../data/company_pages'\n",
    "files = [f for f in glob.glob(path + \"**/*.txt\", recursive=True)]"
   ]
  },
  {
   "cell_type": "code",
   "execution_count": 6,
   "metadata": {},
   "outputs": [
    {
     "data": {
      "text/html": [
       "<div>\n",
       "<style scoped>\n",
       "    .dataframe tbody tr th:only-of-type {\n",
       "        vertical-align: middle;\n",
       "    }\n",
       "\n",
       "    .dataframe tbody tr th {\n",
       "        vertical-align: top;\n",
       "    }\n",
       "\n",
       "    .dataframe thead th {\n",
       "        text-align: right;\n",
       "    }\n",
       "</style>\n",
       "<table border=\"1\" class=\"dataframe\">\n",
       "  <thead>\n",
       "    <tr style=\"text-align: right;\">\n",
       "      <th></th>\n",
       "      <th>company</th>\n",
       "      <th>company_values</th>\n",
       "    </tr>\n",
       "  </thead>\n",
       "  <tbody>\n",
       "    <tr>\n",
       "      <td>0</td>\n",
       "      <td>metlife</td>\n",
       "      <td>Caring for and respecting customers is core to...</td>\n",
       "    </tr>\n",
       "    <tr>\n",
       "      <td>1</td>\n",
       "      <td>dell</td>\n",
       "      <td>Customers: We believe our customer relationshi...</td>\n",
       "    </tr>\n",
       "    <tr>\n",
       "      <td>2</td>\n",
       "      <td>johnsonjohnson</td>\n",
       "      <td>We believe our first responsibility is to the ...</td>\n",
       "    </tr>\n",
       "    <tr>\n",
       "      <td>3</td>\n",
       "      <td>lowes</td>\n",
       "      <td>Lowe’s Vision: We will provide customer-valued...</td>\n",
       "    </tr>\n",
       "    <tr>\n",
       "      <td>4</td>\n",
       "      <td>fedex</td>\n",
       "      <td>FedEx Corporation will produce superior financ...</td>\n",
       "    </tr>\n",
       "  </tbody>\n",
       "</table>\n",
       "</div>"
      ],
      "text/plain": [
       "          company                                     company_values\n",
       "0         metlife  Caring for and respecting customers is core to...\n",
       "1            dell  Customers: We believe our customer relationshi...\n",
       "2  johnsonjohnson  We believe our first responsibility is to the ...\n",
       "3           lowes  Lowe’s Vision: We will provide customer-valued...\n",
       "4           fedex  FedEx Corporation will produce superior financ..."
      ]
     },
     "execution_count": 6,
     "metadata": {},
     "output_type": "execute_result"
    }
   ],
   "source": [
    "# Create a dataframe\n",
    "\n",
    "# list of text\n",
    "li = [open(f).read() for f in files]\n",
    "# list of company names using the text file name\n",
    "companies = [f.split('/')[-1][:-4] for f in files]\n",
    "\n",
    "all_values = pd.DataFrame({'company':companies, 'company_values':li})\n",
    "all_values.head()"
   ]
  },
  {
   "cell_type": "markdown",
   "metadata": {},
   "source": [
    "### Clean the values data by removing special characters, line endings, and converting to lower case"
   ]
  },
  {
   "cell_type": "code",
   "execution_count": 7,
   "metadata": {},
   "outputs": [
    {
     "data": {
      "text/plain": [
       "'caring for and respecting customers is core to everything we do. it defines our work and shapes the culture for our people radiating out to our shareholders and communities. the financial security that metlife offers enables people to achieve more of what they want. our work makes a real difference in peoples lives  and uniting behind our values allows us to better fulfill our promises and helps us navigate life together. our values provide employees and distribution partners with a shared foundation for daytoday decision making and guide us as one metlife. put customers first caring for and respecting customers is core to everything we do. our customer focus defines our work shapes our culture and radiates out to our shareholders and communities. be the best we are relentless in our search for new and better ways of doing things. as a leader in our industry we constantly raise the bar take calculated risks and learn quickly from our mistakes. make things easier products in our industry arent always easy to understand. thats why we are always looking for simpler ways to connect our customers to the best solutions. by doing this we aim to exceed their expectations and build trust. succeed together united by our purpose we live by a collective commitment to honesty integrity and diversity. we are open and inclusive proudly seeking and applying the best ideas from every part of our company. diversity  inclusion our success as a company begins with our employees and partners. thats why we strive to develop a workplace and culture where they are engaged motivated and inspired. we work to help our employees and partners grow and thrive through our culture of wellness diversity and inclusion. at metlife we have policies processes and practices in place so the best talent no matter their gender identification their ethnic background or sexual orientation want to join us and contribute to the success of this company. fresh perspectives. strategic thinking. innovative problemsolving. diverse competencies. were building a stronger and more agile company that can thrive in a variety of environments. we are transforming metlife and embracing new opportunities that build on our expertise in asset management employee benefits and financial protection. we are investing in innovation partnering with startups digitizing our business and equipping ourselves to compete in a changing world. at metlife we are working hard to build a more protected world.'"
      ]
     },
     "execution_count": 7,
     "metadata": {},
     "output_type": "execute_result"
    }
   ],
   "source": [
    "# Getting rid of spaces and line endings, convering to lower case\n",
    "all_values.company_values = all_values.company_values.map(lambda x: re.sub('\\s+', ' ', x.lower()))\n",
    "# Getting rid of special characters\n",
    "all_values.company_values = all_values.company_values.map(lambda x: re.sub('[^a-zA-Z0-9 \\n\\.]', '', x))\n",
    "\n",
    "all_values.company_values[0]"
   ]
  },
  {
   "cell_type": "markdown",
   "metadata": {},
   "source": [
    "## LDA Topic Modeling:"
   ]
  },
  {
   "cell_type": "code",
   "execution_count": 11,
   "metadata": {},
   "outputs": [],
   "source": [
    "from gensim.corpora.dictionary import Dictionary\n",
    "from nltk.corpus import stopwords"
   ]
  },
  {
   "cell_type": "code",
   "execution_count": 12,
   "metadata": {},
   "outputs": [],
   "source": [
    "# list of company_values\n",
    "values_list = all_values.company_values.values.tolist()\n",
    "# list of tokens list\n",
    "values_tokens = [tokenize_sentences(value) for value in values_list]\n",
    "# remove stopwords from each tokens list\n",
    "values_tokens = [remove_stopwords(value, custom_words = all_values.company.values.tolist()+['fannie', 'work', 'business', 'company', 'customers', 'home', 'depot', 'ge', 'employees', 'people']) for value in values_tokens]  "
   ]
  },
  {
   "cell_type": "code",
   "execution_count": 178,
   "metadata": {},
   "outputs": [],
   "source": [
    "common_dictionary = Dictionary(values_tokens)\n",
    "common_corpus = [common_dictionary.doc2bow(text) for text in values_tokens]\n",
    "lda_values = LdaModel(common_corpus, id2word = common_dictionary, num_topics=7, passes=10, random_state=25)"
   ]
  },
  {
   "cell_type": "code",
   "execution_count": 179,
   "metadata": {},
   "outputs": [
    {
     "data": {
      "text/plain": [
       "[(0,\n",
       "  '0.006*\"believe\" + 0.006*\"technology\" + 0.004*\"every\" + 0.004*\"value\" + 0.004*\"diversity\" + 0.004*\"innovation\" + 0.004*\"diverse\" + 0.004*\"respect\" + 0.004*\"integrity\" + 0.004*\"others\"'),\n",
       " (1,\n",
       "  '0.011*\"us\" + 0.009*\"communities\" + 0.007*\"every\" + 0.007*\"world\" + 0.007*\"trust\" + 0.007*\"make\" + 0.006*\"relationships\" + 0.006*\"associates\" + 0.006*\"experiences\" + 0.006*\"improve\"'),\n",
       " (2,\n",
       "  '0.017*\"leaders\" + 0.008*\"value\" + 0.006*\"best\" + 0.006*\"teams\" + 0.005*\"trust\" + 0.005*\"others\" + 0.005*\"improve\" + 0.005*\"develop\" + 0.004*\"new\" + 0.004*\"diverse\"'),\n",
       " (3,\n",
       "  '0.010*\"communities\" + 0.008*\"success\" + 0.008*\"health\" + 0.008*\"best\" + 0.007*\"better\" + 0.006*\"diversity\" + 0.006*\"excellence\" + 0.006*\"values\" + 0.005*\"integrity\" + 0.005*\"us\"'),\n",
       " (4,\n",
       "  '0.018*\"must\" + 0.008*\"help\" + 0.007*\"communities\" + 0.007*\"believe\" + 0.006*\"health\" + 0.006*\"make\" + 0.006*\"environment\" + 0.006*\"new\" + 0.006*\"diversity\" + 0.005*\"relationships\"'),\n",
       " (5,\n",
       "  '0.006*\"right\" + 0.006*\"value\" + 0.006*\"communities\" + 0.006*\"products\" + 0.006*\"every\" + 0.006*\"world\" + 0.005*\"services\" + 0.005*\"integrity\" + 0.005*\"strive\" + 0.005*\"respect\"'),\n",
       " (6,\n",
       "  '0.012*\"conduct\" + 0.009*\"every\" + 0.009*\"culture\" + 0.008*\"code\" + 0.007*\"compliance\" + 0.007*\"environment\" + 0.006*\"values\" + 0.006*\"us\" + 0.006*\"commitment\" + 0.005*\"respect\"')]"
      ]
     },
     "execution_count": 179,
     "metadata": {},
     "output_type": "execute_result"
    }
   ],
   "source": [
    "doc_topics = list(lda_values.get_document_topics(common_corpus))\n",
    "\n",
    "# Examine topic clusters\n",
    "\n",
    "lda_values.show_topics(num_topics = 7, num_words = 10) # remove index to show all topics"
   ]
  },
  {
   "cell_type": "markdown",
   "metadata": {},
   "source": [
    "## NMF Modeling:"
   ]
  },
  {
   "cell_type": "code",
   "execution_count": 76,
   "metadata": {},
   "outputs": [],
   "source": [
    "from sklearn.feature_extraction.text import CountVectorizer, TfidfTransformer\n",
    "from sklearn.decomposition import NMF\n",
    "from sklearn.preprocessing import normalize\n",
    "\n",
    "# converting back to list of company_values text without stopwords\n",
    "\n",
    "sentences = []\n",
    "for value in values_tokens:\n",
    "    sentences.append(' '.join(token for token in value))\n",
    "\n",
    "vectorizer = CountVectorizer(analyzer = \"word\", max_features = 10_000)\n",
    "\n",
    "word_counts = vectorizer.fit_transform(sentences)\n",
    "\n",
    "tfidf_transform = TfidfTransformer(smooth_idf = False)\n",
    "\n",
    "words_tfidf = tfidf_transform.fit_transform(word_counts)\n",
    "\n",
    "# final_words = normalize(words_tfidf, norm = 'l1')"
   ]
  },
  {
   "cell_type": "code",
   "execution_count": 79,
   "metadata": {},
   "outputs": [
    {
     "data": {
      "text/html": [
       "<div>\n",
       "<style scoped>\n",
       "    .dataframe tbody tr th:only-of-type {\n",
       "        vertical-align: middle;\n",
       "    }\n",
       "\n",
       "    .dataframe tbody tr th {\n",
       "        vertical-align: top;\n",
       "    }\n",
       "\n",
       "    .dataframe thead th {\n",
       "        text-align: right;\n",
       "    }\n",
       "</style>\n",
       "<table border=\"1\" class=\"dataframe\">\n",
       "  <thead>\n",
       "    <tr style=\"text-align: right;\">\n",
       "      <th></th>\n",
       "      <th>0</th>\n",
       "      <th>1</th>\n",
       "      <th>2</th>\n",
       "      <th>3</th>\n",
       "      <th>4</th>\n",
       "      <th>5</th>\n",
       "      <th>6</th>\n",
       "      <th>7</th>\n",
       "      <th>8</th>\n",
       "      <th>9</th>\n",
       "      <th>10</th>\n",
       "      <th>11</th>\n",
       "    </tr>\n",
       "  </thead>\n",
       "  <tbody>\n",
       "    <tr>\n",
       "      <td>0</td>\n",
       "      <td>Topic</td>\n",
       "      <td>#0:</td>\n",
       "      <td>bring</td>\n",
       "      <td>communities</td>\n",
       "      <td>right</td>\n",
       "      <td>culture</td>\n",
       "      <td>looking</td>\n",
       "      <td>cardinal</td>\n",
       "      <td>genuine</td>\n",
       "      <td>competitive</td>\n",
       "      <td>create</td>\n",
       "      <td>drive</td>\n",
       "    </tr>\n",
       "    <tr>\n",
       "      <td>1</td>\n",
       "      <td>Topic</td>\n",
       "      <td>#1:</td>\n",
       "      <td>employees</td>\n",
       "      <td>conduct</td>\n",
       "      <td>code</td>\n",
       "      <td>compliance</td>\n",
       "      <td>ethics</td>\n",
       "      <td>culture</td>\n",
       "      <td>concerns</td>\n",
       "      <td>policies</td>\n",
       "      <td>mae</td>\n",
       "      <td>maes</td>\n",
       "    </tr>\n",
       "    <tr>\n",
       "      <td>2</td>\n",
       "      <td>Topic</td>\n",
       "      <td>#2:</td>\n",
       "      <td>safety</td>\n",
       "      <td>highest</td>\n",
       "      <td>team</td>\n",
       "      <td>diversity</td>\n",
       "      <td>honor</td>\n",
       "      <td>protect</td>\n",
       "      <td>values</td>\n",
       "      <td>members</td>\n",
       "      <td>communities</td>\n",
       "      <td>people</td>\n",
       "    </tr>\n",
       "    <tr>\n",
       "      <td>3</td>\n",
       "      <td>Topic</td>\n",
       "      <td>#3:</td>\n",
       "      <td>associates</td>\n",
       "      <td>healthcare</td>\n",
       "      <td>vendors</td>\n",
       "      <td>consumers</td>\n",
       "      <td>expect</td>\n",
       "      <td>improving</td>\n",
       "      <td>anthems</td>\n",
       "      <td>involvement</td>\n",
       "      <td>thing</td>\n",
       "      <td>value</td>\n",
       "    </tr>\n",
       "    <tr>\n",
       "      <td>4</td>\n",
       "      <td>Topic</td>\n",
       "      <td>#4:</td>\n",
       "      <td>must</td>\n",
       "      <td>health</td>\n",
       "      <td>care</td>\n",
       "      <td>better</td>\n",
       "      <td>help</td>\n",
       "      <td>people</td>\n",
       "      <td>make</td>\n",
       "      <td>behave</td>\n",
       "      <td>path</td>\n",
       "      <td>enterprise</td>\n",
       "    </tr>\n",
       "    <tr>\n",
       "      <td>5</td>\n",
       "      <td>Topic</td>\n",
       "      <td>#5:</td>\n",
       "      <td>technology</td>\n",
       "      <td>believe</td>\n",
       "      <td>everyone</td>\n",
       "      <td>environmental</td>\n",
       "      <td>computing</td>\n",
       "      <td>ai</td>\n",
       "      <td>products</td>\n",
       "      <td>trustworthy</td>\n",
       "      <td>innovation</td>\n",
       "      <td>force</td>\n",
       "    </tr>\n",
       "    <tr>\n",
       "      <td>6</td>\n",
       "      <td>Topic</td>\n",
       "      <td>#6:</td>\n",
       "      <td>leaders</td>\n",
       "      <td>youre</td>\n",
       "      <td>teams</td>\n",
       "      <td>team</td>\n",
       "      <td>career</td>\n",
       "      <td>fun</td>\n",
       "      <td>clients</td>\n",
       "      <td>make</td>\n",
       "      <td>learning</td>\n",
       "      <td>ideas</td>\n",
       "    </tr>\n",
       "    <tr>\n",
       "      <td>7</td>\n",
       "      <td>Topic</td>\n",
       "      <td>#7:</td>\n",
       "      <td>financial</td>\n",
       "      <td>leader</td>\n",
       "      <td>talent</td>\n",
       "      <td>industry</td>\n",
       "      <td>employees</td>\n",
       "      <td>state</td>\n",
       "      <td>farm</td>\n",
       "      <td>promises</td>\n",
       "      <td>freddie</td>\n",
       "      <td>best</td>\n",
       "    </tr>\n",
       "    <tr>\n",
       "      <td>8</td>\n",
       "      <td>Topic</td>\n",
       "      <td>#8:</td>\n",
       "      <td>users</td>\n",
       "      <td>crises</td>\n",
       "      <td>nutrition</td>\n",
       "      <td>worlds</td>\n",
       "      <td>advancing</td>\n",
       "      <td>smart</td>\n",
       "      <td>chain</td>\n",
       "      <td>supply</td>\n",
       "      <td>sustainability</td>\n",
       "      <td>earths</td>\n",
       "    </tr>\n",
       "    <tr>\n",
       "      <td>9</td>\n",
       "      <td>Topic</td>\n",
       "      <td>#9:</td>\n",
       "      <td>world</td>\n",
       "      <td>dedication</td>\n",
       "      <td>passion</td>\n",
       "      <td>relationships</td>\n",
       "      <td>inspire</td>\n",
       "      <td>people</td>\n",
       "      <td>success</td>\n",
       "      <td>innovation</td>\n",
       "      <td>driven</td>\n",
       "      <td>around</td>\n",
       "    </tr>\n",
       "  </tbody>\n",
       "</table>\n",
       "</div>"
      ],
      "text/plain": [
       "       0    1           2            3          4              5          6  \\\n",
       "0  Topic  #0:       bring  communities      right        culture    looking   \n",
       "1  Topic  #1:   employees      conduct       code     compliance     ethics   \n",
       "2  Topic  #2:      safety      highest       team      diversity      honor   \n",
       "3  Topic  #3:  associates   healthcare    vendors      consumers     expect   \n",
       "4  Topic  #4:        must       health       care         better       help   \n",
       "5  Topic  #5:  technology      believe   everyone  environmental  computing   \n",
       "6  Topic  #6:     leaders        youre      teams           team     career   \n",
       "7  Topic  #7:   financial       leader     talent       industry  employees   \n",
       "8  Topic  #8:       users       crises  nutrition         worlds  advancing   \n",
       "9  Topic  #9:       world   dedication    passion  relationships    inspire   \n",
       "\n",
       "           7         8            9              10          11  \n",
       "0   cardinal   genuine  competitive          create       drive  \n",
       "1    culture  concerns     policies             mae        maes  \n",
       "2    protect    values      members     communities      people  \n",
       "3  improving   anthems  involvement           thing       value  \n",
       "4     people      make       behave            path  enterprise  \n",
       "5         ai  products  trustworthy      innovation       force  \n",
       "6        fun   clients         make        learning       ideas  \n",
       "7      state      farm     promises         freddie        best  \n",
       "8      smart     chain       supply  sustainability      earths  \n",
       "9     people   success   innovation          driven      around  "
      ]
     },
     "execution_count": 79,
     "metadata": {},
     "output_type": "execute_result"
    }
   ],
   "source": [
    "model = NMF(n_components = 10, init = 'nndsvd')\n",
    "\n",
    "W = model.fit_transform(words_tfidf)\n",
    "\n",
    "W.shape\n",
    "\n",
    "H = model.components_\n",
    "\n",
    "H.shape\n",
    "\n",
    "lst = []\n",
    "\n",
    "def print_top_words(model, feature_names, n_top_words):\n",
    "    for topic_idx, topic in enumerate(model.components_):\n",
    "        message = \"Topic #%d: \" % topic_idx\n",
    "        message += \" \".join([feature_names[i]\n",
    "                             for i in topic.argsort()[:-n_top_words - 1:-1]])\n",
    "        lst.append(message)\n",
    "    return lst\n",
    "\n",
    "topics_nmf = (print_top_words(model, vectorizer.get_feature_names(), 10))\n",
    "\n",
    "\n",
    "\n",
    "nmfsplit = [item.split() for item in topics_nmf]\n",
    "\n",
    "pd.DataFrame(nmfsplit)"
   ]
  },
  {
   "cell_type": "markdown",
   "metadata": {},
   "source": [
    "## Clustering using TF-IDF Vectors:"
   ]
  },
  {
   "cell_type": "code",
   "execution_count": 19,
   "metadata": {},
   "outputs": [],
   "source": [
    "import numpy as np\n",
    "import pandas as pd\n",
    "import matplotlib.pyplot as plt\n",
    "import matplotlib.cm as cm\n",
    "\n",
    "from sklearn.cluster import MiniBatchKMeans\n",
    "from sklearn.feature_extraction.text import TfidfVectorizer\n",
    "from sklearn.decomposition import PCA\n",
    "from sklearn.manifold import TSNE"
   ]
  },
  {
   "cell_type": "code",
   "execution_count": 81,
   "metadata": {},
   "outputs": [],
   "source": [
    "tfidf = TfidfVectorizer(\n",
    "    min_df = 5,\n",
    "    max_df = 0.95,\n",
    "    max_features = 8000,\n",
    "#     stop_words = (['work', 'company', 'great','good', 'benefits'] + list(stopwords.words('english')))\n",
    "    stop_words = (['fannie', 'work', 'business', 'company', 'customers', 'home', 'depot', 'ge'] + list(stopwords.words('english')))\n",
    "#     stop_words = 'english'\n",
    ")\n",
    "tfidf.fit(sentences)\n",
    "text = tfidf.transform(sentences)"
   ]
  },
  {
   "cell_type": "code",
   "execution_count": 85,
   "metadata": {},
   "outputs": [
    {
     "name": "stdout",
     "output_type": "stream",
     "text": [
      "Fit 2 clusters\n",
      "Fit 4 clusters\n",
      "Fit 6 clusters\n",
      "Fit 8 clusters\n",
      "Fit 10 clusters\n",
      "Fit 12 clusters\n",
      "Fit 14 clusters\n",
      "Fit 16 clusters\n",
      "Fit 18 clusters\n",
      "Fit 20 clusters\n",
      "Fit 22 clusters\n",
      "Fit 24 clusters\n",
      "Fit 26 clusters\n",
      "Fit 28 clusters\n",
      "Fit 30 clusters\n",
      "Fit 32 clusters\n",
      "Fit 34 clusters\n",
      "Fit 36 clusters\n",
      "Fit 38 clusters\n",
      "Fit 40 clusters\n",
      "Fit 42 clusters\n",
      "Fit 44 clusters\n",
      "Fit 46 clusters\n",
      "Fit 48 clusters\n",
      "Fit 50 clusters\n"
     ]
    },
    {
     "data": {
      "image/png": "[encoded data removed]",
      "text/plain": [
       "<Figure size 432x288 with 1 Axes>"
      ]
     },
     "metadata": {
      "needs_background": "light"
     },
     "output_type": "display_data"
    }
   ],
   "source": [
    "def find_optimal_clusters(data, max_k):\n",
    "    iters = range(2, max_k+1, 2)\n",
    "    \n",
    "    sse = []\n",
    "    for k in iters:\n",
    "        sse.append(MiniBatchKMeans(n_clusters=k, init_size=1024, batch_size=2048, random_state=20).fit(data).inertia_)\n",
    "        print('Fit {} clusters'.format(k))\n",
    "        \n",
    "    f, ax = plt.subplots(1, 1)\n",
    "    ax.plot(iters, sse, marker='o')\n",
    "    ax.set_xlabel('Cluster Centers')\n",
    "    ax.set_xticks(iters)\n",
    "    ax.set_xticklabels(iters)\n",
    "    ax.set_ylabel('SSE')\n",
    "    ax.set_title('SSE by Cluster Center Plot')\n",
    "    \n",
    "find_optimal_clusters(text, 50)"
   ]
  },
  {
   "cell_type": "code",
   "execution_count": 98,
   "metadata": {},
   "outputs": [],
   "source": [
    "clusters = MiniBatchKMeans(n_clusters=7, init_size=1024, batch_size=2048, random_state=20).fit_predict(text)"
   ]
  },
  {
   "cell_type": "code",
   "execution_count": 99,
   "metadata": {},
   "outputs": [],
   "source": [
    "def get_top_keywords(data, clusters, labels, n_terms):\n",
    "    df = pd.DataFrame(data.todense()).groupby(clusters).mean()\n",
    "    \n",
    "    for i,r in df.iterrows():\n",
    "        print('\\nCluster {}'.format(i))\n",
    "        print(','.join([labels[t] for t in np.argsort(r)[-n_terms:]]))\n",
    "        "
   ]
  },
  {
   "cell_type": "code",
   "execution_count": 100,
   "metadata": {
    "scrolled": true
   },
   "outputs": [
    {
     "name": "stdout",
     "output_type": "stream",
     "text": [
      "\n",
      "Cluster 0\n",
      "integrity,reach,giving,entrepreneurial,within,supporting,respect,culture,communities,right\n",
      "\n",
      "Cluster 1\n",
      "culture,members,every,commitment,environment,compliance,safety,code,conduct,employees\n",
      "\n",
      "Cluster 2\n",
      "one,communities,put,people,human,purpose,create,care,better,health\n",
      "\n",
      "Cluster 3\n",
      "inclusion,members,diversity,committed,promote,value,service,honesty,team,safety\n",
      "\n",
      "Cluster 4\n",
      "world,products,leaders,people,every,make,technology,believe,everyone,must\n",
      "\n",
      "Cluster 5\n",
      "relationships,employees,build,trust,communities,us,world,financial,success,people\n",
      "\n",
      "Cluster 6\n",
      "valued,place,culture,thing,improving,giving,us,corporate,care,associates\n"
     ]
    }
   ],
   "source": [
    "get_top_keywords(text, clusters, tfidf.get_feature_names(), 10)"
   ]
  },
  {
   "cell_type": "code",
   "execution_count": 94,
   "metadata": {},
   "outputs": [
    {
     "data": {
      "text/plain": [
       "(array([0, 1, 2, 3, 4, 5, 6], dtype=int32),\n",
       " array([ 1,  9,  3,  5, 12, 17,  3]))"
      ]
     },
     "execution_count": 94,
     "metadata": {},
     "output_type": "execute_result"
    }
   ],
   "source": [
    "np.unique(clusters, return_counts=True)"
   ]
  },
  {
   "cell_type": "markdown",
   "metadata": {},
   "source": [
    "## Comparison with Reviews"
   ]
  },
  {
   "cell_type": "markdown",
   "metadata": {},
   "source": [
    "-Use previous reviews LDA -> compare company X category concentrations to company X values concentrations"
   ]
  },
  {
   "cell_type": "code",
   "execution_count": 8,
   "metadata": {},
   "outputs": [],
   "source": [
    "from sklearn.feature_extraction.text import CountVectorizer, TfidfVectorizer\n",
    "from sklearn.metrics.pairwise import cosine_similarity"
   ]
  },
  {
   "cell_type": "code",
   "execution_count": null,
   "metadata": {},
   "outputs": [],
   "source": [
    "# Sample with just one company: Walgreens"
   ]
  },
  {
   "cell_type": "markdown",
   "metadata": {},
   "source": [
    "We want to compare Walgreens reviews with all company values, then with just Walgreens' values. First, prep our Values data."
   ]
  },
  {
   "cell_type": "code",
   "execution_count": 24,
   "metadata": {},
   "outputs": [
    {
     "data": {
      "text/html": [
       "<div>\n",
       "<style scoped>\n",
       "    .dataframe tbody tr th:only-of-type {\n",
       "        vertical-align: middle;\n",
       "    }\n",
       "\n",
       "    .dataframe tbody tr th {\n",
       "        vertical-align: top;\n",
       "    }\n",
       "\n",
       "    .dataframe thead th {\n",
       "        text-align: right;\n",
       "    }\n",
       "</style>\n",
       "<table border=\"1\" class=\"dataframe\">\n",
       "  <thead>\n",
       "    <tr style=\"text-align: right;\">\n",
       "      <th></th>\n",
       "      <th>company</th>\n",
       "      <th>company_values</th>\n",
       "    </tr>\n",
       "  </thead>\n",
       "  <tbody>\n",
       "    <tr>\n",
       "      <td>44</td>\n",
       "      <td>walgreens</td>\n",
       "      <td>be the first choice for pharmacy wellbeing and...</td>\n",
       "    </tr>\n",
       "  </tbody>\n",
       "</table>\n",
       "</div>"
      ],
      "text/plain": [
       "      company                                     company_values\n",
       "44  walgreens  be the first choice for pharmacy wellbeing and..."
      ]
     },
     "execution_count": 24,
     "metadata": {},
     "output_type": "execute_result"
    }
   ],
   "source": [
    "# Walgreens is index 44\n",
    "all_values.loc[all_values.company == 'walgreens']"
   ]
  },
  {
   "cell_type": "code",
   "execution_count": 25,
   "metadata": {},
   "outputs": [],
   "source": [
    "values_text = []\n",
    "for value in values_tokens:\n",
    "    values_text.append(' '.join(token for token in value))\n",
    "    \n",
    "# take out stop words\n",
    "tfidf = TfidfVectorizer(stop_words= list(stopwords.words('english'))+ ['fannie', 'work', 'business', 'company', 'customers', 'home', 'depot', 'ge'])\n",
    "# fit transform the sentences\n",
    "tfidf_values = tfidf.fit_transform(values_text)"
   ]
  },
  {
   "cell_type": "code",
   "execution_count": 26,
   "metadata": {},
   "outputs": [],
   "source": [
    "# take average of values tfidf vector\n",
    "avg_values_tfidf = np.average(tfidf_values.toarray(), axis=0)"
   ]
  },
  {
   "cell_type": "code",
   "execution_count": 27,
   "metadata": {},
   "outputs": [],
   "source": [
    "# import reviews data\n",
    "all_reviews = pd.read_csv('../data/all_reviews.csv')\n",
    "walgreens = all_reviews.loc[all_reviews.company == 'Walgreens']"
   ]
  },
  {
   "cell_type": "code",
   "execution_count": 28,
   "metadata": {},
   "outputs": [],
   "source": [
    "# now let's test out our TfidfVectorizer\n",
    "pros_reviews_tfidf = tfidf.transform(walgreens.pros.values.tolist())\n",
    "cons_reviews_tfidf = tfidf.transform(walgreens.cons.values.tolist())"
   ]
  },
  {
   "cell_type": "markdown",
   "metadata": {},
   "source": [
    "Cosine Similarity between documents"
   ]
  },
  {
   "cell_type": "code",
   "execution_count": 29,
   "metadata": {},
   "outputs": [],
   "source": [
    "avg_walgreens_pros_tfidf_vector = np.average(pros_reviews_tfidf.toarray(), axis=0)\n",
    "avg_walgreens_cons_tfidf_vector = np.average(cons_reviews_tfidf.toarray(), axis=0)"
   ]
  },
  {
   "cell_type": "code",
   "execution_count": 30,
   "metadata": {},
   "outputs": [],
   "source": [
    "def cos_sim(a, b):\n",
    "    \"\"\"Takes 2 vectors a, b and returns the cosine similarity according \n",
    "    to the definition of the dot product\n",
    "    \"\"\"\n",
    "    dot_product = np.dot(a, b)\n",
    "    norm_a = np.linalg.norm(a)\n",
    "    norm_b = np.linalg.norm(b)\n",
    "    return dot_product / (norm_a * norm_b)"
   ]
  },
  {
   "cell_type": "code",
   "execution_count": 31,
   "metadata": {},
   "outputs": [
    {
     "data": {
      "text/plain": [
       "0.24641107607444976"
      ]
     },
     "execution_count": 31,
     "metadata": {},
     "output_type": "execute_result"
    }
   ],
   "source": [
    "# comparing all company values with the Pros reviews for Walgreens\n",
    "cos_sim(avg_values_tfidf, avg_walgreens_pros_tfidf_vector)"
   ]
  },
  {
   "cell_type": "code",
   "execution_count": 32,
   "metadata": {},
   "outputs": [
    {
     "data": {
      "text/plain": [
       "0.255684995599198"
      ]
     },
     "execution_count": 32,
     "metadata": {},
     "output_type": "execute_result"
    }
   ],
   "source": [
    "# comparing all company values with the Cons reviews for Walgreens\n",
    "cos_sim(avg_values_tfidf, avg_walgreens_cons_tfidf_vector)"
   ]
  },
  {
   "cell_type": "markdown",
   "metadata": {},
   "source": [
    "Slightly more similarity among 'Cons' than 'Pros'"
   ]
  },
  {
   "cell_type": "code",
   "execution_count": 33,
   "metadata": {},
   "outputs": [
    {
     "data": {
      "text/plain": [
       "array([[1., 1., 0., ..., 1., 1., 0.],\n",
       "       [1., 1., 0., ..., 1., 1., 0.],\n",
       "       [1., 1., 0., ..., 1., 1., 0.],\n",
       "       ...,\n",
       "       [1., 1., 0., ..., 1., 1., 0.],\n",
       "       [1., 1., 0., ..., 1., 1., 0.],\n",
       "       [1., 1., 0., ..., 1., 1., 0.]])"
      ]
     },
     "execution_count": 33,
     "metadata": {},
     "output_type": "execute_result"
    }
   ],
   "source": [
    "# comparing all company values with the Pros reviews for Walgreens\n",
    "cosine_similarity(avg_values_tfidf.reshape(-1, 1), avg_walgreens_pros_tfidf_vector.reshape(-1, 1))\n",
    "# comparing all company values with the Pros reviews for Walgreens"
   ]
  },
  {
   "cell_type": "markdown",
   "metadata": {},
   "source": [
    "### Comparing just Walgreens values to its own reviews"
   ]
  },
  {
   "cell_type": "code",
   "execution_count": 46,
   "metadata": {},
   "outputs": [
    {
     "data": {
      "text/html": [
       "<div>\n",
       "<style scoped>\n",
       "    .dataframe tbody tr th:only-of-type {\n",
       "        vertical-align: middle;\n",
       "    }\n",
       "\n",
       "    .dataframe tbody tr th {\n",
       "        vertical-align: top;\n",
       "    }\n",
       "\n",
       "    .dataframe thead th {\n",
       "        text-align: right;\n",
       "    }\n",
       "</style>\n",
       "<table border=\"1\" class=\"dataframe\">\n",
       "  <thead>\n",
       "    <tr style=\"text-align: right;\">\n",
       "      <th></th>\n",
       "      <th>company</th>\n",
       "      <th>company_values</th>\n",
       "    </tr>\n",
       "  </thead>\n",
       "  <tbody>\n",
       "    <tr>\n",
       "      <td>0</td>\n",
       "      <td>metlife</td>\n",
       "      <td>caring for and respecting customers is core to...</td>\n",
       "    </tr>\n",
       "    <tr>\n",
       "      <td>1</td>\n",
       "      <td>dell</td>\n",
       "      <td>customers we believe our customer relationship...</td>\n",
       "    </tr>\n",
       "    <tr>\n",
       "      <td>2</td>\n",
       "      <td>johnsonjohnson</td>\n",
       "      <td>we believe our first responsibility is to the ...</td>\n",
       "    </tr>\n",
       "    <tr>\n",
       "      <td>3</td>\n",
       "      <td>lowes</td>\n",
       "      <td>lowes vision we will provide customervalued so...</td>\n",
       "    </tr>\n",
       "    <tr>\n",
       "      <td>4</td>\n",
       "      <td>fedex</td>\n",
       "      <td>fedex corporation will produce superior financ...</td>\n",
       "    </tr>\n",
       "    <tr>\n",
       "      <td>5</td>\n",
       "      <td>ibm</td>\n",
       "      <td>dedication to every clients success. innovatio...</td>\n",
       "    </tr>\n",
       "    <tr>\n",
       "      <td>6</td>\n",
       "      <td>microsoft</td>\n",
       "      <td>our mission is to empower every person and eve...</td>\n",
       "    </tr>\n",
       "    <tr>\n",
       "      <td>7</td>\n",
       "      <td>boeing</td>\n",
       "      <td>connect protect explore and inspire the world ...</td>\n",
       "    </tr>\n",
       "    <tr>\n",
       "      <td>8</td>\n",
       "      <td>verizon</td>\n",
       "      <td>the verizon commitment is to put our customers...</td>\n",
       "    </tr>\n",
       "    <tr>\n",
       "      <td>9</td>\n",
       "      <td>marathon</td>\n",
       "      <td>enhancing lifes possibilities safety  environm...</td>\n",
       "    </tr>\n",
       "    <tr>\n",
       "      <td>10</td>\n",
       "      <td>berkshirehathaway</td>\n",
       "      <td>our mission is to be the most highly respected...</td>\n",
       "    </tr>\n",
       "    <tr>\n",
       "      <td>11</td>\n",
       "      <td>target</td>\n",
       "      <td>to help all families discover the joy of every...</td>\n",
       "    </tr>\n",
       "    <tr>\n",
       "      <td>12</td>\n",
       "      <td>chevron</td>\n",
       "      <td>enabling human progress we develop the energy ...</td>\n",
       "    </tr>\n",
       "    <tr>\n",
       "      <td>13</td>\n",
       "      <td>homedepot</td>\n",
       "      <td>excellent customer service customers are the h...</td>\n",
       "    </tr>\n",
       "    <tr>\n",
       "      <td>14</td>\n",
       "      <td>proctergamble</td>\n",
       "      <td>taken together our purpose values and principl...</td>\n",
       "    </tr>\n",
       "    <tr>\n",
       "      <td>15</td>\n",
       "      <td>amerisourcebergen</td>\n",
       "      <td>knowledge. reach. partnership. powered by our ...</td>\n",
       "    </tr>\n",
       "    <tr>\n",
       "      <td>16</td>\n",
       "      <td>ford</td>\n",
       "      <td>to drive human progress through freedom of mov...</td>\n",
       "    </tr>\n",
       "    <tr>\n",
       "      <td>17</td>\n",
       "      <td>archerdaniels</td>\n",
       "      <td>we believe everyone has the right to the food ...</td>\n",
       "    </tr>\n",
       "    <tr>\n",
       "      <td>18</td>\n",
       "      <td>comcast</td>\n",
       "      <td>our companys culture is built on integrity and...</td>\n",
       "    </tr>\n",
       "    <tr>\n",
       "      <td>19</td>\n",
       "      <td>statefarm</td>\n",
       "      <td>the state farm mission is to help people manag...</td>\n",
       "    </tr>\n",
       "    <tr>\n",
       "      <td>20</td>\n",
       "      <td>kroger</td>\n",
       "      <td>honesty we insist on truthfulness with each ot...</td>\n",
       "    </tr>\n",
       "    <tr>\n",
       "      <td>21</td>\n",
       "      <td>citigroup</td>\n",
       "      <td>a mission of enabling growth and economic prog...</td>\n",
       "    </tr>\n",
       "    <tr>\n",
       "      <td>22</td>\n",
       "      <td>freddiemac</td>\n",
       "      <td>we value our inclusive environment and continu...</td>\n",
       "    </tr>\n",
       "    <tr>\n",
       "      <td>23</td>\n",
       "      <td>jpmorgan</td>\n",
       "      <td>youre a member of our team here we listen to a...</td>\n",
       "    </tr>\n",
       "    <tr>\n",
       "      <td>24</td>\n",
       "      <td>dupont</td>\n",
       "      <td>these values are timeless and foundational to ...</td>\n",
       "    </tr>\n",
       "    <tr>\n",
       "      <td>25</td>\n",
       "      <td>pepsico</td>\n",
       "      <td>create more smiles with every sip and every bi...</td>\n",
       "    </tr>\n",
       "    <tr>\n",
       "      <td>26</td>\n",
       "      <td>fanniemae</td>\n",
       "      <td>we value and respect others we recognize and v...</td>\n",
       "    </tr>\n",
       "    <tr>\n",
       "      <td>27</td>\n",
       "      <td>exxon</td>\n",
       "      <td>we are committed to enhancing the longterm val...</td>\n",
       "    </tr>\n",
       "    <tr>\n",
       "      <td>28</td>\n",
       "      <td>cvshealth</td>\n",
       "      <td>our purpose helping people on their path to be...</td>\n",
       "    </tr>\n",
       "    <tr>\n",
       "      <td>29</td>\n",
       "      <td>google</td>\n",
       "      <td>our mission is to organize the worlds informat...</td>\n",
       "    </tr>\n",
       "    <tr>\n",
       "      <td>30</td>\n",
       "      <td>carindalhealth</td>\n",
       "      <td>for those tasked with navigating the complexit...</td>\n",
       "    </tr>\n",
       "    <tr>\n",
       "      <td>31</td>\n",
       "      <td>prudential</td>\n",
       "      <td>for more than 140 years prudential financial h...</td>\n",
       "    </tr>\n",
       "    <tr>\n",
       "      <td>32</td>\n",
       "      <td>amazon</td>\n",
       "      <td>customer obsession leaders start with the cust...</td>\n",
       "    </tr>\n",
       "    <tr>\n",
       "      <td>33</td>\n",
       "      <td>anthem</td>\n",
       "      <td>improving lives and communities. simplifying h...</td>\n",
       "    </tr>\n",
       "    <tr>\n",
       "      <td>34</td>\n",
       "      <td>unitedtechnologies</td>\n",
       "      <td>trust we relate to others with openness transp...</td>\n",
       "    </tr>\n",
       "    <tr>\n",
       "      <td>35</td>\n",
       "      <td>generalelectric</td>\n",
       "      <td>respecting always the three traditions of ge ...</td>\n",
       "    </tr>\n",
       "    <tr>\n",
       "      <td>36</td>\n",
       "      <td>unitedhealth</td>\n",
       "      <td>unitedhealth group is a missiondriven enterpri...</td>\n",
       "    </tr>\n",
       "    <tr>\n",
       "      <td>37</td>\n",
       "      <td>apple</td>\n",
       "      <td>accessibility technology is most powerful when...</td>\n",
       "    </tr>\n",
       "    <tr>\n",
       "      <td>38</td>\n",
       "      <td>att</td>\n",
       "      <td>live true. do the right thing no compromise. t...</td>\n",
       "    </tr>\n",
       "    <tr>\n",
       "      <td>39</td>\n",
       "      <td>ups</td>\n",
       "      <td>integrity  it is the core of who we are and al...</td>\n",
       "    </tr>\n",
       "    <tr>\n",
       "      <td>40</td>\n",
       "      <td>costco</td>\n",
       "      <td>to continually provide our members with qualit...</td>\n",
       "    </tr>\n",
       "    <tr>\n",
       "      <td>41</td>\n",
       "      <td>wellsfargo</td>\n",
       "      <td>whats right for customers. we place customers ...</td>\n",
       "    </tr>\n",
       "    <tr>\n",
       "      <td>42</td>\n",
       "      <td>generalmotors</td>\n",
       "      <td>we earn customers for life. our brands inspire...</td>\n",
       "    </tr>\n",
       "    <tr>\n",
       "      <td>43</td>\n",
       "      <td>walmart</td>\n",
       "      <td>walmart aims to provide safe affordable food a...</td>\n",
       "    </tr>\n",
       "    <tr>\n",
       "      <td>44</td>\n",
       "      <td>walgreens</td>\n",
       "      <td>be the first choice for pharmacy wellbeing and...</td>\n",
       "    </tr>\n",
       "    <tr>\n",
       "      <td>45</td>\n",
       "      <td>phillips66</td>\n",
       "      <td>safety. we protect each other our environment ...</td>\n",
       "    </tr>\n",
       "    <tr>\n",
       "      <td>46</td>\n",
       "      <td>valero</td>\n",
       "      <td>safety accountability teamwork excellence comm...</td>\n",
       "    </tr>\n",
       "    <tr>\n",
       "      <td>47</td>\n",
       "      <td>mckesson</td>\n",
       "      <td>at mckesson the way we do business is just as ...</td>\n",
       "    </tr>\n",
       "    <tr>\n",
       "      <td>48</td>\n",
       "      <td>bankofamerica</td>\n",
       "      <td>we deliver for clients communities and shareho...</td>\n",
       "    </tr>\n",
       "    <tr>\n",
       "      <td>49</td>\n",
       "      <td>intel</td>\n",
       "      <td>quality theres a strong commitment at intel to...</td>\n",
       "    </tr>\n",
       "  </tbody>\n",
       "</table>\n",
       "</div>"
      ],
      "text/plain": [
       "               company                                     company_values\n",
       "0              metlife  caring for and respecting customers is core to...\n",
       "1                 dell  customers we believe our customer relationship...\n",
       "2       johnsonjohnson  we believe our first responsibility is to the ...\n",
       "3                lowes  lowes vision we will provide customervalued so...\n",
       "4                fedex  fedex corporation will produce superior financ...\n",
       "5                  ibm  dedication to every clients success. innovatio...\n",
       "6            microsoft  our mission is to empower every person and eve...\n",
       "7               boeing  connect protect explore and inspire the world ...\n",
       "8              verizon  the verizon commitment is to put our customers...\n",
       "9             marathon  enhancing lifes possibilities safety  environm...\n",
       "10   berkshirehathaway  our mission is to be the most highly respected...\n",
       "11              target  to help all families discover the joy of every...\n",
       "12             chevron  enabling human progress we develop the energy ...\n",
       "13           homedepot  excellent customer service customers are the h...\n",
       "14       proctergamble  taken together our purpose values and principl...\n",
       "15   amerisourcebergen  knowledge. reach. partnership. powered by our ...\n",
       "16                ford  to drive human progress through freedom of mov...\n",
       "17       archerdaniels  we believe everyone has the right to the food ...\n",
       "18             comcast  our companys culture is built on integrity and...\n",
       "19           statefarm  the state farm mission is to help people manag...\n",
       "20              kroger  honesty we insist on truthfulness with each ot...\n",
       "21           citigroup  a mission of enabling growth and economic prog...\n",
       "22          freddiemac  we value our inclusive environment and continu...\n",
       "23            jpmorgan  youre a member of our team here we listen to a...\n",
       "24              dupont  these values are timeless and foundational to ...\n",
       "25             pepsico  create more smiles with every sip and every bi...\n",
       "26           fanniemae  we value and respect others we recognize and v...\n",
       "27               exxon  we are committed to enhancing the longterm val...\n",
       "28           cvshealth  our purpose helping people on their path to be...\n",
       "29              google  our mission is to organize the worlds informat...\n",
       "30      carindalhealth  for those tasked with navigating the complexit...\n",
       "31          prudential  for more than 140 years prudential financial h...\n",
       "32              amazon  customer obsession leaders start with the cust...\n",
       "33              anthem  improving lives and communities. simplifying h...\n",
       "34  unitedtechnologies  trust we relate to others with openness transp...\n",
       "35     generalelectric   respecting always the three traditions of ge ...\n",
       "36        unitedhealth  unitedhealth group is a missiondriven enterpri...\n",
       "37               apple  accessibility technology is most powerful when...\n",
       "38                 att  live true. do the right thing no compromise. t...\n",
       "39                 ups  integrity  it is the core of who we are and al...\n",
       "40              costco  to continually provide our members with qualit...\n",
       "41          wellsfargo  whats right for customers. we place customers ...\n",
       "42       generalmotors  we earn customers for life. our brands inspire...\n",
       "43             walmart  walmart aims to provide safe affordable food a...\n",
       "44           walgreens  be the first choice for pharmacy wellbeing and...\n",
       "45          phillips66  safety. we protect each other our environment ...\n",
       "46              valero  safety accountability teamwork excellence comm...\n",
       "47            mckesson  at mckesson the way we do business is just as ...\n",
       "48       bankofamerica  we deliver for clients communities and shareho...\n",
       "49               intel  quality theres a strong commitment at intel to..."
      ]
     },
     "execution_count": 46,
     "metadata": {},
     "output_type": "execute_result"
    }
   ],
   "source": [
    "all_values"
   ]
  },
  {
   "cell_type": "code",
   "execution_count": 72,
   "metadata": {},
   "outputs": [],
   "source": [
    "company_join_list = {\"Lowe's\":\"lowes\",\"Fedex\":\"fedex\",\"Microsoft\":\"microsoft\",\"Boeing\":\"boeing\",\"Verizon Wireless\":\"verizon\",\"Chevron\":\"chevron\",\"Home Depot\":\"homedepot\",\"Proctor & Gamble\":\"proctergamble\",\"AmerisourceBergen\":\"amerisourcebergen\",\"Ford\":\"ford\",\"Archer Daniels\":\"archerdaniels\",\"Comcast\":\"comcast\",\"Kroger\":\"kroger\",\"JP Morgan\":\"jpmorgan\",\"PepsiCo\":\"pepsico\",\"Fannie Mae\":\"fanniemae\",\"Exxon Mobil\":\"exxon\",\"CVS Health\":\"cvshealth\",\"Google\":\"google\",\"Prudential\":\"prudential\",\"Amazon\":\"amazon\",\"United Technologies\":\"unitedhealth\",\"Apple\":\"apple\",\"AT&T\":\"att\",\"UPS\":\"ups\",\"Costco\":\"costco\",\"Wells Fargo\":\"wellsfargo\",\"General Motors\":\"generalmotors\",\"Walmart\":\"walmart\",\"Walgreens\":\"walgreens\",\"McKesson\":\"mckesson\",\"Bank of America\":\"bankofamerica\",\"Intel\":\"intel\"}"
   ]
  },
  {
   "cell_type": "code",
   "execution_count": 70,
   "metadata": {},
   "outputs": [],
   "source": [
    "def comparison_score(company_name):\n",
    "    for key, value in company_join_list.items():\n",
    "        if key == company_name:\n",
    "            company_text = all_values.loc[all_values.company == company_join_list[company_name]].company_values\n",
    "            # take out stop words\n",
    "            tfidf = TfidfVectorizer(stop_words= list(stopwords.words('english'))+ ['fannie', 'work', 'business', 'company', 'customers', 'home', 'depot', 'ge', 'walgreens'])\n",
    "            # fit transform the sentences\n",
    "            tfidf_values = tfidf.fit_transform(company_text)\n",
    "            tfidf_vector = tfidf_values.toarray()\n",
    "            \n",
    "            \n",
    "            reviews_company = all_reviews.loc[all_reviews.company == company_name]\n",
    "            pros_reviews_tfidf = tfidf.transform(reviews_company.pros.values.tolist())\n",
    "            cons_reviews_tfidf = tfidf.transform(reviews_company.cons.values.tolist())\n",
    "\n",
    "            avg_pros_tfidf_vector = np.average(pros_reviews_tfidf.toarray(), axis=0)\n",
    "            avg_cons_tfidf_vector = np.average(cons_reviews_tfidf.toarray(), axis=0)\n",
    "\n",
    "            return (company_name, (cos_sim(tfidf_vector, avg_pros_tfidf_vector) - cos_sim(tfidf_vector, avg_cons_tfidf_vector)))"
   ]
  },
  {
   "cell_type": "code",
   "execution_count": 76,
   "metadata": {},
   "outputs": [
    {
     "data": {
      "text/plain": [
       "[('Verizon Wireless', array([-0.28688361])),\n",
       " ('United Technologies', array([-0.28044494])),\n",
       " ('Walmart', array([-0.27678554])),\n",
       " (\"Lowe's\", array([-0.27082398])),\n",
       " ('AmerisourceBergen', array([-0.26075526])),\n",
       " ('Fannie Mae', array([-0.24083691])),\n",
       " ('JP Morgan', array([-0.23549806])),\n",
       " ('Comcast', array([-0.23543305])),\n",
       " ('Bank of America', array([-0.21684073])),\n",
       " ('Proctor & Gamble', array([-0.21347312])),\n",
       " ('Boeing', array([-0.19341514])),\n",
       " ('Archer Daniels', array([-0.1902654])),\n",
       " ('Costco', array([-0.18895912])),\n",
       " ('General Motors', array([-0.18563504])),\n",
       " ('Intel', array([-0.17312107])),\n",
       " ('Home Depot', array([-0.15648325])),\n",
       " ('PepsiCo', array([-0.15327657])),\n",
       " ('Kroger', array([-0.14601264])),\n",
       " ('Microsoft', array([-0.14057056])),\n",
       " ('Apple', array([-0.13133044])),\n",
       " ('Amazon', array([-0.10344434])),\n",
       " ('Wells Fargo', array([-0.09705054])),\n",
       " ('Prudential', array([-0.09541437])),\n",
       " ('Exxon Mobil', array([-0.08409932])),\n",
       " ('Chevron', array([-0.0803466])),\n",
       " ('McKesson', array([-0.0769385])),\n",
       " ('CVS Health', array([-0.06572019])),\n",
       " ('Google', array([-0.05848919])),\n",
       " ('Walgreens', array([-0.03438606])),\n",
       " ('Ford', array([-0.02778304])),\n",
       " ('Fedex', array([0.0083773])),\n",
       " ('AT&T', array([0.00894656])),\n",
       " ('UPS', array([0.03726251]))]"
      ]
     },
     "execution_count": 76,
     "metadata": {},
     "output_type": "execute_result"
    }
   ],
   "source": [
    "rating_list = []\n",
    "for key in company_join_list.keys():\n",
    "    rating_list.append(comparison_score(key))\n",
    "sorted(rating_list, key=lambda x: x[1])"
   ]
  },
  {
   "cell_type": "code",
   "execution_count": 17,
   "metadata": {},
   "outputs": [],
   "source": [
    "all_reviews = pd.read_csv('../data/all_reviews.csv')\n",
    "walgreens = all_reviews.loc[all_reviews.company == 'Walgreens']"
   ]
  },
  {
   "cell_type": "code",
   "execution_count": 61,
   "metadata": {},
   "outputs": [],
   "source": [
    "pros_reviews_tfidf = tfidf.transform(walgreens.pros.values.tolist())\n",
    "cons_reviews_tfidf = tfidf.transform(walgreens.cons.values.tolist())\n",
    "\n",
    "avg_walgreens_pros_tfidf_vector = np.average(pros_reviews_tfidf.toarray(), axis=0)\n",
    "avg_walgreens_cons_tfidf_vector = np.average(cons_reviews_tfidf.toarray(), axis=0)"
   ]
  },
  {
   "cell_type": "code",
   "execution_count": 64,
   "metadata": {},
   "outputs": [
    {
     "data": {
      "text/plain": [
       "array([-0.02640769])"
      ]
     },
     "execution_count": 64,
     "metadata": {},
     "output_type": "execute_result"
    }
   ],
   "source": [
    "# comparing all company values with the Pros reviews for Walgreens\n",
    "cos_sim(walgreens_values_tfidf, avg_walgreens_pros_tfidf_vector)"
   ]
  },
  {
   "cell_type": "code",
   "execution_count": 63,
   "metadata": {},
   "outputs": [
    {
     "data": {
      "text/plain": [
       "array([0.43083277])"
      ]
     },
     "execution_count": 63,
     "metadata": {},
     "output_type": "execute_result"
    }
   ],
   "source": [
    "# comparing all company values with the Cons reviews for Walgreens\n",
    "cos_sim(walgreens_values_tfidf, avg_walgreens_cons_tfidf_vector)"
   ]
  },
  {
   "cell_type": "markdown",
   "metadata": {},
   "source": [
    "More similarity among 'Cons' than 'Pros'"
   ]
  }
 ],
 "metadata": {
  "kernelspec": {
   "display_name": "Python 3",
   "language": "python",
   "name": "python3"
  },
  "language_info": {
   "codemirror_mode": {
    "name": "ipython",
    "version": 3
   },
   "file_extension": ".py",
   "mimetype": "text/x-python",
   "name": "python",
   "nbconvert_exporter": "python",
   "pygments_lexer": "ipython3",
   "version": "3.6.9"
  }
 },
 "nbformat": 4,
 "nbformat_minor": 2
}
