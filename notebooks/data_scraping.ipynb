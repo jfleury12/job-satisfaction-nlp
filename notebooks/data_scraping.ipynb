{
 "cells": [
  {
   "cell_type": "markdown",
   "metadata": {},
   "source": [
    "# Webscraping Glassdoor Reviews"
   ]
  },
  {
   "cell_type": "markdown",
   "metadata": {},
   "source": [
    "In this section, I will go through the steps needed to create a webscraping script that will scrape company reviews from glassdoor.com."
   ]
  },
  {
   "cell_type": "code",
   "execution_count": 1,
   "metadata": {},
   "outputs": [],
   "source": [
    "from bs4 import BeautifulSoup\n",
    "import pandas as pd\n",
    "import requests\n",
    "import time\n",
    "import re"
   ]
  },
  {
   "cell_type": "markdown",
   "metadata": {},
   "source": [
    "We need to change the user-agent to avoid the Python script being blocked."
   ]
  },
  {
   "cell_type": "code",
   "execution_count": 2,
   "metadata": {},
   "outputs": [],
   "source": [
    "headers = {'User-Agent': 'Mozilla/5.0 (Macintosh; Intel Mac OS X 10_10_1) AppleWebKit/537.36 (KHTML, like Gecko) Chrome/39.0.2171.95 Safari/537.36'}"
   ]
  },
  {
   "cell_type": "markdown",
   "metadata": {},
   "source": [
    "Let's pull in a single page from Booking.com reviews (page 50) and display the HTML contents."
   ]
  },
  {
   "cell_type": "code",
   "execution_count": 3,
   "metadata": {},
   "outputs": [],
   "source": [
    "page = requests.get('https://www.glassdoor.com/Reviews/Booking-com-Reviews-E256653_P50.htm', headers=headers) # page 50\n",
    "soup = BeautifulSoup(page.content, 'lxml') # pip install lxml"
   ]
  },
  {
   "cell_type": "code",
   "execution_count": null,
   "metadata": {},
   "outputs": [],
   "source": [
    "# print(soup.prettify())"
   ]
  },
  {
   "cell_type": "markdown",
   "metadata": {},
   "source": [
    "From parsing through the HTML, we can obtain key elements of each review (title, rating, pros, cons) by referencing certain tags. It looks like the rating title is contained with an \"a\" tag, the rating is contained in the \"value-title\" class within a \"span\" tag, and the pros and cons are contained in the \"mt-0 mb-xsm v2__...\" class within a \"p\" tag."
   ]
  },
  {
   "cell_type": "markdown",
   "metadata": {},
   "source": [
    "Below are defined functions that obtain the above information from the HTML:"
   ]
  },
  {
   "cell_type": "markdown",
   "metadata": {},
   "source": [
    "### Functions for retrieving titles, ratings, and pros/cons from Glassdoor reviews:"
   ]
  },
  {
   "cell_type": "code",
   "execution_count": 7,
   "metadata": {},
   "outputs": [],
   "source": [
    "# Obtain all review titles\n",
    "def get_titles(soup):\n",
    "    parsed_titles = soup.select('div h2 a')\n",
    "    return [title.text for title in parsed_titles]\n",
    "\n",
    "\n",
    "# Obtain all star ratings\n",
    "# need to omit first rating since it refers to overall rating of the company\n",
    "def get_ratings(soup):\n",
    "    parsed_ratings = soup.find_all('span', class_=\"value-title\")\n",
    "    return [float(rating['title']) for rating in parsed_ratings][1:]\n",
    "    \n",
    "\n",
    "# Pros and Cons per page. Should be 20 total for 10 reviews. Pros and Cons are required fields when entering a review\n",
    "# so there should not be any empty fields.\n",
    "# returns a single tuple with a list of pros, and a list of cons\n",
    "def get_pros_cons(soup):\n",
    "    parsed_reviews = soup.find_all('p', class_=\"mt-0 mb-xsm v2__EIReviewDetailsV2__bodyColor v2__EIReviewDetailsV2__lineHeightLarge\")\n",
    "    reviews = [review.text for review in parsed_reviews]\n",
    "    pros = reviews[0::2]\n",
    "    cons = reviews[1::2]\n",
    "    return pros,cons"
   ]
  },
  {
   "cell_type": "markdown",
   "metadata": {},
   "source": [
    "Testing page 50 of Booking.com. It seems like some reviews contain company responses, which inconveniently get added to our pros/cons list. There are 10 reviews per page on glassdoor.com, which should correspond to 10 elements in each list. You can see on these pages the length of the pros/cons lists is greater than 10."
   ]
  },
  {
   "cell_type": "code",
   "execution_count": 6,
   "metadata": {},
   "outputs": [
    {
     "name": "stdout",
     "output_type": "stream",
     "text": [
      "10\n",
      "10\n",
      "12\n",
      "11\n"
     ]
    }
   ],
   "source": [
    "# page = requests.get('https://www.glassdoor.com/Reviews/Booking-com-Reviews-E256653_P50.htm', headers=headers) # page 50\n",
    "# soup = BeautifulSoup(page.content, 'lxml')\n",
    "print(len(get_titles(soup)))\n",
    "print(len(get_ratings(soup)))\n",
    "print(len(get_pros_cons(soup)[0]))\n",
    "print(len(get_pros_cons(soup)[1]))"
   ]
  },
  {
   "cell_type": "markdown",
   "metadata": {},
   "source": [
    "We will have to keep track of this in the web scraping script and make sure to avoid pages with company responses."
   ]
  },
  {
   "cell_type": "markdown",
   "metadata": {},
   "source": [
    "### Web-scraping script:"
   ]
  },
  {
   "cell_type": "code",
   "execution_count": 11,
   "metadata": {},
   "outputs": [],
   "source": [
    "# url = page 1 url of reviews\n",
    "# start_pg = first page to scrape\n",
    "# end_pg = last page to scrape\n",
    "# df = data frame to append reviews to (default=blank)\n",
    "\n",
    "def scrape_reviews(url, company, start_pg, end_pg, df=pd.DataFrame({'title': [], 'rating':[], 'pros':[], 'cons':[]})):\n",
    "    headers = {'User-Agent': 'Mozilla/5.0 (Macintosh; Intel Mac OS X 10_10_1) AppleWebKit/718.93 (KHTML, like Gecko) Chrome/79.0.4927.49 Safari/489.72'}\n",
    "    t0 = time.time()\n",
    "    page_num = ''\n",
    "    counter = 0\n",
    "    error_pages = []\n",
    "\n",
    "    for j in range(start_pg, end_pg+1):\n",
    "        # only add page reference to url for 2nd page onwards\n",
    "        if j !=1:\n",
    "            page_num = f\"_P{j}\"\n",
    "        \n",
    "        # add '_P#' etc to end of url\n",
    "        new_url = f\"{url[:-4]}{page_num}.htm\"\n",
    "        # wait 1 second before requesting page\n",
    "        time.sleep(1) \n",
    "        page = requests.get(new_url, headers=headers)\n",
    "        print(new_url)\n",
    "        \n",
    "        # using predefined functions to create lists of titles, ratings, pros, cons\n",
    "        soup = BeautifulSoup(page.content, 'lxml')\n",
    "        titles = get_titles(soup)\n",
    "        ratings = get_ratings(soup)\n",
    "        pros = get_pros_cons(soup)[0]\n",
    "        cons = get_pros_cons(soup)[1]\n",
    "        \n",
    "        print('Array lengths: ', len(titles), len(ratings), len(pros), len(cons))\n",
    "        \n",
    "        # handle company responses, as they will get included in pros/cons\n",
    "        try: \n",
    "            temp_df = pd.DataFrame({'title':titles, 'rating':ratings, 'pros':pros, 'cons':cons})\n",
    "            df = df.append(temp_df, ignore_index=True)\n",
    "        except ValueError:\n",
    "            counter +=1\n",
    "            print(f'Company responses on {counter} pages')\n",
    "            error_pages.append(j)\n",
    "            pass\n",
    "        else:\n",
    "            pass\n",
    "\n",
    "        print('Dataframe shape: ', df.shape, '\\n')\n",
    "        \n",
    "        #save the df every 50 pages just in case the script fails\n",
    "        if j%50 == 0:\n",
    "            df.to_csv('../data/reviews_TEMP.csv')\n",
    "        \n",
    "    # print number of pages with company responses\n",
    "    print('\\n', f'Errors on {len(error_pages)} pages:{error_pages}')\n",
    "    \n",
    "    # add a 'company' column to the dataframe\n",
    "    df['company'] = company\n",
    "    \n",
    "    t1 = time.time()\n",
    "    print(f'This operation took {(t1-t0)/60} minutes to scrape {end_pg-start_pg+1} pages at a pace of {(t1-t0)/(end_pg-start_pg+1)} sec/page.')\n",
    "    \n",
    "    return df"
   ]
  },
  {
   "cell_type": "markdown",
   "metadata": {},
   "source": [
    "### Web-scraping script in action:"
   ]
  },
  {
   "cell_type": "markdown",
   "metadata": {},
   "source": [
    "Let's test the web-scraping script on 10 pages of Google reviews:"
   ]
  },
  {
   "cell_type": "code",
   "execution_count": 21,
   "metadata": {},
   "outputs": [
    {
     "name": "stdout",
     "output_type": "stream",
     "text": [
      "https://www.glassdoor.com/Reviews/Google-Reviews-E9079.htm\n",
      "Array lengths:  10 10 10 10\n",
      "Dataframe shape:  (10, 4) \n",
      "\n",
      "https://www.glassdoor.com/Reviews/Google-Reviews-E9079_P2.htm\n",
      "Array lengths:  10 10 10 10\n",
      "Dataframe shape:  (20, 4) \n",
      "\n",
      "https://www.glassdoor.com/Reviews/Google-Reviews-E9079_P3.htm\n",
      "Array lengths:  10 10 10 10\n",
      "Dataframe shape:  (30, 4) \n",
      "\n",
      "https://www.glassdoor.com/Reviews/Google-Reviews-E9079_P4.htm\n",
      "Array lengths:  10 10 10 10\n",
      "Dataframe shape:  (40, 4) \n",
      "\n",
      "https://www.glassdoor.com/Reviews/Google-Reviews-E9079_P5.htm\n",
      "Array lengths:  10 10 10 10\n",
      "Dataframe shape:  (50, 4) \n",
      "\n",
      "https://www.glassdoor.com/Reviews/Google-Reviews-E9079_P6.htm\n",
      "Array lengths:  10 10 10 10\n",
      "Dataframe shape:  (60, 4) \n",
      "\n",
      "https://www.glassdoor.com/Reviews/Google-Reviews-E9079_P7.htm\n",
      "Array lengths:  10 10 10 10\n",
      "Dataframe shape:  (70, 4) \n",
      "\n",
      "https://www.glassdoor.com/Reviews/Google-Reviews-E9079_P8.htm\n",
      "Array lengths:  10 10 10 10\n",
      "Dataframe shape:  (80, 4) \n",
      "\n",
      "https://www.glassdoor.com/Reviews/Google-Reviews-E9079_P9.htm\n",
      "Array lengths:  10 10 10 10\n",
      "Dataframe shape:  (90, 4) \n",
      "\n",
      "https://www.glassdoor.com/Reviews/Google-Reviews-E9079_P10.htm\n",
      "Array lengths:  10 10 10 10\n",
      "Dataframe shape:  (100, 4) \n",
      "\n",
      "\n",
      " Errors on 0 pages:[]\n",
      "This operation took 0.680489961306254 minutes to scrape 10 pages at a pace of 4.082939767837525 sec/page.\n"
     ]
    }
   ],
   "source": [
    "df = scrape_reviews('https://www.glassdoor.com/Reviews/Google-Reviews-E9079.htm','Google',1,10)"
   ]
  },
  {
   "cell_type": "code",
   "execution_count": 22,
   "metadata": {},
   "outputs": [
    {
     "name": "stdout",
     "output_type": "stream",
     "text": [
      "(100, 5) \n",
      "\n",
      "<class 'pandas.core.frame.DataFrame'>\n",
      "RangeIndex: 100 entries, 0 to 99\n",
      "Data columns (total 5 columns):\n",
      "title      100 non-null object\n",
      "rating     100 non-null float64\n",
      "pros       100 non-null object\n",
      "cons       100 non-null object\n",
      "company    100 non-null object\n",
      "dtypes: float64(1), object(4)\n",
      "memory usage: 4.0+ KB\n",
      "None\n"
     ]
    }
   ],
   "source": [
    "print(df.shape, '\\n')\n",
    "print(df.info())"
   ]
  },
  {
   "cell_type": "markdown",
   "metadata": {},
   "source": [
    "The script worked as planned, displaying progress information and array lengths concurrently!\n",
    "Let's preview the data:"
   ]
  },
  {
   "cell_type": "code",
   "execution_count": 23,
   "metadata": {},
   "outputs": [
    {
     "data": {
      "text/html": [
       "<div>\n",
       "<style scoped>\n",
       "    .dataframe tbody tr th:only-of-type {\n",
       "        vertical-align: middle;\n",
       "    }\n",
       "\n",
       "    .dataframe tbody tr th {\n",
       "        vertical-align: top;\n",
       "    }\n",
       "\n",
       "    .dataframe thead th {\n",
       "        text-align: right;\n",
       "    }\n",
       "</style>\n",
       "<table border=\"1\" class=\"dataframe\">\n",
       "  <thead>\n",
       "    <tr style=\"text-align: right;\">\n",
       "      <th></th>\n",
       "      <th>title</th>\n",
       "      <th>rating</th>\n",
       "      <th>pros</th>\n",
       "      <th>cons</th>\n",
       "      <th>company</th>\n",
       "    </tr>\n",
       "  </thead>\n",
       "  <tbody>\n",
       "    <tr>\n",
       "      <td>0</td>\n",
       "      <td>\"Good environment\"</td>\n",
       "      <td>5.0</td>\n",
       "      <td>Positive work environment, lots of room for gr...</td>\n",
       "      <td>Can be lots of pressure from management at times.</td>\n",
       "      <td>Google</td>\n",
       "    </tr>\n",
       "    <tr>\n",
       "      <td>1</td>\n",
       "      <td>\"Moving at the speed of light, burn out is ine...</td>\n",
       "      <td>4.0</td>\n",
       "      <td>1) Food, food, food.  15+ cafes on main campus...</td>\n",
       "      <td>1) Work/life balance.  What balance?  All thos...</td>\n",
       "      <td>Google</td>\n",
       "    </tr>\n",
       "    <tr>\n",
       "      <td>2</td>\n",
       "      <td>\"Great balance between big-company security an...</td>\n",
       "      <td>5.0</td>\n",
       "      <td>* If you're a software engineer, you're among ...</td>\n",
       "      <td>* It *is* becoming larger, and with it comes g...</td>\n",
       "      <td>Google</td>\n",
       "    </tr>\n",
       "    <tr>\n",
       "      <td>3</td>\n",
       "      <td>\"The best place I've worked and also the most ...</td>\n",
       "      <td>5.0</td>\n",
       "      <td>You can't find a more well-regarded company th...</td>\n",
       "      <td>I live in SF so the commute can take between 1...</td>\n",
       "      <td>Google</td>\n",
       "    </tr>\n",
       "    <tr>\n",
       "      <td>4</td>\n",
       "      <td>\"Great\"</td>\n",
       "      <td>5.0</td>\n",
       "      <td>Great benefits and pay</td>\n",
       "      <td>Nothing really to complain about</td>\n",
       "      <td>Google</td>\n",
       "    </tr>\n",
       "  </tbody>\n",
       "</table>\n",
       "</div>"
      ],
      "text/plain": [
       "                                               title  rating  \\\n",
       "0                                 \"Good environment\"     5.0   \n",
       "1  \"Moving at the speed of light, burn out is ine...     4.0   \n",
       "2  \"Great balance between big-company security an...     5.0   \n",
       "3  \"The best place I've worked and also the most ...     5.0   \n",
       "4                                            \"Great\"     5.0   \n",
       "\n",
       "                                                pros  \\\n",
       "0  Positive work environment, lots of room for gr...   \n",
       "1  1) Food, food, food.  15+ cafes on main campus...   \n",
       "2  * If you're a software engineer, you're among ...   \n",
       "3  You can't find a more well-regarded company th...   \n",
       "4                             Great benefits and pay   \n",
       "\n",
       "                                                cons company  \n",
       "0  Can be lots of pressure from management at times.  Google  \n",
       "1  1) Work/life balance.  What balance?  All thos...  Google  \n",
       "2  * It *is* becoming larger, and with it comes g...  Google  \n",
       "3  I live in SF so the commute can take between 1...  Google  \n",
       "4                   Nothing really to complain about  Google  "
      ]
     },
     "execution_count": 23,
     "metadata": {},
     "output_type": "execute_result"
    }
   ],
   "source": [
    "df.head()"
   ]
  },
  {
   "cell_type": "markdown",
   "metadata": {},
   "source": [
    "### Text cleaning:"
   ]
  },
  {
   "cell_type": "markdown",
   "metadata": {},
   "source": [
    "We'll have to do some text cleaning to remove line endings from the review text:"
   ]
  },
  {
   "cell_type": "code",
   "execution_count": 19,
   "metadata": {},
   "outputs": [],
   "source": [
    "df.pros = df.pros.map(lambda x: re.sub('\\s+', ' ', x))\n",
    "df.cons = df.cons.map(lambda x: re.sub('\\s+', ' ', x))"
   ]
  },
  {
   "cell_type": "markdown",
   "metadata": {},
   "source": [
    "Now we have to get rid of special characters:"
   ]
  },
  {
   "cell_type": "code",
   "execution_count": 26,
   "metadata": {},
   "outputs": [],
   "source": [
    "df.title = df.title.map(lambda x: re.sub('[^a-zA-Z0-9 \\n\\.]', '', x.lower()))\n",
    "df.pros = df.pros.map(lambda x: re.sub('[^a-zA-Z0-9 \\n\\.]', '', x.lower()))\n",
    "df.cons = df.cons.map(lambda x: re.sub('[^a-zA-Z0-9 \\n\\.]', '', x.lower()))"
   ]
  },
  {
   "cell_type": "markdown",
   "metadata": {},
   "source": [
    "Preview the final dataframe:"
   ]
  },
  {
   "cell_type": "code",
   "execution_count": 27,
   "metadata": {},
   "outputs": [
    {
     "data": {
      "text/html": [
       "<div>\n",
       "<style scoped>\n",
       "    .dataframe tbody tr th:only-of-type {\n",
       "        vertical-align: middle;\n",
       "    }\n",
       "\n",
       "    .dataframe tbody tr th {\n",
       "        vertical-align: top;\n",
       "    }\n",
       "\n",
       "    .dataframe thead th {\n",
       "        text-align: right;\n",
       "    }\n",
       "</style>\n",
       "<table border=\"1\" class=\"dataframe\">\n",
       "  <thead>\n",
       "    <tr style=\"text-align: right;\">\n",
       "      <th></th>\n",
       "      <th>title</th>\n",
       "      <th>rating</th>\n",
       "      <th>pros</th>\n",
       "      <th>cons</th>\n",
       "      <th>company</th>\n",
       "    </tr>\n",
       "  </thead>\n",
       "  <tbody>\n",
       "    <tr>\n",
       "      <td>0</td>\n",
       "      <td>good environment</td>\n",
       "      <td>5.0</td>\n",
       "      <td>positive work environment lots of room for gro...</td>\n",
       "      <td>can be lots of pressure from management at times.</td>\n",
       "      <td>Google</td>\n",
       "    </tr>\n",
       "    <tr>\n",
       "      <td>1</td>\n",
       "      <td>moving at the speed of light burn out is inevi...</td>\n",
       "      <td>4.0</td>\n",
       "      <td>1 food food food.  15 cafes on main campus mtv...</td>\n",
       "      <td>1 worklife balance.  what balance  all those p...</td>\n",
       "      <td>Google</td>\n",
       "    </tr>\n",
       "    <tr>\n",
       "      <td>2</td>\n",
       "      <td>great balance between bigcompany security and ...</td>\n",
       "      <td>5.0</td>\n",
       "      <td>if youre a software engineer youre among the ...</td>\n",
       "      <td>it is becoming larger and with it comes growi...</td>\n",
       "      <td>Google</td>\n",
       "    </tr>\n",
       "    <tr>\n",
       "      <td>3</td>\n",
       "      <td>the best place ive worked and also the most de...</td>\n",
       "      <td>5.0</td>\n",
       "      <td>you cant find a more wellregarded company that...</td>\n",
       "      <td>i live in sf so the commute can take between 1...</td>\n",
       "      <td>Google</td>\n",
       "    </tr>\n",
       "    <tr>\n",
       "      <td>4</td>\n",
       "      <td>great</td>\n",
       "      <td>5.0</td>\n",
       "      <td>great benefits and pay</td>\n",
       "      <td>nothing really to complain about</td>\n",
       "      <td>Google</td>\n",
       "    </tr>\n",
       "    <tr>\n",
       "      <td>5</td>\n",
       "      <td>great</td>\n",
       "      <td>5.0</td>\n",
       "      <td>product is great in todays market</td>\n",
       "      <td>no cons to report at this time</td>\n",
       "      <td>Google</td>\n",
       "    </tr>\n",
       "    <tr>\n",
       "      <td>6</td>\n",
       "      <td>working at google</td>\n",
       "      <td>5.0</td>\n",
       "      <td>amazing perks incredible people great resume b...</td>\n",
       "      <td>hard to get promoted  differentiate yourself.</td>\n",
       "      <td>Google</td>\n",
       "    </tr>\n",
       "    <tr>\n",
       "      <td>7</td>\n",
       "      <td>good company</td>\n",
       "      <td>5.0</td>\n",
       "      <td>nice environment to new grads</td>\n",
       "      <td>na. i think it is good.</td>\n",
       "      <td>Google</td>\n",
       "    </tr>\n",
       "    <tr>\n",
       "      <td>8</td>\n",
       "      <td>good</td>\n",
       "      <td>5.0</td>\n",
       "      <td>google has good work culture</td>\n",
       "      <td>no cons has been found</td>\n",
       "      <td>Google</td>\n",
       "    </tr>\n",
       "    <tr>\n",
       "      <td>9</td>\n",
       "      <td>wonderful company and excellent experience</td>\n",
       "      <td>5.0</td>\n",
       "      <td>friendly supervisors positive work environment...</td>\n",
       "      <td>some may not enjoy certain aspects of job such...</td>\n",
       "      <td>Google</td>\n",
       "    </tr>\n",
       "  </tbody>\n",
       "</table>\n",
       "</div>"
      ],
      "text/plain": [
       "                                               title  rating  \\\n",
       "0                                   good environment     5.0   \n",
       "1  moving at the speed of light burn out is inevi...     4.0   \n",
       "2  great balance between bigcompany security and ...     5.0   \n",
       "3  the best place ive worked and also the most de...     5.0   \n",
       "4                                              great     5.0   \n",
       "5                                              great     5.0   \n",
       "6                                  working at google     5.0   \n",
       "7                                       good company     5.0   \n",
       "8                                               good     5.0   \n",
       "9         wonderful company and excellent experience     5.0   \n",
       "\n",
       "                                                pros  \\\n",
       "0  positive work environment lots of room for gro...   \n",
       "1  1 food food food.  15 cafes on main campus mtv...   \n",
       "2   if youre a software engineer youre among the ...   \n",
       "3  you cant find a more wellregarded company that...   \n",
       "4                             great benefits and pay   \n",
       "5                  product is great in todays market   \n",
       "6  amazing perks incredible people great resume b...   \n",
       "7                      nice environment to new grads   \n",
       "8                       google has good work culture   \n",
       "9  friendly supervisors positive work environment...   \n",
       "\n",
       "                                                cons company  \n",
       "0  can be lots of pressure from management at times.  Google  \n",
       "1  1 worklife balance.  what balance  all those p...  Google  \n",
       "2   it is becoming larger and with it comes growi...  Google  \n",
       "3  i live in sf so the commute can take between 1...  Google  \n",
       "4                   nothing really to complain about  Google  \n",
       "5                     no cons to report at this time  Google  \n",
       "6      hard to get promoted  differentiate yourself.  Google  \n",
       "7                            na. i think it is good.  Google  \n",
       "8                             no cons has been found  Google  \n",
       "9  some may not enjoy certain aspects of job such...  Google  "
      ]
     },
     "execution_count": 27,
     "metadata": {},
     "output_type": "execute_result"
    }
   ],
   "source": [
    "df.head(10)"
   ]
  },
  {
   "cell_type": "code",
   "execution_count": 28,
   "metadata": {},
   "outputs": [],
   "source": [
    "# Export final dataframe\n",
    "df.to_csv('../data/sample_reviews.csv')"
   ]
  }
 ],
 "metadata": {
  "kernelspec": {
   "display_name": "Python 3",
   "language": "python",
   "name": "python3"
  },
  "language_info": {
   "codemirror_mode": {
    "name": "ipython",
    "version": 3
   },
   "file_extension": ".py",
   "mimetype": "text/x-python",
   "name": "python",
   "nbconvert_exporter": "python",
   "pygments_lexer": "ipython3",
   "version": "3.6.9"
  }
 },
 "nbformat": 4,
 "nbformat_minor": 2
}
